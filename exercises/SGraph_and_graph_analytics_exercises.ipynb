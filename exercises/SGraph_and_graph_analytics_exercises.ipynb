{
 "metadata": {
  "name": "",
  "signature": "sha256:924507296cfd40f771422bc9710ef28711a91a940d876d4046ed5c7b072cca8c"
 },
 "nbformat": 3,
 "nbformat_minor": 0,
 "worksheets": [
  {
   "cells": [
    {
     "cell_type": "heading",
     "level": 1,
     "metadata": {},
     "source": [
      "SGraph and Graph Analytics Exercises"
     ]
    },
    {
     "cell_type": "markdown",
     "metadata": {},
     "source": [
      "Use the countries and results from two World Cup groups to explore SGraph construction, summarization, visualization, and filtering. Ties are represented by bi-directional edges."
     ]
    },
    {
     "cell_type": "heading",
     "level": 2,
     "metadata": {},
     "source": [
      "The data"
     ]
    },
    {
     "cell_type": "markdown",
     "metadata": {},
     "source": [
      "The data consist of country names with the World Cup group they belonged to, plus tuples indicating the winners and losers in the group stage games. It was transcribed from http://www.fifa.com/worldcup/matches/index.html."
     ]
    },
    {
     "cell_type": "code",
     "collapsed": false,
     "input": [
      "countries = {\n",
      "    'usa': 'G',\n",
      "    'ghana': 'G',\n",
      "    'germany': 'G',\n",
      "    'portugal': 'G',\n",
      "    'england': 'D',\n",
      "    'italy': 'D',\n",
      "    'costa rica': 'D',\n",
      "    'uruguay': 'D'}"
     ],
     "language": "python",
     "metadata": {},
     "outputs": []
    },
    {
     "cell_type": "code",
     "collapsed": false,
     "input": [
      "results = [\n",
      "    ('portugal', 'germany'),\n",
      "    ('ghana', 'usa'),\n",
      "    ('portugal', 'usa'),\n",
      "    ('usa', 'portugal'),\n",
      "    ('usa', 'germany'),\n",
      "    ('ghana', 'portugal'),\n",
      "    ('ghana', 'germany'),\n",
      "    ('germany', 'ghana'),\n",
      "    ('england', 'italy'),\n",
      "    ('england', 'uruguay'),\n",
      "    ('england', 'costa rica'),\n",
      "    ('costa rica', 'england'),\n",
      "    ('uruguay', 'costa rica'),\n",
      "    ('italy', 'costa rica'),\n",
      "    ('italy', 'uruguay')]"
     ],
     "language": "python",
     "metadata": {},
     "outputs": []
    },
    {
     "cell_type": "heading",
     "level": 2,
     "metadata": {},
     "source": [
      "Construct the graph"
     ]
    },
    {
     "cell_type": "markdown",
     "metadata": {},
     "source": [
      "- <span style=\"color:red\">Construct [SFrames](http://graphlab.com/products/create/docs/generated/graphlab.SFrame.html#graphlab.SFrame) for the vertex and edge data.</span>\n",
      "- <span style=\"color:red\">Make an empty [SGraph](http://graphlab.com/products/create/docs/generated/graphlab.SGraph.html#graphlab.SGraph).</span>\n",
      "- <span style=\"color:red\">Add the vertices and edges to the graph.</span>"
     ]
    },
    {
     "cell_type": "heading",
     "level": 2,
     "metadata": {},
     "source": [
      "Summarize and visualize the graph"
     ]
    },
    {
     "cell_type": "markdown",
     "metadata": {},
     "source": [
      "- <span style=\"color:red\">Summarize the graph. How many vertices and eges are there?</span>\n",
      "- <span style=\"color:red\">Show the graph. Highlight the teams from North America, and use arrows to indicate the winner of each match. This time show the graph in a new tab in the browser, rather than in the notebook.</span>\n",
      "- <span style=\"color:red\">Extract the vertices and edges as SFrames. Do the numbers of rows and edges match the summary?</span>"
     ]
    },
    {
     "cell_type": "heading",
     "level": 2,
     "metadata": {},
     "source": [
      "Filter the vertices"
     ]
    },
    {
     "cell_type": "markdown",
     "metadata": {},
     "source": [
      "- <span style=\"color:red\">Extract only the vertices in group H and plot the subgraph.</span>"
     ]
    },
    {
     "cell_type": "heading",
     "level": 2,
     "metadata": {},
     "source": [
      "Compute the total degree of each vertex"
     ]
    },
    {
     "cell_type": "markdown",
     "metadata": {},
     "source": [
      "In the SGraph demo, we used [triple apply](http://graphlab.com/products/create/docs/generated/graphlab.SGraph.triple_apply.html#graphlab.SGraph.triple_apply) to compute the in-degree for each node, which, in the context of our World Cup example, is the number of wins (plus ties for the group stage). Now extend this and use triple apply to compute the total degree of each vertex, which is the total number of games played (with ties counted twice for group stage games). For more on vertex degree, check out the [Wikipedia article](http://en.wikipedia.org/wiki/Degree_%28graph_theory%29).\n",
      "\n",
      "- <span style=\"color:red\">Define the function that counts the in-degree for each source-edge-destination triple.</span>\n",
      "- <span style=\"color:red\">Create a new vertex field with in-degree set to 0 for each vertex.</span>\n",
      "- <span style=\"color:red\">Use the triple apply function to compute in-degree for all nodes. Which team(s) did the best in the group stage?</span>"
     ]
    },
    {
     "cell_type": "heading",
     "level": 2,
     "metadata": {},
     "source": [
      "Connected Components"
     ]
    },
    {
     "cell_type": "markdown",
     "metadata": {},
     "source": [
      "A [connected component](http://en.wikipedia.org/wiki/Connected_component_%28graph_theory%29) of a graph is a subgraph where every pair of nodes is connected by *some* path through the component. For two nodes in *different* connected components there is no path between them."
     ]
    },
    {
     "cell_type": "markdown",
     "metadata": {},
     "source": [
      "- <span style=\"color:red\">Use the [connected components toolkit](http://graphlab.com/products/create/docs/generated/graphlab.connected_components.create.html#graphlab.connected_components.create) for the group stage world cup results. How many are there?</span>\n",
      "- <span style=\"color:red\">Add the world cup results data from the graph analytics demo (i.e. the knockout stages) to the graph. The data are listed below for convenience.</span>\n",
      "- <span style=\"color:red\">Now how many connected components are there?</span>\n",
      "- <span style=\"color:red\">Show the whole graph - does the number of connected components make sense?</span>"
     ]
    },
    {
     "cell_type": "heading",
     "level": 2,
     "metadata": {},
     "source": [
      "Bonus exercise"
     ]
    },
    {
     "cell_type": "markdown",
     "metadata": {},
     "source": [
      "In the demo, we used pagerank to find the Wikipedia articles on US businesses with the most influence, according to the links  between the documents. <span style=\"color:red\">Now find the most influential articles in the entire Wikipedia dataset.</span> The SGraph of all Wikipedia articles and links is available on the thumb drives - no data preprocessing should be necessary.\n",
      "\n",
      "<span style=\"color:red\">HINT: Approximate solutions are often good enough, especially for big graphs. Convergence may not be necessary.</span>\n",
      "\n",
      "As in the demo, please note: this data is under the Creative Commons Attribution-ShareAlike 3.0 Unported License.  (More details here: http://en.wikipedia.org/wiki/Wikipedia:Copyrights)"
     ]
    }
   ],
   "metadata": {}
  }
 ]
}