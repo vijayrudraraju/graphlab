{
 "metadata": {
  "name": "",
  "signature": "sha256:ba5c733a172dbfa58f3ed39a5698af15136252bb7c0343d3eb6a0c15066c8147"
 },
 "nbformat": 3,
 "nbformat_minor": 0,
 "worksheets": [
  {
   "cells": [
    {
     "cell_type": "code",
     "collapsed": false,
     "input": [
      "import graphlab as gl"
     ],
     "language": "python",
     "metadata": {},
     "outputs": [
      {
       "output_type": "stream",
       "stream": "stderr",
       "text": [
        "[WARNING] Numpy version 1.6.2 is not supported. Minimum required version: 1.8.0. Numpy support will be disabled.\n"
       ]
      }
     ],
     "prompt_number": 1
    },
    {
     "cell_type": "code",
     "collapsed": false,
     "input": [
      "sf = gl.SFrame(data='http://graphlab.com/files/datasets/freebase_performances.csv')"
     ],
     "language": "python",
     "metadata": {},
     "outputs": [],
     "prompt_number": 16
    },
    {
     "cell_type": "code",
     "collapsed": false,
     "input": [
      "sf"
     ],
     "language": "python",
     "metadata": {},
     "outputs": [
      {
       "html": [
        "<div style=\"max-height:1000px;max-width:1500px;overflow:auto;\"><table frame=\"box\" rules=\"cols\">\n",
        "    <tr>\n",
        "        <th style=\"padding-left: 1em; padding-right: 1em; text-align: center\">X1</th>\n",
        "        <th style=\"padding-left: 1em; padding-right: 1em; text-align: center\">actor_name</th>\n",
        "        <th style=\"padding-left: 1em; padding-right: 1em; text-align: center\">character</th>\n",
        "        <th style=\"padding-left: 1em; padding-right: 1em; text-align: center\">film_name</th>\n",
        "        <th style=\"padding-left: 1em; padding-right: 1em; text-align: center\">year</th>\n",
        "    </tr>\n",
        "    <tr>\n",
        "        <td style=\"padding-left: 1em; padding-right: 1em; text-align: center; vertical-align: top\">0</td>\n",
        "        <td style=\"padding-left: 1em; padding-right: 1em; text-align: center; vertical-align: top\">David A. R. White</td>\n",
        "        <td style=\"padding-left: 1em; padding-right: 1em; text-align: center; vertical-align: top\">Adam Riley</td>\n",
        "        <td style=\"padding-left: 1em; padding-right: 1em; text-align: center; vertical-align: top\">The Moment After 2: The<br>Awakening</td>\n",
        "        <td style=\"padding-left: 1em; padding-right: 1em; text-align: center; vertical-align: top\">2006</td>\n",
        "    </tr>\n",
        "    <tr>\n",
        "        <td style=\"padding-left: 1em; padding-right: 1em; text-align: center; vertical-align: top\">1</td>\n",
        "        <td style=\"padding-left: 1em; padding-right: 1em; text-align: center; vertical-align: top\">Lonnie Colon</td>\n",
        "        <td style=\"padding-left: 1em; padding-right: 1em; text-align: center; vertical-align: top\">'Captain' Robert Jackson</td>\n",
        "        <td style=\"padding-left: 1em; padding-right: 1em; text-align: center; vertical-align: top\">The Moment After 2: The<br>Awakening</td>\n",
        "        <td style=\"padding-left: 1em; padding-right: 1em; text-align: center; vertical-align: top\">2006</td>\n",
        "    </tr>\n",
        "    <tr>\n",
        "        <td style=\"padding-left: 1em; padding-right: 1em; text-align: center; vertical-align: top\">2</td>\n",
        "        <td style=\"padding-left: 1em; padding-right: 1em; text-align: center; vertical-align: top\">Brad Heller</td>\n",
        "        <td style=\"padding-left: 1em; padding-right: 1em; text-align: center; vertical-align: top\">Jacob Krause</td>\n",
        "        <td style=\"padding-left: 1em; padding-right: 1em; text-align: center; vertical-align: top\">The Moment After 2: The<br>Awakening</td>\n",
        "        <td style=\"padding-left: 1em; padding-right: 1em; text-align: center; vertical-align: top\">2006</td>\n",
        "    </tr>\n",
        "    <tr>\n",
        "        <td style=\"padding-left: 1em; padding-right: 1em; text-align: center; vertical-align: top\">3</td>\n",
        "        <td style=\"padding-left: 1em; padding-right: 1em; text-align: center; vertical-align: top\">Logan White</td>\n",
        "        <td style=\"padding-left: 1em; padding-right: 1em; text-align: center; vertical-align: top\">Carissa</td>\n",
        "        <td style=\"padding-left: 1em; padding-right: 1em; text-align: center; vertical-align: top\">The Moment After 2: The<br>Awakening</td>\n",
        "        <td style=\"padding-left: 1em; padding-right: 1em; text-align: center; vertical-align: top\">2006</td>\n",
        "    </tr>\n",
        "    <tr>\n",
        "        <td style=\"padding-left: 1em; padding-right: 1em; text-align: center; vertical-align: top\">4</td>\n",
        "        <td style=\"padding-left: 1em; padding-right: 1em; text-align: center; vertical-align: top\">Monte Perlin</td>\n",
        "        <td style=\"padding-left: 1em; padding-right: 1em; text-align: center; vertical-align: top\">Commander Fredericks</td>\n",
        "        <td style=\"padding-left: 1em; padding-right: 1em; text-align: center; vertical-align: top\">The Moment After 2: The<br>Awakening</td>\n",
        "        <td style=\"padding-left: 1em; padding-right: 1em; text-align: center; vertical-align: top\">2006</td>\n",
        "    </tr>\n",
        "    <tr>\n",
        "        <td style=\"padding-left: 1em; padding-right: 1em; text-align: center; vertical-align: top\">5</td>\n",
        "        <td style=\"padding-left: 1em; padding-right: 1em; text-align: center; vertical-align: top\">John Gilbert</td>\n",
        "        <td style=\"padding-left: 1em; padding-right: 1em; text-align: center; vertical-align: top\">Peter McCollum</td>\n",
        "        <td style=\"padding-left: 1em; padding-right: 1em; text-align: center; vertical-align: top\">The Moment After 2: The<br>Awakening</td>\n",
        "        <td style=\"padding-left: 1em; padding-right: 1em; text-align: center; vertical-align: top\">2006</td>\n",
        "    </tr>\n",
        "    <tr>\n",
        "        <td style=\"padding-left: 1em; padding-right: 1em; text-align: center; vertical-align: top\">6</td>\n",
        "        <td style=\"padding-left: 1em; padding-right: 1em; text-align: center; vertical-align: top\">Kevin Downes</td>\n",
        "        <td style=\"padding-left: 1em; padding-right: 1em; text-align: center; vertical-align: top\">Charles Baker</td>\n",
        "        <td style=\"padding-left: 1em; padding-right: 1em; text-align: center; vertical-align: top\">The Moment After 2: The<br>Awakening</td>\n",
        "        <td style=\"padding-left: 1em; padding-right: 1em; text-align: center; vertical-align: top\">2006</td>\n",
        "    </tr>\n",
        "    <tr>\n",
        "        <td style=\"padding-left: 1em; padding-right: 1em; text-align: center; vertical-align: top\">7</td>\n",
        "        <td style=\"padding-left: 1em; padding-right: 1em; text-align: center; vertical-align: top\">Asad Farr</td>\n",
        "        <td style=\"padding-left: 1em; padding-right: 1em; text-align: center; vertical-align: top\">Global Chairman</td>\n",
        "        <td style=\"padding-left: 1em; padding-right: 1em; text-align: center; vertical-align: top\">The Moment After 2: The<br>Awakening</td>\n",
        "        <td style=\"padding-left: 1em; padding-right: 1em; text-align: center; vertical-align: top\">2006</td>\n",
        "    </tr>\n",
        "    <tr>\n",
        "        <td style=\"padding-left: 1em; padding-right: 1em; text-align: center; vertical-align: top\">8</td>\n",
        "        <td style=\"padding-left: 1em; padding-right: 1em; text-align: center; vertical-align: top\">Don Parker Decker</td>\n",
        "        <td style=\"padding-left: 1em; padding-right: 1em; text-align: center; vertical-align: top\">President of the United<br>States</td>\n",
        "        <td style=\"padding-left: 1em; padding-right: 1em; text-align: center; vertical-align: top\">The Moment After 2: The<br>Awakening</td>\n",
        "        <td style=\"padding-left: 1em; padding-right: 1em; text-align: center; vertical-align: top\">2006</td>\n",
        "    </tr>\n",
        "    <tr>\n",
        "        <td style=\"padding-left: 1em; padding-right: 1em; text-align: center; vertical-align: top\">9</td>\n",
        "        <td style=\"padding-left: 1em; padding-right: 1em; text-align: center; vertical-align: top\">Bree Pavey</td>\n",
        "        <td style=\"padding-left: 1em; padding-right: 1em; text-align: center; vertical-align: top\">Audrey Thomas</td>\n",
        "        <td style=\"padding-left: 1em; padding-right: 1em; text-align: center; vertical-align: top\">The Moment After 2: The<br>Awakening</td>\n",
        "        <td style=\"padding-left: 1em; padding-right: 1em; text-align: center; vertical-align: top\">2006</td>\n",
        "    </tr>\n",
        "    <tr>\n",
        "        <td style=\"padding-left: 1em; padding-right: 1em; text-align: center; vertical-align: top\">...</td>\n",
        "        <td style=\"padding-left: 1em; padding-right: 1em; text-align: center; vertical-align: top\">...</td>\n",
        "        <td style=\"padding-left: 1em; padding-right: 1em; text-align: center; vertical-align: top\">...</td>\n",
        "        <td style=\"padding-left: 1em; padding-right: 1em; text-align: center; vertical-align: top\">...</td>\n",
        "        <td style=\"padding-left: 1em; padding-right: 1em; text-align: center; vertical-align: top\">...</td>\n",
        "    </tr>\n",
        "</table>\n",
        "[156468 rows x 5 columns]<br/>Note: Only the head of the SFrame is printed.<br/>You can use print_rows(num_rows=m, num_columns=n) to print more rows and columns.\n",
        "</div>"
       ],
       "metadata": {},
       "output_type": "pyout",
       "prompt_number": 5,
       "text": [
        "Columns:\n",
        "\tX1\tstr\n",
        "\tactor_name\tstr\n",
        "\tcharacter\tstr\n",
        "\tfilm_name\tstr\n",
        "\tyear\tstr\n",
        "\n",
        "Rows: 156468\n",
        "\n",
        "Data:\n",
        "+----+-------------------+--------------------------------+\n",
        "| X1 |     actor_name    |           character            |\n",
        "+----+-------------------+--------------------------------+\n",
        "| 0  | David A. R. White |           Adam Riley           |\n",
        "| 1  |    Lonnie Colon   |    'Captain' Robert Jackson    |\n",
        "| 2  |    Brad Heller    |          Jacob Krause          |\n",
        "| 3  |    Logan White    |            Carissa             |\n",
        "| 4  |    Monte Perlin   |      Commander Fredericks      |\n",
        "| 5  |    John Gilbert   |         Peter McCollum         |\n",
        "| 6  |    Kevin Downes   |         Charles Baker          |\n",
        "| 7  |     Asad Farr     |        Global Chairman         |\n",
        "| 8  | Don Parker Decker | President of the United States |\n",
        "| 9  |     Bree Pavey    |         Audrey Thomas          |\n",
        "+----+-------------------+--------------------------------+\n",
        "+--------------------------------+------+\n",
        "|           film_name            | year |\n",
        "+--------------------------------+------+\n",
        "| The Moment After 2: The Aw ... | 2006 |\n",
        "| The Moment After 2: The Aw ... | 2006 |\n",
        "| The Moment After 2: The Aw ... | 2006 |\n",
        "| The Moment After 2: The Aw ... | 2006 |\n",
        "| The Moment After 2: The Aw ... | 2006 |\n",
        "| The Moment After 2: The Aw ... | 2006 |\n",
        "| The Moment After 2: The Aw ... | 2006 |\n",
        "| The Moment After 2: The Aw ... | 2006 |\n",
        "| The Moment After 2: The Aw ... | 2006 |\n",
        "| The Moment After 2: The Aw ... | 2006 |\n",
        "|              ...               | ...  |\n",
        "+--------------------------------+------+\n",
        "[156468 rows x 5 columns]\n",
        "Note: Only the head of the SFrame is printed.\n",
        "You can use print_rows(num_rows=m, num_columns=n) to print more rows and columns."
       ]
      }
     ],
     "prompt_number": 5
    },
    {
     "cell_type": "code",
     "collapsed": false,
     "input": [
      "sf.show()"
     ],
     "language": "python",
     "metadata": {},
     "outputs": [],
     "prompt_number": 6
    },
    {
     "cell_type": "code",
     "collapsed": false,
     "input": [
      "print sf"
     ],
     "language": "python",
     "metadata": {},
     "outputs": [
      {
       "output_type": "stream",
       "stream": "stdout",
       "text": [
        "+----+-------------------+--------------------------------+\n",
        "| X1 |     actor_name    |           character            |\n",
        "+----+-------------------+--------------------------------+\n",
        "| 0  | David A. R. White |           Adam Riley           |\n",
        "| 1  |    Lonnie Colon   |    'Captain' Robert Jackson    |\n",
        "| 2  |    Brad Heller    |          Jacob Krause          |\n",
        "| 3  |    Logan White    |            Carissa             |\n",
        "| 4  |    Monte Perlin   |      Commander Fredericks      |\n",
        "| 5  |    John Gilbert   |         Peter McCollum         |\n",
        "| 6  |    Kevin Downes   |         Charles Baker          |\n",
        "| 7  |     Asad Farr     |        Global Chairman         |\n",
        "| 8  | Don Parker Decker | President of the United States |\n",
        "| 9  |     Bree Pavey    |         Audrey Thomas          |\n",
        "+----+-------------------+--------------------------------+\n",
        "+--------------------------------+------+\n",
        "|           film_name            | year |\n",
        "+--------------------------------+------+\n",
        "| The Moment After 2: The Aw ... | 2006 |\n",
        "| The Moment After 2: The Aw ... | 2006 |\n",
        "| The Moment After 2: The Aw ... | 2006 |\n",
        "| The Moment After 2: The Aw ... | 2006 |\n",
        "| The Moment After 2: The Aw ... | 2006 |\n",
        "| The Moment After 2: The Aw ... | 2006 |\n",
        "| The Moment After 2: The Aw ... | 2006 |\n",
        "| The Moment After 2: The Aw ... | 2006 |\n",
        "| The Moment After 2: The Aw ... | 2006 |\n",
        "| The Moment After 2: The Aw ... | 2006 |\n",
        "|              ...               | ...  |\n",
        "+--------------------------------+------+\n",
        "[156468 rows x 5 columns]\n",
        "Note: Only the head of the SFrame is printed.\n",
        "You can use print_rows(num_rows=m, num_columns=n) to print more rows and columns.\n"
       ]
      }
     ],
     "prompt_number": 7
    },
    {
     "cell_type": "code",
     "collapsed": false,
     "input": [
      "sf = gl.SFrame(data='http://graphlab.com/files/datasets/freebase_performances.csv')"
     ],
     "language": "python",
     "metadata": {},
     "outputs": [
      {
       "html": [
        "PROGRESS: Finished parsing file http://graphlab.com/files/datasets/freebase_performances.csv<br/>"
       ],
       "metadata": {},
       "output_type": "display_data",
       "text": [
        "PROGRESS: Finished parsing file http://graphlab.com/files/datasets/freebase_performances.csv"
       ]
      },
      {
       "html": [
        "PROGRESS: Parsing completed. Parsed 100 lines in 0.092585 secs.<br/>"
       ],
       "metadata": {},
       "output_type": "display_data",
       "text": [
        "PROGRESS: Parsing completed. Parsed 100 lines in 0.092585 secs."
       ]
      },
      {
       "html": [
        "PROGRESS: Finished parsing file http://graphlab.com/files/datasets/freebase_performances.csv<br/>"
       ],
       "metadata": {},
       "output_type": "display_data",
       "text": [
        "PROGRESS: Finished parsing file http://graphlab.com/files/datasets/freebase_performances.csv"
       ]
      },
      {
       "html": [
        "PROGRESS: Parsing completed. Parsed 156468 lines in 0.334228 secs.<br/>"
       ],
       "metadata": {},
       "output_type": "display_data",
       "text": [
        "PROGRESS: Parsing completed. Parsed 156468 lines in 0.334228 secs."
       ]
      },
      {
       "output_type": "stream",
       "stream": "stdout",
       "text": [
        "Could not detect types. Using str for each column.\n"
       ]
      }
     ],
     "prompt_number": 9
    },
    {
     "cell_type": "code",
     "collapsed": false,
     "input": [
      "sf"
     ],
     "language": "python",
     "metadata": {},
     "outputs": [
      {
       "html": [
        "<div style=\"max-height:1000px;max-width:1500px;overflow:auto;\"><table frame=\"box\" rules=\"cols\">\n",
        "    <tr>\n",
        "        <th style=\"padding-left: 1em; padding-right: 1em; text-align: center\">X1</th>\n",
        "        <th style=\"padding-left: 1em; padding-right: 1em; text-align: center\">actor_name</th>\n",
        "        <th style=\"padding-left: 1em; padding-right: 1em; text-align: center\">character</th>\n",
        "        <th style=\"padding-left: 1em; padding-right: 1em; text-align: center\">film_name</th>\n",
        "        <th style=\"padding-left: 1em; padding-right: 1em; text-align: center\">year</th>\n",
        "    </tr>\n",
        "    <tr>\n",
        "        <td style=\"padding-left: 1em; padding-right: 1em; text-align: center; vertical-align: top\">0</td>\n",
        "        <td style=\"padding-left: 1em; padding-right: 1em; text-align: center; vertical-align: top\">David A. R. White</td>\n",
        "        <td style=\"padding-left: 1em; padding-right: 1em; text-align: center; vertical-align: top\">Adam Riley</td>\n",
        "        <td style=\"padding-left: 1em; padding-right: 1em; text-align: center; vertical-align: top\">The Moment After 2: The<br>Awakening</td>\n",
        "        <td style=\"padding-left: 1em; padding-right: 1em; text-align: center; vertical-align: top\">2006</td>\n",
        "    </tr>\n",
        "    <tr>\n",
        "        <td style=\"padding-left: 1em; padding-right: 1em; text-align: center; vertical-align: top\">1</td>\n",
        "        <td style=\"padding-left: 1em; padding-right: 1em; text-align: center; vertical-align: top\">Lonnie Colon</td>\n",
        "        <td style=\"padding-left: 1em; padding-right: 1em; text-align: center; vertical-align: top\">'Captain' Robert Jackson</td>\n",
        "        <td style=\"padding-left: 1em; padding-right: 1em; text-align: center; vertical-align: top\">The Moment After 2: The<br>Awakening</td>\n",
        "        <td style=\"padding-left: 1em; padding-right: 1em; text-align: center; vertical-align: top\">2006</td>\n",
        "    </tr>\n",
        "    <tr>\n",
        "        <td style=\"padding-left: 1em; padding-right: 1em; text-align: center; vertical-align: top\">2</td>\n",
        "        <td style=\"padding-left: 1em; padding-right: 1em; text-align: center; vertical-align: top\">Brad Heller</td>\n",
        "        <td style=\"padding-left: 1em; padding-right: 1em; text-align: center; vertical-align: top\">Jacob Krause</td>\n",
        "        <td style=\"padding-left: 1em; padding-right: 1em; text-align: center; vertical-align: top\">The Moment After 2: The<br>Awakening</td>\n",
        "        <td style=\"padding-left: 1em; padding-right: 1em; text-align: center; vertical-align: top\">2006</td>\n",
        "    </tr>\n",
        "    <tr>\n",
        "        <td style=\"padding-left: 1em; padding-right: 1em; text-align: center; vertical-align: top\">3</td>\n",
        "        <td style=\"padding-left: 1em; padding-right: 1em; text-align: center; vertical-align: top\">Logan White</td>\n",
        "        <td style=\"padding-left: 1em; padding-right: 1em; text-align: center; vertical-align: top\">Carissa</td>\n",
        "        <td style=\"padding-left: 1em; padding-right: 1em; text-align: center; vertical-align: top\">The Moment After 2: The<br>Awakening</td>\n",
        "        <td style=\"padding-left: 1em; padding-right: 1em; text-align: center; vertical-align: top\">2006</td>\n",
        "    </tr>\n",
        "    <tr>\n",
        "        <td style=\"padding-left: 1em; padding-right: 1em; text-align: center; vertical-align: top\">4</td>\n",
        "        <td style=\"padding-left: 1em; padding-right: 1em; text-align: center; vertical-align: top\">Monte Perlin</td>\n",
        "        <td style=\"padding-left: 1em; padding-right: 1em; text-align: center; vertical-align: top\">Commander Fredericks</td>\n",
        "        <td style=\"padding-left: 1em; padding-right: 1em; text-align: center; vertical-align: top\">The Moment After 2: The<br>Awakening</td>\n",
        "        <td style=\"padding-left: 1em; padding-right: 1em; text-align: center; vertical-align: top\">2006</td>\n",
        "    </tr>\n",
        "    <tr>\n",
        "        <td style=\"padding-left: 1em; padding-right: 1em; text-align: center; vertical-align: top\">5</td>\n",
        "        <td style=\"padding-left: 1em; padding-right: 1em; text-align: center; vertical-align: top\">John Gilbert</td>\n",
        "        <td style=\"padding-left: 1em; padding-right: 1em; text-align: center; vertical-align: top\">Peter McCollum</td>\n",
        "        <td style=\"padding-left: 1em; padding-right: 1em; text-align: center; vertical-align: top\">The Moment After 2: The<br>Awakening</td>\n",
        "        <td style=\"padding-left: 1em; padding-right: 1em; text-align: center; vertical-align: top\">2006</td>\n",
        "    </tr>\n",
        "    <tr>\n",
        "        <td style=\"padding-left: 1em; padding-right: 1em; text-align: center; vertical-align: top\">6</td>\n",
        "        <td style=\"padding-left: 1em; padding-right: 1em; text-align: center; vertical-align: top\">Kevin Downes</td>\n",
        "        <td style=\"padding-left: 1em; padding-right: 1em; text-align: center; vertical-align: top\">Charles Baker</td>\n",
        "        <td style=\"padding-left: 1em; padding-right: 1em; text-align: center; vertical-align: top\">The Moment After 2: The<br>Awakening</td>\n",
        "        <td style=\"padding-left: 1em; padding-right: 1em; text-align: center; vertical-align: top\">2006</td>\n",
        "    </tr>\n",
        "    <tr>\n",
        "        <td style=\"padding-left: 1em; padding-right: 1em; text-align: center; vertical-align: top\">7</td>\n",
        "        <td style=\"padding-left: 1em; padding-right: 1em; text-align: center; vertical-align: top\">Asad Farr</td>\n",
        "        <td style=\"padding-left: 1em; padding-right: 1em; text-align: center; vertical-align: top\">Global Chairman</td>\n",
        "        <td style=\"padding-left: 1em; padding-right: 1em; text-align: center; vertical-align: top\">The Moment After 2: The<br>Awakening</td>\n",
        "        <td style=\"padding-left: 1em; padding-right: 1em; text-align: center; vertical-align: top\">2006</td>\n",
        "    </tr>\n",
        "    <tr>\n",
        "        <td style=\"padding-left: 1em; padding-right: 1em; text-align: center; vertical-align: top\">8</td>\n",
        "        <td style=\"padding-left: 1em; padding-right: 1em; text-align: center; vertical-align: top\">Don Parker Decker</td>\n",
        "        <td style=\"padding-left: 1em; padding-right: 1em; text-align: center; vertical-align: top\">President of the United<br>States</td>\n",
        "        <td style=\"padding-left: 1em; padding-right: 1em; text-align: center; vertical-align: top\">The Moment After 2: The<br>Awakening</td>\n",
        "        <td style=\"padding-left: 1em; padding-right: 1em; text-align: center; vertical-align: top\">2006</td>\n",
        "    </tr>\n",
        "    <tr>\n",
        "        <td style=\"padding-left: 1em; padding-right: 1em; text-align: center; vertical-align: top\">9</td>\n",
        "        <td style=\"padding-left: 1em; padding-right: 1em; text-align: center; vertical-align: top\">Bree Pavey</td>\n",
        "        <td style=\"padding-left: 1em; padding-right: 1em; text-align: center; vertical-align: top\">Audrey Thomas</td>\n",
        "        <td style=\"padding-left: 1em; padding-right: 1em; text-align: center; vertical-align: top\">The Moment After 2: The<br>Awakening</td>\n",
        "        <td style=\"padding-left: 1em; padding-right: 1em; text-align: center; vertical-align: top\">2006</td>\n",
        "    </tr>\n",
        "    <tr>\n",
        "        <td style=\"padding-left: 1em; padding-right: 1em; text-align: center; vertical-align: top\">...</td>\n",
        "        <td style=\"padding-left: 1em; padding-right: 1em; text-align: center; vertical-align: top\">...</td>\n",
        "        <td style=\"padding-left: 1em; padding-right: 1em; text-align: center; vertical-align: top\">...</td>\n",
        "        <td style=\"padding-left: 1em; padding-right: 1em; text-align: center; vertical-align: top\">...</td>\n",
        "        <td style=\"padding-left: 1em; padding-right: 1em; text-align: center; vertical-align: top\">...</td>\n",
        "    </tr>\n",
        "</table>\n",
        "[156468 rows x 5 columns]<br/>Note: Only the head of the SFrame is printed.<br/>You can use print_rows(num_rows=m, num_columns=n) to print more rows and columns.\n",
        "</div>"
       ],
       "metadata": {},
       "output_type": "pyout",
       "prompt_number": 18,
       "text": [
        "Columns:\n",
        "\tX1\tstr\n",
        "\tactor_name\tstr\n",
        "\tcharacter\tstr\n",
        "\tfilm_name\tstr\n",
        "\tyear\tstr\n",
        "\n",
        "Rows: 156468\n",
        "\n",
        "Data:\n",
        "+----+-------------------+--------------------------------+\n",
        "| X1 |     actor_name    |           character            |\n",
        "+----+-------------------+--------------------------------+\n",
        "| 0  | David A. R. White |           Adam Riley           |\n",
        "| 1  |    Lonnie Colon   |    'Captain' Robert Jackson    |\n",
        "| 2  |    Brad Heller    |          Jacob Krause          |\n",
        "| 3  |    Logan White    |            Carissa             |\n",
        "| 4  |    Monte Perlin   |      Commander Fredericks      |\n",
        "| 5  |    John Gilbert   |         Peter McCollum         |\n",
        "| 6  |    Kevin Downes   |         Charles Baker          |\n",
        "| 7  |     Asad Farr     |        Global Chairman         |\n",
        "| 8  | Don Parker Decker | President of the United States |\n",
        "| 9  |     Bree Pavey    |         Audrey Thomas          |\n",
        "+----+-------------------+--------------------------------+\n",
        "+--------------------------------+------+\n",
        "|           film_name            | year |\n",
        "+--------------------------------+------+\n",
        "| The Moment After 2: The Aw ... | 2006 |\n",
        "| The Moment After 2: The Aw ... | 2006 |\n",
        "| The Moment After 2: The Aw ... | 2006 |\n",
        "| The Moment After 2: The Aw ... | 2006 |\n",
        "| The Moment After 2: The Aw ... | 2006 |\n",
        "| The Moment After 2: The Aw ... | 2006 |\n",
        "| The Moment After 2: The Aw ... | 2006 |\n",
        "| The Moment After 2: The Aw ... | 2006 |\n",
        "| The Moment After 2: The Aw ... | 2006 |\n",
        "| The Moment After 2: The Aw ... | 2006 |\n",
        "|              ...               | ...  |\n",
        "+--------------------------------+------+\n",
        "[156468 rows x 5 columns]\n",
        "Note: Only the head of the SFrame is printed.\n",
        "You can use print_rows(num_rows=m, num_columns=n) to print more rows and columns."
       ]
      }
     ],
     "prompt_number": 18
    },
    {
     "cell_type": "code",
     "collapsed": false,
     "input": [
      "sf['year']"
     ],
     "language": "python",
     "metadata": {},
     "outputs": [
      {
       "metadata": {},
       "output_type": "pyout",
       "prompt_number": 19,
       "text": [
        "dtype: str\n",
        "Rows: 156468\n",
        "['2006', '2006', '2006', '2006', '2006', '2006', '2006', '2006', '2006', '2006', '2009', '2009', '2009', '2009', '2009', '2009', '2009', '2009', '2009', '2009', '2009', '2009', '2009', '2009', '2009', '2008', '2008', '2008', '2008', '2008', '2008', '2008', '2008', '2008', '2008', '2008', '2008', '2008', '2008', '2008', '2008', '2005', '2005', '2005', '2005', '2005', '2005', '2005', '2005', '2005', '2005', '2005', '2005', '2005', '2008', '2008', '2008', '2004', '2004', '2004', '2004', '2004', '2004', '2004', '2004', '2004', '2004', '2004', '2006', '2006', '2006', '2006', '2006', '2006', '2006', '2006', '2006', '2006', '2006', '2006', '2006', '2006', '2004', '2004', '2004', '2007', '2007', '2007', '2007', '2007', '2007', '2007', '2007', '2007', '2005', '2005', '2005', '2005', '2005', '2005', ... ]"
       ]
      }
     ],
     "prompt_number": 19
    },
    {
     "cell_type": "code",
     "collapsed": false,
     "input": [
      "sf['year'] > '2008'"
     ],
     "language": "python",
     "metadata": {},
     "outputs": [
      {
       "metadata": {},
       "output_type": "pyout",
       "prompt_number": 21,
       "text": [
        "dtype: int\n",
        "Rows: 156468\n",
        "[0, 0, 0, 0, 0, 0, 0, 0, 0, 0, 1, 1, 1, 1, 1, 1, 1, 1, 1, 1, 1, 1, 1, 1, 1, 0, 0, 0, 0, 0, 0, 0, 0, 0, 0, 0, 0, 0, 0, 0, 0, 0, 0, 0, 0, 0, 0, 0, 0, 0, 0, 0, 0, 0, 0, 0, 0, 0, 0, 0, 0, 0, 0, 0, 0, 0, 0, 0, 0, 0, 0, 0, 0, 0, 0, 0, 0, 0, 0, 0, 0, 0, 0, 0, 0, 0, 0, 0, 0, 0, 0, 0, 0, 0, 0, 0, 0, 0, 0, 0, ... ]"
       ]
      }
     ],
     "prompt_number": 21
    },
    {
     "cell_type": "code",
     "collapsed": false,
     "input": [
      "sf[sf['year'] > '2008']"
     ],
     "language": "python",
     "metadata": {},
     "outputs": [
      {
       "html": [
        "<div style=\"max-height:1000px;max-width:1500px;overflow:auto;\"><table frame=\"box\" rules=\"cols\">\n",
        "    <tr>\n",
        "        <th style=\"padding-left: 1em; padding-right: 1em; text-align: center\">X1</th>\n",
        "        <th style=\"padding-left: 1em; padding-right: 1em; text-align: center\">actor_name</th>\n",
        "        <th style=\"padding-left: 1em; padding-right: 1em; text-align: center\">character</th>\n",
        "        <th style=\"padding-left: 1em; padding-right: 1em; text-align: center\">film_name</th>\n",
        "        <th style=\"padding-left: 1em; padding-right: 1em; text-align: center\">year</th>\n",
        "    </tr>\n",
        "    <tr>\n",
        "        <td style=\"padding-left: 1em; padding-right: 1em; text-align: center; vertical-align: top\">10</td>\n",
        "        <td style=\"padding-left: 1em; padding-right: 1em; text-align: center; vertical-align: top\">John Hawkes</td>\n",
        "        <td style=\"padding-left: 1em; padding-right: 1em; text-align: center; vertical-align: top\">Donnie Carson</td>\n",
        "        <td style=\"padding-left: 1em; padding-right: 1em; text-align: center; vertical-align: top\">Small Town Saturday Night</td>\n",
        "        <td style=\"padding-left: 1em; padding-right: 1em; text-align: center; vertical-align: top\">2009</td>\n",
        "    </tr>\n",
        "    <tr>\n",
        "        <td style=\"padding-left: 1em; padding-right: 1em; text-align: center; vertical-align: top\">11</td>\n",
        "        <td style=\"padding-left: 1em; padding-right: 1em; text-align: center; vertical-align: top\">Shawn Christian</td>\n",
        "        <td style=\"padding-left: 1em; padding-right: 1em; text-align: center; vertical-align: top\">Tommy Carson</td>\n",
        "        <td style=\"padding-left: 1em; padding-right: 1em; text-align: center; vertical-align: top\">Small Town Saturday Night</td>\n",
        "        <td style=\"padding-left: 1em; padding-right: 1em; text-align: center; vertical-align: top\">2009</td>\n",
        "    </tr>\n",
        "    <tr>\n",
        "        <td style=\"padding-left: 1em; padding-right: 1em; text-align: center; vertical-align: top\">12</td>\n",
        "        <td style=\"padding-left: 1em; padding-right: 1em; text-align: center; vertical-align: top\">Chris Pine</td>\n",
        "        <td style=\"padding-left: 1em; padding-right: 1em; text-align: center; vertical-align: top\">Rhett Ryan</td>\n",
        "        <td style=\"padding-left: 1em; padding-right: 1em; text-align: center; vertical-align: top\">Small Town Saturday Night</td>\n",
        "        <td style=\"padding-left: 1em; padding-right: 1em; text-align: center; vertical-align: top\">2009</td>\n",
        "    </tr>\n",
        "    <tr>\n",
        "        <td style=\"padding-left: 1em; padding-right: 1em; text-align: center; vertical-align: top\">13</td>\n",
        "        <td style=\"padding-left: 1em; padding-right: 1em; text-align: center; vertical-align: top\">Bre Blair</td>\n",
        "        <td style=\"padding-left: 1em; padding-right: 1em; text-align: center; vertical-align: top\">Samantha Carson</td>\n",
        "        <td style=\"padding-left: 1em; padding-right: 1em; text-align: center; vertical-align: top\">Small Town Saturday Night</td>\n",
        "        <td style=\"padding-left: 1em; padding-right: 1em; text-align: center; vertical-align: top\">2009</td>\n",
        "    </tr>\n",
        "    <tr>\n",
        "        <td style=\"padding-left: 1em; padding-right: 1em; text-align: center; vertical-align: top\">14</td>\n",
        "        <td style=\"padding-left: 1em; padding-right: 1em; text-align: center; vertical-align: top\">Octavia Spencer</td>\n",
        "        <td style=\"padding-left: 1em; padding-right: 1em; text-align: center; vertical-align: top\">Rhonda Dooley</td>\n",
        "        <td style=\"padding-left: 1em; padding-right: 1em; text-align: center; vertical-align: top\">Small Town Saturday Night</td>\n",
        "        <td style=\"padding-left: 1em; padding-right: 1em; text-align: center; vertical-align: top\">2009</td>\n",
        "    </tr>\n",
        "    <tr>\n",
        "        <td style=\"padding-left: 1em; padding-right: 1em; text-align: center; vertical-align: top\">15</td>\n",
        "        <td style=\"padding-left: 1em; padding-right: 1em; text-align: center; vertical-align: top\">Lin Shaye</td>\n",
        "        <td style=\"padding-left: 1em; padding-right: 1em; text-align: center; vertical-align: top\">Phyllis Ryan</td>\n",
        "        <td style=\"padding-left: 1em; padding-right: 1em; text-align: center; vertical-align: top\">Small Town Saturday Night</td>\n",
        "        <td style=\"padding-left: 1em; padding-right: 1em; text-align: center; vertical-align: top\">2009</td>\n",
        "    </tr>\n",
        "    <tr>\n",
        "        <td style=\"padding-left: 1em; padding-right: 1em; text-align: center; vertical-align: top\">16</td>\n",
        "        <td style=\"padding-left: 1em; padding-right: 1em; text-align: center; vertical-align: top\">Brent Briscoe</td>\n",
        "        <td style=\"padding-left: 1em; padding-right: 1em; text-align: center; vertical-align: top\">Travis Perkins</td>\n",
        "        <td style=\"padding-left: 1em; padding-right: 1em; text-align: center; vertical-align: top\">Small Town Saturday Night</td>\n",
        "        <td style=\"padding-left: 1em; padding-right: 1em; text-align: center; vertical-align: top\">2009</td>\n",
        "    </tr>\n",
        "    <tr>\n",
        "        <td style=\"padding-left: 1em; padding-right: 1em; text-align: center; vertical-align: top\">17</td>\n",
        "        <td style=\"padding-left: 1em; padding-right: 1em; text-align: center; vertical-align: top\">Scott Michael Campbell</td>\n",
        "        <td style=\"padding-left: 1em; padding-right: 1em; text-align: center; vertical-align: top\">Dwayne Murphy</td>\n",
        "        <td style=\"padding-left: 1em; padding-right: 1em; text-align: center; vertical-align: top\">Small Town Saturday Night</td>\n",
        "        <td style=\"padding-left: 1em; padding-right: 1em; text-align: center; vertical-align: top\">2009</td>\n",
        "    </tr>\n",
        "    <tr>\n",
        "        <td style=\"padding-left: 1em; padding-right: 1em; text-align: center; vertical-align: top\">18</td>\n",
        "        <td style=\"padding-left: 1em; padding-right: 1em; text-align: center; vertical-align: top\">Muse Watson</td>\n",
        "        <td style=\"padding-left: 1em; padding-right: 1em; text-align: center; vertical-align: top\">Charlie Carson</td>\n",
        "        <td style=\"padding-left: 1em; padding-right: 1em; text-align: center; vertical-align: top\">Small Town Saturday Night</td>\n",
        "        <td style=\"padding-left: 1em; padding-right: 1em; text-align: center; vertical-align: top\">2009</td>\n",
        "    </tr>\n",
        "    <tr>\n",
        "        <td style=\"padding-left: 1em; padding-right: 1em; text-align: center; vertical-align: top\">19</td>\n",
        "        <td style=\"padding-left: 1em; padding-right: 1em; text-align: center; vertical-align: top\">Adam Hendershott</td>\n",
        "        <td style=\"padding-left: 1em; padding-right: 1em; text-align: center; vertical-align: top\">Les Ryan</td>\n",
        "        <td style=\"padding-left: 1em; padding-right: 1em; text-align: center; vertical-align: top\">Small Town Saturday Night</td>\n",
        "        <td style=\"padding-left: 1em; padding-right: 1em; text-align: center; vertical-align: top\">2009</td>\n",
        "    </tr>\n",
        "</table>\n",
        "[? rows x 5 columns]<br/>Note: Only the head of the SFrame is printed. This SFrame is lazily evaluated.<br/>You can use len(sf) to force materialization.\n",
        "</div>"
       ],
       "metadata": {},
       "output_type": "pyout",
       "prompt_number": 23,
       "text": [
        "Columns:\n",
        "\tX1\tstr\n",
        "\tactor_name\tstr\n",
        "\tcharacter\tstr\n",
        "\tfilm_name\tstr\n",
        "\tyear\tstr\n",
        "\n",
        "Rows: Unknown\n",
        "\n",
        "Data:\n",
        "+----+------------------------+-----------------+---------------------------+\n",
        "| X1 |       actor_name       |    character    |         film_name         |\n",
        "+----+------------------------+-----------------+---------------------------+\n",
        "| 10 |      John Hawkes       |  Donnie Carson  | Small Town Saturday Night |\n",
        "| 11 |    Shawn Christian     |   Tommy Carson  | Small Town Saturday Night |\n",
        "| 12 |       Chris Pine       |    Rhett Ryan   | Small Town Saturday Night |\n",
        "| 13 |       Bre Blair        | Samantha Carson | Small Town Saturday Night |\n",
        "| 14 |    Octavia Spencer     |  Rhonda Dooley  | Small Town Saturday Night |\n",
        "| 15 |       Lin Shaye        |   Phyllis Ryan  | Small Town Saturday Night |\n",
        "| 16 |     Brent Briscoe      |  Travis Perkins | Small Town Saturday Night |\n",
        "| 17 | Scott Michael Campbell |  Dwayne Murphy  | Small Town Saturday Night |\n",
        "| 18 |      Muse Watson       |  Charlie Carson | Small Town Saturday Night |\n",
        "| 19 |    Adam Hendershott    |     Les Ryan    | Small Town Saturday Night |\n",
        "+----+------------------------+-----------------+---------------------------+\n",
        "+------+\n",
        "| year |\n",
        "+------+\n",
        "| 2009 |\n",
        "| 2009 |\n",
        "| 2009 |\n",
        "| 2009 |\n",
        "| 2009 |\n",
        "| 2009 |\n",
        "| 2009 |\n",
        "| 2009 |\n",
        "| 2009 |\n",
        "| 2009 |\n",
        "+------+\n",
        "[? rows x 5 columns]\n",
        "Note: Only the head of the SFrame is printed. This SFrame is lazily evaluated.\n",
        "You can use len(sf) to force materialization."
       ]
      }
     ],
     "prompt_number": 23
    },
    {
     "cell_type": "code",
     "collapsed": false,
     "input": [
      "x = gl.SArray([1,2,3,4,5])"
     ],
     "language": "python",
     "metadata": {},
     "outputs": [],
     "prompt_number": 24
    },
    {
     "cell_type": "code",
     "collapsed": false,
     "input": [
      "x.apply(lambda x:x+1)"
     ],
     "language": "python",
     "metadata": {},
     "outputs": [
      {
       "metadata": {},
       "output_type": "pyout",
       "prompt_number": 26,
       "text": [
        "<repr(<graphlab.data_structures.sarray.SArray at 0x1114c4fd0>) failed: RuntimeError: Runtime Exception: 0. Runtime Exception: 0. Traceback (most recent call last):\n",
        "  File \"/usr/lib/python2.7/pickle.py\", line 1382, in loads\n",
        "    return Unpickler(file).load()\n",
        "  File \"/usr/lib/python2.7/pickle.py\", line 858, in load\n",
        "    dispatch[key](self)\n",
        "  File \"/usr/lib/python2.7/pickle.py\", line 1090, in load_global\n",
        "    klass = self.find_class(module, name)\n",
        "  File \"/usr/lib/python2.7/pickle.py\", line 1124, in find_class\n",
        "    __import__(module)\n",
        "  File \"/Library/Python/2.7/site-packages/graphlab/__init__.py\", line 7, in <module>\n",
        "    import graphlab.connect.aws as aws\n",
        "AttributeError: 'module' object has no attribute 'connect'\n",
        ">"
       ]
      }
     ],
     "prompt_number": 26
    },
    {
     "cell_type": "code",
     "collapsed": false,
     "input": [],
     "language": "python",
     "metadata": {},
     "outputs": []
    }
   ],
   "metadata": {}
  }
 ]
}