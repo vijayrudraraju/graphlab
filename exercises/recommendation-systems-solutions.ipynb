{
 "metadata": {
  "name": "",
  "signature": "sha256:e3879ad8e84665780b136ed80495f9869fa30972743df3440a50797e2e61db3a"
 },
 "nbformat": 3,
 "nbformat_minor": 0,
 "worksheets": [
  {
   "cells": [
    {
     "cell_type": "code",
     "collapsed": true,
     "input": [
      "import graphlab"
     ],
     "language": "python",
     "metadata": {},
     "outputs": [],
     "prompt_number": 1
    },
    {
     "cell_type": "markdown",
     "metadata": {},
     "source": [
      "In the code block below, import the StackOverflow dataset SFrame that you saved during earlier exercises. Note that [this data is shared](http://blog.stackexchange.com/category/cc-wiki-dump/) courtesy of StackExchange and is under the Creative Commons Attribution-ShareAlike 3.0 Unported License. This particular version of the data set was used in a recent [Kaggle competition](https://www.kaggle.com/c/predict-closed-questions-on-stack-overflow). "
     ]
    },
    {
     "cell_type": "code",
     "collapsed": true,
     "input": [
      "sf = graphlab.SFrame(\"stack_overflow_sframe\")"
     ],
     "language": "python",
     "metadata": {},
     "outputs": [
      {
       "output_type": "stream",
       "stream": "stderr",
       "text": [
        "[INFO] Start server at: ipc:///tmp/graphlab_server-10338 - Server binary: /home/brian/.virtualenvs/graph-demo/lib/python2.7/site-packages/graphlab/unity_server - Server log: /tmp/graphlab_server_1406015632.log\n"
       ]
      },
      {
       "output_type": "stream",
       "stream": "stderr",
       "text": [
        "[INFO] GraphLab Server Version: 0.9.0\n"
       ]
      }
     ],
     "prompt_number": 2
    },
    {
     "cell_type": "markdown",
     "metadata": {},
     "source": [
      "Visually explore the above data using GraphLab Canvas."
     ]
    },
    {
     "cell_type": "code",
     "collapsed": true,
     "input": [
      "sf.show()"
     ],
     "language": "python",
     "metadata": {},
     "outputs": [],
     "prompt_number": 3
    },
    {
     "cell_type": "heading",
     "level": 2,
     "metadata": {},
     "source": [
      "Recommendation systems"
     ]
    },
    {
     "cell_type": "markdown",
     "metadata": {},
     "source": [
      "In this section we will make a model that can be used to recommend new tags to users."
     ]
    },
    {
     "cell_type": "markdown",
     "metadata": {},
     "source": [
      "Create a new column called `Tags` where each element is a list of all the tags used for that question. (Hint: Check out [sf.pack_columns](http://graphlab.com/products/create/docs/generated/graphlab.SFrame.html).)"
     ]
    },
    {
     "cell_type": "code",
     "collapsed": true,
     "input": [
      "sf = sf.pack_columns(column_prefix='Tag', new_column_name='Tags')"
     ],
     "language": "python",
     "metadata": {},
     "outputs": [],
     "prompt_number": 4
    },
    {
     "cell_type": "markdown",
     "metadata": {},
     "source": [
      "Make your SFrame only contain the `OwnerUserId` column and the `Tags` column you created in the previous step."
     ]
    },
    {
     "cell_type": "code",
     "collapsed": true,
     "input": [
      "sf = sf[['OwnerUserId', 'Tags']]"
     ],
     "language": "python",
     "metadata": {},
     "outputs": [],
     "prompt_number": 5
    },
    {
     "cell_type": "markdown",
     "metadata": {},
     "source": [
      "Use the following Python function to modify the `Tags` column to not have any empty strings in the list."
     ]
    },
    {
     "cell_type": "code",
     "collapsed": false,
     "input": [
      "def remove_empty(tags):\n",
      "    return [tag for tag in tags if tag != '']"
     ],
     "language": "python",
     "metadata": {},
     "outputs": [],
     "prompt_number": 6
    },
    {
     "cell_type": "code",
     "collapsed": true,
     "input": [
      "sf['Tags'] = sf['Tags'].apply(remove_empty)"
     ],
     "language": "python",
     "metadata": {},
     "outputs": [],
     "prompt_number": 7
    },
    {
     "cell_type": "markdown",
     "metadata": {},
     "source": [
      "Create a new SFrame called `user_tag` that has a row for every (user, tag) pair. (Hint: See [sf.stack](http://graphlab.com/products/create/docs/generated/graphlab.SFrame.stack.html#graphlab.SFrame.stack).)"
     ]
    },
    {
     "cell_type": "code",
     "collapsed": true,
     "input": [
      "user_tag = sf.stack(column_name='Tags', new_column_name='Tag')"
     ],
     "language": "python",
     "metadata": {},
     "outputs": [
      {
       "html": [
        "PROGRESS: First Use of Python Lambda: Starting Lambda Workers. This might take a few seconds.<br/>"
       ],
       "metadata": {},
       "output_type": "display_data",
       "text": [
        "PROGRESS: First Use of Python Lambda: Starting Lambda Workers. This might take a few seconds."
       ]
      }
     ],
     "prompt_number": 8
    },
    {
     "cell_type": "markdown",
     "metadata": {},
     "source": [
      "Create a new SFrame called `user_tag_count` that has three columns: \n",
      "    \n",
      "    - `OwnerUserId`\n",
      "    - `Tag`\n",
      "    - `Count`\n",
      "    \n",
      "where `Count` contains the number of times the given `Tag` was used by that particular `OwnerUserId`. Hint: See [groupby](http://graphlab.com/products/create/docs/graphlab.data_structures.html#graphlab.aggregate.COUNT)."
     ]
    },
    {
     "cell_type": "code",
     "collapsed": true,
     "input": [
      "user_tag_count = user_tag.groupby(['OwnerUserId', 'Tag'], graphlab.aggregate.COUNT)"
     ],
     "language": "python",
     "metadata": {},
     "outputs": [],
     "prompt_number": 9
    },
    {
     "cell_type": "markdown",
     "metadata": {},
     "source": [
      "Visually explore this summarized version of your data set with GraphLab Canvas."
     ]
    },
    {
     "cell_type": "code",
     "collapsed": true,
     "input": [
      "user_tag_count.show()"
     ],
     "language": "python",
     "metadata": {},
     "outputs": [],
     "prompt_number": 15
    },
    {
     "cell_type": "heading",
     "level": 3,
     "metadata": {},
     "source": [
      "Creating a Model"
     ]
    },
    {
     "cell_type": "markdown",
     "metadata": {},
     "source": [
      "Use `graphlab.recommender.create()` to create a model that can be used to recommend tags to each user."
     ]
    },
    {
     "cell_type": "code",
     "collapsed": true,
     "input": [
      "m = graphlab.recommender.create(user_tag_count, user_column='OwnerUserId', item_column='Tag')"
     ],
     "language": "python",
     "metadata": {},
     "outputs": [
      {
       "html": [
        "PROGRESS: Recsys training: model = item_similarity<br/>"
       ],
       "metadata": {},
       "output_type": "display_data",
       "text": [
        "PROGRESS: Recsys training: model = item_similarity"
       ]
      },
      {
       "html": [
        "PROGRESS: Training Schema = [ (OwnerUserId:categorical) (Tag:categorical) ]<br/>"
       ],
       "metadata": {},
       "output_type": "display_data",
       "text": [
        "PROGRESS: Training Schema = [ (OwnerUserId:categorical) (Tag:categorical) ]"
       ]
      },
      {
       "html": [
        "PROGRESS: Preparing data set.<br/>"
       ],
       "metadata": {},
       "output_type": "display_data",
       "text": [
        "PROGRESS: Preparing data set."
       ]
      },
      {
       "html": [
        "PROGRESS:     Training on 6352858 training observations.<br/>"
       ],
       "metadata": {},
       "output_type": "display_data",
       "text": [
        "PROGRESS:     Training on 6352858 training observations."
       ]
      },
      {
       "html": [
        "PROGRESS:    Observations   Seconds<br/>"
       ],
       "metadata": {},
       "output_type": "display_data",
       "text": [
        "PROGRESS:    Observations   Seconds"
       ]
      },
      {
       "html": [
        "PROGRESS:         1000000   8.25442<br/>"
       ],
       "metadata": {},
       "output_type": "display_data",
       "text": [
        "PROGRESS:         1000000   8.25442"
       ]
      },
      {
       "html": [
        "PROGRESS:         2000000   16.5647<br/>"
       ],
       "metadata": {},
       "output_type": "display_data",
       "text": [
        "PROGRESS:         2000000   16.5647"
       ]
      },
      {
       "html": [
        "PROGRESS:         3000000   26.7822<br/>"
       ],
       "metadata": {},
       "output_type": "display_data",
       "text": [
        "PROGRESS:         3000000   26.7822"
       ]
      }
     ],
     "prompt_number": 11
    },
    {
     "cell_type": "markdown",
     "metadata": {},
     "source": [
      "Print a summary of the model by simply entering the name of the object."
     ]
    },
    {
     "cell_type": "code",
     "collapsed": false,
     "input": [
      "m"
     ],
     "language": "python",
     "metadata": {},
     "outputs": [
      {
       "html": [
        "PROGRESS:         4000000   38.2043<br/>"
       ],
       "metadata": {},
       "output_type": "display_data",
       "text": [
        "PROGRESS:         4000000   38.2043"
       ]
      },
      {
       "html": [
        "PROGRESS:         5000000    45.029<br/>"
       ],
       "metadata": {},
       "output_type": "display_data",
       "text": [
        "PROGRESS:         5000000    45.029"
       ]
      },
      {
       "html": [
        "PROGRESS:         6000000   56.9022<br/>"
       ],
       "metadata": {},
       "output_type": "display_data",
       "text": [
        "PROGRESS:         6000000   56.9022"
       ]
      },
      {
       "html": [
        "PROGRESS:         6352858   60.9851<br/>"
       ],
       "metadata": {},
       "output_type": "display_data",
       "text": [
        "PROGRESS:         6352858   60.9851"
       ]
      },
      {
       "html": [
        "PROGRESS: Computing similar items for 44149 items using 8 partitions:<br/>"
       ],
       "metadata": {},
       "output_type": "display_data",
       "text": [
        "PROGRESS: Computing similar items for 44149 items using 8 partitions:"
       ]
      },
      {
       "html": [
        "PROGRESS:  Partition     Items   Seconds<br/>"
       ],
       "metadata": {},
       "output_type": "display_data",
       "text": [
        "PROGRESS:  Partition     Items   Seconds"
       ]
      },
      {
       "html": [
        "PROGRESS:          0      5523   61.4702<br/>"
       ],
       "metadata": {},
       "output_type": "display_data",
       "text": [
        "PROGRESS:          0      5523   61.4702"
       ]
      },
      {
       "html": [
        "PROGRESS:          1     11037   61.9834<br/>"
       ],
       "metadata": {},
       "output_type": "display_data",
       "text": [
        "PROGRESS:          1     11037   61.9834"
       ]
      },
      {
       "html": [
        "PROGRESS:          2     16556   62.5108<br/>"
       ],
       "metadata": {},
       "output_type": "display_data",
       "text": [
        "PROGRESS:          2     16556   62.5108"
       ]
      },
      {
       "html": [
        "PROGRESS:          3     22074   63.0262<br/>"
       ],
       "metadata": {},
       "output_type": "display_data",
       "text": [
        "PROGRESS:          3     22074   63.0262"
       ]
      },
      {
       "html": [
        "PROGRESS:          4     27592   63.5484<br/>"
       ],
       "metadata": {},
       "output_type": "display_data",
       "text": [
        "PROGRESS:          4     27592   63.5484"
       ]
      },
      {
       "html": [
        "PROGRESS:          5     33111   64.0512<br/>"
       ],
       "metadata": {},
       "output_type": "display_data",
       "text": [
        "PROGRESS:          5     33111   64.0512"
       ]
      },
      {
       "html": [
        "PROGRESS:          6     38632   64.6479<br/>"
       ],
       "metadata": {},
       "output_type": "display_data",
       "text": [
        "PROGRESS:          6     38632   64.6479"
       ]
      },
      {
       "html": [
        "PROGRESS:          7     44149   65.1393<br/>"
       ],
       "metadata": {},
       "output_type": "display_data",
       "text": [
        "PROGRESS:          7     44149   65.1393"
       ]
      },
      {
       "html": [
        "PROGRESS: Finished getting similar items for 44149 items in 65.1396s.<br/>"
       ],
       "metadata": {},
       "output_type": "display_data",
       "text": [
        "PROGRESS: Finished getting similar items for 44149 items in 65.1396s."
       ]
      },
      {
       "html": [
        "PROGRESS: Finished training in 78.2056s<br/>"
       ],
       "metadata": {},
       "output_type": "display_data",
       "text": [
        "PROGRESS: Finished training in 78.2056s"
       ]
      },
      {
       "metadata": {},
       "output_type": "pyout",
       "prompt_number": 12,
       "text": [
        "ItemSimilarityModel\n",
        "\n",
        "Schema\n",
        "  user column:   OwnerUserId\n",
        "  item column:   Tag\n",
        "\n",
        "Statistics\n",
        "  Training set:         6352858 obs      656102 users       44149 items\n",
        "\n",
        "Training summary\n",
        "  training time:       87.468387s\n",
        "\n",
        "Settings\n",
        "  only top k:            100                           \n",
        "  similarity type:       jaccard                       \n",
        "  threshold:             0.001                         \n",
        "  training method:       auto                          "
       ]
      }
     ],
     "prompt_number": 12
    },
    {
     "cell_type": "markdown",
     "metadata": {},
     "source": [
      "Get all unique users from the first 10000 observations and save them as a variable called `users`."
     ]
    },
    {
     "cell_type": "code",
     "collapsed": false,
     "input": [
      "users = user_tag_count.head(10000)['OwnerUserId'].unique()"
     ],
     "language": "python",
     "metadata": {},
     "outputs": [],
     "prompt_number": 16
    },
    {
     "cell_type": "markdown",
     "metadata": {},
     "source": [
      "Get 20 recommendations for each user in your list of users. Save these as a new SFrame called `recs`."
     ]
    },
    {
     "cell_type": "code",
     "collapsed": true,
     "input": [
      "recs = m.recommend(users, k=20)"
     ],
     "language": "python",
     "metadata": {},
     "outputs": [
      {
       "html": [
        "PROGRESS: recommendations finished on 1000/9656 users. users per second: 535.453<br/>"
       ],
       "metadata": {},
       "output_type": "display_data",
       "text": [
        "PROGRESS: recommendations finished on 1000/9656 users. users per second: 535.453"
       ]
      },
      {
       "html": [
        "PROGRESS: recommendations finished on 2000/9656 users. users per second: 555.568<br/>"
       ],
       "metadata": {},
       "output_type": "display_data",
       "text": [
        "PROGRESS: recommendations finished on 2000/9656 users. users per second: 555.568"
       ]
      },
      {
       "html": [
        "PROGRESS: recommendations finished on 3000/9656 users. users per second: 548.426<br/>"
       ],
       "metadata": {},
       "output_type": "display_data",
       "text": [
        "PROGRESS: recommendations finished on 3000/9656 users. users per second: 548.426"
       ]
      },
      {
       "html": [
        "PROGRESS: recommendations finished on 4000/9656 users. users per second: 549.559<br/>"
       ],
       "metadata": {},
       "output_type": "display_data",
       "text": [
        "PROGRESS: recommendations finished on 4000/9656 users. users per second: 549.559"
       ]
      },
      {
       "html": [
        "PROGRESS: recommendations finished on 5000/9656 users. users per second: 552.756<br/>"
       ],
       "metadata": {},
       "output_type": "display_data",
       "text": [
        "PROGRESS: recommendations finished on 5000/9656 users. users per second: 552.756"
       ]
      },
      {
       "html": [
        "PROGRESS: recommendations finished on 6000/9656 users. users per second: 553.668<br/>"
       ],
       "metadata": {},
       "output_type": "display_data",
       "text": [
        "PROGRESS: recommendations finished on 6000/9656 users. users per second: 553.668"
       ]
      },
      {
       "html": [
        "PROGRESS: recommendations finished on 7000/9656 users. users per second: 552.889<br/>"
       ],
       "metadata": {},
       "output_type": "display_data",
       "text": [
        "PROGRESS: recommendations finished on 7000/9656 users. users per second: 552.889"
       ]
      },
      {
       "html": [
        "PROGRESS: recommendations finished on 8000/9656 users. users per second: 551.329<br/>"
       ],
       "metadata": {},
       "output_type": "display_data",
       "text": [
        "PROGRESS: recommendations finished on 8000/9656 users. users per second: 551.329"
       ]
      },
      {
       "html": [
        "PROGRESS: recommendations finished on 9000/9656 users. users per second: 549.78<br/>"
       ],
       "metadata": {},
       "output_type": "display_data",
       "text": [
        "PROGRESS: recommendations finished on 9000/9656 users. users per second: 549.78"
       ]
      }
     ],
     "prompt_number": 17
    },
    {
     "cell_type": "markdown",
     "metadata": {},
     "source": [
      "When people use recommendation systems for online commerce, it's often useful to be able to recommending products from a single category of items, e.g. recommending shoes to somebody who typically buys shirts. \n",
      "\n",
      "To illustrate how this can be done with GraphLab Create, suppose we have a Javascript user who is trying to learn Python. Below we will take just the Javascript users and see what Python tags to recommend them. "
     ]
    },
    {
     "cell_type": "markdown",
     "metadata": {},
     "source": [
      "Create a variable called `javascript_users` that contains all unique users who have used the `javascript` tag."
     ]
    },
    {
     "cell_type": "code",
     "collapsed": false,
     "input": [
      "javascript_users = user_tag_count['OwnerUserId'][user_tag_count['Tag'] == 'javascript'].unique()"
     ],
     "language": "python",
     "metadata": {},
     "outputs": [],
     "prompt_number": 18
    },
    {
     "cell_type": "markdown",
     "metadata": {},
     "source": [
      "Use the model you created above to find the 20 most similar items to the tag \"python\". Create a variable called `python_items` containing just these similar items."
     ]
    },
    {
     "cell_type": "code",
     "collapsed": false,
     "input": [
      "python_items = m.get_similar_items(['python'], k=20)\n",
      "python_items = python_items['similar_item']"
     ],
     "language": "python",
     "metadata": {},
     "outputs": [
      {
       "html": [
        "PROGRESS: Getting similar items completed in 0.004254<br/>"
       ],
       "metadata": {},
       "output_type": "display_data",
       "text": [
        "PROGRESS: Getting similar items completed in 0.004254"
       ]
      }
     ],
     "prompt_number": 19
    },
    {
     "cell_type": "markdown",
     "metadata": {},
     "source": [
      "For each user in `javascript_users`, make 5 recommendations among the items in `python_items`."
     ]
    },
    {
     "cell_type": "code",
     "collapsed": false,
     "input": [
      "python_recs = m.recommend(users=javascript_users, items=python_items, k=5)"
     ],
     "language": "python",
     "metadata": {},
     "outputs": [
      {
       "html": [
        "PROGRESS: recommendations finished on 1000/92719 users. users per second: 1093.22<br/>"
       ],
       "metadata": {},
       "output_type": "display_data",
       "text": [
        "PROGRESS: recommendations finished on 1000/92719 users. users per second: 1093.22"
       ]
      },
      {
       "html": [
        "PROGRESS: recommendations finished on 2000/92719 users. users per second: 1020.06<br/>"
       ],
       "metadata": {},
       "output_type": "display_data",
       "text": [
        "PROGRESS: recommendations finished on 2000/92719 users. users per second: 1020.06"
       ]
      },
      {
       "html": [
        "PROGRESS: recommendations finished on 3000/92719 users. users per second: 1035.55<br/>"
       ],
       "metadata": {},
       "output_type": "display_data",
       "text": [
        "PROGRESS: recommendations finished on 3000/92719 users. users per second: 1035.55"
       ]
      },
      {
       "html": [
        "PROGRESS: recommendations finished on 4000/92719 users. users per second: 1031.81<br/>"
       ],
       "metadata": {},
       "output_type": "display_data",
       "text": [
        "PROGRESS: recommendations finished on 4000/92719 users. users per second: 1031.81"
       ]
      },
      {
       "html": [
        "PROGRESS: recommendations finished on 5000/92719 users. users per second: 1023.89<br/>"
       ],
       "metadata": {},
       "output_type": "display_data",
       "text": [
        "PROGRESS: recommendations finished on 5000/92719 users. users per second: 1023.89"
       ]
      },
      {
       "html": [
        "PROGRESS: recommendations finished on 6000/92719 users. users per second: 1011.46<br/>"
       ],
       "metadata": {},
       "output_type": "display_data",
       "text": [
        "PROGRESS: recommendations finished on 6000/92719 users. users per second: 1011.46"
       ]
      },
      {
       "html": [
        "PROGRESS: recommendations finished on 7000/92719 users. users per second: 1013.4<br/>"
       ],
       "metadata": {},
       "output_type": "display_data",
       "text": [
        "PROGRESS: recommendations finished on 7000/92719 users. users per second: 1013.4"
       ]
      },
      {
       "html": [
        "PROGRESS: recommendations finished on 8000/92719 users. users per second: 1018.09<br/>"
       ],
       "metadata": {},
       "output_type": "display_data",
       "text": [
        "PROGRESS: recommendations finished on 8000/92719 users. users per second: 1018.09"
       ]
      },
      {
       "html": [
        "PROGRESS: recommendations finished on 9000/92719 users. users per second: 1018.5<br/>"
       ],
       "metadata": {},
       "output_type": "display_data",
       "text": [
        "PROGRESS: recommendations finished on 9000/92719 users. users per second: 1018.5"
       ]
      },
      {
       "html": [
        "PROGRESS: recommendations finished on 10000/92719 users. users per second: 1004.05<br/>"
       ],
       "metadata": {},
       "output_type": "display_data",
       "text": [
        "PROGRESS: recommendations finished on 10000/92719 users. users per second: 1004.05"
       ]
      },
      {
       "html": [
        "PROGRESS: recommendations finished on 11000/92719 users. users per second: 1005.46<br/>"
       ],
       "metadata": {},
       "output_type": "display_data",
       "text": [
        "PROGRESS: recommendations finished on 11000/92719 users. users per second: 1005.46"
       ]
      },
      {
       "html": [
        "PROGRESS: recommendations finished on 12000/92719 users. users per second: 1011.11<br/>"
       ],
       "metadata": {},
       "output_type": "display_data",
       "text": [
        "PROGRESS: recommendations finished on 12000/92719 users. users per second: 1011.11"
       ]
      },
      {
       "html": [
        "PROGRESS: recommendations finished on 13000/92719 users. users per second: 1014.71<br/>"
       ],
       "metadata": {},
       "output_type": "display_data",
       "text": [
        "PROGRESS: recommendations finished on 13000/92719 users. users per second: 1014.71"
       ]
      },
      {
       "html": [
        "PROGRESS: recommendations finished on 14000/92719 users. users per second: 1017.6<br/>"
       ],
       "metadata": {},
       "output_type": "display_data",
       "text": [
        "PROGRESS: recommendations finished on 14000/92719 users. users per second: 1017.6"
       ]
      },
      {
       "html": [
        "PROGRESS: recommendations finished on 15000/92719 users. users per second: 1021.79<br/>"
       ],
       "metadata": {},
       "output_type": "display_data",
       "text": [
        "PROGRESS: recommendations finished on 15000/92719 users. users per second: 1021.79"
       ]
      },
      {
       "html": [
        "PROGRESS: recommendations finished on 16000/92719 users. users per second: 1022.87<br/>"
       ],
       "metadata": {},
       "output_type": "display_data",
       "text": [
        "PROGRESS: recommendations finished on 16000/92719 users. users per second: 1022.87"
       ]
      },
      {
       "html": [
        "PROGRESS: recommendations finished on 17000/92719 users. users per second: 1025.5<br/>"
       ],
       "metadata": {},
       "output_type": "display_data",
       "text": [
        "PROGRESS: recommendations finished on 17000/92719 users. users per second: 1025.5"
       ]
      },
      {
       "html": [
        "PROGRESS: recommendations finished on 18000/92719 users. users per second: 1028.95<br/>"
       ],
       "metadata": {},
       "output_type": "display_data",
       "text": [
        "PROGRESS: recommendations finished on 18000/92719 users. users per second: 1028.95"
       ]
      },
      {
       "html": [
        "PROGRESS: recommendations finished on 19000/92719 users. users per second: 1031.59<br/>"
       ],
       "metadata": {},
       "output_type": "display_data",
       "text": [
        "PROGRESS: recommendations finished on 19000/92719 users. users per second: 1031.59"
       ]
      },
      {
       "html": [
        "PROGRESS: recommendations finished on 20000/92719 users. users per second: 1032.97<br/>"
       ],
       "metadata": {},
       "output_type": "display_data",
       "text": [
        "PROGRESS: recommendations finished on 20000/92719 users. users per second: 1032.97"
       ]
      },
      {
       "html": [
        "PROGRESS: recommendations finished on 21000/92719 users. users per second: 1033.43<br/>"
       ],
       "metadata": {},
       "output_type": "display_data",
       "text": [
        "PROGRESS: recommendations finished on 21000/92719 users. users per second: 1033.43"
       ]
      },
      {
       "html": [
        "PROGRESS: recommendations finished on 22000/92719 users. users per second: 1033.06<br/>"
       ],
       "metadata": {},
       "output_type": "display_data",
       "text": [
        "PROGRESS: recommendations finished on 22000/92719 users. users per second: 1033.06"
       ]
      },
      {
       "html": [
        "PROGRESS: recommendations finished on 23000/92719 users. users per second: 1029.36<br/>"
       ],
       "metadata": {},
       "output_type": "display_data",
       "text": [
        "PROGRESS: recommendations finished on 23000/92719 users. users per second: 1029.36"
       ]
      },
      {
       "html": [
        "PROGRESS: recommendations finished on 24000/92719 users. users per second: 1030.98<br/>"
       ],
       "metadata": {},
       "output_type": "display_data",
       "text": [
        "PROGRESS: recommendations finished on 24000/92719 users. users per second: 1030.98"
       ]
      },
      {
       "html": [
        "PROGRESS: recommendations finished on 25000/92719 users. users per second: 1031.58<br/>"
       ],
       "metadata": {},
       "output_type": "display_data",
       "text": [
        "PROGRESS: recommendations finished on 25000/92719 users. users per second: 1031.58"
       ]
      },
      {
       "html": [
        "PROGRESS: recommendations finished on 26000/92719 users. users per second: 1031.48<br/>"
       ],
       "metadata": {},
       "output_type": "display_data",
       "text": [
        "PROGRESS: recommendations finished on 26000/92719 users. users per second: 1031.48"
       ]
      },
      {
       "html": [
        "PROGRESS: recommendations finished on 27000/92719 users. users per second: 1032.01<br/>"
       ],
       "metadata": {},
       "output_type": "display_data",
       "text": [
        "PROGRESS: recommendations finished on 27000/92719 users. users per second: 1032.01"
       ]
      },
      {
       "html": [
        "PROGRESS: recommendations finished on 28000/92719 users. users per second: 1032.89<br/>"
       ],
       "metadata": {},
       "output_type": "display_data",
       "text": [
        "PROGRESS: recommendations finished on 28000/92719 users. users per second: 1032.89"
       ]
      },
      {
       "html": [
        "PROGRESS: recommendations finished on 29000/92719 users. users per second: 1034.09<br/>"
       ],
       "metadata": {},
       "output_type": "display_data",
       "text": [
        "PROGRESS: recommendations finished on 29000/92719 users. users per second: 1034.09"
       ]
      },
      {
       "html": [
        "PROGRESS: recommendations finished on 30000/92719 users. users per second: 1034.43<br/>"
       ],
       "metadata": {},
       "output_type": "display_data",
       "text": [
        "PROGRESS: recommendations finished on 30000/92719 users. users per second: 1034.43"
       ]
      },
      {
       "html": [
        "PROGRESS: recommendations finished on 31000/92719 users. users per second: 1033.92<br/>"
       ],
       "metadata": {},
       "output_type": "display_data",
       "text": [
        "PROGRESS: recommendations finished on 31000/92719 users. users per second: 1033.92"
       ]
      },
      {
       "html": [
        "PROGRESS: recommendations finished on 32000/92719 users. users per second: 1034.67<br/>"
       ],
       "metadata": {},
       "output_type": "display_data",
       "text": [
        "PROGRESS: recommendations finished on 32000/92719 users. users per second: 1034.67"
       ]
      },
      {
       "html": [
        "PROGRESS: recommendations finished on 33000/92719 users. users per second: 1036.1<br/>"
       ],
       "metadata": {},
       "output_type": "display_data",
       "text": [
        "PROGRESS: recommendations finished on 33000/92719 users. users per second: 1036.1"
       ]
      },
      {
       "html": [
        "PROGRESS: recommendations finished on 34000/92719 users. users per second: 1036.43<br/>"
       ],
       "metadata": {},
       "output_type": "display_data",
       "text": [
        "PROGRESS: recommendations finished on 34000/92719 users. users per second: 1036.43"
       ]
      },
      {
       "html": [
        "PROGRESS: recommendations finished on 35000/92719 users. users per second: 1037.08<br/>"
       ],
       "metadata": {},
       "output_type": "display_data",
       "text": [
        "PROGRESS: recommendations finished on 35000/92719 users. users per second: 1037.08"
       ]
      },
      {
       "html": [
        "PROGRESS: recommendations finished on 36000/92719 users. users per second: 1036.27<br/>"
       ],
       "metadata": {},
       "output_type": "display_data",
       "text": [
        "PROGRESS: recommendations finished on 36000/92719 users. users per second: 1036.27"
       ]
      },
      {
       "html": [
        "PROGRESS: recommendations finished on 37000/92719 users. users per second: 1033.52<br/>"
       ],
       "metadata": {},
       "output_type": "display_data",
       "text": [
        "PROGRESS: recommendations finished on 37000/92719 users. users per second: 1033.52"
       ]
      },
      {
       "html": [
        "PROGRESS: recommendations finished on 38000/92719 users. users per second: 1027.69<br/>"
       ],
       "metadata": {},
       "output_type": "display_data",
       "text": [
        "PROGRESS: recommendations finished on 38000/92719 users. users per second: 1027.69"
       ]
      },
      {
       "html": [
        "PROGRESS: recommendations finished on 39000/92719 users. users per second: 1027.89<br/>"
       ],
       "metadata": {},
       "output_type": "display_data",
       "text": [
        "PROGRESS: recommendations finished on 39000/92719 users. users per second: 1027.89"
       ]
      },
      {
       "html": [
        "PROGRESS: recommendations finished on 40000/92719 users. users per second: 1028.18<br/>"
       ],
       "metadata": {},
       "output_type": "display_data",
       "text": [
        "PROGRESS: recommendations finished on 40000/92719 users. users per second: 1028.18"
       ]
      },
      {
       "html": [
        "PROGRESS: recommendations finished on 41000/92719 users. users per second: 1028.69<br/>"
       ],
       "metadata": {},
       "output_type": "display_data",
       "text": [
        "PROGRESS: recommendations finished on 41000/92719 users. users per second: 1028.69"
       ]
      },
      {
       "html": [
        "PROGRESS: recommendations finished on 42000/92719 users. users per second: 1029.78<br/>"
       ],
       "metadata": {},
       "output_type": "display_data",
       "text": [
        "PROGRESS: recommendations finished on 42000/92719 users. users per second: 1029.78"
       ]
      },
      {
       "html": [
        "PROGRESS: recommendations finished on 43000/92719 users. users per second: 1029.86<br/>"
       ],
       "metadata": {},
       "output_type": "display_data",
       "text": [
        "PROGRESS: recommendations finished on 43000/92719 users. users per second: 1029.86"
       ]
      },
      {
       "html": [
        "PROGRESS: recommendations finished on 44000/92719 users. users per second: 1029.95<br/>"
       ],
       "metadata": {},
       "output_type": "display_data",
       "text": [
        "PROGRESS: recommendations finished on 44000/92719 users. users per second: 1029.95"
       ]
      },
      {
       "html": [
        "PROGRESS: recommendations finished on 45000/92719 users. users per second: 1030.45<br/>"
       ],
       "metadata": {},
       "output_type": "display_data",
       "text": [
        "PROGRESS: recommendations finished on 45000/92719 users. users per second: 1030.45"
       ]
      },
      {
       "html": [
        "PROGRESS: recommendations finished on 46000/92719 users. users per second: 1031.38<br/>"
       ],
       "metadata": {},
       "output_type": "display_data",
       "text": [
        "PROGRESS: recommendations finished on 46000/92719 users. users per second: 1031.38"
       ]
      },
      {
       "html": [
        "PROGRESS: recommendations finished on 47000/92719 users. users per second: 1032.04<br/>"
       ],
       "metadata": {},
       "output_type": "display_data",
       "text": [
        "PROGRESS: recommendations finished on 47000/92719 users. users per second: 1032.04"
       ]
      },
      {
       "html": [
        "PROGRESS: recommendations finished on 48000/92719 users. users per second: 1032.09<br/>"
       ],
       "metadata": {},
       "output_type": "display_data",
       "text": [
        "PROGRESS: recommendations finished on 48000/92719 users. users per second: 1032.09"
       ]
      },
      {
       "html": [
        "PROGRESS: recommendations finished on 49000/92719 users. users per second: 1032.12<br/>"
       ],
       "metadata": {},
       "output_type": "display_data",
       "text": [
        "PROGRESS: recommendations finished on 49000/92719 users. users per second: 1032.12"
       ]
      },
      {
       "html": [
        "PROGRESS: recommendations finished on 50000/92719 users. users per second: 1032.91<br/>"
       ],
       "metadata": {},
       "output_type": "display_data",
       "text": [
        "PROGRESS: recommendations finished on 50000/92719 users. users per second: 1032.91"
       ]
      },
      {
       "html": [
        "PROGRESS: recommendations finished on 51000/92719 users. users per second: 1032.7<br/>"
       ],
       "metadata": {},
       "output_type": "display_data",
       "text": [
        "PROGRESS: recommendations finished on 51000/92719 users. users per second: 1032.7"
       ]
      },
      {
       "html": [
        "PROGRESS: recommendations finished on 52000/92719 users. users per second: 1033.04<br/>"
       ],
       "metadata": {},
       "output_type": "display_data",
       "text": [
        "PROGRESS: recommendations finished on 52000/92719 users. users per second: 1033.04"
       ]
      },
      {
       "html": [
        "PROGRESS: recommendations finished on 53000/92719 users. users per second: 1033.78<br/>"
       ],
       "metadata": {},
       "output_type": "display_data",
       "text": [
        "PROGRESS: recommendations finished on 53000/92719 users. users per second: 1033.78"
       ]
      },
      {
       "html": [
        "PROGRESS: recommendations finished on 54000/92719 users. users per second: 1034.3<br/>"
       ],
       "metadata": {},
       "output_type": "display_data",
       "text": [
        "PROGRESS: recommendations finished on 54000/92719 users. users per second: 1034.3"
       ]
      },
      {
       "html": [
        "PROGRESS: recommendations finished on 55000/92719 users. users per second: 1034.96<br/>"
       ],
       "metadata": {},
       "output_type": "display_data",
       "text": [
        "PROGRESS: recommendations finished on 55000/92719 users. users per second: 1034.96"
       ]
      },
      {
       "html": [
        "PROGRESS: recommendations finished on 56000/92719 users. users per second: 1035.34<br/>"
       ],
       "metadata": {},
       "output_type": "display_data",
       "text": [
        "PROGRESS: recommendations finished on 56000/92719 users. users per second: 1035.34"
       ]
      },
      {
       "html": [
        "PROGRESS: recommendations finished on 57000/92719 users. users per second: 1035.59<br/>"
       ],
       "metadata": {},
       "output_type": "display_data",
       "text": [
        "PROGRESS: recommendations finished on 57000/92719 users. users per second: 1035.59"
       ]
      },
      {
       "html": [
        "PROGRESS: recommendations finished on 58000/92719 users. users per second: 1035.67<br/>"
       ],
       "metadata": {},
       "output_type": "display_data",
       "text": [
        "PROGRESS: recommendations finished on 58000/92719 users. users per second: 1035.67"
       ]
      },
      {
       "html": [
        "PROGRESS: recommendations finished on 59000/92719 users. users per second: 1035.38<br/>"
       ],
       "metadata": {},
       "output_type": "display_data",
       "text": [
        "PROGRESS: recommendations finished on 59000/92719 users. users per second: 1035.38"
       ]
      },
      {
       "html": [
        "PROGRESS: recommendations finished on 60000/92719 users. users per second: 1033.02<br/>"
       ],
       "metadata": {},
       "output_type": "display_data",
       "text": [
        "PROGRESS: recommendations finished on 60000/92719 users. users per second: 1033.02"
       ]
      },
      {
       "html": [
        "PROGRESS: recommendations finished on 61000/92719 users. users per second: 1030.3<br/>"
       ],
       "metadata": {},
       "output_type": "display_data",
       "text": [
        "PROGRESS: recommendations finished on 61000/92719 users. users per second: 1030.3"
       ]
      },
      {
       "html": [
        "PROGRESS: recommendations finished on 62000/92719 users. users per second: 1030.19<br/>"
       ],
       "metadata": {},
       "output_type": "display_data",
       "text": [
        "PROGRESS: recommendations finished on 62000/92719 users. users per second: 1030.19"
       ]
      },
      {
       "html": [
        "PROGRESS: recommendations finished on 63000/92719 users. users per second: 1030.2<br/>"
       ],
       "metadata": {},
       "output_type": "display_data",
       "text": [
        "PROGRESS: recommendations finished on 63000/92719 users. users per second: 1030.2"
       ]
      },
      {
       "html": [
        "PROGRESS: recommendations finished on 64000/92719 users. users per second: 1030.91<br/>"
       ],
       "metadata": {},
       "output_type": "display_data",
       "text": [
        "PROGRESS: recommendations finished on 64000/92719 users. users per second: 1030.91"
       ]
      },
      {
       "html": [
        "PROGRESS: recommendations finished on 65000/92719 users. users per second: 1030.71<br/>"
       ],
       "metadata": {},
       "output_type": "display_data",
       "text": [
        "PROGRESS: recommendations finished on 65000/92719 users. users per second: 1030.71"
       ]
      },
      {
       "html": [
        "PROGRESS: recommendations finished on 66000/92719 users. users per second: 1028.85<br/>"
       ],
       "metadata": {},
       "output_type": "display_data",
       "text": [
        "PROGRESS: recommendations finished on 66000/92719 users. users per second: 1028.85"
       ]
      },
      {
       "html": [
        "PROGRESS: recommendations finished on 67000/92719 users. users per second: 1026.61<br/>"
       ],
       "metadata": {},
       "output_type": "display_data",
       "text": [
        "PROGRESS: recommendations finished on 67000/92719 users. users per second: 1026.61"
       ]
      },
      {
       "html": [
        "PROGRESS: recommendations finished on 68000/92719 users. users per second: 1023.88<br/>"
       ],
       "metadata": {},
       "output_type": "display_data",
       "text": [
        "PROGRESS: recommendations finished on 68000/92719 users. users per second: 1023.88"
       ]
      },
      {
       "html": [
        "PROGRESS: recommendations finished on 69000/92719 users. users per second: 1021.1<br/>"
       ],
       "metadata": {},
       "output_type": "display_data",
       "text": [
        "PROGRESS: recommendations finished on 69000/92719 users. users per second: 1021.1"
       ]
      },
      {
       "html": [
        "PROGRESS: recommendations finished on 70000/92719 users. users per second: 1019.3<br/>"
       ],
       "metadata": {},
       "output_type": "display_data",
       "text": [
        "PROGRESS: recommendations finished on 70000/92719 users. users per second: 1019.3"
       ]
      },
      {
       "html": [
        "PROGRESS: recommendations finished on 71000/92719 users. users per second: 1019.42<br/>"
       ],
       "metadata": {},
       "output_type": "display_data",
       "text": [
        "PROGRESS: recommendations finished on 71000/92719 users. users per second: 1019.42"
       ]
      },
      {
       "html": [
        "PROGRESS: recommendations finished on 72000/92719 users. users per second: 1020.12<br/>"
       ],
       "metadata": {},
       "output_type": "display_data",
       "text": [
        "PROGRESS: recommendations finished on 72000/92719 users. users per second: 1020.12"
       ]
      },
      {
       "html": [
        "PROGRESS: recommendations finished on 73000/92719 users. users per second: 1020.99<br/>"
       ],
       "metadata": {},
       "output_type": "display_data",
       "text": [
        "PROGRESS: recommendations finished on 73000/92719 users. users per second: 1020.99"
       ]
      },
      {
       "html": [
        "PROGRESS: recommendations finished on 74000/92719 users. users per second: 1021.46<br/>"
       ],
       "metadata": {},
       "output_type": "display_data",
       "text": [
        "PROGRESS: recommendations finished on 74000/92719 users. users per second: 1021.46"
       ]
      },
      {
       "html": [
        "PROGRESS: recommendations finished on 75000/92719 users. users per second: 1021.88<br/>"
       ],
       "metadata": {},
       "output_type": "display_data",
       "text": [
        "PROGRESS: recommendations finished on 75000/92719 users. users per second: 1021.88"
       ]
      },
      {
       "html": [
        "PROGRESS: recommendations finished on 76000/92719 users. users per second: 1022.25<br/>"
       ],
       "metadata": {},
       "output_type": "display_data",
       "text": [
        "PROGRESS: recommendations finished on 76000/92719 users. users per second: 1022.25"
       ]
      },
      {
       "html": [
        "PROGRESS: recommendations finished on 77000/92719 users. users per second: 1022.47<br/>"
       ],
       "metadata": {},
       "output_type": "display_data",
       "text": [
        "PROGRESS: recommendations finished on 77000/92719 users. users per second: 1022.47"
       ]
      },
      {
       "html": [
        "PROGRESS: recommendations finished on 78000/92719 users. users per second: 1022.59<br/>"
       ],
       "metadata": {},
       "output_type": "display_data",
       "text": [
        "PROGRESS: recommendations finished on 78000/92719 users. users per second: 1022.59"
       ]
      },
      {
       "html": [
        "PROGRESS: recommendations finished on 79000/92719 users. users per second: 1022.42<br/>"
       ],
       "metadata": {},
       "output_type": "display_data",
       "text": [
        "PROGRESS: recommendations finished on 79000/92719 users. users per second: 1022.42"
       ]
      },
      {
       "html": [
        "PROGRESS: recommendations finished on 80000/92719 users. users per second: 1022.64<br/>"
       ],
       "metadata": {},
       "output_type": "display_data",
       "text": [
        "PROGRESS: recommendations finished on 80000/92719 users. users per second: 1022.64"
       ]
      },
      {
       "html": [
        "PROGRESS: recommendations finished on 81000/92719 users. users per second: 1023.12<br/>"
       ],
       "metadata": {},
       "output_type": "display_data",
       "text": [
        "PROGRESS: recommendations finished on 81000/92719 users. users per second: 1023.12"
       ]
      },
      {
       "html": [
        "PROGRESS: recommendations finished on 82000/92719 users. users per second: 1023.44<br/>"
       ],
       "metadata": {},
       "output_type": "display_data",
       "text": [
        "PROGRESS: recommendations finished on 82000/92719 users. users per second: 1023.44"
       ]
      },
      {
       "html": [
        "PROGRESS: recommendations finished on 83000/92719 users. users per second: 1023.27<br/>"
       ],
       "metadata": {},
       "output_type": "display_data",
       "text": [
        "PROGRESS: recommendations finished on 83000/92719 users. users per second: 1023.27"
       ]
      },
      {
       "html": [
        "PROGRESS: recommendations finished on 84000/92719 users. users per second: 1023.66<br/>"
       ],
       "metadata": {},
       "output_type": "display_data",
       "text": [
        "PROGRESS: recommendations finished on 84000/92719 users. users per second: 1023.66"
       ]
      },
      {
       "html": [
        "PROGRESS: recommendations finished on 85000/92719 users. users per second: 1024.16<br/>"
       ],
       "metadata": {},
       "output_type": "display_data",
       "text": [
        "PROGRESS: recommendations finished on 85000/92719 users. users per second: 1024.16"
       ]
      },
      {
       "html": [
        "PROGRESS: recommendations finished on 86000/92719 users. users per second: 1023.55<br/>"
       ],
       "metadata": {},
       "output_type": "display_data",
       "text": [
        "PROGRESS: recommendations finished on 86000/92719 users. users per second: 1023.55"
       ]
      },
      {
       "html": [
        "PROGRESS: recommendations finished on 87000/92719 users. users per second: 1023.77<br/>"
       ],
       "metadata": {},
       "output_type": "display_data",
       "text": [
        "PROGRESS: recommendations finished on 87000/92719 users. users per second: 1023.77"
       ]
      },
      {
       "html": [
        "PROGRESS: recommendations finished on 88000/92719 users. users per second: 1024.33<br/>"
       ],
       "metadata": {},
       "output_type": "display_data",
       "text": [
        "PROGRESS: recommendations finished on 88000/92719 users. users per second: 1024.33"
       ]
      },
      {
       "html": [
        "PROGRESS: recommendations finished on 89000/92719 users. users per second: 1023.55<br/>"
       ],
       "metadata": {},
       "output_type": "display_data",
       "text": [
        "PROGRESS: recommendations finished on 89000/92719 users. users per second: 1023.55"
       ]
      },
      {
       "html": [
        "PROGRESS: recommendations finished on 90000/92719 users. users per second: 1023.59<br/>"
       ],
       "metadata": {},
       "output_type": "display_data",
       "text": [
        "PROGRESS: recommendations finished on 90000/92719 users. users per second: 1023.59"
       ]
      },
      {
       "html": [
        "PROGRESS: recommendations finished on 91000/92719 users. users per second: 1023.78<br/>"
       ],
       "metadata": {},
       "output_type": "display_data",
       "text": [
        "PROGRESS: recommendations finished on 91000/92719 users. users per second: 1023.78"
       ]
      },
      {
       "html": [
        "PROGRESS: recommendations finished on 92000/92719 users. users per second: 1024.04<br/>"
       ],
       "metadata": {},
       "output_type": "display_data",
       "text": [
        "PROGRESS: recommendations finished on 92000/92719 users. users per second: 1024.04"
       ]
      }
     ],
     "prompt_number": 20
    },
    {
     "cell_type": "markdown",
     "metadata": {},
     "source": [
      "Use GraphLab Canvas to find out the 10 most often recommended items."
     ]
    },
    {
     "cell_type": "code",
     "collapsed": false,
     "input": [
      "python_recs.show()  # Then click on the Summary tab and look at the histogram in the second column."
     ],
     "language": "python",
     "metadata": {},
     "outputs": [],
     "prompt_number": 21
    },
    {
     "cell_type": "markdown",
     "metadata": {},
     "source": [
      "Save your model to a file."
     ]
    },
    {
     "cell_type": "code",
     "collapsed": false,
     "input": [
      "m.save('my_model')"
     ],
     "language": "python",
     "metadata": {},
     "outputs": [],
     "prompt_number": 22
    },
    {
     "cell_type": "heading",
     "level": 3,
     "metadata": {},
     "source": [
      "Experimenting with new models"
     ]
    },
    {
     "cell_type": "markdown",
     "metadata": {},
     "source": [
      "Create a train/test split of the `user_tag_count` data from the section above. Hint: Use [random_split_by_user](http://graphlab.com/products/create/docs/generated/graphlab.recommender.random_split_by_user.html#graphlab.recommender.random_split_by_user)."
     ]
    },
    {
     "cell_type": "code",
     "collapsed": false,
     "input": [
      "train, test = graphlab.recommender.util.random_split_by_user(user_tag_count, user_column='OwnerUserId', item_column='Tag')"
     ],
     "language": "python",
     "metadata": {},
     "outputs": [],
     "prompt_number": 23
    },
    {
     "cell_type": "markdown",
     "metadata": {},
     "source": [
      "Create a recommender model like you did above that only uses the training set."
     ]
    },
    {
     "cell_type": "code",
     "collapsed": false,
     "input": [
      "m1 = graphlab.recommender.create(train, user_column='OwnerUserId', item_column='Tag')"
     ],
     "language": "python",
     "metadata": {},
     "outputs": [
      {
       "html": [
        "PROGRESS: Recsys training: model = item_similarity<br/>"
       ],
       "metadata": {},
       "output_type": "display_data",
       "text": [
        "PROGRESS: Recsys training: model = item_similarity"
       ]
      },
      {
       "html": [
        "PROGRESS: Training Schema = [ (OwnerUserId:categorical) (Tag:categorical) ]<br/>"
       ],
       "metadata": {},
       "output_type": "display_data",
       "text": [
        "PROGRESS: Training Schema = [ (OwnerUserId:categorical) (Tag:categorical) ]"
       ]
      },
      {
       "html": [
        "PROGRESS: Preparing data set.<br/>"
       ],
       "metadata": {},
       "output_type": "display_data",
       "text": [
        "PROGRESS: Preparing data set."
       ]
      },
      {
       "html": [
        "PROGRESS:     Training on 5460357 training observations.<br/>"
       ],
       "metadata": {},
       "output_type": "display_data",
       "text": [
        "PROGRESS:     Training on 5460357 training observations."
       ]
      },
      {
       "html": [
        "PROGRESS:     Data loaded in: 7.19168s<br/>"
       ],
       "metadata": {},
       "output_type": "display_data",
       "text": [
        "PROGRESS:     Data loaded in: 7.19168s"
       ]
      },
      {
       "html": [
        "PROGRESS: Processing 5460357 observations:<br/>"
       ],
       "metadata": {},
       "output_type": "display_data",
       "text": [
        "PROGRESS: Processing 5460357 observations:"
       ]
      },
      {
       "html": [
        "PROGRESS:    Observations   Seconds<br/>"
       ],
       "metadata": {},
       "output_type": "display_data",
       "text": [
        "PROGRESS:    Observations   Seconds"
       ]
      },
      {
       "html": [
        "PROGRESS:         1000000   8.82454<br/>"
       ],
       "metadata": {},
       "output_type": "display_data",
       "text": [
        "PROGRESS:         1000000   8.82454"
       ]
      },
      {
       "html": [
        "PROGRESS:         2000000   18.3323<br/>"
       ],
       "metadata": {},
       "output_type": "display_data",
       "text": [
        "PROGRESS:         2000000   18.3323"
       ]
      },
      {
       "html": [
        "PROGRESS:         3000000   30.6025<br/>"
       ],
       "metadata": {},
       "output_type": "display_data",
       "text": [
        "PROGRESS:         3000000   30.6025"
       ]
      },
      {
       "html": [
        "PROGRESS:         4000000   40.2516<br/>"
       ],
       "metadata": {},
       "output_type": "display_data",
       "text": [
        "PROGRESS:         4000000   40.2516"
       ]
      },
      {
       "html": [
        "PROGRESS:         5000000   50.3416<br/>"
       ],
       "metadata": {},
       "output_type": "display_data",
       "text": [
        "PROGRESS:         5000000   50.3416"
       ]
      },
      {
       "html": [
        "PROGRESS:         5460357   57.9251<br/>"
       ],
       "metadata": {},
       "output_type": "display_data",
       "text": [
        "PROGRESS:         5460357   57.9251"
       ]
      },
      {
       "html": [
        "PROGRESS: Computing similar items for 43865 items using 8 partitions:<br/>"
       ],
       "metadata": {},
       "output_type": "display_data",
       "text": [
        "PROGRESS: Computing similar items for 43865 items using 8 partitions:"
       ]
      },
      {
       "html": [
        "PROGRESS:  Partition     Items   Seconds<br/>"
       ],
       "metadata": {},
       "output_type": "display_data",
       "text": [
        "PROGRESS:  Partition     Items   Seconds"
       ]
      },
      {
       "html": [
        "PROGRESS:          0      5489   58.4165<br/>"
       ],
       "metadata": {},
       "output_type": "display_data",
       "text": [
        "PROGRESS:          0      5489   58.4165"
       ]
      },
      {
       "html": [
        "PROGRESS:          1     10971    58.935<br/>"
       ],
       "metadata": {},
       "output_type": "display_data",
       "text": [
        "PROGRESS:          1     10971    58.935"
       ]
      },
      {
       "html": [
        "PROGRESS:          2     16458   59.5934<br/>"
       ],
       "metadata": {},
       "output_type": "display_data",
       "text": [
        "PROGRESS:          2     16458   59.5934"
       ]
      },
      {
       "html": [
        "PROGRESS:          3     21940   60.2976<br/>"
       ],
       "metadata": {},
       "output_type": "display_data",
       "text": [
        "PROGRESS:          3     21940   60.2976"
       ]
      },
      {
       "html": [
        "PROGRESS:          4     27420   60.8456<br/>"
       ],
       "metadata": {},
       "output_type": "display_data",
       "text": [
        "PROGRESS:          4     27420   60.8456"
       ]
      },
      {
       "html": [
        "PROGRESS:          5     32899   61.4138<br/>"
       ],
       "metadata": {},
       "output_type": "display_data",
       "text": [
        "PROGRESS:          5     32899   61.4138"
       ]
      },
      {
       "html": [
        "PROGRESS:          6     38385   61.9276<br/>"
       ],
       "metadata": {},
       "output_type": "display_data",
       "text": [
        "PROGRESS:          6     38385   61.9276"
       ]
      },
      {
       "html": [
        "PROGRESS:          7     43865   62.7573<br/>"
       ],
       "metadata": {},
       "output_type": "display_data",
       "text": [
        "PROGRESS:          7     43865   62.7573"
       ]
      },
      {
       "html": [
        "PROGRESS: Finished getting similar items for 43865 items in 62.7581s.<br/>"
       ],
       "metadata": {},
       "output_type": "display_data",
       "text": [
        "PROGRESS: Finished getting similar items for 43865 items in 62.7581s."
       ]
      },
      {
       "html": [
        "PROGRESS: Finished training in 72.1999s<br/>"
       ],
       "metadata": {},
       "output_type": "display_data",
       "text": [
        "PROGRESS: Finished training in 72.1999s"
       ]
      }
     ],
     "prompt_number": 24
    },
    {
     "cell_type": "markdown",
     "metadata": {},
     "source": [
      "Create a matrix factorization model that is better at ranking by setting `unobserved_rating_regularization` argument to 1."
     ]
    },
    {
     "cell_type": "code",
     "collapsed": false,
     "input": [
      "m2 = graphlab.recommender.create(train, \n",
      "                                 user_column='OwnerUserId', item_column='Tag', target_column='Count',\n",
      "                                 method='matrix_factorization', \n",
      "                                 unobserved_rating_regularization=1)"
     ],
     "language": "python",
     "metadata": {},
     "outputs": [
      {
       "html": [
        "PROGRESS: Recsys training: model = matrix_factorization<br/>"
       ],
       "metadata": {},
       "output_type": "display_data",
       "text": [
        "PROGRESS: Recsys training: model = matrix_factorization"
       ]
      },
      {
       "html": [
        "PROGRESS: Training Schema = [ (OwnerUserId:categorical) (Tag:categorical) : target = Count]<br/>"
       ],
       "metadata": {},
       "output_type": "display_data",
       "text": [
        "PROGRESS: Training Schema = [ (OwnerUserId:categorical) (Tag:categorical) : target = Count]"
       ]
      },
      {
       "html": [
        "PROGRESS: Preparing data set.<br/>"
       ],
       "metadata": {},
       "output_type": "display_data",
       "text": [
        "PROGRESS: Preparing data set."
       ]
      },
      {
       "html": [
        "PROGRESS:     Training on 5460357 training observations.<br/>"
       ],
       "metadata": {},
       "output_type": "display_data",
       "text": [
        "PROGRESS:     Training on 5460357 training observations."
       ]
      },
      {
       "html": [
        "PROGRESS:     Data loaded in: 7.73907s<br/>"
       ],
       "metadata": {},
       "output_type": "display_data",
       "text": [
        "PROGRESS:     Data loaded in: 7.73907s"
       ]
      },
      {
       "html": [
        "PROGRESS: Training Matrix Factorization model for recommendations.<br/>"
       ],
       "metadata": {},
       "output_type": "display_data",
       "text": [
        "PROGRESS: Training Matrix Factorization model for recommendations."
       ]
      },
      {
       "html": [
        "PROGRESS:    Data has 5460357 observations with 305863 users and 43865 items.<br/>"
       ],
       "metadata": {},
       "output_type": "display_data",
       "text": [
        "PROGRESS:    Data has 5460357 observations with 305863 users and 43865 items."
       ]
      },
      {
       "html": [
        "PROGRESS:    L2 regularization on linear coefficients: 0<br/>"
       ],
       "metadata": {},
       "output_type": "display_data",
       "text": [
        "PROGRESS:    L2 regularization on linear coefficients: 0"
       ]
      },
      {
       "html": [
        "PROGRESS:    L2 regularization on matrix factors:      1<br/>"
       ],
       "metadata": {},
       "output_type": "display_data",
       "text": [
        "PROGRESS:    L2 regularization on matrix factors:      1"
       ]
      },
      {
       "html": [
        "PROGRESS:    n_factors:                                8<br/>"
       ],
       "metadata": {},
       "output_type": "display_data",
       "text": [
        "PROGRESS:    n_factors:                                8"
       ]
      },
      {
       "html": [
        "PROGRESS: ---------------------------------------------<br/>"
       ],
       "metadata": {},
       "output_type": "display_data",
       "text": [
        "PROGRESS: ---------------------------------------------"
       ]
      },
      {
       "html": [
        "PROGRESS:           Starting Optimization<br/>"
       ],
       "metadata": {},
       "output_type": "display_data",
       "text": [
        "PROGRESS:           Starting Optimization"
       ]
      },
      {
       "html": [
        "PROGRESS: ---------------------------------------------<br/>"
       ],
       "metadata": {},
       "output_type": "display_data",
       "text": [
        "PROGRESS: ---------------------------------------------"
       ]
      },
      {
       "html": [
        "PROGRESS: Initial objective value: 17.4952<br/>"
       ],
       "metadata": {},
       "output_type": "display_data",
       "text": [
        "PROGRESS: Initial objective value: 17.4952"
       ]
      },
      {
       "html": [
        "PROGRESS: Optimizing model using SGD; tuning step size.<br/>"
       ],
       "metadata": {},
       "output_type": "display_data",
       "text": [
        "PROGRESS: Optimizing model using SGD; tuning step size."
       ]
      },
      {
       "html": [
        "PROGRESS: Using 54603 / 5460357 points for tuning the step size.<br/>"
       ],
       "metadata": {},
       "output_type": "display_data",
       "text": [
        "PROGRESS: Using 54603 / 5460357 points for tuning the step size."
       ]
      },
      {
       "html": [
        "PROGRESS: Trial SGD step size 25 not viable.<br/>"
       ],
       "metadata": {},
       "output_type": "display_data",
       "text": [
        "PROGRESS: Trial SGD step size 25 not viable."
       ]
      },
      {
       "html": [
        "PROGRESS: Trial SGD step size 6.25 not viable.<br/>"
       ],
       "metadata": {},
       "output_type": "display_data",
       "text": [
        "PROGRESS: Trial SGD step size 6.25 not viable."
       ]
      },
      {
       "html": [
        "PROGRESS: Trial SGD step size 1.5625 not viable.<br/>"
       ],
       "metadata": {},
       "output_type": "display_data",
       "text": [
        "PROGRESS: Trial SGD step size 1.5625 not viable."
       ]
      },
      {
       "html": [
        "PROGRESS: Trial SGD step size 0.390625 not viable.<br/>"
       ],
       "metadata": {},
       "output_type": "display_data",
       "text": [
        "PROGRESS: Trial SGD step size 0.390625 not viable."
       ]
      },
      {
       "html": [
        "PROGRESS: Trial SGD step size 0.0976562 not viable.<br/>"
       ],
       "metadata": {},
       "output_type": "display_data",
       "text": [
        "PROGRESS: Trial SGD step size 0.0976562 not viable."
       ]
      },
      {
       "html": [
        "PROGRESS: Trial SGD step size 0.0244141 not viable.<br/>"
       ],
       "metadata": {},
       "output_type": "display_data",
       "text": [
        "PROGRESS: Trial SGD step size 0.0244141 not viable."
       ]
      },
      {
       "html": [
        "PROGRESS: Trial SGD step size 0.00610352 not viable.<br/>"
       ],
       "metadata": {},
       "output_type": "display_data",
       "text": [
        "PROGRESS: Trial SGD step size 0.00610352 not viable."
       ]
      },
      {
       "html": [
        "PROGRESS: Trial SGD step size 0.00152588 gives estimated objective value 15.6309.<br/>"
       ],
       "metadata": {},
       "output_type": "display_data",
       "text": [
        "PROGRESS: Trial SGD step size 0.00152588 gives estimated objective value 15.6309."
       ]
      },
      {
       "html": [
        "PROGRESS: Trial SGD step size 0.00038147 gives estimated objective value 79.4224.<br/>"
       ],
       "metadata": {},
       "output_type": "display_data",
       "text": [
        "PROGRESS: Trial SGD step size 0.00038147 gives estimated objective value 79.4224."
       ]
      },
      {
       "html": [
        "PROGRESS: Setting SGD step size to 0.00152588<br/>"
       ],
       "metadata": {},
       "output_type": "display_data",
       "text": [
        "PROGRESS: Setting SGD step size to 0.00152588"
       ]
      },
      {
       "html": [
        "PROGRESS: Iteration 1: Estimated objective value = 13.1202, Estimated training rmse = 3.62107.<br/>"
       ],
       "metadata": {},
       "output_type": "display_data",
       "text": [
        "PROGRESS: Iteration 1: Estimated objective value = 13.1202, Estimated training rmse = 3.62107."
       ]
      },
      {
       "html": [
        "PROGRESS: Iteration 2: Estimated objective value = 9.75516, Estimated training rmse = 3.12185.<br/>"
       ],
       "metadata": {},
       "output_type": "display_data",
       "text": [
        "PROGRESS: Iteration 2: Estimated objective value = 9.75516, Estimated training rmse = 3.12185."
       ]
      },
      {
       "html": [
        "PROGRESS: Iteration 3: Estimated objective value = 8.00102, Estimated training rmse = 2.82686.<br/>"
       ],
       "metadata": {},
       "output_type": "display_data",
       "text": [
        "PROGRESS: Iteration 3: Estimated objective value = 8.00102, Estimated training rmse = 2.82686."
       ]
      },
      {
       "html": [
        "PROGRESS: Iteration 4: Estimated objective value = 6.54457, Estimated training rmse = 2.55623.<br/>"
       ],
       "metadata": {},
       "output_type": "display_data",
       "text": [
        "PROGRESS: Iteration 4: Estimated objective value = 6.54457, Estimated training rmse = 2.55623."
       ]
      },
      {
       "html": [
        "PROGRESS: Iteration 5: Estimated objective value = 5.64929, Estimated training rmse = 2.37458.<br/>"
       ],
       "metadata": {},
       "output_type": "display_data",
       "text": [
        "PROGRESS: Iteration 5: Estimated objective value = 5.64929, Estimated training rmse = 2.37458."
       ]
      },
      {
       "html": [
        "PROGRESS: Iteration 6: Estimated objective value = 5.13355, Estimated training rmse = 2.26331.<br/>"
       ],
       "metadata": {},
       "output_type": "display_data",
       "text": [
        "PROGRESS: Iteration 6: Estimated objective value = 5.13355, Estimated training rmse = 2.26331."
       ]
      },
      {
       "html": [
        "PROGRESS: Iteration 7: Estimated objective value = 4.78722, Estimated training rmse = 2.18541.<br/>"
       ],
       "metadata": {},
       "output_type": "display_data",
       "text": [
        "PROGRESS: Iteration 7: Estimated objective value = 4.78722, Estimated training rmse = 2.18541."
       ]
      },
      {
       "html": [
        "PROGRESS: Iteration 8: Estimated objective value = 4.56468, Estimated training rmse = 2.13384.<br/>"
       ],
       "metadata": {},
       "output_type": "display_data",
       "text": [
        "PROGRESS: Iteration 8: Estimated objective value = 4.56468, Estimated training rmse = 2.13384."
       ]
      },
      {
       "html": [
        "PROGRESS: Iteration 9: Estimated objective value = 4.38851, Estimated training rmse = 2.09212.<br/>"
       ],
       "metadata": {},
       "output_type": "display_data",
       "text": [
        "PROGRESS: Iteration 9: Estimated objective value = 4.38851, Estimated training rmse = 2.09212."
       ]
      },
      {
       "html": [
        "PROGRESS: Iteration 10: Estimated objective value = 4.27486, Estimated training rmse = 2.06475.<br/>"
       ],
       "metadata": {},
       "output_type": "display_data",
       "text": [
        "PROGRESS: Iteration 10: Estimated objective value = 4.27486, Estimated training rmse = 2.06475."
       ]
      },
      {
       "html": [
        "PROGRESS: Iteration 11: Estimated objective value = 4.15709, Estimated training rmse = 2.036.<br/>"
       ],
       "metadata": {},
       "output_type": "display_data",
       "text": [
        "PROGRESS: Iteration 11: Estimated objective value = 4.15709, Estimated training rmse = 2.036."
       ]
      },
      {
       "html": [
        "PROGRESS: Iteration 12: Estimated objective value = 4.04529, Estimated training rmse = 2.00833.<br/>"
       ],
       "metadata": {},
       "output_type": "display_data",
       "text": [
        "PROGRESS: Iteration 12: Estimated objective value = 4.04529, Estimated training rmse = 2.00833."
       ]
      },
      {
       "html": [
        "PROGRESS: Iteration 13: Estimated objective value = 3.9848, Estimated training rmse = 1.99319.<br/>"
       ],
       "metadata": {},
       "output_type": "display_data",
       "text": [
        "PROGRESS: Iteration 13: Estimated objective value = 3.9848, Estimated training rmse = 1.99319."
       ]
      },
      {
       "html": [
        "PROGRESS: Iteration 14: Estimated objective value = 4.14521, Estimated training rmse = 2.03303.<br/>"
       ],
       "metadata": {},
       "output_type": "display_data",
       "text": [
        "PROGRESS: Iteration 14: Estimated objective value = 4.14521, Estimated training rmse = 2.03303."
       ]
      },
      {
       "html": [
        "PROGRESS: Iteration 15: Estimated objective value = 3.89778, Estimated training rmse = 1.97122.<br/>"
       ],
       "metadata": {},
       "output_type": "display_data",
       "text": [
        "PROGRESS: Iteration 15: Estimated objective value = 3.89778, Estimated training rmse = 1.97122."
       ]
      },
      {
       "html": [
        "PROGRESS: Iteration 16: Estimated objective value = 3.86565, Estimated training rmse = 1.96303.<br/>"
       ],
       "metadata": {},
       "output_type": "display_data",
       "text": [
        "PROGRESS: Iteration 16: Estimated objective value = 3.86565, Estimated training rmse = 1.96303."
       ]
      },
      {
       "html": [
        "PROGRESS: Iteration 17: Estimated objective value = 3.82168, Estimated training rmse = 1.95178.<br/>"
       ],
       "metadata": {},
       "output_type": "display_data",
       "text": [
        "PROGRESS: Iteration 17: Estimated objective value = 3.82168, Estimated training rmse = 1.95178."
       ]
      },
      {
       "html": [
        "PROGRESS: Iteration 18: Estimated objective value = 3.76626, Estimated training rmse = 1.93752.<br/>"
       ],
       "metadata": {},
       "output_type": "display_data",
       "text": [
        "PROGRESS: Iteration 18: Estimated objective value = 3.76626, Estimated training rmse = 1.93752."
       ]
      },
      {
       "html": [
        "PROGRESS: Iteration 19: Estimated objective value = 3.73404, Estimated training rmse = 1.92917.<br/>"
       ],
       "metadata": {},
       "output_type": "display_data",
       "text": [
        "PROGRESS: Iteration 19: Estimated objective value = 3.73404, Estimated training rmse = 1.92917."
       ]
      },
      {
       "html": [
        "PROGRESS: Iteration 20: Estimated objective value = 3.69837, Estimated training rmse = 1.91989.<br/>"
       ],
       "metadata": {},
       "output_type": "display_data",
       "text": [
        "PROGRESS: Iteration 20: Estimated objective value = 3.69837, Estimated training rmse = 1.91989."
       ]
      },
      {
       "html": [
        "PROGRESS: Iteration 21: Estimated objective value = 3.66434, Estimated training rmse = 1.91099.<br/>"
       ],
       "metadata": {},
       "output_type": "display_data",
       "text": [
        "PROGRESS: Iteration 21: Estimated objective value = 3.66434, Estimated training rmse = 1.91099."
       ]
      },
      {
       "html": [
        "PROGRESS: Iteration 22: Estimated objective value = 3.63197, Estimated training rmse = 1.90249.<br/>"
       ],
       "metadata": {},
       "output_type": "display_data",
       "text": [
        "PROGRESS: Iteration 22: Estimated objective value = 3.63197, Estimated training rmse = 1.90249."
       ]
      },
      {
       "html": [
        "PROGRESS: Iteration 23: Estimated objective value = 3.65106, Estimated training rmse = 1.9075.<br/>"
       ],
       "metadata": {},
       "output_type": "display_data",
       "text": [
        "PROGRESS: Iteration 23: Estimated objective value = 3.65106, Estimated training rmse = 1.9075."
       ]
      },
      {
       "html": [
        "PROGRESS: Iteration 24: Estimated objective value = 3.59568, Estimated training rmse = 1.89291.<br/>"
       ],
       "metadata": {},
       "output_type": "display_data",
       "text": [
        "PROGRESS: Iteration 24: Estimated objective value = 3.59568, Estimated training rmse = 1.89291."
       ]
      },
      {
       "html": [
        "PROGRESS: Iteration 25: Estimated objective value = 3.61274, Estimated training rmse = 1.89741.<br/>"
       ],
       "metadata": {},
       "output_type": "display_data",
       "text": [
        "PROGRESS: Iteration 25: Estimated objective value = 3.61274, Estimated training rmse = 1.89741."
       ]
      },
      {
       "html": [
        "PROGRESS: Iteration 26: Estimated objective value = 3.59117, Estimated training rmse = 1.89171.<br/>"
       ],
       "metadata": {},
       "output_type": "display_data",
       "text": [
        "PROGRESS: Iteration 26: Estimated objective value = 3.59117, Estimated training rmse = 1.89171."
       ]
      },
      {
       "html": [
        "PROGRESS: Iteration 27: Estimated objective value = 3.66745, Estimated training rmse = 1.91176.<br/>"
       ],
       "metadata": {},
       "output_type": "display_data",
       "text": [
        "PROGRESS: Iteration 27: Estimated objective value = 3.66745, Estimated training rmse = 1.91176."
       ]
      },
      {
       "html": [
        "PROGRESS: Iteration 28: Estimated objective value = 3.52837, Estimated training rmse = 1.87502.<br/>"
       ],
       "metadata": {},
       "output_type": "display_data",
       "text": [
        "PROGRESS: Iteration 28: Estimated objective value = 3.52837, Estimated training rmse = 1.87502."
       ]
      },
      {
       "html": [
        "PROGRESS: Iteration 29: Estimated objective value = 3.51043, Estimated training rmse = 1.87023.<br/>"
       ],
       "metadata": {},
       "output_type": "display_data",
       "text": [
        "PROGRESS: Iteration 29: Estimated objective value = 3.51043, Estimated training rmse = 1.87023."
       ]
      },
      {
       "html": [
        "PROGRESS: Iteration 30: Estimated objective value = 3.47235, Estimated training rmse = 1.86001.<br/>"
       ],
       "metadata": {},
       "output_type": "display_data",
       "text": [
        "PROGRESS: Iteration 30: Estimated objective value = 3.47235, Estimated training rmse = 1.86001."
       ]
      },
      {
       "html": [
        "PROGRESS: Iteration 31: Estimated objective value = 3.4972, Estimated training rmse = 1.86667.<br/>"
       ],
       "metadata": {},
       "output_type": "display_data",
       "text": [
        "PROGRESS: Iteration 31: Estimated objective value = 3.4972, Estimated training rmse = 1.86667."
       ]
      },
      {
       "html": [
        "PROGRESS: Iteration 32: Estimated objective value = 3.51842, Estimated training rmse = 1.87234.<br/>"
       ],
       "metadata": {},
       "output_type": "display_data",
       "text": [
        "PROGRESS: Iteration 32: Estimated objective value = 3.51842, Estimated training rmse = 1.87234."
       ]
      },
      {
       "html": [
        "PROGRESS: Iteration 33: Estimated objective value = 3.48622, Estimated training rmse = 1.86371.<br/>"
       ],
       "metadata": {},
       "output_type": "display_data",
       "text": [
        "PROGRESS: Iteration 33: Estimated objective value = 3.48622, Estimated training rmse = 1.86371."
       ]
      },
      {
       "html": [
        "PROGRESS: Iteration 34: Estimated objective value = 3.43792, Estimated training rmse = 1.8507.<br/>"
       ],
       "metadata": {},
       "output_type": "display_data",
       "text": [
        "PROGRESS: Iteration 34: Estimated objective value = 3.43792, Estimated training rmse = 1.8507."
       ]
      },
      {
       "html": [
        "PROGRESS: Iteration 35: Estimated objective value = 3.44209, Estimated training rmse = 1.85182.<br/>"
       ],
       "metadata": {},
       "output_type": "display_data",
       "text": [
        "PROGRESS: Iteration 35: Estimated objective value = 3.44209, Estimated training rmse = 1.85182."
       ]
      },
      {
       "html": [
        "PROGRESS: Iteration 36: Estimated objective value = 3.44472, Estimated training rmse = 1.85253.<br/>"
       ],
       "metadata": {},
       "output_type": "display_data",
       "text": [
        "PROGRESS: Iteration 36: Estimated objective value = 3.44472, Estimated training rmse = 1.85253."
       ]
      },
      {
       "html": [
        "PROGRESS: Iteration 37: Estimated objective value = 3.39842, Estimated training rmse = 1.83998.<br/>"
       ],
       "metadata": {},
       "output_type": "display_data",
       "text": [
        "PROGRESS: Iteration 37: Estimated objective value = 3.39842, Estimated training rmse = 1.83998."
       ]
      },
      {
       "html": [
        "PROGRESS: Iteration 38: Estimated objective value = 3.41318, Estimated training rmse = 1.84398.<br/>"
       ],
       "metadata": {},
       "output_type": "display_data",
       "text": [
        "PROGRESS: Iteration 38: Estimated objective value = 3.41318, Estimated training rmse = 1.84398."
       ]
      },
      {
       "html": [
        "PROGRESS: Iteration 39: Estimated objective value = 3.42761, Estimated training rmse = 1.84788.<br/>"
       ],
       "metadata": {},
       "output_type": "display_data",
       "text": [
        "PROGRESS: Iteration 39: Estimated objective value = 3.42761, Estimated training rmse = 1.84788."
       ]
      },
      {
       "html": [
        "PROGRESS: Iteration 40: Estimated objective value = 3.42597, Estimated training rmse = 1.84744.<br/>"
       ],
       "metadata": {},
       "output_type": "display_data",
       "text": [
        "PROGRESS: Iteration 40: Estimated objective value = 3.42597, Estimated training rmse = 1.84744."
       ]
      },
      {
       "html": [
        "PROGRESS: Iteration 41: Estimated objective value = 3.39173, Estimated training rmse = 1.83814.<br/>"
       ],
       "metadata": {},
       "output_type": "display_data",
       "text": [
        "PROGRESS: Iteration 41: Estimated objective value = 3.39173, Estimated training rmse = 1.83814."
       ]
      },
      {
       "html": [
        "PROGRESS: Iteration 42: Estimated objective value = 3.43865, Estimated training rmse = 1.85086.<br/>"
       ],
       "metadata": {},
       "output_type": "display_data",
       "text": [
        "PROGRESS: Iteration 42: Estimated objective value = 3.43865, Estimated training rmse = 1.85086."
       ]
      },
      {
       "html": [
        "PROGRESS: Iteration 43: Estimated objective value = 3.56224, Estimated training rmse = 1.88396.<br/>"
       ],
       "metadata": {},
       "output_type": "display_data",
       "text": [
        "PROGRESS: Iteration 43: Estimated objective value = 3.56224, Estimated training rmse = 1.88396."
       ]
      },
      {
       "html": [
        "PROGRESS: Iteration 44: Estimated objective value = 3.3717, Estimated training rmse = 1.83268.<br/>"
       ],
       "metadata": {},
       "output_type": "display_data",
       "text": [
        "PROGRESS: Iteration 44: Estimated objective value = 3.3717, Estimated training rmse = 1.83268."
       ]
      },
      {
       "html": [
        "PROGRESS: Iteration 45: Estimated objective value = 3.38619, Estimated training rmse = 1.83663.<br/>"
       ],
       "metadata": {},
       "output_type": "display_data",
       "text": [
        "PROGRESS: Iteration 45: Estimated objective value = 3.38619, Estimated training rmse = 1.83663."
       ]
      },
      {
       "html": [
        "PROGRESS: Iteration 46: Estimated objective value = 3.34337, Estimated training rmse = 1.82492.<br/>"
       ],
       "metadata": {},
       "output_type": "display_data",
       "text": [
        "PROGRESS: Iteration 46: Estimated objective value = 3.34337, Estimated training rmse = 1.82492."
       ]
      },
      {
       "html": [
        "PROGRESS: Iteration 47: Estimated objective value = 3.34137, Estimated training rmse = 1.82437.<br/>"
       ],
       "metadata": {},
       "output_type": "display_data",
       "text": [
        "PROGRESS: Iteration 47: Estimated objective value = 3.34137, Estimated training rmse = 1.82437."
       ]
      },
      {
       "html": [
        "PROGRESS: Iteration 48: Estimated objective value = 3.46221, Estimated training rmse = 1.8572.<br/>"
       ],
       "metadata": {},
       "output_type": "display_data",
       "text": [
        "PROGRESS: Iteration 48: Estimated objective value = 3.46221, Estimated training rmse = 1.8572."
       ]
      },
      {
       "html": [
        "PROGRESS: Iteration 49: Estimated objective value = 3.32384, Estimated training rmse = 1.81955.<br/>"
       ],
       "metadata": {},
       "output_type": "display_data",
       "text": [
        "PROGRESS: Iteration 49: Estimated objective value = 3.32384, Estimated training rmse = 1.81955."
       ]
      },
      {
       "html": [
        "PROGRESS: Iteration 50: Estimated objective value = 3.33801, Estimated training rmse = 1.82344.<br/>"
       ],
       "metadata": {},
       "output_type": "display_data",
       "text": [
        "PROGRESS: Iteration 50: Estimated objective value = 3.33801, Estimated training rmse = 1.82344."
       ]
      },
      {
       "html": [
        "PROGRESS: Maximum number of passes through the data reached; stopping.<br/>"
       ],
       "metadata": {},
       "output_type": "display_data",
       "text": [
        "PROGRESS: Maximum number of passes through the data reached; stopping."
       ]
      },
      {
       "html": [
        "PROGRESS: ---------------------------------------------<br/>"
       ],
       "metadata": {},
       "output_type": "display_data",
       "text": [
        "PROGRESS: ---------------------------------------------"
       ]
      },
      {
       "html": [
        "PROGRESS:           Optimization Completed<br/>"
       ],
       "metadata": {},
       "output_type": "display_data",
       "text": [
        "PROGRESS:           Optimization Completed"
       ]
      },
      {
       "html": [
        "PROGRESS: ---------------------------------------------<br/>"
       ],
       "metadata": {},
       "output_type": "display_data",
       "text": [
        "PROGRESS: ---------------------------------------------"
       ]
      },
      {
       "html": [
        "PROGRESS: Final rmse: 1.67499<br/>"
       ],
       "metadata": {},
       "output_type": "display_data",
       "text": [
        "PROGRESS: Final rmse: 1.67499"
       ]
      }
     ],
     "prompt_number": 25
    },
    {
     "cell_type": "markdown",
     "metadata": {},
     "source": [
      "Retrieve the coefficients for each user that were learned by this algorithm."
     ]
    },
    {
     "cell_type": "code",
     "collapsed": false,
     "input": [
      "m2['coefficients']['OwnerUserId']"
     ],
     "language": "python",
     "metadata": {},
     "outputs": [
      {
       "html": [
        "<div style=\"max-height:1000px;max-width:1500px;overflow:auto;\"><table frame=\"box\" rules=\"cols\">\n",
        "    <tr>\n",
        "        <th style=\"padding-left: 1em; padding-right: 1em; text-align: center\">OwnerUserId</th>\n",
        "        <th style=\"padding-left: 1em; padding-right: 1em; text-align: center\">linear_terms</th>\n",
        "        <th style=\"padding-left: 1em; padding-right: 1em; text-align: center\">factors</th>\n",
        "    </tr>\n",
        "    <tr>\n",
        "        <td style=\"padding-left: 1em; padding-right: 1em; text-align: center; vertical-align: top\">1065808</td>\n",
        "        <td style=\"padding-left: 1em; padding-right: 1em; text-align: center; vertical-align: top\">-0.0582813077023</td>\n",
        "        <td style=\"padding-left: 1em; padding-right: 1em; text-align: center; vertical-align: top\">array('d',<br>[0.00729460492012487, ...</td>\n",
        "    </tr>\n",
        "    <tr>\n",
        "        <td style=\"padding-left: 1em; padding-right: 1em; text-align: center; vertical-align: top\">288794</td>\n",
        "        <td style=\"padding-left: 1em; padding-right: 1em; text-align: center; vertical-align: top\">0.113404034829</td>\n",
        "        <td style=\"padding-left: 1em; padding-right: 1em; text-align: center; vertical-align: top\">array('d',<br>[0.0808329770954503, ...</td>\n",
        "    </tr>\n",
        "    <tr>\n",
        "        <td style=\"padding-left: 1em; padding-right: 1em; text-align: center; vertical-align: top\">14648</td>\n",
        "        <td style=\"padding-left: 1em; padding-right: 1em; text-align: center; vertical-align: top\">-0.0639355255298</td>\n",
        "        <td style=\"padding-left: 1em; padding-right: 1em; text-align: center; vertical-align: top\">array('d',<br>[-0.08730652404972794 ...</td>\n",
        "    </tr>\n",
        "    <tr>\n",
        "        <td style=\"padding-left: 1em; padding-right: 1em; text-align: center; vertical-align: top\">1140773</td>\n",
        "        <td style=\"padding-left: 1em; padding-right: 1em; text-align: center; vertical-align: top\">-0.0819526867044</td>\n",
        "        <td style=\"padding-left: 1em; padding-right: 1em; text-align: center; vertical-align: top\">array('d',<br>[-0.04286373802122164 ...</td>\n",
        "    </tr>\n",
        "    <tr>\n",
        "        <td style=\"padding-left: 1em; padding-right: 1em; text-align: center; vertical-align: top\">459197</td>\n",
        "        <td style=\"padding-left: 1em; padding-right: 1em; text-align: center; vertical-align: top\">0.22790453612</td>\n",
        "        <td style=\"padding-left: 1em; padding-right: 1em; text-align: center; vertical-align: top\">array('d',<br>[-0.00598914700280028 ...</td>\n",
        "    </tr>\n",
        "    <tr>\n",
        "        <td style=\"padding-left: 1em; padding-right: 1em; text-align: center; vertical-align: top\">549167</td>\n",
        "        <td style=\"padding-left: 1em; padding-right: 1em; text-align: center; vertical-align: top\">-0.0204317470935</td>\n",
        "        <td style=\"padding-left: 1em; padding-right: 1em; text-align: center; vertical-align: top\">array('d',<br>[-0.03333657721592033 ...</td>\n",
        "    </tr>\n",
        "    <tr>\n",
        "        <td style=\"padding-left: 1em; padding-right: 1em; text-align: center; vertical-align: top\">417798</td>\n",
        "        <td style=\"padding-left: 1em; padding-right: 1em; text-align: center; vertical-align: top\">0.201564042465</td>\n",
        "        <td style=\"padding-left: 1em; padding-right: 1em; text-align: center; vertical-align: top\">array('d',<br>[-0.24723422139227022 ...</td>\n",
        "    </tr>\n",
        "    <tr>\n",
        "        <td style=\"padding-left: 1em; padding-right: 1em; text-align: center; vertical-align: top\">760380</td>\n",
        "        <td style=\"padding-left: 1em; padding-right: 1em; text-align: center; vertical-align: top\">0.139034116508</td>\n",
        "        <td style=\"padding-left: 1em; padding-right: 1em; text-align: center; vertical-align: top\">array('d',<br>[-0.03656290027605233 ...</td>\n",
        "    </tr>\n",
        "    <tr>\n",
        "        <td style=\"padding-left: 1em; padding-right: 1em; text-align: center; vertical-align: top\">268075</td>\n",
        "        <td style=\"padding-left: 1em; padding-right: 1em; text-align: center; vertical-align: top\">-0.0331188627106</td>\n",
        "        <td style=\"padding-left: 1em; padding-right: 1em; text-align: center; vertical-align: top\">array('d',<br>[-0.15019261968895417 ...</td>\n",
        "    </tr>\n",
        "    <tr>\n",
        "        <td style=\"padding-left: 1em; padding-right: 1em; text-align: center; vertical-align: top\">1370847</td>\n",
        "        <td style=\"padding-left: 1em; padding-right: 1em; text-align: center; vertical-align: top\">-0.11854136923</td>\n",
        "        <td style=\"padding-left: 1em; padding-right: 1em; text-align: center; vertical-align: top\">array('d',<br>[-0.00802002648466014 ...</td>\n",
        "    </tr>\n",
        "    <tr>\n",
        "        <td style=\"padding-left: 1em; padding-right: 1em; text-align: center; vertical-align: top\">...</td>\n",
        "        <td style=\"padding-left: 1em; padding-right: 1em; text-align: center; vertical-align: top\">...</td>\n",
        "        <td style=\"padding-left: 1em; padding-right: 1em; text-align: center; vertical-align: top\">...</td>\n",
        "    </tr>\n",
        "</table>\n",
        "[305863 rows x 3 columns]<br/>Note: Only the head of the SFrame is printed.<br/>You can use print_rows(num_rows=m, num_columns=n) to print more rows and columns.\n",
        "</div>"
       ],
       "metadata": {},
       "output_type": "pyout",
       "prompt_number": 26,
       "text": [
        "Columns:\n",
        "\tOwnerUserId\tstr\n",
        "\tlinear_terms\tfloat\n",
        "\tfactors\tarray\n",
        "\n",
        "Rows: 305863\n",
        "\n",
        "Data:\n",
        "+-------------+------------------+--------------------------------+\n",
        "| OwnerUserId |   linear_terms   |            factors             |\n",
        "+-------------+------------------+--------------------------------+\n",
        "|   1065808   | -0.0582813077023 | array('d', [0.007294604920 ... |\n",
        "|    288794   |  0.113404034829  | array('d', [0.080832977095 ... |\n",
        "|    14648    | -0.0639355255298 | array('d', [-0.08730652404 ... |\n",
        "|   1140773   | -0.0819526867044 | array('d', [-0.04286373802 ... |\n",
        "|    459197   |  0.22790453612   | array('d', [-0.00598914700 ... |\n",
        "|    549167   | -0.0204317470935 | array('d', [-0.03333657721 ... |\n",
        "|    417798   |  0.201564042465  | array('d', [-0.24723422139 ... |\n",
        "|    760380   |  0.139034116508  | array('d', [-0.03656290027 ... |\n",
        "|    268075   | -0.0331188627106 | array('d', [-0.15019261968 ... |\n",
        "|   1370847   |  -0.11854136923  | array('d', [-0.00802002648 ... |\n",
        "|     ...     |       ...        |              ...               |\n",
        "+-------------+------------------+--------------------------------+\n",
        "[305863 rows x 3 columns]\n",
        "Note: Only the head of the SFrame is printed.\n",
        "You can use print_rows(num_rows=m, num_columns=n) to print more rows and columns."
       ]
      }
     ],
     "prompt_number": 26
    },
    {
     "cell_type": "markdown",
     "metadata": {},
     "source": [
      "Compare the predictive performance of the two models. Given the ability to make 10 recommendations, which model predicted the highest proportion of items in the test set (on average)?"
     ]
    },
    {
     "cell_type": "code",
     "collapsed": false,
     "input": [
      "results = graphlab.recommender.compare_models(test, [m1, m2], metric='precision_recall')"
     ],
     "language": "python",
     "metadata": {},
     "outputs": [
      {
       "output_type": "stream",
       "stream": "stdout",
       "text": [
        "PROGRESS: Evaluate model M0\n",
        "\n",
        "Precision and recall summary statistics by cutoff"
       ]
      },
      {
       "output_type": "stream",
       "stream": "stdout",
       "text": [
        "\n",
        "+--------+-----------------+-----------------+\n",
        "| cutoff |  mean_precision |   mean_recall   |\n",
        "+--------+-----------------+-----------------+\n",
        "|   2    |  0.113953488372 | 0.0845168216009 |\n",
        "|   4    | 0.0927325581395 |  0.129813116525 |\n",
        "|   6    | 0.0769379844961 |  0.159725254826 |\n",
        "|   8    | 0.0702034883721 |  0.185513554526 |\n",
        "|   10   |  0.061976744186 |  0.203962874269 |\n",
        "|   12   | 0.0574612403101 |  0.222106314627 |\n",
        "|   14   | 0.0532392026578 |  0.23836728151  |\n",
        "|   16   |  0.049273255814 |  0.249444870229 |\n",
        "|   18   | 0.0463824289406 |  0.26158820099  |\n",
        "|   20   | 0.0440697674419 |  0.27290187227  |\n",
        "+--------+-----------------+-----------------+\n",
        "[10 rows x 3 columns]\n"
       ]
      },
      {
       "output_type": "stream",
       "stream": "stdout",
       "text": [
        "\n",
        "PROGRESS: Evaluate model M1\n",
        "\n",
        "Precision and recall summary statistics by cutoff"
       ]
      },
      {
       "output_type": "stream",
       "stream": "stdout",
       "text": [
        "\n",
        "+--------+-----------------+-----------------+\n",
        "| cutoff |  mean_precision |   mean_recall   |\n",
        "+--------+-----------------+-----------------+\n",
        "|   2    | 0.0476744186047 | 0.0239657248508 |\n",
        "|   4    | 0.0406976744186 | 0.0439938550644 |\n",
        "|   6    | 0.0354651162791 | 0.0565457147078 |\n",
        "|   8    |     0.03125     | 0.0643547366445 |\n",
        "|   10   | 0.0290697674419 | 0.0746317873285 |\n",
        "|   12   | 0.0259689922481 | 0.0808381477209 |\n",
        "|   14   | 0.0241694352159 |  0.087555009128 |\n",
        "|   16   | 0.0226744186047 |  0.09538987554  |\n",
        "|   18   | 0.0210594315245 | 0.0975335979497 |\n",
        "|   20   | 0.0199418604651 |  0.103363780839 |\n",
        "+--------+-----------------+-----------------+\n",
        "[10 rows x 3 columns]\n"
       ]
      },
      {
       "output_type": "stream",
       "stream": "stdout",
       "text": [
        "\n"
       ]
      },
      {
       "output_type": "stream",
       "stream": "stderr",
       "text": [
        "[INFO] Stopping the server connection.\n"
       ]
      }
     ],
     "prompt_number": 27
    }
   ],
   "metadata": {}
  }
 ]
}