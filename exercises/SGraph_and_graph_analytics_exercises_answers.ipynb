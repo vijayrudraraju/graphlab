{
 "metadata": {
  "name": "",
  "signature": "sha256:fc5ae8e0ca88729ccc8324075d9acba1d56660775b08b5bb5d237471a6e34a81"
 },
 "nbformat": 3,
 "nbformat_minor": 0,
 "worksheets": [
  {
   "cells": [
    {
     "cell_type": "heading",
     "level": 1,
     "metadata": {},
     "source": [
      "SGraph and Graph Analytics Exercises"
     ]
    },
    {
     "cell_type": "markdown",
     "metadata": {},
     "source": [
      "Use the countries and results from two World Cup groups to explore SGraph construction, summarization, visualization, and filtering. Ties are represented by bi-directional edges."
     ]
    },
    {
     "cell_type": "heading",
     "level": 2,
     "metadata": {},
     "source": [
      "The data"
     ]
    },
    {
     "cell_type": "markdown",
     "metadata": {},
     "source": [
      "The data consist of country names with the World Cup group they belonged to, plus tuples indicating the winners and losers in the group stage games. It was transcribed from http://www.fifa.com/worldcup/matches/index.html."
     ]
    },
    {
     "cell_type": "code",
     "collapsed": false,
     "input": [
      "countries = {\n",
      "    'usa': 'G',\n",
      "    'ghana': 'G',\n",
      "    'germany': 'G',\n",
      "    'portugal': 'G',\n",
      "    'england': 'D',\n",
      "    'italy': 'D',\n",
      "    'costa rica': 'D',\n",
      "    'uruguay': 'D'}"
     ],
     "language": "python",
     "metadata": {},
     "outputs": [],
     "prompt_number": 1
    },
    {
     "cell_type": "code",
     "collapsed": false,
     "input": [
      "results = [\n",
      "    ('portugal', 'germany'),\n",
      "    ('ghana', 'usa'),\n",
      "    ('portugal', 'usa'),\n",
      "    ('usa', 'portugal'),\n",
      "    ('usa', 'germany'),\n",
      "    ('ghana', 'portugal'),\n",
      "    ('ghana', 'germany'),\n",
      "    ('germany', 'ghana'),\n",
      "    ('england', 'italy'),\n",
      "    ('england', 'uruguay'),\n",
      "    ('england', 'costa rica'),\n",
      "    ('costa rica', 'england'),\n",
      "    ('uruguay', 'costa rica'),\n",
      "    ('italy', 'costa rica'),\n",
      "    ('italy', 'uruguay')]"
     ],
     "language": "python",
     "metadata": {},
     "outputs": [],
     "prompt_number": 2
    },
    {
     "cell_type": "heading",
     "level": 2,
     "metadata": {},
     "source": [
      "Construct the graph"
     ]
    },
    {
     "cell_type": "markdown",
     "metadata": {},
     "source": [
      "- <span style=\"color:red\">Construct [SFrames](http://graphlab.com/products/create/docs/generated/graphlab.SFrame.html#graphlab.SFrame) for the vertex and edge data.</span>\n",
      "- <span style=\"color:red\">Make an empty [SGraph](http://graphlab.com/products/create/docs/generated/graphlab.SGraph.html#graphlab.SGraph).</span>\n",
      "- <span style=\"color:red\">Add the vertices and edges to the graph.</span>"
     ]
    },
    {
     "cell_type": "code",
     "collapsed": false,
     "input": [
      "import graphlab as gl"
     ],
     "language": "python",
     "metadata": {},
     "outputs": [],
     "prompt_number": 3
    },
    {
     "cell_type": "code",
     "collapsed": false,
     "input": [
      "verts = gl.SFrame({'name': countries.keys(),\n",
      "                   'group': countries.values()})\n",
      "verts"
     ],
     "language": "python",
     "metadata": {},
     "outputs": [
      {
       "output_type": "stream",
       "stream": "stderr",
       "text": [
        "[INFO] Start server at: ipc:///tmp/graphlab_server-8123 - Server binary: /home/brian/.virtualenvs/graph-demo/lib/python2.7/site-packages/graphlab/unity_server - Server log: /tmp/graphlab_server_1406013139.log\n"
       ]
      },
      {
       "output_type": "stream",
       "stream": "stderr",
       "text": [
        "[INFO] GraphLab Server Version: 0.9.0\n"
       ]
      },
      {
       "html": [
        "<div style=\"max-height:1000px;max-width:1500px;overflow:auto;\"><table frame=\"box\" rules=\"cols\">\n",
        "    <tr>\n",
        "        <th style=\"padding-left: 1em; padding-right: 1em; text-align: center\">group</th>\n",
        "        <th style=\"padding-left: 1em; padding-right: 1em; text-align: center\">name</th>\n",
        "    </tr>\n",
        "    <tr>\n",
        "        <td style=\"padding-left: 1em; padding-right: 1em; text-align: center; vertical-align: top\">G</td>\n",
        "        <td style=\"padding-left: 1em; padding-right: 1em; text-align: center; vertical-align: top\">ghana</td>\n",
        "    </tr>\n",
        "    <tr>\n",
        "        <td style=\"padding-left: 1em; padding-right: 1em; text-align: center; vertical-align: top\">G</td>\n",
        "        <td style=\"padding-left: 1em; padding-right: 1em; text-align: center; vertical-align: top\">germany</td>\n",
        "    </tr>\n",
        "    <tr>\n",
        "        <td style=\"padding-left: 1em; padding-right: 1em; text-align: center; vertical-align: top\">G</td>\n",
        "        <td style=\"padding-left: 1em; padding-right: 1em; text-align: center; vertical-align: top\">portugal</td>\n",
        "    </tr>\n",
        "    <tr>\n",
        "        <td style=\"padding-left: 1em; padding-right: 1em; text-align: center; vertical-align: top\">G</td>\n",
        "        <td style=\"padding-left: 1em; padding-right: 1em; text-align: center; vertical-align: top\">usa</td>\n",
        "    </tr>\n",
        "    <tr>\n",
        "        <td style=\"padding-left: 1em; padding-right: 1em; text-align: center; vertical-align: top\">D</td>\n",
        "        <td style=\"padding-left: 1em; padding-right: 1em; text-align: center; vertical-align: top\">uruguay</td>\n",
        "    </tr>\n",
        "    <tr>\n",
        "        <td style=\"padding-left: 1em; padding-right: 1em; text-align: center; vertical-align: top\">D</td>\n",
        "        <td style=\"padding-left: 1em; padding-right: 1em; text-align: center; vertical-align: top\">england</td>\n",
        "    </tr>\n",
        "    <tr>\n",
        "        <td style=\"padding-left: 1em; padding-right: 1em; text-align: center; vertical-align: top\">D</td>\n",
        "        <td style=\"padding-left: 1em; padding-right: 1em; text-align: center; vertical-align: top\">italy</td>\n",
        "    </tr>\n",
        "    <tr>\n",
        "        <td style=\"padding-left: 1em; padding-right: 1em; text-align: center; vertical-align: top\">D</td>\n",
        "        <td style=\"padding-left: 1em; padding-right: 1em; text-align: center; vertical-align: top\">costa rica</td>\n",
        "    </tr>\n",
        "</table>\n",
        "[8 rows x 2 columns]<br/>\n",
        "</div>"
       ],
       "metadata": {},
       "output_type": "pyout",
       "prompt_number": 4,
       "text": [
        "Columns:\n",
        "\tgroup\tstr\n",
        "\tname\tstr\n",
        "\n",
        "Rows: 8\n",
        "\n",
        "Data:\n",
        "+-------+------------+\n",
        "| group |    name    |\n",
        "+-------+------------+\n",
        "|   G   |   ghana    |\n",
        "|   G   |  germany   |\n",
        "|   G   |  portugal  |\n",
        "|   G   |    usa     |\n",
        "|   D   |  uruguay   |\n",
        "|   D   |  england   |\n",
        "|   D   |   italy    |\n",
        "|   D   | costa rica |\n",
        "+-------+------------+\n",
        "[8 rows x 2 columns]"
       ]
      }
     ],
     "prompt_number": 4
    },
    {
     "cell_type": "code",
     "collapsed": false,
     "input": [
      "losers, winners = zip(*results)\n",
      "edges = gl.SFrame({'loser': list(losers),\n",
      "                   'winner': list(winners)})\n",
      "edges"
     ],
     "language": "python",
     "metadata": {},
     "outputs": [
      {
       "html": [
        "<div style=\"max-height:1000px;max-width:1500px;overflow:auto;\"><table frame=\"box\" rules=\"cols\">\n",
        "    <tr>\n",
        "        <th style=\"padding-left: 1em; padding-right: 1em; text-align: center\">loser</th>\n",
        "        <th style=\"padding-left: 1em; padding-right: 1em; text-align: center\">winner</th>\n",
        "    </tr>\n",
        "    <tr>\n",
        "        <td style=\"padding-left: 1em; padding-right: 1em; text-align: center; vertical-align: top\">portugal</td>\n",
        "        <td style=\"padding-left: 1em; padding-right: 1em; text-align: center; vertical-align: top\">germany</td>\n",
        "    </tr>\n",
        "    <tr>\n",
        "        <td style=\"padding-left: 1em; padding-right: 1em; text-align: center; vertical-align: top\">ghana</td>\n",
        "        <td style=\"padding-left: 1em; padding-right: 1em; text-align: center; vertical-align: top\">usa</td>\n",
        "    </tr>\n",
        "    <tr>\n",
        "        <td style=\"padding-left: 1em; padding-right: 1em; text-align: center; vertical-align: top\">portugal</td>\n",
        "        <td style=\"padding-left: 1em; padding-right: 1em; text-align: center; vertical-align: top\">usa</td>\n",
        "    </tr>\n",
        "    <tr>\n",
        "        <td style=\"padding-left: 1em; padding-right: 1em; text-align: center; vertical-align: top\">usa</td>\n",
        "        <td style=\"padding-left: 1em; padding-right: 1em; text-align: center; vertical-align: top\">portugal</td>\n",
        "    </tr>\n",
        "    <tr>\n",
        "        <td style=\"padding-left: 1em; padding-right: 1em; text-align: center; vertical-align: top\">usa</td>\n",
        "        <td style=\"padding-left: 1em; padding-right: 1em; text-align: center; vertical-align: top\">germany</td>\n",
        "    </tr>\n",
        "    <tr>\n",
        "        <td style=\"padding-left: 1em; padding-right: 1em; text-align: center; vertical-align: top\">ghana</td>\n",
        "        <td style=\"padding-left: 1em; padding-right: 1em; text-align: center; vertical-align: top\">portugal</td>\n",
        "    </tr>\n",
        "    <tr>\n",
        "        <td style=\"padding-left: 1em; padding-right: 1em; text-align: center; vertical-align: top\">ghana</td>\n",
        "        <td style=\"padding-left: 1em; padding-right: 1em; text-align: center; vertical-align: top\">germany</td>\n",
        "    </tr>\n",
        "    <tr>\n",
        "        <td style=\"padding-left: 1em; padding-right: 1em; text-align: center; vertical-align: top\">germany</td>\n",
        "        <td style=\"padding-left: 1em; padding-right: 1em; text-align: center; vertical-align: top\">ghana</td>\n",
        "    </tr>\n",
        "    <tr>\n",
        "        <td style=\"padding-left: 1em; padding-right: 1em; text-align: center; vertical-align: top\">england</td>\n",
        "        <td style=\"padding-left: 1em; padding-right: 1em; text-align: center; vertical-align: top\">italy</td>\n",
        "    </tr>\n",
        "    <tr>\n",
        "        <td style=\"padding-left: 1em; padding-right: 1em; text-align: center; vertical-align: top\">england</td>\n",
        "        <td style=\"padding-left: 1em; padding-right: 1em; text-align: center; vertical-align: top\">uruguay</td>\n",
        "    </tr>\n",
        "    <tr>\n",
        "        <td style=\"padding-left: 1em; padding-right: 1em; text-align: center; vertical-align: top\">...</td>\n",
        "        <td style=\"padding-left: 1em; padding-right: 1em; text-align: center; vertical-align: top\">...</td>\n",
        "    </tr>\n",
        "</table>\n",
        "[15 rows x 2 columns]<br/>Note: Only the head of the SFrame is printed.<br/>You can use print_rows(num_rows=m, num_columns=n) to print more rows and columns.\n",
        "</div>"
       ],
       "metadata": {},
       "output_type": "pyout",
       "prompt_number": 5,
       "text": [
        "Columns:\n",
        "\tloser\tstr\n",
        "\twinner\tstr\n",
        "\n",
        "Rows: 15\n",
        "\n",
        "Data:\n",
        "+----------+----------+\n",
        "|  loser   |  winner  |\n",
        "+----------+----------+\n",
        "| portugal | germany  |\n",
        "|  ghana   |   usa    |\n",
        "| portugal |   usa    |\n",
        "|   usa    | portugal |\n",
        "|   usa    | germany  |\n",
        "|  ghana   | portugal |\n",
        "|  ghana   | germany  |\n",
        "| germany  |  ghana   |\n",
        "| england  |  italy   |\n",
        "| england  | uruguay  |\n",
        "|   ...    |   ...    |\n",
        "+----------+----------+\n",
        "[15 rows x 2 columns]\n",
        "Note: Only the head of the SFrame is printed.\n",
        "You can use print_rows(num_rows=m, num_columns=n) to print more rows and columns."
       ]
      }
     ],
     "prompt_number": 5
    },
    {
     "cell_type": "code",
     "collapsed": false,
     "input": [
      "sg = gl.SGraph()\n",
      "sg = sg.add_vertices(verts, vid_field='name')\n",
      "sg = sg.add_edges(edges, src_field='loser', dst_field='winner')"
     ],
     "language": "python",
     "metadata": {},
     "outputs": [],
     "prompt_number": 6
    },
    {
     "cell_type": "heading",
     "level": 2,
     "metadata": {},
     "source": [
      "Summarize and visualize the graph"
     ]
    },
    {
     "cell_type": "markdown",
     "metadata": {},
     "source": [
      "- <span style=\"color:red\">Summarize the graph. How many vertices and eges are there?</span>\n",
      "- <span style=\"color:red\">Show the graph. Highlight the teams from North America, and use arrows to indicate the winner of each match. This time show the graph in a new tab in the browser, rather than in the notebook.</span>\n",
      "- <span style=\"color:red\">Extract the vertices and edges as SFrames. Do the numbers of rows and edges match the summary?</span>"
     ]
    },
    {
     "cell_type": "markdown",
     "metadata": {},
     "source": [
      "The [summary](http://graphlab.com/products/create/docs/generated/graphlab.SGraph.summary.html#graphlab.SGraph.summary) method gives the number of vertices and edges in the graph, which is often the best place to start."
     ]
    },
    {
     "cell_type": "code",
     "collapsed": false,
     "input": [
      "sg.summary()"
     ],
     "language": "python",
     "metadata": {},
     "outputs": [
      {
       "metadata": {},
       "output_type": "pyout",
       "prompt_number": 7,
       "text": [
        "{'num_edges': 15, 'num_vertices': 8}"
       ]
      }
     ],
     "prompt_number": 7
    },
    {
     "cell_type": "markdown",
     "metadata": {},
     "source": [
      "In the demo we saw the GraphLab canvas in-line in the IPython Notebook. Another option is to have the output appear in another tab of the browser. Set this with the GraphLab Canvas [set_target](http://graphlab.com/products/create/docs/generated/graphlab.canvas.set_target.html) method."
     ]
    },
    {
     "cell_type": "code",
     "collapsed": false,
     "input": [
      "gl.canvas.set_target('browser')\n",
      "sg.show(vlabel='id', arrows=True, ewidth=1.5, highlight=['usa', 'costa rica'])"
     ],
     "language": "python",
     "metadata": {},
     "outputs": [],
     "prompt_number": 8
    },
    {
     "cell_type": "markdown",
     "metadata": {},
     "source": [
      "The graph's SFrames for vertices and edges show there are indeed 8 vertices (with a 'group' attribute) and 15 edges (with no attributes)."
     ]
    },
    {
     "cell_type": "code",
     "collapsed": false,
     "input": [
      "sf_vert = sg.vertices\n",
      "sf_vert"
     ],
     "language": "python",
     "metadata": {},
     "outputs": [
      {
       "html": [
        "<div style=\"max-height:1000px;max-width:1500px;overflow:auto;\"><table frame=\"box\" rules=\"cols\">\n",
        "    <tr>\n",
        "        <th style=\"padding-left: 1em; padding-right: 1em; text-align: center\">__id</th>\n",
        "        <th style=\"padding-left: 1em; padding-right: 1em; text-align: center\">group</th>\n",
        "    </tr>\n",
        "    <tr>\n",
        "        <td style=\"padding-left: 1em; padding-right: 1em; text-align: center; vertical-align: top\">ghana</td>\n",
        "        <td style=\"padding-left: 1em; padding-right: 1em; text-align: center; vertical-align: top\">G</td>\n",
        "    </tr>\n",
        "    <tr>\n",
        "        <td style=\"padding-left: 1em; padding-right: 1em; text-align: center; vertical-align: top\">costa rica</td>\n",
        "        <td style=\"padding-left: 1em; padding-right: 1em; text-align: center; vertical-align: top\">D</td>\n",
        "    </tr>\n",
        "    <tr>\n",
        "        <td style=\"padding-left: 1em; padding-right: 1em; text-align: center; vertical-align: top\">portugal</td>\n",
        "        <td style=\"padding-left: 1em; padding-right: 1em; text-align: center; vertical-align: top\">G</td>\n",
        "    </tr>\n",
        "    <tr>\n",
        "        <td style=\"padding-left: 1em; padding-right: 1em; text-align: center; vertical-align: top\">usa</td>\n",
        "        <td style=\"padding-left: 1em; padding-right: 1em; text-align: center; vertical-align: top\">G</td>\n",
        "    </tr>\n",
        "    <tr>\n",
        "        <td style=\"padding-left: 1em; padding-right: 1em; text-align: center; vertical-align: top\">england</td>\n",
        "        <td style=\"padding-left: 1em; padding-right: 1em; text-align: center; vertical-align: top\">D</td>\n",
        "    </tr>\n",
        "    <tr>\n",
        "        <td style=\"padding-left: 1em; padding-right: 1em; text-align: center; vertical-align: top\">germany</td>\n",
        "        <td style=\"padding-left: 1em; padding-right: 1em; text-align: center; vertical-align: top\">G</td>\n",
        "    </tr>\n",
        "    <tr>\n",
        "        <td style=\"padding-left: 1em; padding-right: 1em; text-align: center; vertical-align: top\">italy</td>\n",
        "        <td style=\"padding-left: 1em; padding-right: 1em; text-align: center; vertical-align: top\">D</td>\n",
        "    </tr>\n",
        "    <tr>\n",
        "        <td style=\"padding-left: 1em; padding-right: 1em; text-align: center; vertical-align: top\">uruguay</td>\n",
        "        <td style=\"padding-left: 1em; padding-right: 1em; text-align: center; vertical-align: top\">D</td>\n",
        "    </tr>\n",
        "</table>\n",
        "[8 rows x 2 columns]<br/>\n",
        "</div>"
       ],
       "metadata": {},
       "output_type": "pyout",
       "prompt_number": 9,
       "text": [
        "Columns:\n",
        "\t__id\tstr\n",
        "\tgroup\tstr\n",
        "\n",
        "Rows: 8\n",
        "\n",
        "Data:\n",
        "+------------+-------+\n",
        "|    __id    | group |\n",
        "+------------+-------+\n",
        "|   ghana    |   G   |\n",
        "| costa rica |   D   |\n",
        "|  portugal  |   G   |\n",
        "|    usa     |   G   |\n",
        "|  england   |   D   |\n",
        "|  germany   |   G   |\n",
        "|   italy    |   D   |\n",
        "|  uruguay   |   D   |\n",
        "+------------+-------+\n",
        "[8 rows x 2 columns]"
       ]
      }
     ],
     "prompt_number": 9
    },
    {
     "cell_type": "code",
     "collapsed": false,
     "input": [
      "sf_edge = sg.edges\n",
      "sf_edge"
     ],
     "language": "python",
     "metadata": {},
     "outputs": [
      {
       "html": [
        "<div style=\"max-height:1000px;max-width:1500px;overflow:auto;\"><table frame=\"box\" rules=\"cols\">\n",
        "    <tr>\n",
        "        <th style=\"padding-left: 1em; padding-right: 1em; text-align: center\">__src_id</th>\n",
        "        <th style=\"padding-left: 1em; padding-right: 1em; text-align: center\">__dst_id</th>\n",
        "    </tr>\n",
        "    <tr>\n",
        "        <td style=\"padding-left: 1em; padding-right: 1em; text-align: center; vertical-align: top\">ghana</td>\n",
        "        <td style=\"padding-left: 1em; padding-right: 1em; text-align: center; vertical-align: top\">portugal</td>\n",
        "    </tr>\n",
        "    <tr>\n",
        "        <td style=\"padding-left: 1em; padding-right: 1em; text-align: center; vertical-align: top\">ghana</td>\n",
        "        <td style=\"padding-left: 1em; padding-right: 1em; text-align: center; vertical-align: top\">usa</td>\n",
        "    </tr>\n",
        "    <tr>\n",
        "        <td style=\"padding-left: 1em; padding-right: 1em; text-align: center; vertical-align: top\">ghana</td>\n",
        "        <td style=\"padding-left: 1em; padding-right: 1em; text-align: center; vertical-align: top\">germany</td>\n",
        "    </tr>\n",
        "    <tr>\n",
        "        <td style=\"padding-left: 1em; padding-right: 1em; text-align: center; vertical-align: top\">costa rica</td>\n",
        "        <td style=\"padding-left: 1em; padding-right: 1em; text-align: center; vertical-align: top\">england</td>\n",
        "    </tr>\n",
        "    <tr>\n",
        "        <td style=\"padding-left: 1em; padding-right: 1em; text-align: center; vertical-align: top\">portugal</td>\n",
        "        <td style=\"padding-left: 1em; padding-right: 1em; text-align: center; vertical-align: top\">usa</td>\n",
        "    </tr>\n",
        "    <tr>\n",
        "        <td style=\"padding-left: 1em; padding-right: 1em; text-align: center; vertical-align: top\">portugal</td>\n",
        "        <td style=\"padding-left: 1em; padding-right: 1em; text-align: center; vertical-align: top\">germany</td>\n",
        "    </tr>\n",
        "    <tr>\n",
        "        <td style=\"padding-left: 1em; padding-right: 1em; text-align: center; vertical-align: top\">usa</td>\n",
        "        <td style=\"padding-left: 1em; padding-right: 1em; text-align: center; vertical-align: top\">portugal</td>\n",
        "    </tr>\n",
        "    <tr>\n",
        "        <td style=\"padding-left: 1em; padding-right: 1em; text-align: center; vertical-align: top\">usa</td>\n",
        "        <td style=\"padding-left: 1em; padding-right: 1em; text-align: center; vertical-align: top\">germany</td>\n",
        "    </tr>\n",
        "    <tr>\n",
        "        <td style=\"padding-left: 1em; padding-right: 1em; text-align: center; vertical-align: top\">germany</td>\n",
        "        <td style=\"padding-left: 1em; padding-right: 1em; text-align: center; vertical-align: top\">ghana</td>\n",
        "    </tr>\n",
        "    <tr>\n",
        "        <td style=\"padding-left: 1em; padding-right: 1em; text-align: center; vertical-align: top\">england</td>\n",
        "        <td style=\"padding-left: 1em; padding-right: 1em; text-align: center; vertical-align: top\">costa rica</td>\n",
        "    </tr>\n",
        "    <tr>\n",
        "        <td style=\"padding-left: 1em; padding-right: 1em; text-align: center; vertical-align: top\">...</td>\n",
        "        <td style=\"padding-left: 1em; padding-right: 1em; text-align: center; vertical-align: top\">...</td>\n",
        "    </tr>\n",
        "</table>\n",
        "[15 rows x 2 columns]<br/>Note: Only the head of the SFrame is printed.<br/>You can use print_rows(num_rows=m, num_columns=n) to print more rows and columns.\n",
        "</div>"
       ],
       "metadata": {},
       "output_type": "pyout",
       "prompt_number": 10,
       "text": [
        "Columns:\n",
        "\t__src_id\tint\n",
        "\t__dst_id\tint\n",
        "\n",
        "Rows: 15\n",
        "\n",
        "Data:\n",
        "+------------+------------+\n",
        "|  __src_id  |  __dst_id  |\n",
        "+------------+------------+\n",
        "|   ghana    |  portugal  |\n",
        "|   ghana    |    usa     |\n",
        "|   ghana    |  germany   |\n",
        "| costa rica |  england   |\n",
        "|  portugal  |    usa     |\n",
        "|  portugal  |  germany   |\n",
        "|    usa     |  portugal  |\n",
        "|    usa     |  germany   |\n",
        "|  germany   |   ghana    |\n",
        "|  england   | costa rica |\n",
        "|    ...     |    ...     |\n",
        "+------------+------------+\n",
        "[15 rows x 2 columns]\n",
        "Note: Only the head of the SFrame is printed.\n",
        "You can use print_rows(num_rows=m, num_columns=n) to print more rows and columns."
       ]
      }
     ],
     "prompt_number": 10
    },
    {
     "cell_type": "heading",
     "level": 2,
     "metadata": {},
     "source": [
      "Filter the vertices"
     ]
    },
    {
     "cell_type": "markdown",
     "metadata": {},
     "source": [
      "- <span style=\"color:red\">Extract only the vertices in group H and plot the subgraph.</span>"
     ]
    },
    {
     "cell_type": "markdown",
     "metadata": {},
     "source": [
      "There are a couple ways to do this. The [get_vertices](http://graphlab.com/products/create/docs/generated/graphlab.SGraph.get_vertices.html#graphlab.SGraph.get_vertices) command is the most straightforward, but filtering on the underlying SFrame is more flexible."
     ]
    },
    {
     "cell_type": "code",
     "collapsed": false,
     "input": [
      "sub_verts = sg.get_vertices(fields={'group': 'G'})  # option 1\n",
      "sub_verts"
     ],
     "language": "python",
     "metadata": {},
     "outputs": [
      {
       "html": [
        "<div style=\"max-height:1000px;max-width:1500px;overflow:auto;\"><table frame=\"box\" rules=\"cols\">\n",
        "    <tr>\n",
        "        <th style=\"padding-left: 1em; padding-right: 1em; text-align: center\">__id</th>\n",
        "        <th style=\"padding-left: 1em; padding-right: 1em; text-align: center\">group</th>\n",
        "    </tr>\n",
        "    <tr>\n",
        "        <td style=\"padding-left: 1em; padding-right: 1em; text-align: center; vertical-align: top\">ghana</td>\n",
        "        <td style=\"padding-left: 1em; padding-right: 1em; text-align: center; vertical-align: top\">G</td>\n",
        "    </tr>\n",
        "    <tr>\n",
        "        <td style=\"padding-left: 1em; padding-right: 1em; text-align: center; vertical-align: top\">portugal</td>\n",
        "        <td style=\"padding-left: 1em; padding-right: 1em; text-align: center; vertical-align: top\">G</td>\n",
        "    </tr>\n",
        "    <tr>\n",
        "        <td style=\"padding-left: 1em; padding-right: 1em; text-align: center; vertical-align: top\">usa</td>\n",
        "        <td style=\"padding-left: 1em; padding-right: 1em; text-align: center; vertical-align: top\">G</td>\n",
        "    </tr>\n",
        "    <tr>\n",
        "        <td style=\"padding-left: 1em; padding-right: 1em; text-align: center; vertical-align: top\">germany</td>\n",
        "        <td style=\"padding-left: 1em; padding-right: 1em; text-align: center; vertical-align: top\">G</td>\n",
        "    </tr>\n",
        "</table>\n",
        "[4 rows x 2 columns]<br/>\n",
        "</div>"
       ],
       "metadata": {},
       "output_type": "pyout",
       "prompt_number": 11,
       "text": [
        "Columns:\n",
        "\t__id\tstr\n",
        "\tgroup\tstr\n",
        "\n",
        "Rows: 4\n",
        "\n",
        "Data:\n",
        "+----------+-------+\n",
        "|   __id   | group |\n",
        "+----------+-------+\n",
        "|  ghana   |   G   |\n",
        "| portugal |   G   |\n",
        "|   usa    |   G   |\n",
        "| germany  |   G   |\n",
        "+----------+-------+\n",
        "[4 rows x 2 columns]"
       ]
      }
     ],
     "prompt_number": 11
    },
    {
     "cell_type": "code",
     "collapsed": false,
     "input": [
      "sub_verts = sg.vertices[sg.vertices['group'] == 'G']\n",
      "sub_verts"
     ],
     "language": "python",
     "metadata": {},
     "outputs": [
      {
       "html": [
        "<div style=\"max-height:1000px;max-width:1500px;overflow:auto;\"><table frame=\"box\" rules=\"cols\">\n",
        "    <tr>\n",
        "        <th style=\"padding-left: 1em; padding-right: 1em; text-align: center\">__id</th>\n",
        "        <th style=\"padding-left: 1em; padding-right: 1em; text-align: center\">group</th>\n",
        "    </tr>\n",
        "    <tr>\n",
        "        <td style=\"padding-left: 1em; padding-right: 1em; text-align: center; vertical-align: top\">ghana</td>\n",
        "        <td style=\"padding-left: 1em; padding-right: 1em; text-align: center; vertical-align: top\">G</td>\n",
        "    </tr>\n",
        "    <tr>\n",
        "        <td style=\"padding-left: 1em; padding-right: 1em; text-align: center; vertical-align: top\">portugal</td>\n",
        "        <td style=\"padding-left: 1em; padding-right: 1em; text-align: center; vertical-align: top\">G</td>\n",
        "    </tr>\n",
        "    <tr>\n",
        "        <td style=\"padding-left: 1em; padding-right: 1em; text-align: center; vertical-align: top\">usa</td>\n",
        "        <td style=\"padding-left: 1em; padding-right: 1em; text-align: center; vertical-align: top\">G</td>\n",
        "    </tr>\n",
        "    <tr>\n",
        "        <td style=\"padding-left: 1em; padding-right: 1em; text-align: center; vertical-align: top\">germany</td>\n",
        "        <td style=\"padding-left: 1em; padding-right: 1em; text-align: center; vertical-align: top\">G</td>\n",
        "    </tr>\n",
        "</table>\n",
        "[? rows x 2 columns]<br/>Note: Only the head of the SFrame is printed. This SFrame is lazily evaluated.<br/>You can use len(sf) to force materialization.\n",
        "</div>"
       ],
       "metadata": {},
       "output_type": "pyout",
       "prompt_number": 12,
       "text": [
        "Columns:\n",
        "\t__id\tstr\n",
        "\tgroup\tstr\n",
        "\n",
        "Rows: Unknown\n",
        "\n",
        "Data:\n",
        "+----------+-------+\n",
        "|   __id   | group |\n",
        "+----------+-------+\n",
        "|  ghana   |   G   |\n",
        "| portugal |   G   |\n",
        "|   usa    |   G   |\n",
        "| germany  |   G   |\n",
        "+----------+-------+\n",
        "[? rows x 2 columns]\n",
        "Note: Only the head of the SFrame is printed. This SFrame is lazily evaluated.\n",
        "You can use len(sf) to force materialization."
       ]
      }
     ],
     "prompt_number": 12
    },
    {
     "cell_type": "markdown",
     "metadata": {},
     "source": [
      "To materialize the subgraph, construct a new SGraph and add the edges of subgraph."
     ]
    },
    {
     "cell_type": "code",
     "collapsed": false,
     "input": [
      "subgraph = gl.SGraph()\n",
      "subgraph = subgraph.add_edges(sg.get_edges(src_ids=sub_verts['__id']))\n",
      "subgraph = subgraph.add_edges(sg.get_edges(dst_ids=sub_verts['__id']))\n",
      "subgraph.summary()"
     ],
     "language": "python",
     "metadata": {},
     "outputs": [
      {
       "metadata": {},
       "output_type": "pyout",
       "prompt_number": 13,
       "text": [
        "{'num_edges': 16, 'num_vertices': 4}"
       ]
      }
     ],
     "prompt_number": 13
    },
    {
     "cell_type": "code",
     "collapsed": false,
     "input": [
      "subgraph.show(vlabel='id', arrows=True, ewidth=2)"
     ],
     "language": "python",
     "metadata": {},
     "outputs": [],
     "prompt_number": 14
    },
    {
     "cell_type": "heading",
     "level": 2,
     "metadata": {},
     "source": [
      "Compute the total degree of each vertex"
     ]
    },
    {
     "cell_type": "markdown",
     "metadata": {},
     "source": [
      "In the SGraph demo, we used [triple apply](http://graphlab.com/products/create/docs/generated/graphlab.SGraph.triple_apply.html#graphlab.SGraph.triple_apply) to compute the in-degree for each node, which, in the context of our World Cup example, is the number of wins (plus ties for the group stage). Now extend this and use triple apply to compute the total degree of each vertex, which is the total number of games played (with ties counted twice for group stage games). For more on vertex degree, check out the [Wikipedia article](http://en.wikipedia.org/wiki/Degree_%28graph_theory%29).\n",
      "\n",
      "- <span style=\"color:red\">Define the function that counts the in-degree for each source-edge-destination triple.</span>\n",
      "- <span style=\"color:red\">Create a new vertex field with in-degree set to 0 for each vertex.</span>\n",
      "- <span style=\"color:red\">Use the triple apply function to compute in-degree for all nodes. Which team(s) did the best in the group stage?</span>"
     ]
    },
    {
     "cell_type": "markdown",
     "metadata": {},
     "source": [
      "For in-degree in the demo, we only incremented the answer on the source node. Now we have to increment the answer for both source and destination nodes."
     ]
    },
    {
     "cell_type": "code",
     "collapsed": false,
     "input": [
      "def increment_degree(src, edge, dst):\n",
      "    src['degree'] += 1\n",
      "    dst['degree'] += 1\n",
      "    return (src, edge, dst)"
     ],
     "language": "python",
     "metadata": {},
     "outputs": [],
     "prompt_number": 15
    },
    {
     "cell_type": "markdown",
     "metadata": {},
     "source": [
      "Add the 'degree' field to the vertex attributes. Note that adding vertices with the same id's to the graph does not cause duplicate entries."
     ]
    },
    {
     "cell_type": "code",
     "collapsed": false,
     "input": [
      "sf_vert['degree'] = 0\n",
      "sg = sg.add_vertices(sf_vert)\n",
      "\n",
      "sg.vertices"
     ],
     "language": "python",
     "metadata": {},
     "outputs": [
      {
       "html": [
        "<div style=\"max-height:1000px;max-width:1500px;overflow:auto;\"><table frame=\"box\" rules=\"cols\">\n",
        "    <tr>\n",
        "        <th style=\"padding-left: 1em; padding-right: 1em; text-align: center\">__id</th>\n",
        "        <th style=\"padding-left: 1em; padding-right: 1em; text-align: center\">group</th>\n",
        "        <th style=\"padding-left: 1em; padding-right: 1em; text-align: center\">degree</th>\n",
        "    </tr>\n",
        "    <tr>\n",
        "        <td style=\"padding-left: 1em; padding-right: 1em; text-align: center; vertical-align: top\">ghana</td>\n",
        "        <td style=\"padding-left: 1em; padding-right: 1em; text-align: center; vertical-align: top\">G</td>\n",
        "        <td style=\"padding-left: 1em; padding-right: 1em; text-align: center; vertical-align: top\">0</td>\n",
        "    </tr>\n",
        "    <tr>\n",
        "        <td style=\"padding-left: 1em; padding-right: 1em; text-align: center; vertical-align: top\">costa rica</td>\n",
        "        <td style=\"padding-left: 1em; padding-right: 1em; text-align: center; vertical-align: top\">D</td>\n",
        "        <td style=\"padding-left: 1em; padding-right: 1em; text-align: center; vertical-align: top\">0</td>\n",
        "    </tr>\n",
        "    <tr>\n",
        "        <td style=\"padding-left: 1em; padding-right: 1em; text-align: center; vertical-align: top\">portugal</td>\n",
        "        <td style=\"padding-left: 1em; padding-right: 1em; text-align: center; vertical-align: top\">G</td>\n",
        "        <td style=\"padding-left: 1em; padding-right: 1em; text-align: center; vertical-align: top\">0</td>\n",
        "    </tr>\n",
        "    <tr>\n",
        "        <td style=\"padding-left: 1em; padding-right: 1em; text-align: center; vertical-align: top\">usa</td>\n",
        "        <td style=\"padding-left: 1em; padding-right: 1em; text-align: center; vertical-align: top\">G</td>\n",
        "        <td style=\"padding-left: 1em; padding-right: 1em; text-align: center; vertical-align: top\">0</td>\n",
        "    </tr>\n",
        "    <tr>\n",
        "        <td style=\"padding-left: 1em; padding-right: 1em; text-align: center; vertical-align: top\">england</td>\n",
        "        <td style=\"padding-left: 1em; padding-right: 1em; text-align: center; vertical-align: top\">D</td>\n",
        "        <td style=\"padding-left: 1em; padding-right: 1em; text-align: center; vertical-align: top\">0</td>\n",
        "    </tr>\n",
        "    <tr>\n",
        "        <td style=\"padding-left: 1em; padding-right: 1em; text-align: center; vertical-align: top\">germany</td>\n",
        "        <td style=\"padding-left: 1em; padding-right: 1em; text-align: center; vertical-align: top\">G</td>\n",
        "        <td style=\"padding-left: 1em; padding-right: 1em; text-align: center; vertical-align: top\">0</td>\n",
        "    </tr>\n",
        "    <tr>\n",
        "        <td style=\"padding-left: 1em; padding-right: 1em; text-align: center; vertical-align: top\">italy</td>\n",
        "        <td style=\"padding-left: 1em; padding-right: 1em; text-align: center; vertical-align: top\">D</td>\n",
        "        <td style=\"padding-left: 1em; padding-right: 1em; text-align: center; vertical-align: top\">0</td>\n",
        "    </tr>\n",
        "    <tr>\n",
        "        <td style=\"padding-left: 1em; padding-right: 1em; text-align: center; vertical-align: top\">uruguay</td>\n",
        "        <td style=\"padding-left: 1em; padding-right: 1em; text-align: center; vertical-align: top\">D</td>\n",
        "        <td style=\"padding-left: 1em; padding-right: 1em; text-align: center; vertical-align: top\">0</td>\n",
        "    </tr>\n",
        "</table>\n",
        "[8 rows x 3 columns]<br/>\n",
        "</div>"
       ],
       "metadata": {},
       "output_type": "pyout",
       "prompt_number": 16,
       "text": [
        "Columns:\n",
        "\t__id\tstr\n",
        "\tgroup\tstr\n",
        "\tdegree\tint\n",
        "\n",
        "Rows: 8\n",
        "\n",
        "Data:\n",
        "+------------+-------+--------+\n",
        "|    __id    | group | degree |\n",
        "+------------+-------+--------+\n",
        "|   ghana    |   G   |   0    |\n",
        "| costa rica |   D   |   0    |\n",
        "|  portugal  |   G   |   0    |\n",
        "|    usa     |   G   |   0    |\n",
        "|  england   |   D   |   0    |\n",
        "|  germany   |   G   |   0    |\n",
        "|   italy    |   D   |   0    |\n",
        "|  uruguay   |   D   |   0    |\n",
        "+------------+-------+--------+\n",
        "[8 rows x 3 columns]"
       ]
      }
     ],
     "prompt_number": 16
    },
    {
     "cell_type": "code",
     "collapsed": false,
     "input": [
      "sg = sg.triple_apply(increment_degree, mutated_fields=['degree'])\n",
      "sg.vertices.sort('degree', ascending=False)"
     ],
     "language": "python",
     "metadata": {},
     "outputs": [
      {
       "html": [
        "PROGRESS: First Use of Python Lambda: Starting Lambda Workers. This might take a few seconds.<br/>"
       ],
       "metadata": {},
       "output_type": "display_data",
       "text": [
        "PROGRESS: First Use of Python Lambda: Starting Lambda Workers. This might take a few seconds."
       ]
      },
      {
       "html": [
        "<div style=\"max-height:1000px;max-width:1500px;overflow:auto;\"><table frame=\"box\" rules=\"cols\">\n",
        "    <tr>\n",
        "        <th style=\"padding-left: 1em; padding-right: 1em; text-align: center\">__id</th>\n",
        "        <th style=\"padding-left: 1em; padding-right: 1em; text-align: center\">group</th>\n",
        "        <th style=\"padding-left: 1em; padding-right: 1em; text-align: center\">degree</th>\n",
        "    </tr>\n",
        "    <tr>\n",
        "        <td style=\"padding-left: 1em; padding-right: 1em; text-align: center; vertical-align: top\">ghana</td>\n",
        "        <td style=\"padding-left: 1em; padding-right: 1em; text-align: center; vertical-align: top\">G</td>\n",
        "        <td style=\"padding-left: 1em; padding-right: 1em; text-align: center; vertical-align: top\">4</td>\n",
        "    </tr>\n",
        "    <tr>\n",
        "        <td style=\"padding-left: 1em; padding-right: 1em; text-align: center; vertical-align: top\">costa rica</td>\n",
        "        <td style=\"padding-left: 1em; padding-right: 1em; text-align: center; vertical-align: top\">D</td>\n",
        "        <td style=\"padding-left: 1em; padding-right: 1em; text-align: center; vertical-align: top\">4</td>\n",
        "    </tr>\n",
        "    <tr>\n",
        "        <td style=\"padding-left: 1em; padding-right: 1em; text-align: center; vertical-align: top\">portugal</td>\n",
        "        <td style=\"padding-left: 1em; padding-right: 1em; text-align: center; vertical-align: top\">G</td>\n",
        "        <td style=\"padding-left: 1em; padding-right: 1em; text-align: center; vertical-align: top\">4</td>\n",
        "    </tr>\n",
        "    <tr>\n",
        "        <td style=\"padding-left: 1em; padding-right: 1em; text-align: center; vertical-align: top\">usa</td>\n",
        "        <td style=\"padding-left: 1em; padding-right: 1em; text-align: center; vertical-align: top\">G</td>\n",
        "        <td style=\"padding-left: 1em; padding-right: 1em; text-align: center; vertical-align: top\">4</td>\n",
        "    </tr>\n",
        "    <tr>\n",
        "        <td style=\"padding-left: 1em; padding-right: 1em; text-align: center; vertical-align: top\">england</td>\n",
        "        <td style=\"padding-left: 1em; padding-right: 1em; text-align: center; vertical-align: top\">D</td>\n",
        "        <td style=\"padding-left: 1em; padding-right: 1em; text-align: center; vertical-align: top\">4</td>\n",
        "    </tr>\n",
        "    <tr>\n",
        "        <td style=\"padding-left: 1em; padding-right: 1em; text-align: center; vertical-align: top\">germany</td>\n",
        "        <td style=\"padding-left: 1em; padding-right: 1em; text-align: center; vertical-align: top\">G</td>\n",
        "        <td style=\"padding-left: 1em; padding-right: 1em; text-align: center; vertical-align: top\">4</td>\n",
        "    </tr>\n",
        "    <tr>\n",
        "        <td style=\"padding-left: 1em; padding-right: 1em; text-align: center; vertical-align: top\">italy</td>\n",
        "        <td style=\"padding-left: 1em; padding-right: 1em; text-align: center; vertical-align: top\">D</td>\n",
        "        <td style=\"padding-left: 1em; padding-right: 1em; text-align: center; vertical-align: top\">3</td>\n",
        "    </tr>\n",
        "    <tr>\n",
        "        <td style=\"padding-left: 1em; padding-right: 1em; text-align: center; vertical-align: top\">uruguay</td>\n",
        "        <td style=\"padding-left: 1em; padding-right: 1em; text-align: center; vertical-align: top\">D</td>\n",
        "        <td style=\"padding-left: 1em; padding-right: 1em; text-align: center; vertical-align: top\">3</td>\n",
        "    </tr>\n",
        "</table>\n",
        "[8 rows x 3 columns]<br/>\n",
        "</div>"
       ],
       "metadata": {},
       "output_type": "pyout",
       "prompt_number": 17,
       "text": [
        "Columns:\n",
        "\t__id\tstr\n",
        "\tgroup\tstr\n",
        "\tdegree\tint\n",
        "\n",
        "Rows: 8\n",
        "\n",
        "Data:\n",
        "+------------+-------+--------+\n",
        "|    __id    | group | degree |\n",
        "+------------+-------+--------+\n",
        "|   ghana    |   G   |   4    |\n",
        "| costa rica |   D   |   4    |\n",
        "|  portugal  |   G   |   4    |\n",
        "|    usa     |   G   |   4    |\n",
        "|  england   |   D   |   4    |\n",
        "|  germany   |   G   |   4    |\n",
        "|   italy    |   D   |   3    |\n",
        "|  uruguay   |   D   |   3    |\n",
        "+------------+-------+--------+\n",
        "[8 rows x 3 columns]"
       ]
      }
     ],
     "prompt_number": 17
    },
    {
     "cell_type": "markdown",
     "metadata": {},
     "source": [
      "In case the answer looks weird, don't forget that we counted tie games twice."
     ]
    },
    {
     "cell_type": "heading",
     "level": 2,
     "metadata": {},
     "source": [
      "Connected Components"
     ]
    },
    {
     "cell_type": "markdown",
     "metadata": {},
     "source": [
      "A [connected component](http://en.wikipedia.org/wiki/Connected_component_%28graph_theory%29) of a graph is a subgraph where every pair of nodes is connected by *some* path through the component. For two nodes in *different* connected components there is no path between them."
     ]
    },
    {
     "cell_type": "markdown",
     "metadata": {},
     "source": [
      "- <span style=\"color:red\">Use the [connected components toolkit](http://graphlab.com/products/create/docs/generated/graphlab.connected_components.create.html#graphlab.connected_components.create) for the group stage world cup results. How many are there?</span>\n",
      "- <span style=\"color:red\">Add the world cup results data from the graph analytics demo (i.e. the knockout stages) to the graph. The data are listed below for convenience.</span>\n",
      "- <span style=\"color:red\">Now how many connected components are there?</span>\n",
      "- <span style=\"color:red\">Show the whole graph - does the number of connected components make sense?</span>"
     ]
    },
    {
     "cell_type": "code",
     "collapsed": false,
     "input": [
      "cc = gl.connected_components.create(sg)\n",
      "cc.summary()"
     ],
     "language": "python",
     "metadata": {},
     "outputs": [
      {
       "html": [
        "PROGRESS: Num vertices updated: 6<br/>"
       ],
       "metadata": {},
       "output_type": "display_data",
       "text": [
        "PROGRESS: Num vertices updated: 6"
       ]
      },
      {
       "html": [
        "PROGRESS: Num vertices updated: 0<br/>"
       ],
       "metadata": {},
       "output_type": "display_data",
       "text": [
        "PROGRESS: Num vertices updated: 0"
       ]
      },
      {
       "metadata": {},
       "output_type": "pyout",
       "prompt_number": 18,
       "text": [
        "{'hyperparams': {}, 'num_of_components': 2, 'runtime': 0.118528}"
       ]
      }
     ],
     "prompt_number": 18
    },
    {
     "cell_type": "code",
     "collapsed": false,
     "input": [
      "cc.list_fields()"
     ],
     "language": "python",
     "metadata": {},
     "outputs": [
      {
       "metadata": {},
       "output_type": "pyout",
       "prompt_number": 19,
       "text": [
        "['num_of_components', 'runtime', 'componentid', 'graph', 'component_size']"
       ]
      }
     ],
     "prompt_number": 19
    },
    {
     "cell_type": "markdown",
     "metadata": {},
     "source": [
      "The result is returned in both the 'componentid' and 'graph' objects. The 'graph' object is an SGraph whose vertices have an attribute with the answer."
     ]
    },
    {
     "cell_type": "code",
     "collapsed": false,
     "input": [
      "cc_out = cc['componentid']\n",
      "cc_out"
     ],
     "language": "python",
     "metadata": {},
     "outputs": [
      {
       "html": [
        "<div style=\"max-height:1000px;max-width:1500px;overflow:auto;\"><table frame=\"box\" rules=\"cols\">\n",
        "    <tr>\n",
        "        <th style=\"padding-left: 1em; padding-right: 1em; text-align: center\">__id</th>\n",
        "        <th style=\"padding-left: 1em; padding-right: 1em; text-align: center\">componentid</th>\n",
        "    </tr>\n",
        "    <tr>\n",
        "        <td style=\"padding-left: 1em; padding-right: 1em; text-align: center; vertical-align: top\">ghana</td>\n",
        "        <td style=\"padding-left: 1em; padding-right: 1em; text-align: center; vertical-align: top\">0</td>\n",
        "    </tr>\n",
        "    <tr>\n",
        "        <td style=\"padding-left: 1em; padding-right: 1em; text-align: center; vertical-align: top\">costa rica</td>\n",
        "        <td style=\"padding-left: 1em; padding-right: 1em; text-align: center; vertical-align: top\">1</td>\n",
        "    </tr>\n",
        "    <tr>\n",
        "        <td style=\"padding-left: 1em; padding-right: 1em; text-align: center; vertical-align: top\">portugal</td>\n",
        "        <td style=\"padding-left: 1em; padding-right: 1em; text-align: center; vertical-align: top\">0</td>\n",
        "    </tr>\n",
        "    <tr>\n",
        "        <td style=\"padding-left: 1em; padding-right: 1em; text-align: center; vertical-align: top\">usa</td>\n",
        "        <td style=\"padding-left: 1em; padding-right: 1em; text-align: center; vertical-align: top\">0</td>\n",
        "    </tr>\n",
        "    <tr>\n",
        "        <td style=\"padding-left: 1em; padding-right: 1em; text-align: center; vertical-align: top\">england</td>\n",
        "        <td style=\"padding-left: 1em; padding-right: 1em; text-align: center; vertical-align: top\">1</td>\n",
        "    </tr>\n",
        "    <tr>\n",
        "        <td style=\"padding-left: 1em; padding-right: 1em; text-align: center; vertical-align: top\">germany</td>\n",
        "        <td style=\"padding-left: 1em; padding-right: 1em; text-align: center; vertical-align: top\">0</td>\n",
        "    </tr>\n",
        "    <tr>\n",
        "        <td style=\"padding-left: 1em; padding-right: 1em; text-align: center; vertical-align: top\">italy</td>\n",
        "        <td style=\"padding-left: 1em; padding-right: 1em; text-align: center; vertical-align: top\">1</td>\n",
        "    </tr>\n",
        "    <tr>\n",
        "        <td style=\"padding-left: 1em; padding-right: 1em; text-align: center; vertical-align: top\">uruguay</td>\n",
        "        <td style=\"padding-left: 1em; padding-right: 1em; text-align: center; vertical-align: top\">1</td>\n",
        "    </tr>\n",
        "</table>\n",
        "[8 rows x 2 columns]<br/>\n",
        "</div>"
       ],
       "metadata": {},
       "output_type": "pyout",
       "prompt_number": 20,
       "text": [
        "Columns:\n",
        "\t__id\tstr\n",
        "\tcomponentid\tint\n",
        "\n",
        "Rows: 8\n",
        "\n",
        "Data:\n",
        "+------------+-------------+\n",
        "|    __id    | componentid |\n",
        "+------------+-------------+\n",
        "|   ghana    |      0      |\n",
        "| costa rica |      1      |\n",
        "|  portugal  |      0      |\n",
        "|    usa     |      0      |\n",
        "|  england   |      1      |\n",
        "|  germany   |      0      |\n",
        "|   italy    |      1      |\n",
        "|  uruguay   |      1      |\n",
        "+------------+-------------+\n",
        "[8 rows x 2 columns]"
       ]
      }
     ],
     "prompt_number": 20
    },
    {
     "cell_type": "code",
     "collapsed": false,
     "input": [
      "cc['graph'].vertices"
     ],
     "language": "python",
     "metadata": {},
     "outputs": [
      {
       "html": [
        "<div style=\"max-height:1000px;max-width:1500px;overflow:auto;\"><table frame=\"box\" rules=\"cols\">\n",
        "    <tr>\n",
        "        <th style=\"padding-left: 1em; padding-right: 1em; text-align: center\">__id</th>\n",
        "        <th style=\"padding-left: 1em; padding-right: 1em; text-align: center\">componentid</th>\n",
        "    </tr>\n",
        "    <tr>\n",
        "        <td style=\"padding-left: 1em; padding-right: 1em; text-align: center; vertical-align: top\">ghana</td>\n",
        "        <td style=\"padding-left: 1em; padding-right: 1em; text-align: center; vertical-align: top\">0</td>\n",
        "    </tr>\n",
        "    <tr>\n",
        "        <td style=\"padding-left: 1em; padding-right: 1em; text-align: center; vertical-align: top\">costa rica</td>\n",
        "        <td style=\"padding-left: 1em; padding-right: 1em; text-align: center; vertical-align: top\">1</td>\n",
        "    </tr>\n",
        "    <tr>\n",
        "        <td style=\"padding-left: 1em; padding-right: 1em; text-align: center; vertical-align: top\">portugal</td>\n",
        "        <td style=\"padding-left: 1em; padding-right: 1em; text-align: center; vertical-align: top\">0</td>\n",
        "    </tr>\n",
        "    <tr>\n",
        "        <td style=\"padding-left: 1em; padding-right: 1em; text-align: center; vertical-align: top\">usa</td>\n",
        "        <td style=\"padding-left: 1em; padding-right: 1em; text-align: center; vertical-align: top\">0</td>\n",
        "    </tr>\n",
        "    <tr>\n",
        "        <td style=\"padding-left: 1em; padding-right: 1em; text-align: center; vertical-align: top\">england</td>\n",
        "        <td style=\"padding-left: 1em; padding-right: 1em; text-align: center; vertical-align: top\">1</td>\n",
        "    </tr>\n",
        "    <tr>\n",
        "        <td style=\"padding-left: 1em; padding-right: 1em; text-align: center; vertical-align: top\">germany</td>\n",
        "        <td style=\"padding-left: 1em; padding-right: 1em; text-align: center; vertical-align: top\">0</td>\n",
        "    </tr>\n",
        "    <tr>\n",
        "        <td style=\"padding-left: 1em; padding-right: 1em; text-align: center; vertical-align: top\">italy</td>\n",
        "        <td style=\"padding-left: 1em; padding-right: 1em; text-align: center; vertical-align: top\">1</td>\n",
        "    </tr>\n",
        "    <tr>\n",
        "        <td style=\"padding-left: 1em; padding-right: 1em; text-align: center; vertical-align: top\">uruguay</td>\n",
        "        <td style=\"padding-left: 1em; padding-right: 1em; text-align: center; vertical-align: top\">1</td>\n",
        "    </tr>\n",
        "</table>\n",
        "[8 rows x 2 columns]<br/>\n",
        "</div>"
       ],
       "metadata": {},
       "output_type": "pyout",
       "prompt_number": 21,
       "text": [
        "Columns:\n",
        "\t__id\tstr\n",
        "\tcomponentid\tint\n",
        "\n",
        "Rows: 8\n",
        "\n",
        "Data:\n",
        "+------------+-------------+\n",
        "|    __id    | componentid |\n",
        "+------------+-------------+\n",
        "|   ghana    |      0      |\n",
        "| costa rica |      1      |\n",
        "|  portugal  |      0      |\n",
        "|    usa     |      0      |\n",
        "|  england   |      1      |\n",
        "|  germany   |      0      |\n",
        "|   italy    |      1      |\n",
        "|  uruguay   |      1      |\n",
        "+------------+-------------+\n",
        "[8 rows x 2 columns]"
       ]
      }
     ],
     "prompt_number": 21
    },
    {
     "cell_type": "code",
     "collapsed": false,
     "input": [
      "countries = {\n",
      "    'argentina': 'south america',\n",
      "    'switzerland': 'europe' ,\n",
      "    'france': 'europe',\n",
      "    'greece': 'europe',\n",
      "    'netherlands': 'europe',\n",
      "    'costa rica': 'north america',\n",
      "    'algeria': 'africa',\n",
      "    'belgium': 'europe',\n",
      "    'brazil': 'south america',\n",
      "    'colombia': 'south america',\n",
      "    'nigeria': 'africa',\n",
      "    'usa': 'north america',\n",
      "    'germany': 'europe',\n",
      "    'chile': 'south america',\n",
      "    'mexico': 'north america',\n",
      "    'uruguay': 'south america'}\n",
      "\n",
      "results = [\n",
      "    ('chile', 'brazil', 'belo horizonte'),\n",
      "    ('uruguay', 'colombia', 'rio de janeiro'),\n",
      "    ('nigeria', 'france', 'brasilia'),\n",
      "    ('algeria', 'germany', 'porto alegre'),\n",
      "    ('mexico', 'netherlands', 'fortaleza'),\n",
      "    ('greece', 'costa rica', 'recife'),\n",
      "    ('switzerland', 'argentina', 'sao paulo'),\n",
      "    ('usa', 'belgium', 'salvador'),\n",
      "    ('colombia', 'brazil', 'fortaleza'),\n",
      "    ('france', 'germany', 'rio de janeiro'),\n",
      "    ('costa rica', 'netherlands', 'salvador'),\n",
      "    ('belgium', 'argentina', 'brasilia'),\n",
      "    ('brazil', 'germany', 'belo horizonte'),\n",
      "    ('netherlands', 'argentina', 'sao paulo'),\n",
      "    ('argentina', 'germany', 'rio de janeiro')]"
     ],
     "language": "python",
     "metadata": {},
     "outputs": [],
     "prompt_number": 22
    },
    {
     "cell_type": "code",
     "collapsed": false,
     "input": [
      "verts = gl.SFrame({'name': countries.keys(),\n",
      "                   'continent': countries.values()})\n",
      "\n",
      "losers, winners, locations = zip(*results)\n",
      "edges = gl.SFrame({'loser': list(losers),\n",
      "                   'winner': list(winners),\n",
      "                   'location': list(locations)})"
     ],
     "language": "python",
     "metadata": {},
     "outputs": [],
     "prompt_number": 23
    },
    {
     "cell_type": "code",
     "collapsed": false,
     "input": [
      "sg = sg.add_vertices(verts, vid_field='name')\n",
      "sg = sg.add_edges(edges, src_field='loser', dst_field='winner')\n",
      "sg.summary()"
     ],
     "language": "python",
     "metadata": {},
     "outputs": [
      {
       "metadata": {},
       "output_type": "pyout",
       "prompt_number": 24,
       "text": [
        "{'num_edges': 30, 'num_vertices': 20}"
       ]
      }
     ],
     "prompt_number": 24
    },
    {
     "cell_type": "code",
     "collapsed": false,
     "input": [
      "sg.show(vlabel='id', arrows=True, ewidth=1.5)"
     ],
     "language": "python",
     "metadata": {},
     "outputs": [],
     "prompt_number": 25
    },
    {
     "cell_type": "code",
     "collapsed": false,
     "input": [
      "cc = gl.connected_components.create(sg)\n",
      "print \"number of components:\", cc['num_of_components']"
     ],
     "language": "python",
     "metadata": {},
     "outputs": [
      {
       "html": [
        "PROGRESS: Num vertices updated: 21<br/>"
       ],
       "metadata": {},
       "output_type": "display_data",
       "text": [
        "PROGRESS: Num vertices updated: 21"
       ]
      },
      {
       "html": [
        "PROGRESS: Num vertices updated: 10<br/>"
       ],
       "metadata": {},
       "output_type": "display_data",
       "text": [
        "PROGRESS: Num vertices updated: 10"
       ]
      },
      {
       "html": [
        "PROGRESS: Num vertices updated: 1<br/>"
       ],
       "metadata": {},
       "output_type": "display_data",
       "text": [
        "PROGRESS: Num vertices updated: 1"
       ]
      },
      {
       "html": [
        "PROGRESS: Num vertices updated: 0<br/>"
       ],
       "metadata": {},
       "output_type": "display_data",
       "text": [
        "PROGRESS: Num vertices updated: 0"
       ]
      },
      {
       "output_type": "stream",
       "stream": "stdout",
       "text": [
        "number of components: 1\n"
       ]
      }
     ],
     "prompt_number": 26
    },
    {
     "cell_type": "heading",
     "level": 2,
     "metadata": {},
     "source": [
      "Bonus exercise"
     ]
    },
    {
     "cell_type": "markdown",
     "metadata": {},
     "source": [
      "In the demo, we used pagerank to find the Wikipedia articles on US businesses with the most influence, according to the links  between the documents. <span style=\"color:red\">Now find the most influential articles in the entire Wikipedia dataset.</span> The SGraph of all Wikipedia articles and links is available on the thumb drives - no data preprocessing should be necessary.\n",
      "\n",
      "<span style=\"color:red\">HINT: Approximate solutions are often good enough, especially for big graphs. Convergence may not be necessary.</span>\n",
      "\n",
      "As in the demo, please note: this data is under the Creative Commons Attribution-ShareAlike 3.0 Unported License.  (More details here: http://en.wikipedia.org/wiki/Wikipedia:Copyrights)"
     ]
    },
    {
     "cell_type": "code",
     "collapsed": false,
     "input": [
      "sg = gl.load_sgraph('wikipedia_links_sgraph')\n",
      "sg.summary()"
     ],
     "language": "python",
     "metadata": {},
     "outputs": [
      {
       "metadata": {},
       "output_type": "pyout",
       "prompt_number": 27,
       "text": [
        "{'num_edges': 139266950, 'num_vertices': 15683108}"
       ]
      }
     ],
     "prompt_number": 27
    },
    {
     "cell_type": "code",
     "collapsed": false,
     "input": [
      "pr = gl.pagerank.create(sg, max_iterations=5)"
     ],
     "language": "python",
     "metadata": {},
     "outputs": [
      {
       "html": [
        "PROGRESS: Finish iteration 1 in 45.1355 secs.\n",
        "Total L1 change in pagerank = 1.69018e+07<br/>"
       ],
       "metadata": {},
       "output_type": "display_data",
       "text": [
        "PROGRESS: Finish iteration 1 in 45.1355 secs.\n",
        "Total L1 change in pagerank = 1.69018e+07"
       ]
      },
      {
       "html": [
        "PROGRESS: Finish iteration 2 in 45.5842 secs.\n",
        "Total L1 change in pagerank = 4.87607e+06<br/>"
       ],
       "metadata": {},
       "output_type": "display_data",
       "text": [
        "PROGRESS: Finish iteration 2 in 45.5842 secs.\n",
        "Total L1 change in pagerank = 4.87607e+06"
       ]
      },
      {
       "html": [
        "PROGRESS: Finish iteration 3 in 45.0888 secs.\n",
        "Total L1 change in pagerank = 1.75873e+06<br/>"
       ],
       "metadata": {},
       "output_type": "display_data",
       "text": [
        "PROGRESS: Finish iteration 3 in 45.0888 secs.\n",
        "Total L1 change in pagerank = 1.75873e+06"
       ]
      },
      {
       "html": [
        "PROGRESS: Finish iteration 4 in 44.3683 secs.\n",
        "Total L1 change in pagerank = 721950<br/>"
       ],
       "metadata": {},
       "output_type": "display_data",
       "text": [
        "PROGRESS: Finish iteration 4 in 44.3683 secs.\n",
        "Total L1 change in pagerank = 721950"
       ]
      },
      {
       "html": [
        "PROGRESS: Finish iteration 5 in 45.0232 secs.\n",
        "Total L1 change in pagerank = 417408<br/>"
       ],
       "metadata": {},
       "output_type": "display_data",
       "text": [
        "PROGRESS: Finish iteration 5 in 45.0232 secs.\n",
        "Total L1 change in pagerank = 417408"
       ]
      }
     ],
     "prompt_number": 28
    },
    {
     "cell_type": "code",
     "collapsed": false,
     "input": [
      "pr_out = pr['pagerank']\n",
      "pr_out.topk('pagerank', k=10)"
     ],
     "language": "python",
     "metadata": {},
     "outputs": [
      {
       "html": [
        "<div style=\"max-height:1000px;max-width:1500px;overflow:auto;\"><table frame=\"box\" rules=\"cols\">\n",
        "    <tr>\n",
        "        <th style=\"padding-left: 1em; padding-right: 1em; text-align: center\">__id</th>\n",
        "        <th style=\"padding-left: 1em; padding-right: 1em; text-align: center\">pagerank</th>\n",
        "    </tr>\n",
        "    <tr>\n",
        "        <td style=\"padding-left: 1em; padding-right: 1em; text-align: center; vertical-align: top\">United States</td>\n",
        "        <td style=\"padding-left: 1em; padding-right: 1em; text-align: center; vertical-align: top\">16918.8087944</td>\n",
        "    </tr>\n",
        "    <tr>\n",
        "        <td style=\"padding-left: 1em; padding-right: 1em; text-align: center; vertical-align: top\">France</td>\n",
        "        <td style=\"padding-left: 1em; padding-right: 1em; text-align: center; vertical-align: top\">6077.38120811</td>\n",
        "    </tr>\n",
        "    <tr>\n",
        "        <td style=\"padding-left: 1em; padding-right: 1em; text-align: center; vertical-align: top\">Germany</td>\n",
        "        <td style=\"padding-left: 1em; padding-right: 1em; text-align: center; vertical-align: top\">5921.22602159</td>\n",
        "    </tr>\n",
        "    <tr>\n",
        "        <td style=\"padding-left: 1em; padding-right: 1em; text-align: center; vertical-align: top\">United Kingdom</td>\n",
        "        <td style=\"padding-left: 1em; padding-right: 1em; text-align: center; vertical-align: top\">5832.90106238</td>\n",
        "    </tr>\n",
        "    <tr>\n",
        "        <td style=\"padding-left: 1em; padding-right: 1em; text-align: center; vertical-align: top\">World War II</td>\n",
        "        <td style=\"padding-left: 1em; padding-right: 1em; text-align: center; vertical-align: top\">5386.07990775</td>\n",
        "    </tr>\n",
        "    <tr>\n",
        "        <td style=\"padding-left: 1em; padding-right: 1em; text-align: center; vertical-align: top\">Canada</td>\n",
        "        <td style=\"padding-left: 1em; padding-right: 1em; text-align: center; vertical-align: top\">5308.88985844</td>\n",
        "    </tr>\n",
        "    <tr>\n",
        "        <td style=\"padding-left: 1em; padding-right: 1em; text-align: center; vertical-align: top\">England</td>\n",
        "        <td style=\"padding-left: 1em; padding-right: 1em; text-align: center; vertical-align: top\">5046.04500108</td>\n",
        "    </tr>\n",
        "    <tr>\n",
        "        <td style=\"padding-left: 1em; padding-right: 1em; text-align: center; vertical-align: top\">The New York Times</td>\n",
        "        <td style=\"padding-left: 1em; padding-right: 1em; text-align: center; vertical-align: top\">4755.49614578</td>\n",
        "    </tr>\n",
        "    <tr>\n",
        "        <td style=\"padding-left: 1em; padding-right: 1em; text-align: center; vertical-align: top\">India</td>\n",
        "        <td style=\"padding-left: 1em; padding-right: 1em; text-align: center; vertical-align: top\">4729.45616826</td>\n",
        "    </tr>\n",
        "    <tr>\n",
        "        <td style=\"padding-left: 1em; padding-right: 1em; text-align: center; vertical-align: top\">Japan</td>\n",
        "        <td style=\"padding-left: 1em; padding-right: 1em; text-align: center; vertical-align: top\">4147.61441265</td>\n",
        "    </tr>\n",
        "</table>\n",
        "[10 rows x 2 columns]<br/>\n",
        "</div>"
       ],
       "metadata": {},
       "output_type": "pyout",
       "prompt_number": 29,
       "text": [
        "Columns:\n",
        "\t__id\tstr\n",
        "\tpagerank\tfloat\n",
        "\n",
        "Rows: 10\n",
        "\n",
        "Data:\n",
        "+--------------------+---------------+\n",
        "|        __id        |    pagerank   |\n",
        "+--------------------+---------------+\n",
        "|   United States    | 16918.8087944 |\n",
        "|       France       | 6077.38120811 |\n",
        "|      Germany       | 5921.22602159 |\n",
        "|   United Kingdom   | 5832.90106238 |\n",
        "|    World War II    | 5386.07990775 |\n",
        "|       Canada       | 5308.88985844 |\n",
        "|      England       | 5046.04500108 |\n",
        "| The New York Times | 4755.49614578 |\n",
        "|       India        | 4729.45616826 |\n",
        "|       Japan        | 4147.61441265 |\n",
        "+--------------------+---------------+\n",
        "[10 rows x 2 columns]"
       ]
      }
     ],
     "prompt_number": 29
    }
   ],
   "metadata": {}
  }
 ]
}