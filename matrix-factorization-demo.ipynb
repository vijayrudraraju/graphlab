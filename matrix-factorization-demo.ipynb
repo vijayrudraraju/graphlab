{
 "metadata": {
  "name": "",
  "signature": "sha256:7deadec3419119f7b486f70af650327f3021d76dc2fe5087bf1b16b5c8a35b14"
 },
 "nbformat": 3,
 "nbformat_minor": 0,
 "worksheets": [
  {
   "cells": [
    {
     "cell_type": "code",
     "collapsed": false,
     "input": [
      "import graphlab\n",
      "graphlab.canvas.set_target(\"ipynb\")\n",
      "rating_sf = graphlab.SFrame('ratings')\n",
      "users = graphlab.SFrame('users')\n",
      "items = graphlab.SFrame('items')"
     ],
     "language": "python",
     "metadata": {},
     "outputs": []
    },
    {
     "cell_type": "code",
     "collapsed": false,
     "input": [
      "rating_sf.show()"
     ],
     "language": "python",
     "metadata": {},
     "outputs": []
    },
    {
     "cell_type": "code",
     "collapsed": false,
     "input": [
      "(train, test) = graphlab.recommender.random_split_by_user(rating_sf, 'user_id', 'movie_id', min_items_per_user=20)"
     ],
     "language": "python",
     "metadata": {},
     "outputs": []
    },
    {
     "cell_type": "code",
     "collapsed": false,
     "input": [
      "itemcf = graphlab.recommender.create(train[train['rating'] > 4], 'user_id', 'movie_id', method='item_similarity')\n",
      "pop    = graphlab.recommender.create(train[train['rating'] > 4], 'user_id', 'movie_id', method='popularity')"
     ],
     "language": "python",
     "metadata": {},
     "outputs": []
    },
    {
     "cell_type": "code",
     "collapsed": false,
     "input": [
      "m = graphlab.recommender.create(train, 'user_id', 'movie_id', 'rating')"
     ],
     "language": "python",
     "metadata": {},
     "outputs": []
    },
    {
     "cell_type": "code",
     "collapsed": false,
     "input": [
      "m"
     ],
     "language": "python",
     "metadata": {},
     "outputs": []
    },
    {
     "cell_type": "code",
     "collapsed": false,
     "input": [
      "m['coefficients']"
     ],
     "language": "python",
     "metadata": {},
     "outputs": []
    },
    {
     "cell_type": "code",
     "collapsed": false,
     "input": [
      "graphlab.recommender.compare_models(test[test['rating'] > 4], \n",
      "                                    [pop, itemcf, m], \n",
      "                                    user_sample=0.2, \n",
      "                                    metric='precision_recall')"
     ],
     "language": "python",
     "metadata": {},
     "outputs": []
    },
    {
     "cell_type": "heading",
     "level": 3,
     "metadata": {},
     "source": [
      "Optimizing for ranking"
     ]
    },
    {
     "cell_type": "code",
     "collapsed": false,
     "input": [
      "m_rank = graphlab.recommender.create(train, 'user_id', 'movie_id', 'rating', \n",
      "                                     unobserved_rating_value=3, \n",
      "                                     unobserved_rating_regularization=1)"
     ],
     "language": "python",
     "metadata": {},
     "outputs": []
    },
    {
     "cell_type": "code",
     "collapsed": false,
     "input": [
      "results = graphlab.recommender.compare_models(test[test['rating'] > 4], \n",
      "                                              [pop, itemcf, m, m_rank], \n",
      "                                              user_sample=0.2, \n",
      "                                              metric='precision_recall')"
     ],
     "language": "python",
     "metadata": {},
     "outputs": []
    },
    {
     "cell_type": "code",
     "collapsed": false,
     "input": [
      "results[3]['precision'].mean()"
     ],
     "language": "python",
     "metadata": {},
     "outputs": []
    },
    {
     "cell_type": "heading",
     "level": 3,
     "metadata": {},
     "source": [
      "Experimenting with side features"
     ]
    },
    {
     "cell_type": "code",
     "collapsed": false,
     "input": [
      "user_sf = graphlab.SFrame('users')\n",
      "item_sf = graphlab.SFrame('items')"
     ],
     "language": "python",
     "metadata": {},
     "outputs": []
    },
    {
     "cell_type": "code",
     "collapsed": false,
     "input": [
      "m_user = graphlab.recommender.create(train, 'user_id', 'movie_id', 'rating', \n",
      "                                     user_data=user_sf)\n",
      "m_item = graphlab.recommender.create(train, 'user_id', 'movie_id', 'rating', \n",
      "                                     item_data=item_sf)\n",
      "m_both = graphlab.recommender.create(train, 'user_id', 'movie_id', 'rating', \n",
      "                                     user_data=user_sf, item_data=item_sf)"
     ],
     "language": "python",
     "metadata": {},
     "outputs": []
    },
    {
     "cell_type": "code",
     "collapsed": false,
     "input": [
      "m_both"
     ],
     "language": "python",
     "metadata": {},
     "outputs": []
    },
    {
     "cell_type": "code",
     "collapsed": false,
     "input": [
      "results = graphlab.recommender.compare_models(test, [m, m_user, m_item, m_both], user_sample=0.2)"
     ],
     "language": "python",
     "metadata": {},
     "outputs": []
    },
    {
     "cell_type": "code",
     "collapsed": false,
     "input": [
      "[results[i]['rmse_overall'] for i in range(len(results))]"
     ],
     "language": "python",
     "metadata": {},
     "outputs": []
    },
    {
     "cell_type": "code",
     "collapsed": false,
     "input": [
      "results[0]['rmse_by_item'].show()"
     ],
     "language": "python",
     "metadata": {},
     "outputs": []
    },
    {
     "cell_type": "code",
     "collapsed": false,
     "input": [
      "graphlab.recommender.compare_models(test[test['rating'] > 4], \n",
      "                                    [m_rank, m_both], \n",
      "                                    user_sample=0.2, \n",
      "                                    metric='precision_recall')"
     ],
     "language": "python",
     "metadata": {},
     "outputs": []
    },
    {
     "cell_type": "heading",
     "level": 3,
     "metadata": {},
     "source": [
      "Factorization machines"
     ]
    },
    {
     "cell_type": "code",
     "collapsed": false,
     "input": [
      "fm = graphlab.recommender.create(train.head(10000), 'user_id', 'movie_id', 'rating',\n",
      "                                 method='factorization_model',\n",
      "                                 item_data=item_sf, \n",
      "                                 sgd_step_size=0.09,\n",
      "                                 max_iterations=10)"
     ],
     "language": "python",
     "metadata": {},
     "outputs": []
    },
    {
     "cell_type": "code",
     "collapsed": false,
     "input": [],
     "language": "python",
     "metadata": {},
     "outputs": []
    }
   ],
   "metadata": {}
  }
 ]
}