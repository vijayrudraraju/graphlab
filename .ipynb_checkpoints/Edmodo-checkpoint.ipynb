{
 "metadata": {
  "name": "",
  "signature": "sha256:e2dd68517cd0b40dea27d248d02c4d18323b644d3a0d6d6ffcc5e832544b674b"
 },
 "nbformat": 3,
 "nbformat_minor": 0,
 "worksheets": [
  {
   "cells": [
    {
     "cell_type": "code",
     "collapsed": false,
     "input": [
      "import graphlab as gl"
     ],
     "language": "python",
     "metadata": {},
     "outputs": [
      {
       "output_type": "stream",
       "stream": "stderr",
       "text": [
        "[WARNING] Numpy version 1.6.2 is not supported. Minimum required version: 1.8.0. Numpy support will be disabled.\n"
       ]
      }
     ],
     "prompt_number": 1
    },
    {
     "cell_type": "code",
     "collapsed": false,
     "input": [
      "import MySQLdb"
     ],
     "language": "python",
     "metadata": {},
     "outputs": [],
     "prompt_number": 2
    },
    {
     "cell_type": "code",
     "collapsed": false,
     "input": [
      "import csv\n",
      "from types import *"
     ],
     "language": "python",
     "metadata": {},
     "outputs": [],
     "prompt_number": 65
    },
    {
     "cell_type": "code",
     "collapsed": false,
     "input": [
      "HOST = \"production-master-adhoc-read.edmodo.com\"\n",
      "USER = \"moanwime20130409\"\n",
      "NAME = \"zendmodo\"\n",
      "PASSWD = \"7tjYDVzuxpLetC1BvOtg4avUdCLNzl\""
     ],
     "language": "python",
     "metadata": {},
     "outputs": [],
     "prompt_number": 35
    },
    {
     "cell_type": "code",
     "collapsed": false,
     "input": [
      "FILENAME=\"/Users/vijay/Desktop/gl_conf_data/edmodo_small.csv\"\n",
      "QUERY=\"\"\"SELECT md.message_id, md.content, md.last_updated\n",
      "FROM message_data as md\n",
      "INNER JOIN messages as m ON m.message_id = md.message_id\n",
      "WHERE md.last_updated > \"2014-02-01\" AND md.last_updated < \"2014-02-03\" AND m.creator_id > 100\"\"\""
     ],
     "language": "python",
     "metadata": {},
     "outputs": [],
     "prompt_number": 36
    },
    {
     "cell_type": "code",
     "collapsed": false,
     "input": [
      "db = MySQLdb.connect(host=HOST, user=USER, passwd=PASSWD, db=NAME)\n",
      "cur = db.cursor()\n",
      "cur.execute(QUERY)\n",
      "all_rows = cur.fetchall()\n",
      "db.close()"
     ],
     "language": "python",
     "metadata": {},
     "outputs": [],
     "prompt_number": 55
    },
    {
     "cell_type": "code",
     "collapsed": false,
     "input": [
      "len(all_rows)"
     ],
     "language": "python",
     "metadata": {},
     "outputs": [
      {
       "metadata": {},
       "output_type": "pyout",
       "prompt_number": 56,
       "text": [
        "171045"
       ]
      }
     ],
     "prompt_number": 56
    },
    {
     "cell_type": "code",
     "collapsed": false,
     "input": [
      "csv_writer = csv.writer(open(FILENAME,'w'))"
     ],
     "language": "python",
     "metadata": {},
     "outputs": [],
     "prompt_number": 94
    },
    {
     "cell_type": "code",
     "collapsed": false,
     "input": [
      "for idx, row in enumerate(all_rows):\n",
      "    new_row = list(row)\n",
      "    if type(new_row[1]) is not NoneType:\n",
      "        new_row[1] = new_row[1].replace('\\n',' ')\n",
      "        new_row[1] = new_row[1].replace('\\r',' ')\n",
      "        new_row[1] = new_row[1].replace('\\f',' ')\n",
      "        new_row[1] = new_row[1].replace('\\\\',' ')\n",
      "        new_row[1] = new_row[1].replace('/',' ')\n",
      "        csv_writer.writerow(tuple(new_row))"
     ],
     "language": "python",
     "metadata": {},
     "outputs": [],
     "prompt_number": 95
    },
    {
     "cell_type": "code",
     "collapsed": false,
     "input": [
      "documents = gl.SFrame.read_csv(FILENAME, header=False)"
     ],
     "language": "python",
     "metadata": {},
     "outputs": [
      {
       "html": [
        "PROGRESS: Finished parsing file /Users/vijay/Desktop/gl_conf_data/edmodo_small.csv<br/>"
       ],
       "metadata": {},
       "output_type": "display_data",
       "text": [
        "PROGRESS: Finished parsing file /Users/vijay/Desktop/gl_conf_data/edmodo_small.csv"
       ]
      },
      {
       "html": [
        "PROGRESS: Parsing completed. Parsed 100 lines in 0.223228 secs.<br/>"
       ],
       "metadata": {},
       "output_type": "display_data",
       "text": [
        "PROGRESS: Parsing completed. Parsed 100 lines in 0.223228 secs."
       ]
      },
      {
       "html": [
        "PROGRESS: Finished parsing file /Users/vijay/Desktop/gl_conf_data/edmodo_small.csv<br/>"
       ],
       "metadata": {},
       "output_type": "display_data",
       "text": [
        "PROGRESS: Finished parsing file /Users/vijay/Desktop/gl_conf_data/edmodo_small.csv"
       ]
      },
      {
       "html": [
        "PROGRESS: Parsing completed. Parsed 171032 lines in 0.75612 secs.<br/>"
       ],
       "metadata": {},
       "output_type": "display_data",
       "text": [
        "PROGRESS: Parsing completed. Parsed 171032 lines in 0.75612 secs."
       ]
      },
      {
       "output_type": "stream",
       "stream": "stdout",
       "text": [
        "Could not detect types. Using str for each column.\n"
       ]
      }
     ],
     "prompt_number": 100
    },
    {
     "cell_type": "code",
     "collapsed": false,
     "input": [
      "documents.num_rows"
     ],
     "language": "python",
     "metadata": {},
     "outputs": [
      {
       "metadata": {},
       "output_type": "pyout",
       "prompt_number": 101,
       "text": [
        "<bound method SFrame.num_rows of Columns:\n",
        "\tX1\tstr\n",
        "\tX2\tstr\n",
        "\tX3\tstr\n",
        "\n",
        "Rows: 171032\n",
        "\n",
        "Data:\n",
        "+-----------+--------------------------------+---------------------+\n",
        "|     X1    |               X2               |          X3         |\n",
        "+-----------+--------------------------------+---------------------+\n",
        "| 203589135 |                                | 2014-02-01 00:00:01 |\n",
        "| 203589137 | Bienvenido al Modulo de En ... | 2014-02-01 00:00:02 |\n",
        "| 203589139 | Ensayo del Poder de las pa ... | 2014-02-01 00:00:02 |\n",
        "| 203589141 |           Thank you.           | 2014-02-01 00:00:02 |\n",
        "| 203589143 |          bienvenidos           | 2014-02-01 00:00:02 |\n",
        "| 203589145 |          felicidades           | 2014-02-01 00:00:02 |\n",
        "| 203589147 |           Edmodo # 4           | 2014-02-01 00:00:03 |\n",
        "| 203589149 | ASIENDO EL PORTAL AL NEDER ... | 2014-02-01 00:00:03 |\n",
        "| 203589151 | Weekly Current Event Posti ... | 2014-02-01 00:00:03 |\n",
        "| 203589153 |                                | 2014-02-01 00:00:03 |\n",
        "|    ...    |              ...               |         ...         |\n",
        "+-----------+--------------------------------+---------------------+\n",
        "[171032 rows x 3 columns]\n",
        "Note: Only the head of the SFrame is printed.\n",
        "You can use print_rows(num_rows=m, num_columns=n) to print more rows and columns.>"
       ]
      }
     ],
     "prompt_number": 101
    },
    {
     "cell_type": "code",
     "collapsed": false,
     "input": [
      "documents['X2'].count_words()"
     ],
     "language": "python",
     "metadata": {},
     "outputs": [
      {
       "metadata": {},
       "output_type": "pyout",
       "prompt_number": 103,
       "text": [
        "dtype: dict\n",
        "Rows: 171032\n",
        "[{}, {'en': 1, 'modulo': 1, 'bienvenido': 1, 'tus': 1, 'al': 1, 'estudios': 1, 'de': 1, 'enfermeria': 1, 'exito': 1}, {'palabras': 1, 'de': 1, 'del': 1, 'ensayo': 1, 'poder': 1, 'las': 1}, {'you': 1, 'thank': 1}, {'bienvenidos': 1}, {'felicidades': 1}, {'4': 1, 'edmodo': 1}, {'el': 1, 'al': 2, 'neder': 1, 'asiendo': 1, 'portal': 1, 'infierno': 1, '\\xc3\\x83\\xe2\\x80\\x9csea': 1}, {'current': 1, 'posting': 1, '1': 1, '2': 2, '7': 1, 'event': 1, 'weekly': 1}, {}, {'i': 1, 'did': 1, 'to': 1, 'let': 1, 'know': 1, 'want': 1, 'you': 1, 'the': 1, 'homework': 1}, {'cheesy': 1, 'math': 1}, {'a': 1, 'c': 2, 'b': 5, 'e': 1, 'd': 3, '158': 1, 'hal': 3, '1': 2, '3': 2, '2': 2, '5': 1, '4': 1, '7': 2, '6': 1, '8': 1, '175': 1, '167': 1}, {'ed': 1, 'ted': 1}, {'a': 1, 'do': 1, 'any': 1, 'that': 1, 'far': 1, 'of': 1, 'charles': 1, 'displayed': 1, 'critic': 1, 'you': 1, 'being': 1, 's': 1, 'book': 1, 'so': 1, 'social': 1, 'in': 1, 'dickons': 1, 'the': 1, 'think': 1, 'as': 1, 'he': 1}, {'and': 3, 'blogger': 1, '2nd': 1, 'questions': 1, 'partner': 1, 'your': 1, 'feb': 1, '3rd': 1, '1': 1, 'sunday': 1, '2': 1, 'answer': 1, 'lecture': 1, 'you': 1, 'website': 1, 'do': 1, 'monday': 1, 'may': 1, 'from': 1, 'copy': 1, 'with': 1, 'on': 1, 'this': 1, 'of': 1, 'study': 1, 'pdf': 1, 'the': 4, 'notes': 1}, {'on': 1, 'use': 1, 'have': 1, 'up': 1, 'any': 1, 'the': 1, 'challenge': 1, 'wednesday': 1, 'given': 1, 'it': 1, 'b4': 1, 'to': 1, 'questions': 2, 'break': 1, 'about': 1, 'you': 1, 'if': 1, 'was': 1, 'your': 1, 'clear': 1, 'before': 1}, {'practice': 1, 'moby': 1, 'max': 1, 'over': 1, '30': 1, 'day': 1, 'trial': 1, 'as': 2, 'much': 1, 'can': 1, 'our': 1, 'you': 1, 'is': 1, 'before': 1}, {'pollen': 1, '14': 1, 'edmodo': 1, 'power': 1, '3': 1, '2': 1}, {'and': 1, 'help': 1, 'question': 1, 'back': 1, 'file': 1, 'forgot': 1, 'from': 1, 'please': 1, 'send': 1, 'to': 1, 'won': 1, 'answer': 1, 'save': 1, 'assessment': 1, 'can': 1, 'me': 2, 'someone': 1, 'started': 1, 'it': 1, 'cannot': 1, 'let': 1, 'now': 1, 'a': 1, 'on': 1, 'i': 3, 'michmunoz79': 1, 'm': 1, 't': 1, 'ymail': 1, 'the': 2, 'com': 1}, {}, {'1': 1, '2014': 1, 'feb': 1, '4': 1, 'class': 1}, {'question': 1, '4b': 1, 'wonder': 1}, {'and': 1, 'help': 1, 'extra': 1, 'an': 1, 'have': 1, 'in': 1, 'need': 1, 'one': 1, 'use': 1, 'thank': 1, 'for': 1, 'to': 2, 'create': 1, 'please': 1, 'how': 1, 'games': 1, 'you': 2, 'was': 1, 'daughters': 1, 'do': 1, 'them': 1, 'finish': 1, 'monday': 1, 'that': 1, 'after': 1, 'stay': 1, 'ninja': 1, 'now': 1, 'with': 1, 'class': 1, 'change': 1, 'me': 1, 'on': 1, 'account': 2, 'edmodo': 1, 'using': 1, 'i': 4, 'computers': 1, 'will': 2, 'so': 1, 'can': 2, 'ms': 1, 'the': 2, 'my': 1}, {'and': 2, 'all': 1, 'useful': 1, 'map': 1, 'sullivan': 1, 'manifest': 1, 'have': 1, 'in': 1, 'mexican': 3, 'treaty': 1, 'your': 3, 'o': 1, 'constitution': 1, 'for': 1, '1850': 1, 'please': 1, 'american': 2, 'quiz': 1, '1': 1, 'guadalupe': 1, '3': 1, '2': 1, '5': 1, '4': 1, '7': 1, '6': 1, 'test': 1, 'compromise': 2, 'you': 2, 'reading': 1, 'war': 3, 'be': 1, 'complete': 1, 'monday': 1, 'that': 1, 'very': 1, 'expansion': 1, 'helping': 1, 'destiny': 1, 'on': 1, 'john': 1, 'hidalgo': 1, 'these': 1, 'of': 4, 'study': 3, '1820': 1, '1845': 1, 'guide': 1, 'will': 1, 's': 1, 'u': 1, 'missouri': 1, 'the': 1, 'notes': 4}, {'and': 2, 'all': 1, 'useful': 1, 'map': 1, 'sullivan': 1, 'manifest': 1, 'have': 1, 'in': 1, 'mexican': 3, 'treaty': 1, 'your': 3, 'o': 1, 'constitution': 1, 'for': 1, '1850': 1, 'please': 1, 'american': 2, 'quiz': 1, '1': 1, 'guadalupe': 1, '3': 1, '2': 1, '5': 1, '4': 1, '7': 1, '6': 1, 'test': 1, 'compromise': 2, 'you': 2, 'reading': 1, 'war': 3, 'be': 1, 'complete': 1, 'monday': 1, 'that': 1, 'very': 1, 'expansion': 1, 'helping': 1, 'destiny': 1, 'on': 1, 'john': 1, 'hidalgo': 1, 'these': 1, 'of': 4, 'study': 3, '1820': 1, '1845': 1, 'guide': 1, 'will': 1, 's': 1, 'u': 1, 'missouri': 1, 'the': 1, 'notes': 4}, {'and': 2, 'all': 1, 'useful': 1, 'map': 1, 'sullivan': 1, 'manifest': 1, 'have': 1, 'in': 1, 'mexican': 3, 'treaty': 1, 'your': 3, 'o': 1, 'constitution': 1, 'for': 1, '1850': 1, 'please': 1, 'american': 2, 'quiz': 1, '1': 1, 'guadalupe': 1, '3': 1, '2': 1, '5': 1, '4': 1, '7': 1, '6': 1, 'test': 1, 'compromise': 2, 'you': 2, 'reading': 1, 'war': 3, 'be': 1, 'complete': 1, 'monday': 1, 'that': 1, 'very': 1, 'expansion': 1, 'helping': 1, 'destiny': 1, 'on': 1, 'john': 1, 'hidalgo': 1, 'these': 1, 'of': 4, 'study': 3, '1820': 1, '1845': 1, 'guide': 1, 'will': 1, 's': 1, 'u': 1, 'missouri': 1, 'the': 1, 'notes': 4}, {'and': 2, 'all': 1, 'useful': 1, 'map': 1, 'sullivan': 1, 'manifest': 1, 'have': 1, 'in': 1, 'mexican': 3, 'treaty': 1, 'your': 3, 'o': 1, 'constitution': 1, 'for': 1, '1850': 1, 'please': 1, 'american': 2, 'quiz': 1, '1': 1, 'guadalupe': 1, '3': 1, '2': 1, '5': 1, '4': 1, '7': 1, '6': 1, 'test': 1, 'compromise': 2, 'you': 2, 'reading': 1, 'war': 3, 'be': 1, 'complete': 1, 'monday': 1, 'that': 1, 'very': 1, 'expansion': 1, 'helping': 1, 'destiny': 1, 'on': 1, 'john': 1, 'hidalgo': 1, 'these': 1, 'of': 4, 'study': 3, '1820': 1, '1845': 1, 'guide': 1, 'will': 1, 's': 1, 'u': 1, 'missouri': 1, 'the': 1, 'notes': 4}, {'and': 2, 'all': 1, 'useful': 1, 'map': 1, 'sullivan': 1, 'manifest': 1, 'have': 1, 'in': 1, 'mexican': 3, 'treaty': 1, 'your': 3, 'o': 1, 'constitution': 1, 'for': 1, '1850': 1, 'please': 1, 'american': 2, 'quiz': 1, '1': 1, 'guadalupe': 1, '3': 1, '2': 1, '5': 1, '4': 1, '7': 1, '6': 1, 'test': 1, 'compromise': 2, 'you': 2, 'reading': 1, 'war': 3, 'be': 1, 'complete': 1, 'monday': 1, 'that': 1, 'very': 1, 'expansion': 1, 'helping': 1, 'destiny': 1, 'on': 1, 'john': 1, 'hidalgo': 1, 'these': 1, 'of': 4, 'study': 3, '1820': 1, '1845': 1, 'guide': 1, 'will': 1, 's': 1, 'u': 1, 'missouri': 1, 'the': 1, 'notes': 4}, {'vocabs': 1}, {'vocab': 1, 'and': 2, 'all': 1, 'or': 1, 'grammar': 1, 'exam': 1, 'on': 1, 'ch': 2, 'study': 1, 'fyi': 1, 'tues': 1, 'your': 1, '3': 2, '2': 4, '4': 1, 'lev': 2, '12': 1, 'is': 1, 'mon': 1}, {'stranded': 1, 'certain': 1, 'is': 2, 'it': 1, 'textbook': 1, 'paper': 1, 'need': 1, 'your': 1, 'no': 1, 'make': 1, 'due': 1, 'tomorrow': 1, '2': 1, '7': 1, 'covered': 1, 'you': 1, 'that': 1, 'friday': 1, 'than': 1, '14': 1, 'later': 1, 'will': 1, 'starting': 1}, {'be': 1, 'object': 1, 'on': 2, 'de': 1, 'direct': 1, 'febrero': 1, 'quiz': 1, 'will': 1, '4': 1, 'attention': 1, 'pronouns': 1, 'martes': 1}, {'and': 2, 'graded': 1, 'halftime': 1, 'feel': 1, 'a': 2, 'it': 3, 'walk': 1, 'soapstone': 1, 'as': 1, 'sure': 3, 'video': 1, 'at': 1, 'have': 3, 'go': 1, 'message': 1, 'still': 1, 'miss': 1, 'any': 1, 'if': 1, 'class': 2, 'from': 2, 'matrix': 1, 'for': 3, 'also': 1, 'weekend': 1, 'make': 3, 'that': 1, 'bowl': 1, 'quiz': 1, 'to': 5, 'hot': 1, 'take': 1, 'peppers': 1, 'free': 1, 'you': 4, 'email': 1, 'red': 1, 'week': 1, 'be': 1, 'good': 1, 'complete': 2, 'watching': 1, 'questions': 1, 'who': 1, 'preforming': 1, 'here': 1, 'next': 1, 'seahawks': 1, 'not': 1, 'worksheets': 1, 'chili': 1, 'super': 1, 'bout': 1, 'those': 2, 'me': 1, 'don': 1, 'stations': 1, 'this': 1, 'of': 1, 'submitted': 1, 'will': 2, 'i': 1, 't': 1, 'allow': 1, 'activity': 1, 'reassign': 1, 'the': 6, 'or': 1, 'are': 1}, {'haaaaaa': 1, 'wtf': 1}, {'and': 1, 'begin': 1, 'end': 1, 'did': 1, 'what': 1, 'year': 1, 'the': 1, 'war': 1}, {'on': 1, 'people': 1, 'here': 1, 'are': 1, 'bye': 1, 'guys': 1, 'if': 1}, {'and': 1, 'on': 1, 'marie': 1, 'yo': 1, 'get': 1, 'stop': 1, 'betta': 1, 'here': 1, 'talking': 1, 'behind': 1, 'girl': 1, 'ha': 1, 'bout': 1, 'friend': 1}, {'hi': 1}, {'meow': 1, 'colonel': 1, 'rip': 1}, {'meow': 1, 'colonel': 1, 'rip': 1}, {'scary': 1, 'fin': 1, 'thats': 1}, {'meow': 1, 'colonel': 1, 'rip': 1}, {'meow': 1, 'colonel': 1, 'rip': 1}, {'meow': 1, 'colonel': 1, 'rip': 1}, {'meow': 1, 'colonel': 1, 'rip': 1}, {'this': 1, 'my': 1, 'is': 1, 'deer': 1, 'though': 1}, {'oh': 1}, {'meow': 1, 'colonel': 1, 'rip': 1}, {'meow': 1, 'colonel': 1, 'rip': 1}, {'meow': 1, 'colonel': 1, 'rip': 1}, {'meow': 1, 'colonel': 1, 'rip': 1}, {'meow': 1, 'colonel': 1, 'rip': 1}, {'meow': 1, 'colonel': 1, 'rip': 1}, {'meow': 1, 'colonel': 1, 'rip': 1}, {'meow': 1, 'colonel': 1, 'rip': 1}, {'meow': 1, 'colonel': 1, 'rip': 1}, {'meow': 1, 'colonel': 1, 'rip': 1}, {'help': 1, 'how': 1, 'i': 2, 'to': 1, 'forgot': 1, 'need': 1, 'the': 1, 'find': 1, 'homework': 1}, {'and': 1, 'just': 1, 'is': 1, 'it': 2, 'one': 1, 'long': 1, 'hate': 1, 'best': 1, 'everybody': 1, 'takes': 1, 'also': 1, 'send': 1, 'to': 3, 'instead': 1, 'you': 1, 'i': 3, 'can': 2, 'that': 1, 'but': 1, 'how': 2, 'part': 1, 'post': 1, 'friends': 1, 'don': 1, 'like': 1, 'receive': 1, 'of': 1, 'messages': 1, 'person': 1, 't': 2, 'the': 1, 'my': 1, 'talk': 1}, {'ni': 1, 'adik': 1, 'terkini': 1, 'kak': 1, 'dah': 1, 'update': 1, 'maklumat': 1, 'hok': 1, 'berdasarkan': 1, 'kawan2': 1, 'n': 1, 'kakak': 1, 'kepada': 1, 'post': 1, 'tolong': 1}, {'and': 4, 'this': 1, 'own': 1, 'student': 3, 'what': 1, 'process': 1, 'communication': 1, 'is': 3, 'within': 2, 'for': 3, 'driving': 1, 'as': 1, 'individual': 1, 'pieces': 1, 'are': 1, 'learning': 6, 'in': 1, 'decisions': 1, 'their': 2, 'fill': 1, 'ultimately': 1, 'lead': 1, 'to': 6, 'open': 1, 'discussion': 1, 'missing': 2, 'learner': 1, 'by': 1, 'being': 1, 'able': 1, 'if': 1, 'assessment': 2, 'achieve': 1, 'knowing': 1, 'desire': 1, 'describe': 1, 'that': 1, 'targeted': 1, 'tool': 1, 'exactly': 1, 'confidence': 1, 'it': 1, 'explored': 1, 'they': 1, 'path': 1, 'post': 1, 'repetition': 1, 'you': 1, 'after': 1, 'a': 1, 'also': 1, 'instructional': 1, 'benefits': 2, 'builds': 1, 'thread': 1, 'i': 1, 'of': 4, 'clear': 1, 'list': 1, 'drive': 1, 'having': 1, 'will': 1, 'these': 1, 'optimally': 1, 'important': 1, 'allow': 1, 'consistency': 1, 'the': 15, 'definition': 1, 'think': 1, 'view': 1}, {'have': 1, 'over': 1, 'an': 1, 'running': 1, 'see': 1, 'video': 1, 'thanks': 1, 'want': 1, 'children': 1, 'dont': 1, 'again': 1, 'what': 1, 'bottles': 1, 'thank': 1, 'for': 1, 'movie': 1, 'to': 3, 'amazing': 1, 'much': 1, 'come': 1, 'grab': 1, 'you': 5, 'if': 1, 'was': 1, 'until': 1, 'that': 1, 'with': 1, 'took': 1, 'cant': 1, 'water': 1, 'job': 1, 'know': 1, 'put': 1, 'eye': 1, 'weekend': 1, 'class': 1, 'wait': 2, 'a': 2, 'great': 1, 'alex': 1, 'footage': 2, 'brilliant': 1, 'of': 1, 'taking': 1, 'but': 1, 'up': 1, 'together': 1, 'i': 2, 'so': 1, 'ms': 1, 'the': 5, 'or': 1}, {'everyone': 1, 'hi': 1, 'report': 1, 'day': 1, 'card': 1, 'happy': 1}, {'me': 1, 'anyone': 2, 'message': 1, 'there': 1}, {'meow': 1}, {'chanson': 1, 'exercices': 1, 'enfants': 1, 'de': 1, 'v\\xc3\\x83\\xc2\\xaatements': 1, 'pour': 1, 'les': 1, 'une': 1, 'voici': 1, 'et': 1, 'salut': 1, 'des': 1, 'vocabulaire': 1, 'sur': 1}, {'me': 1, 'haha': 2, 'al': 1, 'xd': 1, 'cholo': 1, 'dejamos': 1, 'y': 1, 'esperas': 1}, {'for': 1, 'this': 1, 'odds': 1, '45': 1, 'your': 1, '1': 1, 's': 1, '5': 2, 'weekend': 1, 'is': 1, 'homework': 1}, {'knox': 1, 'america': 1, 'verdict': 1, 'why': 1, 'baffles': 1}, {'laced': 1, 'takes': 1, 'painkiller': 1, 'heroin': 1, 'toll': 1, 'with': 1}, {'a': 1, 'problem': 1, 'penalties': 1, 'pot': 1, 'obama': 1}, {'what': 1, 'richard': 1, 'of': 1, 'sherman': 1, 'thinks': 1, 'obama': 1}, {'quit': 1, 'shouldn': 1, 't': 1, 'elway': 1, 'manning': 1}, {'knox': 1, 'america': 1, 'verdict': 1, 'why': 1, 'baffles': 1}, {'laced': 1, 'takes': 1, 'painkiller': 1, 'heroin': 1, 'toll': 1, 'with': 1}, {'a': 1, 'problem': 1, 'penalties': 1, 'pot': 1, 'obama': 1}, {'what': 1, 'richard': 1, 'of': 1, 'sherman': 1, 'thinks': 1, 'obama': 1}, {'quit': 1, 'shouldn': 1, 't': 1, 'elway': 1, 'manning': 1}, {'knox': 1, 'america': 1, 'verdict': 1, 'why': 1, 'baffles': 1}, {'laced': 1, 'takes': 1, 'painkiller': 1, 'heroin': 1, 'toll': 1, 'with': 1}, {'a': 1, 'problem': 1, 'penalties': 1, 'pot': 1, 'obama': 1}, {'what': 1, 'richard': 1, 'of': 1, 'sherman': 1, 'thinks': 1, 'obama': 1}, {'quit': 1, 'shouldn': 1, 't': 1, 'elway': 1, 'manning': 1}, {'knox': 1, 'america': 1, 'verdict': 1, 'why': 1, 'baffles': 1}, {'laced': 1, 'takes': 1, 'painkiller': 1, 'heroin': 1, 'toll': 1, 'with': 1}, {'a': 1, 'problem': 1, 'penalties': 1, 'pot': 1, 'obama': 1}, {'and': 1, 'sanchez': 1, 'me': 1, 'so': 1, 'you': 1, 'its': 1}, {'what': 1, 'richard': 1, 'of': 1, 'sherman': 1, 'thinks': 1, 'obama': 1}, {'quit': 1, 'shouldn': 1, 't': 1, 'elway': 1, 'manning': 1}, {'00': 1, 'feb': 1, '17': 1, 'cao': 1, 'at': 1, 'date': 1, 'closing': 1, 'today': 1, 'first': 1}, {'knox': 1, 'america': 1, 'verdict': 1, 'why': 1, 'baffles': 1}, {'laced': 1, 'takes': 1, 'painkiller': 1, 'heroin': 1, 'toll': 1, 'with': 1}, {'a': 1, 'problem': 1, 'penalties': 1, 'pot': 1, 'obama': 1}, {'what': 1, 'richard': 1, 'of': 1, 'sherman': 1, 'thinks': 1, 'obama': 1}, {'and': 1, 'turned': 1, 'in': 2, '83': 1, 'for': 2, 'measurements': 1, 'pages': 1, '1': 3, '3': 1, '2': 1, '5': 1, 'pg': 1, '6': 1, 'answer': 1, 'final': 1, 'today': 1, 'conclusion': 1, 'finish': 1, 'read': 1, 'assignment': 1, 'hw': 1, 'lab': 2, 'ososis': 1, '73': 1, '72': 1, 'class': 1, 'l': 1, 'simulation': 1, 's': 1, 'egg': 2, 'book': 1}, {'quit': 1, 'shouldn': 1, 't': 1, 'elway': 1, 'manning': 1}, {'great': 1, 'said': 1, 'to': 1, 'people': 1, 'did': 1, 'who': 1, 'their': 1, 'job': 1, 'good': 1, 'speech': 1, 'you': 1, 'guys': 1, 'the': 1}, {'knox': 1, 'america': 1, 'verdict': 1, 'why': 1, 'baffles': 1}, {'me': 1, 'wants': 1, 'and': 1, 'buy': 1, 'worksheet': 1, 'is': 1, 'chocolate': 1, 'anyone': 1, 'to': 1, 'only': 1, 'social': 1, 'our': 1, 'the': 1, 'studies': 1, 'tell': 1, 'homework': 1, 'if': 1}, ... ]"
       ]
      }
     ],
     "prompt_number": 103
    },
    {
     "cell_type": "code",
     "collapsed": false,
     "input": [],
     "language": "python",
     "metadata": {},
     "outputs": []
    }
   ],
   "metadata": {}
  }
 ]
}