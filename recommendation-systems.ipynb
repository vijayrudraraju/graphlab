{
 "metadata": {
  "name": "",
  "signature": "sha256:38b0a73402cbdcd84f3916c3536d2275588cb6d6fcd8d442caf2a4ac3dabbcb6"
 },
 "nbformat": 3,
 "nbformat_minor": 0,
 "worksheets": [
  {
   "cells": [
    {
     "cell_type": "code",
     "collapsed": false,
     "input": [
      "import graphlab\n",
      "graphlab.canvas.set_target(\"ipynb\")"
     ],
     "language": "python",
     "metadata": {},
     "outputs": []
    },
    {
     "cell_type": "code",
     "collapsed": false,
     "input": [
      "!wget http://files.grouplens.org/datasets/movielens/ml-1m.zip"
     ],
     "language": "python",
     "metadata": {},
     "outputs": []
    },
    {
     "cell_type": "code",
     "collapsed": false,
     "input": [
      "!unzip ml-1m.zip"
     ],
     "language": "python",
     "metadata": {},
     "outputs": []
    },
    {
     "cell_type": "code",
     "collapsed": false,
     "input": [
      "data = graphlab.SFrame.read_csv('ml-1m/ratings.dat', delimiter='\\n', header=False)['X1'].apply(lambda x: x.split('::')).unpack()\n",
      "for col in data.column_names():\n",
      "    data[col] = data[col].astype(int)\n",
      "data.rename({'X.0': 'user_id', 'X.1': 'movie_id', 'X.2': 'rating', 'X.3': 'timestamp'})\n",
      "data.save('ratings')\n",
      "\n",
      "users = graphlab.SFrame.read_csv('ml-1m/users.dat', delimiter='\\n', header=False)['X1'].apply(lambda x: x.split('::')).unpack()\n",
      "users.rename({'X.0': 'user_id', 'X.1': 'gender', 'X.2': 'age', 'X.3': 'occupation', 'X.4': 'zip-code'})\n",
      "users['user_id'] = users['user_id'].astype(int)\n",
      "users.save('users')\n",
      "\n",
      "items = graphlab.SFrame.read_csv('ml-1m/movies.dat', delimiter='\\n', header=False)['X1'].apply(lambda x: x.split('::')).unpack()\n",
      "items.rename({'X.0': 'movie_id', 'X.1': 'title', 'X.2': 'genre'})\n",
      "items['movie_id'] = items['movie_id'].astype(int)\n",
      "items.save('items')"
     ],
     "language": "python",
     "metadata": {},
     "outputs": []
    },
    {
     "cell_type": "code",
     "collapsed": false,
     "input": [
      "data.show()"
     ],
     "language": "python",
     "metadata": {},
     "outputs": []
    },
    {
     "cell_type": "code",
     "collapsed": false,
     "input": [
      "items.head()"
     ],
     "language": "python",
     "metadata": {},
     "outputs": []
    },
    {
     "cell_type": "code",
     "collapsed": false,
     "input": [
      "data = data.join(items, on='movie_id')"
     ],
     "language": "python",
     "metadata": {},
     "outputs": []
    },
    {
     "cell_type": "code",
     "collapsed": false,
     "input": [
      "data"
     ],
     "language": "python",
     "metadata": {},
     "outputs": []
    },
    {
     "cell_type": "code",
     "collapsed": false,
     "input": [
      "m = graphlab.recommender.create(data, 'user_id', 'movie_id')"
     ],
     "language": "python",
     "metadata": {},
     "outputs": []
    },
    {
     "cell_type": "code",
     "collapsed": false,
     "input": [
      "m"
     ],
     "language": "python",
     "metadata": {},
     "outputs": []
    },
    {
     "cell_type": "code",
     "collapsed": false,
     "input": [
      "m2 = graphlab.recommender.create(data, 'user_id', 'movie_id', 'rating',\n",
      "                                 method='item_similarity', \n",
      "                                 similarity_type='pearson')"
     ],
     "language": "python",
     "metadata": {},
     "outputs": []
    },
    {
     "cell_type": "code",
     "collapsed": false,
     "input": [
      "m2"
     ],
     "language": "python",
     "metadata": {},
     "outputs": []
    },
    {
     "cell_type": "heading",
     "level": 3,
     "metadata": {},
     "source": [
      "Getting similar items"
     ]
    },
    {
     "cell_type": "code",
     "collapsed": false,
     "input": [
      "m.get_similar_items([1287])  # movie_id is Ben-Hur"
     ],
     "language": "python",
     "metadata": {},
     "outputs": []
    },
    {
     "cell_type": "code",
     "collapsed": false,
     "input": [
      "m.get_similar_items([1287]).join(items, on={'similar_item': 'movie_id'}).sort('rank')"
     ],
     "language": "python",
     "metadata": {},
     "outputs": []
    },
    {
     "cell_type": "heading",
     "level": 3,
     "metadata": {},
     "source": [
      "Making recommendations"
     ]
    },
    {
     "cell_type": "code",
     "collapsed": false,
     "input": [
      "recs = m.recommend()"
     ],
     "language": "python",
     "metadata": {},
     "outputs": []
    },
    {
     "cell_type": "code",
     "collapsed": false,
     "input": [
      "recs"
     ],
     "language": "python",
     "metadata": {},
     "outputs": []
    },
    {
     "cell_type": "code",
     "collapsed": false,
     "input": [
      "data[data['user_id'] == 4].join(items, on='movie_id')"
     ],
     "language": "python",
     "metadata": {},
     "outputs": []
    },
    {
     "cell_type": "code",
     "collapsed": false,
     "input": [
      "m.recommend(users=[4], k=20).join(items, on='movie_id')"
     ],
     "language": "python",
     "metadata": {},
     "outputs": []
    },
    {
     "cell_type": "code",
     "collapsed": false,
     "input": [
      "m.recommend?"
     ],
     "language": "python",
     "metadata": {},
     "outputs": []
    },
    {
     "cell_type": "heading",
     "level": 3,
     "metadata": {},
     "source": [
      "Recommendations for new users"
     ]
    },
    {
     "cell_type": "code",
     "collapsed": false,
     "input": [
      "recent_data = graphlab.SFrame()\n",
      "recent_data['movie_id'] = [1291] \n",
      "recent_data['user_id'] = 99999"
     ],
     "language": "python",
     "metadata": {},
     "outputs": []
    },
    {
     "cell_type": "code",
     "collapsed": false,
     "input": [
      "m.recommend(users=[99999], new_observation_data=recent_data).join(items, on='movie_id').sort('rank')"
     ],
     "language": "python",
     "metadata": {},
     "outputs": []
    },
    {
     "cell_type": "heading",
     "level": 3,
     "metadata": {},
     "source": [
      "Saving and loading models"
     ]
    },
    {
     "cell_type": "code",
     "collapsed": false,
     "input": [
      "m.save('my_model')"
     ],
     "language": "python",
     "metadata": {},
     "outputs": []
    },
    {
     "cell_type": "code",
     "collapsed": false,
     "input": [
      "m_again = graphlab.load_model('my_model')"
     ],
     "language": "python",
     "metadata": {},
     "outputs": []
    },
    {
     "cell_type": "code",
     "collapsed": false,
     "input": [
      "m_again"
     ],
     "language": "python",
     "metadata": {},
     "outputs": []
    },
    {
     "cell_type": "code",
     "collapsed": false,
     "input": [],
     "language": "python",
     "metadata": {},
     "outputs": []
    }
   ],
   "metadata": {}
  }
 ]
}