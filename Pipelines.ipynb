{
 "metadata": {
  "name": "",
  "signature": "sha256:edbe4e69bf6bd62feb526c141351a1ba0871092e117351b0ce734cffb2192b91"
 },
 "nbformat": 3,
 "nbformat_minor": 0,
 "worksheets": [
  {
   "cells": [
    {
     "cell_type": "code",
     "collapsed": false,
     "input": [
      "import graphlab as gl"
     ],
     "language": "python",
     "metadata": {},
     "outputs": [
      {
       "output_type": "stream",
       "stream": "stderr",
       "text": [
        "[WARNING] Numpy version 1.6.2 is not supported. Minimum required version: 1.8.0. Numpy support will be disabled.\n"
       ]
      }
     ],
     "prompt_number": 1
    },
    {
     "cell_type": "code",
     "collapsed": false,
     "input": [
      "def train_model(task):\n",
      "    csv = task.params['csv']\n",
      "    data = gl.SFrame.read_csv(csv)\n",
      "    model = gl.recommender.create(data)\n",
      "    task.outputs['model'] = model\n",
      "    task.outputs['data'] = data"
     ],
     "language": "python",
     "metadata": {},
     "outputs": [],
     "prompt_number": 5
    },
    {
     "cell_type": "code",
     "collapsed": false,
     "input": [
      "train = gl.deploy.Task('train')"
     ],
     "language": "python",
     "metadata": {},
     "outputs": [
      {
       "output_type": "stream",
       "stream": "stderr",
       "text": [
        "[INFO] Start server at: ipc:///tmp/graphlab_server-21594 - Server binary: /Library/Python/2.7/site-packages/graphlab/unity_server - Server log: /tmp/graphlab_server_1406067239.log\n"
       ]
      },
      {
       "output_type": "stream",
       "stream": "stderr",
       "text": [
        "[INFO] GraphLab Server Version: 0.9.0\n"
       ]
      }
     ],
     "prompt_number": 6
    },
    {
     "cell_type": "code",
     "collapsed": false,
     "input": [
      "train.set_params['csv']"
     ],
     "language": "python",
     "metadata": {},
     "outputs": [
      {
       "ename": "TypeError",
       "evalue": "'instancemethod' object has no attribute '__getitem__'",
       "output_type": "pyerr",
       "traceback": [
        "\u001b[0;31m---------------------------------------------------------------------------\u001b[0m\n\u001b[0;31mTypeError\u001b[0m                                 Traceback (most recent call last)",
        "\u001b[0;32m<ipython-input-7-ff592ce6f792>\u001b[0m in \u001b[0;36m<module>\u001b[0;34m()\u001b[0m\n\u001b[0;32m----> 1\u001b[0;31m \u001b[0mtrain\u001b[0m\u001b[0;34m.\u001b[0m\u001b[0mset_params\u001b[0m\u001b[0;34m[\u001b[0m\u001b[0;34m'csv'\u001b[0m\u001b[0;34m]\u001b[0m\u001b[0;34m\u001b[0m\u001b[0m\n\u001b[0m",
        "\u001b[0;31mTypeError\u001b[0m: 'instancemethod' object has no attribute '__getitem__'"
       ]
      }
     ],
     "prompt_number": 7
    },
    {
     "cell_type": "code",
     "collapsed": false,
     "input": [
      "train"
     ],
     "language": "python",
     "metadata": {},
     "outputs": [
      {
       "metadata": {},
       "output_type": "pyout",
       "prompt_number": 8,
       "text": [
        "Task: train\n",
        "\n",
        "Description:\n",
        "\t\n",
        "\n",
        "Input(s):\n",
        "\t{}\n",
        "\n",
        "Code:\n",
        "\n",
        "\n",
        "\n",
        "Output(s):\n",
        "\t{}\n",
        "\n",
        "Parameter(s):\n",
        "\t{}\n",
        "\n",
        "Package(s):\n",
        "\tset([])\n"
       ]
      }
     ],
     "prompt_number": 8
    },
    {
     "cell_type": "code",
     "collapsed": false,
     "input": [
      "train.set_params(['csv'])"
     ],
     "language": "python",
     "metadata": {},
     "outputs": [
      {
       "metadata": {},
       "output_type": "pyout",
       "prompt_number": 9,
       "text": [
        "Task: train\n",
        "\n",
        "Description:\n",
        "\t\n",
        "\n",
        "Input(s):\n",
        "\t{}\n",
        "\n",
        "Code:\n",
        "\n",
        "\n",
        "\n",
        "Output(s):\n",
        "\t{}\n",
        "\n",
        "Parameter(s):\n",
        "\t{'csv': None}\n",
        "\n",
        "Package(s):\n",
        "\tset([])\n"
       ]
      }
     ],
     "prompt_number": 9
    },
    {
     "cell_type": "code",
     "collapsed": false,
     "input": [
      "def persist_db(task):\n",
      "    recs = task.inputs['recs']\n",
      "    conn = task.params['conn']\n",
      "    import mysqlconnector\n",
      "    save_to_db(conn,recs.save(format='csv'))"
     ],
     "language": "python",
     "metadata": {},
     "outputs": [],
     "prompt_number": 10
    },
    {
     "cell_type": "code",
     "collapsed": false,
     "input": [
      "persist = gl.deploy.Task('persist')"
     ],
     "language": "python",
     "metadata": {},
     "outputs": [],
     "prompt_number": 11
    },
    {
     "cell_type": "code",
     "collapsed": false,
     "input": [
      "persist.set_inputs({'recs':(recs,'recs')})\n",
      "persist.set_code(persist_db)\n",
      "persist.set_required_packages(['mysql-connector-python == 1.2.2'])"
     ],
     "language": "python",
     "metadata": {},
     "outputs": [
      {
       "ename": "NameError",
       "evalue": "name 'recs' is not defined",
       "output_type": "pyerr",
       "traceback": [
        "\u001b[0;31m---------------------------------------------------------------------------\u001b[0m\n\u001b[0;31mNameError\u001b[0m                                 Traceback (most recent call last)",
        "\u001b[0;32m<ipython-input-13-0750a9f17b21>\u001b[0m in \u001b[0;36m<module>\u001b[0;34m()\u001b[0m\n\u001b[0;32m----> 1\u001b[0;31m \u001b[0mpersist\u001b[0m\u001b[0;34m.\u001b[0m\u001b[0mset_inputs\u001b[0m\u001b[0;34m(\u001b[0m\u001b[0;34m{\u001b[0m\u001b[0;34m'recs'\u001b[0m\u001b[0;34m:\u001b[0m\u001b[0;34m(\u001b[0m\u001b[0mrecs\u001b[0m\u001b[0;34m,\u001b[0m\u001b[0;34m'recs'\u001b[0m\u001b[0;34m)\u001b[0m\u001b[0;34m}\u001b[0m\u001b[0;34m)\u001b[0m\u001b[0;34m\u001b[0m\u001b[0m\n\u001b[0m\u001b[1;32m      2\u001b[0m \u001b[0mpersist\u001b[0m\u001b[0;34m.\u001b[0m\u001b[0mset_code\u001b[0m\u001b[0;34m(\u001b[0m\u001b[0mpersist_db\u001b[0m\u001b[0;34m)\u001b[0m\u001b[0;34m\u001b[0m\u001b[0m\n\u001b[1;32m      3\u001b[0m \u001b[0mpersist\u001b[0m\u001b[0;34m.\u001b[0m\u001b[0mset_required_packages\u001b[0m\u001b[0;34m(\u001b[0m\u001b[0;34m[\u001b[0m\u001b[0;34m'mysql-connector-python == 1.2.2'\u001b[0m\u001b[0;34m]\u001b[0m\u001b[0;34m)\u001b[0m\u001b[0;34m\u001b[0m\u001b[0m\n",
        "\u001b[0;31mNameError\u001b[0m: name 'recs' is not defined"
       ]
      }
     ],
     "prompt_number": 13
    },
    {
     "cell_type": "code",
     "collapsed": false,
     "input": [],
     "language": "python",
     "metadata": {},
     "outputs": []
    }
   ],
   "metadata": {}
  }
 ]
}