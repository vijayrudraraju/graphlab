{
 "metadata": {
  "name": "",
  "signature": "sha256:a08e7a9f1e3202b840407679594f9ff57b017f238605927b4b8dd2d3b07e5d99"
 },
 "nbformat": 3,
 "nbformat_minor": 0,
 "worksheets": [
  {
   "cells": [
    {
     "cell_type": "code",
     "collapsed": false,
     "input": [
      "import graphlab as gl"
     ],
     "language": "python",
     "metadata": {},
     "outputs": [],
     "prompt_number": 30
    },
    {
     "cell_type": "code",
     "collapsed": false,
     "input": [
      "import MySQLdb"
     ],
     "language": "python",
     "metadata": {},
     "outputs": [],
     "prompt_number": 2
    },
    {
     "cell_type": "code",
     "collapsed": false,
     "input": [
      "import csv\n",
      "from types import *"
     ],
     "language": "python",
     "metadata": {},
     "outputs": [],
     "prompt_number": 3
    },
    {
     "cell_type": "code",
     "collapsed": false,
     "input": [
      "HOST = \"production-master-adhoc-read.edmodo.com\"\n",
      "USER = \"moanwime20130409\"\n",
      "NAME = \"zendmodo\"\n",
      "PASSWD = \"7tjYDVzuxpLetC1BvOtg4avUdCLNzl\""
     ],
     "language": "python",
     "metadata": {},
     "outputs": [],
     "prompt_number": 4
    },
    {
     "cell_type": "code",
     "collapsed": false,
     "input": [
      "INPUT_FILENAME=\"/Users/vijay/Edmodo/graphlab/edmodo_small.csv\"\n",
      "OUTPUT_FILENAME=\"/Users/vijay/Edmodo/graphlab/edmodo_messages_single_col.csv\"\n",
      "QUERY=\"\"\"SELECT md.message_id, md.content, md.last_updated\n",
      "FROM message_data as md\n",
      "INNER JOIN messages as m ON m.message_id = md.message_id\n",
      "WHERE md.last_updated > \"2014-02-01\" AND md.last_updated < \"2014-02-10\" AND m.creator_id > 100\"\"\""
     ],
     "language": "python",
     "metadata": {},
     "outputs": [],
     "prompt_number": 4
    },
    {
     "cell_type": "code",
     "collapsed": false,
     "input": [
      "db = MySQLdb.connect(host=HOST, user=USER, passwd=PASSWD, db=NAME)\n",
      "cur = db.cursor()\n",
      "cur.execute(QUERY)\n",
      "all_rows = cur.fetchall()\n",
      "db.close()"
     ],
     "language": "python",
     "metadata": {},
     "outputs": [
      {
       "ename": "KeyboardInterrupt",
       "evalue": "",
       "output_type": "pyerr",
       "traceback": [
        "\u001b[0;31m---------------------------------------------------------------------------\u001b[0m\n\u001b[0;31mKeyboardInterrupt\u001b[0m                         Traceback (most recent call last)",
        "\u001b[0;32m<ipython-input-8-30771a6d0a33>\u001b[0m in \u001b[0;36m<module>\u001b[0;34m()\u001b[0m\n\u001b[1;32m      1\u001b[0m \u001b[0mdb\u001b[0m \u001b[0;34m=\u001b[0m \u001b[0mMySQLdb\u001b[0m\u001b[0;34m.\u001b[0m\u001b[0mconnect\u001b[0m\u001b[0;34m(\u001b[0m\u001b[0mhost\u001b[0m\u001b[0;34m=\u001b[0m\u001b[0mHOST\u001b[0m\u001b[0;34m,\u001b[0m \u001b[0muser\u001b[0m\u001b[0;34m=\u001b[0m\u001b[0mUSER\u001b[0m\u001b[0;34m,\u001b[0m \u001b[0mpasswd\u001b[0m\u001b[0;34m=\u001b[0m\u001b[0mPASSWD\u001b[0m\u001b[0;34m,\u001b[0m \u001b[0mdb\u001b[0m\u001b[0;34m=\u001b[0m\u001b[0mNAME\u001b[0m\u001b[0;34m)\u001b[0m\u001b[0;34m\u001b[0m\u001b[0m\n\u001b[1;32m      2\u001b[0m \u001b[0mcur\u001b[0m \u001b[0;34m=\u001b[0m \u001b[0mdb\u001b[0m\u001b[0;34m.\u001b[0m\u001b[0mcursor\u001b[0m\u001b[0;34m(\u001b[0m\u001b[0;34m)\u001b[0m\u001b[0;34m\u001b[0m\u001b[0m\n\u001b[0;32m----> 3\u001b[0;31m \u001b[0mcur\u001b[0m\u001b[0;34m.\u001b[0m\u001b[0mexecute\u001b[0m\u001b[0;34m(\u001b[0m\u001b[0mQUERY\u001b[0m\u001b[0;34m)\u001b[0m\u001b[0;34m\u001b[0m\u001b[0m\n\u001b[0m\u001b[1;32m      4\u001b[0m \u001b[0mall_rows\u001b[0m \u001b[0;34m=\u001b[0m \u001b[0mcur\u001b[0m\u001b[0;34m.\u001b[0m\u001b[0mfetchall\u001b[0m\u001b[0;34m(\u001b[0m\u001b[0;34m)\u001b[0m\u001b[0;34m\u001b[0m\u001b[0m\n\u001b[1;32m      5\u001b[0m \u001b[0mdb\u001b[0m\u001b[0;34m.\u001b[0m\u001b[0mclose\u001b[0m\u001b[0;34m(\u001b[0m\u001b[0;34m)\u001b[0m\u001b[0;34m\u001b[0m\u001b[0m\n",
        "\u001b[0;32m/Library/Python/2.7/site-packages/MySQLdb/cursors.pyc\u001b[0m in \u001b[0;36mexecute\u001b[0;34m(self, query, args)\u001b[0m\n\u001b[1;32m    184\u001b[0m         \u001b[0;32mtry\u001b[0m\u001b[0;34m:\u001b[0m\u001b[0;34m\u001b[0m\u001b[0m\n\u001b[1;32m    185\u001b[0m             \u001b[0mr\u001b[0m \u001b[0;34m=\u001b[0m \u001b[0mNone\u001b[0m\u001b[0;34m\u001b[0m\u001b[0m\n\u001b[0;32m--> 186\u001b[0;31m             \u001b[0mr\u001b[0m \u001b[0;34m=\u001b[0m \u001b[0mself\u001b[0m\u001b[0;34m.\u001b[0m\u001b[0m_query\u001b[0m\u001b[0;34m(\u001b[0m\u001b[0mquery\u001b[0m\u001b[0;34m)\u001b[0m\u001b[0;34m\u001b[0m\u001b[0m\n\u001b[0m\u001b[1;32m    187\u001b[0m         \u001b[0;32mexcept\u001b[0m \u001b[0mTypeError\u001b[0m\u001b[0;34m,\u001b[0m \u001b[0mm\u001b[0m\u001b[0;34m:\u001b[0m\u001b[0;34m\u001b[0m\u001b[0m\n\u001b[1;32m    188\u001b[0m             if m.args[0] in (\"not enough arguments for format string\",\n",
        "\u001b[0;32m/Library/Python/2.7/site-packages/MySQLdb/cursors.pyc\u001b[0m in \u001b[0;36m_query\u001b[0;34m(self, q)\u001b[0m\n\u001b[1;32m    343\u001b[0m     \u001b[0;32mdef\u001b[0m \u001b[0m_query\u001b[0m\u001b[0;34m(\u001b[0m\u001b[0mself\u001b[0m\u001b[0;34m,\u001b[0m \u001b[0mq\u001b[0m\u001b[0;34m)\u001b[0m\u001b[0;34m:\u001b[0m\u001b[0;34m\u001b[0m\u001b[0m\n\u001b[1;32m    344\u001b[0m         \u001b[0mrowcount\u001b[0m \u001b[0;34m=\u001b[0m \u001b[0mself\u001b[0m\u001b[0;34m.\u001b[0m\u001b[0m_do_query\u001b[0m\u001b[0;34m(\u001b[0m\u001b[0mq\u001b[0m\u001b[0;34m)\u001b[0m\u001b[0;34m\u001b[0m\u001b[0m\n\u001b[0;32m--> 345\u001b[0;31m         \u001b[0mself\u001b[0m\u001b[0;34m.\u001b[0m\u001b[0m_post_get_result\u001b[0m\u001b[0;34m(\u001b[0m\u001b[0;34m)\u001b[0m\u001b[0;34m\u001b[0m\u001b[0m\n\u001b[0m\u001b[1;32m    346\u001b[0m         \u001b[0;32mreturn\u001b[0m \u001b[0mrowcount\u001b[0m\u001b[0;34m\u001b[0m\u001b[0m\n\u001b[1;32m    347\u001b[0m \u001b[0;34m\u001b[0m\u001b[0m\n",
        "\u001b[0;32m/Library/Python/2.7/site-packages/MySQLdb/cursors.pyc\u001b[0m in \u001b[0;36m_post_get_result\u001b[0;34m(self)\u001b[0m\n\u001b[1;32m    347\u001b[0m \u001b[0;34m\u001b[0m\u001b[0m\n\u001b[1;32m    348\u001b[0m     \u001b[0;32mdef\u001b[0m \u001b[0m_post_get_result\u001b[0m\u001b[0;34m(\u001b[0m\u001b[0mself\u001b[0m\u001b[0;34m)\u001b[0m\u001b[0;34m:\u001b[0m\u001b[0;34m\u001b[0m\u001b[0m\n\u001b[0;32m--> 349\u001b[0;31m         \u001b[0mself\u001b[0m\u001b[0;34m.\u001b[0m\u001b[0m_rows\u001b[0m \u001b[0;34m=\u001b[0m \u001b[0mself\u001b[0m\u001b[0;34m.\u001b[0m\u001b[0m_fetch_row\u001b[0m\u001b[0;34m(\u001b[0m\u001b[0;36m0\u001b[0m\u001b[0;34m)\u001b[0m\u001b[0;34m\u001b[0m\u001b[0m\n\u001b[0m\u001b[1;32m    350\u001b[0m         \u001b[0mself\u001b[0m\u001b[0;34m.\u001b[0m\u001b[0m_result\u001b[0m \u001b[0;34m=\u001b[0m \u001b[0mNone\u001b[0m\u001b[0;34m\u001b[0m\u001b[0m\n\u001b[1;32m    351\u001b[0m \u001b[0;34m\u001b[0m\u001b[0m\n",
        "\u001b[0;32m/Library/Python/2.7/site-packages/MySQLdb/cursors.pyc\u001b[0m in \u001b[0;36m_fetch_row\u001b[0;34m(self, size)\u001b[0m\n\u001b[1;32m    315\u001b[0m         \u001b[0;32mif\u001b[0m \u001b[0;32mnot\u001b[0m \u001b[0mself\u001b[0m\u001b[0;34m.\u001b[0m\u001b[0m_result\u001b[0m\u001b[0;34m:\u001b[0m\u001b[0;34m\u001b[0m\u001b[0m\n\u001b[1;32m    316\u001b[0m             \u001b[0;32mreturn\u001b[0m \u001b[0;34m(\u001b[0m\u001b[0;34m)\u001b[0m\u001b[0;34m\u001b[0m\u001b[0m\n\u001b[0;32m--> 317\u001b[0;31m         \u001b[0;32mreturn\u001b[0m \u001b[0mself\u001b[0m\u001b[0;34m.\u001b[0m\u001b[0m_result\u001b[0m\u001b[0;34m.\u001b[0m\u001b[0mfetch_row\u001b[0m\u001b[0;34m(\u001b[0m\u001b[0msize\u001b[0m\u001b[0;34m,\u001b[0m \u001b[0mself\u001b[0m\u001b[0;34m.\u001b[0m\u001b[0m_fetch_type\u001b[0m\u001b[0;34m)\u001b[0m\u001b[0;34m\u001b[0m\u001b[0m\n\u001b[0m\u001b[1;32m    318\u001b[0m \u001b[0;34m\u001b[0m\u001b[0m\n\u001b[1;32m    319\u001b[0m     \u001b[0;32mdef\u001b[0m \u001b[0m__iter__\u001b[0m\u001b[0;34m(\u001b[0m\u001b[0mself\u001b[0m\u001b[0;34m)\u001b[0m\u001b[0;34m:\u001b[0m\u001b[0;34m\u001b[0m\u001b[0m\n",
        "\u001b[0;32m/Library/Python/2.7/site-packages/MySQLdb/times.pyc\u001b[0m in \u001b[0;36mmysql_timestamp_converter\u001b[0;34m(s)\u001b[0m\n\u001b[1;32m    100\u001b[0m     \u001b[0;34m\"\"\"Convert a MySQL TIMESTAMP to a Timestamp object.\"\"\"\u001b[0m\u001b[0;34m\u001b[0m\u001b[0m\n\u001b[1;32m    101\u001b[0m     \u001b[0;31m# MySQL>4.1 returns TIMESTAMP in the same format as DATETIME\u001b[0m\u001b[0;34m\u001b[0m\u001b[0;34m\u001b[0m\u001b[0m\n\u001b[0;32m--> 102\u001b[0;31m     \u001b[0;32mif\u001b[0m \u001b[0ms\u001b[0m\u001b[0;34m[\u001b[0m\u001b[0;36m4\u001b[0m\u001b[0;34m]\u001b[0m \u001b[0;34m==\u001b[0m \u001b[0;34m'-'\u001b[0m\u001b[0;34m:\u001b[0m \u001b[0;32mreturn\u001b[0m \u001b[0mDateTime_or_None\u001b[0m\u001b[0;34m(\u001b[0m\u001b[0ms\u001b[0m\u001b[0;34m)\u001b[0m\u001b[0;34m\u001b[0m\u001b[0m\n\u001b[0m\u001b[1;32m    103\u001b[0m     \u001b[0ms\u001b[0m \u001b[0;34m=\u001b[0m \u001b[0ms\u001b[0m \u001b[0;34m+\u001b[0m \u001b[0;34m\"0\"\u001b[0m\u001b[0;34m*\u001b[0m\u001b[0;34m(\u001b[0m\u001b[0;36m14\u001b[0m\u001b[0;34m-\u001b[0m\u001b[0mlen\u001b[0m\u001b[0;34m(\u001b[0m\u001b[0ms\u001b[0m\u001b[0;34m)\u001b[0m\u001b[0;34m)\u001b[0m \u001b[0;31m# padding\u001b[0m\u001b[0;34m\u001b[0m\u001b[0m\n\u001b[1;32m    104\u001b[0m     parts = map(int, filter(None, (s[:4],s[4:6],s[6:8],\n",
        "\u001b[0;32m/Library/Python/2.7/site-packages/MySQLdb/times.pyc\u001b[0m in \u001b[0;36mDateTime_or_None\u001b[0;34m(s)\u001b[0m\n\u001b[1;32m     52\u001b[0m     \u001b[0;32mtry\u001b[0m\u001b[0;34m:\u001b[0m\u001b[0;34m\u001b[0m\u001b[0m\n\u001b[1;32m     53\u001b[0m         \u001b[0md\u001b[0m\u001b[0;34m,\u001b[0m \u001b[0mt\u001b[0m \u001b[0;34m=\u001b[0m \u001b[0ms\u001b[0m\u001b[0;34m.\u001b[0m\u001b[0msplit\u001b[0m\u001b[0;34m(\u001b[0m\u001b[0msep\u001b[0m\u001b[0;34m,\u001b[0m \u001b[0;36m1\u001b[0m\u001b[0;34m)\u001b[0m\u001b[0;34m\u001b[0m\u001b[0m\n\u001b[0;32m---> 54\u001b[0;31m         \u001b[0;32mreturn\u001b[0m \u001b[0mdatetime\u001b[0m\u001b[0;34m(\u001b[0m\u001b[0;34m*\u001b[0m\u001b[0;34m[\u001b[0m \u001b[0mint\u001b[0m\u001b[0;34m(\u001b[0m\u001b[0mx\u001b[0m\u001b[0;34m)\u001b[0m \u001b[0;32mfor\u001b[0m \u001b[0mx\u001b[0m \u001b[0;32min\u001b[0m \u001b[0md\u001b[0m\u001b[0;34m.\u001b[0m\u001b[0msplit\u001b[0m\u001b[0;34m(\u001b[0m\u001b[0;34m'-'\u001b[0m\u001b[0;34m)\u001b[0m\u001b[0;34m+\u001b[0m\u001b[0mt\u001b[0m\u001b[0;34m.\u001b[0m\u001b[0msplit\u001b[0m\u001b[0;34m(\u001b[0m\u001b[0;34m':'\u001b[0m\u001b[0;34m)\u001b[0m \u001b[0;34m]\u001b[0m\u001b[0;34m)\u001b[0m\u001b[0;34m\u001b[0m\u001b[0m\n\u001b[0m\u001b[1;32m     55\u001b[0m     \u001b[0;32mexcept\u001b[0m \u001b[0;34m(\u001b[0m\u001b[0mSystemExit\u001b[0m\u001b[0;34m,\u001b[0m \u001b[0mKeyboardInterrupt\u001b[0m\u001b[0;34m)\u001b[0m\u001b[0;34m:\u001b[0m\u001b[0;34m\u001b[0m\u001b[0m\n\u001b[1;32m     56\u001b[0m         \u001b[0;32mraise\u001b[0m\u001b[0;34m\u001b[0m\u001b[0m\n",
        "\u001b[0;31mKeyboardInterrupt\u001b[0m: "
       ]
      }
     ],
     "prompt_number": 8
    },
    {
     "cell_type": "code",
     "collapsed": false,
     "input": [
      "len(all_rows)"
     ],
     "language": "python",
     "metadata": {},
     "outputs": []
    },
    {
     "cell_type": "code",
     "collapsed": false,
     "input": [
      "csv_reader = csv.reader(open(INPUT_FILENAME,'r'))"
     ],
     "language": "python",
     "metadata": {},
     "outputs": [],
     "prompt_number": 53
    },
    {
     "cell_type": "code",
     "collapsed": false,
     "input": [
      "csv_writer = csv.writer(open(OUTPUT_FILENAME,'w'))"
     ],
     "language": "python",
     "metadata": {},
     "outputs": [],
     "prompt_number": 54
    },
    {
     "cell_type": "code",
     "collapsed": false,
     "input": [
      "print csv_reader\n",
      "print csv_writer"
     ],
     "language": "python",
     "metadata": {},
     "outputs": [
      {
       "output_type": "stream",
       "stream": "stdout",
       "text": [
        "<_csv.reader object at 0x123ff4e50>\n",
        "<_csv.writer object at 0x12444e520>\n"
       ]
      }
     ],
     "prompt_number": 55
    },
    {
     "cell_type": "code",
     "collapsed": false,
     "input": [
      "dup_rows = set()\n",
      "for row in csv_reader:\n",
      "    if row[1] not in dup_rows:\n",
      "        csv_writer.writerow([row[1]])\n",
      "        dup_rows.add(row[1])"
     ],
     "language": "python",
     "metadata": {},
     "outputs": [],
     "prompt_number": 56
    },
    {
     "cell_type": "code",
     "collapsed": false,
     "input": [
      "for idx, row in enumerate(all_rows):\n",
      "    new_row = row[1]\n",
      "    if type(new_row) is not NoneType:\n",
      "        new_row = new_row.replace('\\n',' ')\n",
      "        new_row = new_row.replace('\\r',' ')\n",
      "        new_row = new_row.replace('\\f',' ')\n",
      "        new_row = new_row.replace('\\\\',' ')\n",
      "        new_row = new_row.replace('/',' ')\n",
      "        csv_writer.writerow(tuple(new_row))"
     ],
     "language": "python",
     "metadata": {},
     "outputs": [],
     "prompt_number": 95
    },
    {
     "cell_type": "code",
     "collapsed": false,
     "input": [
      "documents = gl.SFrame.read_csv(OUTPUT_FILENAME, header=False)"
     ],
     "language": "python",
     "metadata": {},
     "outputs": [
      {
       "html": [
        "PROGRESS: Finished parsing file /Users/vijay/Edmodo/graphlab/edmodo_messages_single_col.csv<br/>"
       ],
       "metadata": {},
       "output_type": "display_data",
       "text": [
        "PROGRESS: Finished parsing file /Users/vijay/Edmodo/graphlab/edmodo_messages_single_col.csv"
       ]
      },
      {
       "html": [
        "PROGRESS: Parsing completed. Parsed 100 lines in 0.199082 secs.<br/>"
       ],
       "metadata": {},
       "output_type": "display_data",
       "text": [
        "PROGRESS: Parsing completed. Parsed 100 lines in 0.199082 secs."
       ]
      },
      {
       "html": [
        "PROGRESS: Finished parsing file /Users/vijay/Edmodo/graphlab/edmodo_messages_single_col.csv<br/>"
       ],
       "metadata": {},
       "output_type": "display_data",
       "text": [
        "PROGRESS: Finished parsing file /Users/vijay/Edmodo/graphlab/edmodo_messages_single_col.csv"
       ]
      },
      {
       "html": [
        "PROGRESS: Parsing completed. Parsed 126420 lines in 0.561845 secs.<br/>"
       ],
       "metadata": {},
       "output_type": "display_data",
       "text": [
        "PROGRESS: Parsing completed. Parsed 126420 lines in 0.561845 secs."
       ]
      },
      {
       "output_type": "stream",
       "stream": "stdout",
       "text": [
        "Could not detect types. Using str for each column.\n"
       ]
      }
     ],
     "prompt_number": 57
    },
    {
     "cell_type": "code",
     "collapsed": false,
     "input": [
      "documents.num_rows"
     ],
     "language": "python",
     "metadata": {},
     "outputs": [
      {
       "metadata": {},
       "output_type": "pyout",
       "prompt_number": 58,
       "text": [
        "<bound method SFrame.num_rows of Columns:\n",
        "\tX1\tstr\n",
        "\n",
        "Rows: 126420\n",
        "\n",
        "Data:\n",
        "+--------------------------------+\n",
        "|               X1               |\n",
        "+--------------------------------+\n",
        "|                                |\n",
        "| Bienvenido al Modulo de En ... |\n",
        "| Ensayo del Poder de las pa ... |\n",
        "|           Thank you.           |\n",
        "|          bienvenidos           |\n",
        "|          felicidades           |\n",
        "|           Edmodo # 4           |\n",
        "| ASIENDO EL PORTAL AL NEDER ... |\n",
        "| Weekly Current Event Posti ... |\n",
        "| I did the homework. Want t ... |\n",
        "|              ...               |\n",
        "+--------------------------------+\n",
        "[126420 rows x 1 columns]\n",
        "Note: Only the head of the SFrame is printed.\n",
        "You can use print_rows(num_rows=m, num_columns=n) to print more rows and columns.>"
       ]
      }
     ],
     "prompt_number": 58
    },
    {
     "cell_type": "code",
     "collapsed": false,
     "input": [
      "bow = documents['X1'].count_words()"
     ],
     "language": "python",
     "metadata": {},
     "outputs": [],
     "prompt_number": 60
    },
    {
     "cell_type": "code",
     "collapsed": false,
     "input": [
      "trimmed = bow.dict_trim_by_values(2)"
     ],
     "language": "python",
     "metadata": {},
     "outputs": [],
     "prompt_number": 61
    },
    {
     "cell_type": "code",
     "collapsed": false,
     "input": [
      "stopped = trimmed.dict_trim_by_keys(gl.text.stopwords())"
     ],
     "language": "python",
     "metadata": {},
     "outputs": [],
     "prompt_number": 62
    },
    {
     "cell_type": "code",
     "collapsed": false,
     "input": [
      "stopped"
     ],
     "language": "python",
     "metadata": {},
     "outputs": [
      {
       "metadata": {},
       "output_type": "pyout",
       "prompt_number": 73,
       "text": [
        "dtype: dict\n",
        "Rows: 126420\n",
        "[{}, {}, {}, {}, {}, {}, {}, {'al': 2}, {'2': 2}, {}, {}, {'1': 2, '3': 2, '2': 2, 'hal': 3, '7': 2}, {}, {}, {}, {'questions': 2}, {}, {}, {}, {}, {}, {'account': 2}, {'mexican': 3, 'study': 3, 'war': 3, 'american': 2, 'compromise': 2, 'notes': 4}, {}, {'ch': 2, '3': 2, '2': 4, 'lev': 2}, {}, {}, {'make': 3, 'class': 2, 'complete': 2}, {}, {}, {}, {}, {}, {}, {}, {}, {}, {}, {}, {}, {'assessment': 2, 'benefits': 2, 'learning': 6, 'student': 3, 'missing': 2}, {'footage': 2, 'wait': 2}, {}, {}, {}, {}, {'haha': 2}, {'5': 2}, {}, {}, {}, {}, {}, {}, {}, {'1': 3, 'egg': 2, 'lab': 2}, {}, {}, {}, {'time': 2}, {}, {}, {}, {}, {}, {}, {}, {}, {}, {}, {'11': 2, 'week': 2, 'story': 2, 'art': 2, 'mrs': 2, 'class': 3, 'child': 4, 'writing': 2, 'bring': 2, 'step': 2, 'pillow': 2, 'student': 3, 'year': 2, 'cards': 2, 'valentine': 3, 'day': 2}, {}, {}, {}, {}, {}, {}, {}, {'bus': 2, 'guys': 2, 'miss': 2}, {}, {}, {}, {'gmail': 2}, {}, {}, {}, {}, {'literacy': 3, 'resources': 2, 'civic': 2}, {}, {}, {}, {'dont': 2}, {'project': 2}, {'lessons': 2, 'monday': 3, 'extra': 2, 'prepared': 2, '1': 2, 'credit': 2, '6': 2, 'teach': 3}, {}, {}, {}, {'tax': 2}, {}, {'weekend': 2}, ... ]"
       ]
      }
     ],
     "prompt_number": 73
    },
    {
     "cell_type": "code",
     "collapsed": false,
     "input": [
      "ix = stopped.apply(lambda x: len(x.keys()) >= 1)"
     ],
     "language": "python",
     "metadata": {},
     "outputs": [
      {
       "metadata": {},
       "output_type": "pyout",
       "prompt_number": 69,
       "text": [
        "dtype: int\n",
        "Rows: 126420\n",
        "[0, 0, 0, 0, 0, 0, 0, 1, 1, 0, 0, 1, 0, 0, 0, 1, 0, 0, 0, 0, 0, 1, 1, 0, 1, 0, 0, 1, 0, 0, 0, 0, 0, 0, 0, 0, 0, 0, 0, 0, 1, 1, 0, 0, 0, 0, 1, 1, 0, 0, 0, 0, 0, 0, 0, 1, 0, 0, 0, 1, 0, 0, 0, 0, 0, 0, 0, 0, 0, 0, 1, 0, 0, 0, 0, 0, 0, 0, 1, 0, 0, 0, 1, 0, 0, 0, 0, 1, 0, 0, 0, 1, 1, 1, 0, 0, 0, 1, 0, 1, ... ]"
       ]
      }
     ],
     "prompt_number": 69
    },
    {
     "cell_type": "code",
     "collapsed": false,
     "input": [
      "docs = stopped[ix]\n",
      "docs"
     ],
     "language": "python",
     "metadata": {},
     "outputs": [
      {
       "metadata": {},
       "output_type": "pyout",
       "prompt_number": 71,
       "text": [
        "dtype: dict\n",
        "Rows: 33244\n",
        "[{'al': 2}, {'2': 2}, {'1': 2, '3': 2, '2': 2, 'hal': 3, '7': 2}, {'questions': 2}, {'account': 2}, {'mexican': 3, 'study': 3, 'war': 3, 'american': 2, 'compromise': 2, 'notes': 4}, {'ch': 2, '3': 2, '2': 4, 'lev': 2}, {'make': 3, 'class': 2, 'complete': 2}, {'assessment': 2, 'benefits': 2, 'learning': 6, 'student': 3, 'missing': 2}, {'footage': 2, 'wait': 2}, {'haha': 2}, {'5': 2}, {'1': 3, 'egg': 2, 'lab': 2}, {'time': 2}, {'11': 2, 'week': 2, 'story': 2, 'art': 2, 'mrs': 2, 'class': 3, 'child': 4, 'writing': 2, 'bring': 2, 'step': 2, 'pillow': 2, 'student': 3, 'year': 2, 'cards': 2, 'valentine': 3, 'day': 2}, {'bus': 2, 'guys': 2, 'miss': 2}, {'gmail': 2}, {'literacy': 3, 'resources': 2, 'civic': 2}, {'dont': 2}, {'project': 2}, {'lessons': 2, 'monday': 3, 'extra': 2, 'prepared': 2, '1': 2, 'credit': 2, '6': 2, 'teach': 3}, {'tax': 2}, {'weekend': 2}, {'super': 2}, {'early': 2, 'wondering': 2, 'english': 2}, {'high': 2, 'school': 3, 'work': 2, 'ms': 3, 'mr': 2}, {'cousin': 2, 'annamarie': 2}, {'rl': 3, 'app': 2, 'return': 2, 'id': 2, '6': 3}, {'broncos': 3, 'end': 2, 'score': 3, 'seahawks': 3, 'quarter': 2, 'numbers': 3}, {'assignment': 2}, {'great': 2}, {'good': 2, 'night': 2}, {'este': 2, 'en': 4, 'ana': 2, 'el': 2, 'por': 2, 'as\\xc3\\x83\\xc2\\xad': 2, 'evaluaci\\xc3\\x83\\xc2\\xb3n': 2, 'siempre': 2, 'quiero': 2, 'la': 9, 'lo': 2, 'los': 6, 'sobre': 2, 'mis': 2, 'todos': 2, 'docentes': 2, 'maestra': 3, 'ya': 6, 'de': 10, 'competencias': 2, 'miramontes': 2, 'como': 5, 'mucho': 2, 'las': 5, 'hacer': 2, 'gracias': 4, 'compa\\xc3\\x83\\xc2\\xb1eros': 2, 'una': 2, 'm\\xc3\\x83\\xc2\\xa1s': 3, 'del': 2, 'curso': 5, 'se': 2}, {'duke': 2, 'feral': 2, 'alice': 2, 'nuns': 2, 'child': 2, 'found': 2}, {'tap': 3, 'tinyurl': 2, 'http': 2, 'send': 2}, {'1': 3, '2014': 2, '2': 3}, {'2': 3}, {'penalty': 2, 'students': 3, 'circle': 2, 'death': 2, 'ideas': 2}, {'complete': 2, 'compound': 2, 'expanded': 2, 'idea': 2, 'complex': 2, 'sentences': 2}, {'geometry': 2, 'video': 2}, {'memo': 2}, {'test': 2, 'spelling': 4, 'words': 4, 'homework': 3}, {'26': 2, '14': 2, '55': 2, '32': 2, '42': 2, '36': 2, 'quiz': 4, '46': 2, '75': 2, '5': 4, '66': 2, 'test': 2, '52': 2, 'unit': 2}, {'full': 2, 'students': 4, 'tag': 2, 'free': 2, 'morning': 2, 'downloaded': 2, 'version': 3, 'inspirepro': 2, 'ms': 2, 'posters': 2}, {'cra': 2}, {'watch': 2}, {'lesson': 2}, {'current': 2, 'turn': 2, 'speech': 3, 'events': 2}, {'printer': 2, 'don': 2, 'read': 2, 'assignment': 2, 'american': 3, 'book': 5, 'african': 3, 'print': 2, 'homework': 2}, {'qu\\xc3\\x83\\xc2\\xa9': 2}, {'shared': 2, 'google': 2, 'drive': 2}, {'map': 5, 'death': 3, 'penalty': 3, 'models': 2, 'sentence': 2, 'ideas': 4, 'topic': 2, 'folder': 2, 'model': 2, 'flee': 4, 'lesson': 2}, {'stalk': 2}, {'el': 2, 'la': 3, 'de': 7, 'les': 3, 'las': 2, 'unidad': 2}, {'problem': 3, 'solve': 2}, {'retake': 2}, {'make': 2, 'monday': 3}, {'word': 2, 'meaning': 3, 'determination': 2, 'words': 2, 'give': 2}, {'reactions': 2, '27': 2, 'read': 2, '31': 2, 'chemical': 2, '1': 8}, {'en': 2}, {'communicate': 2}, {'1': 2, 'cohorts': 2, '2': 2, 'wednesday': 2}, {'tomorrow': 2, 'signed': 2}, {'friday': 2, 'thursday': 2, 'pgs': 2, 'monday': 4, 'valentine': 2}, {'2': 2}, {'heart': 2, 'rhythm': 2}, {'problem': 3}, {'sea': 2, 'shells': 2}, {'united': 2, 'free': 2}, {'problem': 2}, {'porque': 3, 'el': 3, 'tiempo': 2, 'deep': 2, 'rico': 6, 'puerto': 6, 'es': 2}, {'week': 3, 'project': 2, 'school': 3, 'revised': 3, 'tomorrow': 5, 'monday': 2, 'schedule': 4, 'grade': 2, '30': 2, 'class': 3, 'dioramas': 4, 'grades': 4, 'ms': 2, 'weeks': 2, 'day': 2}, {'office': 2, 'mr': 2}, {'conversation': 2, 'll': 2, 'good': 2, 'great': 2, 'huddle': 2}, {'feedback': 4, 'text': 3, 'catching': 3, 'captions': 3, 'table': 2, 'colours': 2, 'bibliography': 2, 'fit': 2, 'pictures': 3, '\\xc3\\xa2\\xe2\\x82\\xac\\xc2\\xa2': 5, '29': 3, 'jan': 3, 'add': 2, '2014': 3, 'include': 2, 'told': 2, 'added': 4, 'star': 2, 'yesterday': 2, 'made': 2, 'kavya': 5, 'eye': 4, 'graphic': 3, 'time': 5, 'page': 2}, {'8': 2}, {'6': 5}, {'year': 2}, {'rubber': 2, 'bands': 2, 'bracelet': 2, 'tallen': 2}, {'president': 2, 'feb': 2}, {'encuesta': 2, 'de': 2, 'la': 2, 'con': 2}, {'video': 3, 'snake': 2, 'posted': 2}, {'1': 2, 'el': 2}, {'topic': 3, 'proposal': 2, 'plan': 2, 'research': 3}, {'emergency': 2, 'creigh': 6, 'gus': 6, 'home': 2, 'day': 3, 'custody': 2}, {'essay': 3, 'supporting': 4, 'death': 2, 'map': 5, 'models': 2, 'support': 2, 'ideas': 2, 'handout': 2, 'strategy': 2, 'penalty': 2, 'topic': 4, 'added': 2, 'details': 4, 'sentences': 4, 'folder': 4, 'main': 2, 'flee': 5, 'powerpoint': 4}, {'read': 2, '8th': 2, 'time': 2}, {'le': 3}, {'week': 2, 'return': 3, 'ad': 4, 'campaign': 3, 'check': 2, 'make': 3, 'attached': 2, 'quiz': 2, 'project': 2, 'missed': 3, 'binder': 2, 'questions': 2, 'post': 3, 'completed': 2, 'unit': 5, 've': 2}, {'quizlet': 2}, {'guildenstern': 6, 'reference': 2, 'rosencrantz': 6, 'ambitions': 3, 'hamlet': 4, 'future': 2, 'bothering': 2, 'ambition': 3, 'hamlet\\xc3\\xa2\\xe2\\x82\\xac\\xe2\\x84\\xa2s': 2, 'repeatedly': 2}, {'week': 3, 'based': 2}, {'instructional': 2, 'word': 3, 'findings': 2, 'wtw': 6, 'students': 3, 'instruction': 4, 'related': 2, 'month': 2, 'patterns': 4, 'systemic': 3, 'opportunities': 2, 'phonics': 5, 'grade': 2, 'responsive': 2, 'spelling': 2, 'nrp': 4, 'sounds': 2}, {'finally': 2}, {'ha': 3}, {'week': 4, 'plays': 2}, {'due': 2}, {'butter': 3, 'cookies': 5, 'short': 2, 'peanut': 3, 'chocolate': 6, 'cookie': 3, 'thin': 2, 'drizzle': 2, 'bread': 2}, {'00': 2}, {'turn': 2}, ... ]"
       ]
      }
     ],
     "prompt_number": 71
    },
    {
     "cell_type": "code",
     "collapsed": false,
     "input": [
      "docs.show()"
     ],
     "language": "python",
     "metadata": {},
     "outputs": [],
     "prompt_number": 66
    },
    {
     "cell_type": "code",
     "collapsed": false,
     "input": [
      "m = gl.topic_model.create(docs, num_topics=30, num_iterations=30)"
     ],
     "language": "python",
     "metadata": {},
     "outputs": [
      {
       "html": [
        "PROGRESS: First Use of Python Lambda: Starting Lambda Workers. This might take a few seconds.<br/>"
       ],
       "metadata": {},
       "output_type": "display_data",
       "text": [
        "PROGRESS: First Use of Python Lambda: Starting Lambda Workers. This might take a few seconds."
       ]
      },
      {
       "html": [
        "PROGRESS: Running collapsed Gibbs sampling<br/>"
       ],
       "metadata": {},
       "output_type": "display_data",
       "text": [
        "PROGRESS: Running collapsed Gibbs sampling"
       ]
      },
      {
       "html": [
        "PROGRESS:  Iteration Tokens/second Seconds/iter Perplexity<br/>"
       ],
       "metadata": {},
       "output_type": "display_data",
       "text": [
        "PROGRESS:  Iteration Tokens/second Seconds/iter Perplexity"
       ]
      },
      {
       "html": [
        "PROGRESS:          5        180215     0.234377    1420.11<br/>"
       ],
       "metadata": {},
       "output_type": "display_data",
       "text": [
        "PROGRESS:          5        180215     0.234377    1420.11"
       ]
      },
      {
       "html": [
        "PROGRESS: topic 0: math di study notes war friday unit 02 food american prezi \u00d9\u02c6 family \u00d8\u00a8\u00d9\u2021 birthday<br/>"
       ],
       "metadata": {},
       "output_type": "display_data",
       "text": [
        "PROGRESS: topic 0: math di study notes war friday unit 02 food american prezi \u00d9\u02c6 family \u00d8\u00a8\u00d9\u2021 birthday"
       ]
      },
      {
       "html": [
        "PROGRESS: topic 1: monday week important page year complete february check data days point due problem homework good<br/>"
       ],
       "metadata": {},
       "output_type": "display_data",
       "text": [
        "PROGRESS: topic 1: monday week important page year complete february check data days point due problem homework good"
       ]
      },
      {
       "html": [
        "PROGRESS: topic 2: chicken \u00d9\u0081\u00d9\u0160 \u00d9\u02c6 die read study class \u00d8\u0152 story guide till city paul 6 days<br/>"
       ],
       "metadata": {},
       "output_type": "display_data",
       "text": [
        "PROGRESS: topic 2: chicken \u00d9\u0081\u00d9\u0160 \u00d9\u02c6 die read study class \u00d8\u0152 story guide till city paul 6 days"
       ]
      },
      {
       "html": [
        "PROGRESS: topic 3: 3 http 4 watch questions 5 youtube practice february click answer lesson username 7 link<br/>"
       ],
       "metadata": {},
       "output_type": "display_data",
       "text": [
        "PROGRESS: topic 3: 3 http 4 watch questions 5 youtube practice february click answer lesson username 7 link"
       ]
      },
      {
       "html": [
        "PROGRESS: topic 4: students back read day people \u00e2\u20ac\u009d homework grades warm found current part red god turn<br/>"
       ],
       "metadata": {},
       "output_type": "display_data",
       "text": [
        "PROGRESS: topic 4: students back read day people \u00e2\u20ac\u009d homework grades warm found current part red god turn"
       ]
      },
      {
       "html": [
        "PROGRESS: topic 5: de para se les president en obama como congress est des power company del une<br/>"
       ],
       "metadata": {},
       "output_type": "display_data",
       "text": [
        "PROGRESS: topic 5: de para se les president en obama como congress est des power company del une"
       ]
      },
      {
       "html": [
        "PROGRESS: topic 6: time test great writing speech government adj book executive video lesson feel things good hand<br/>"
       ],
       "metadata": {},
       "output_type": "display_data",
       "text": [
        "PROGRESS: topic 6: time test great writing speech government adj book executive video lesson feel things good hand"
       ]
      },
      {
       "html": [
        "PROGRESS: topic 7: 2013 dec project post 1 6 serena song quiz reply padma huey width music nov<br/>"
       ],
       "metadata": {},
       "output_type": "display_data",
       "text": [
        "PROGRESS: topic 7: 2013 dec project post 1 6 serena song quiz reply padma huey width music nov"
       ]
      },
      {
       "html": [
        "PROGRESS: topic 8: che people happy da article \u00c3\u00a8 water make ma hamlet picture shows america ha king<br/>"
       ],
       "metadata": {},
       "output_type": "display_data",
       "text": [
        "PROGRESS: topic 8: che people happy da article \u00c3\u00a8 water make ma hamlet picture shows america ha king"
       ]
      },
      {
       "html": [
        "PROGRESS: topic 9: make tuesday reading science lot place quiz due person essay problems presentation grade change topic<br/>"
       ],
       "metadata": {},
       "output_type": "display_data",
       "text": [
        "PROGRESS: topic 9: make tuesday reading science lot place quiz due person essay problems presentation grade change topic"
       ]
      },
      {
       "html": [
        "PROGRESS: topic 10: school www 00 high 30 2 white left org border font margin car bring species<br/>"
       ],
       "metadata": {},
       "output_type": "display_data",
       "text": [
        "PROGRESS: topic 10: school www 00 high 30 2 white left org border font margin car bring species"
       ]
      },
      {
       "html": [
        "PROGRESS: topic 11: group \u00e2\u20ac\u201c money text time states called video 6 app padding find years process words<br/>"
       ],
       "metadata": {},
       "output_type": "display_data",
       "text": [
        "PROGRESS: topic 11: group \u00e2\u20ac\u201c money text time states called video 6 app padding find years process words"
       ]
      },
      {
       "html": [
        "PROGRESS: topic 12: class feb write lab grade homework due http mr water quiz information read child language<br/>"
       ],
       "metadata": {},
       "output_type": "display_data",
       "text": [
        "PROGRESS: topic 12: class feb write lab grade homework due http mr water quiz information read child language"
       ]
      },
      {
       "html": [
        "PROGRESS: topic 13: 2 1 5 4 10 7 http points chapter 14 20 website \u00e2\u20ac\u201c test 000<br/>"
       ],
       "metadata": {},
       "output_type": "display_data",
       "text": [
        "PROGRESS: topic 13: 2 1 5 4 10 7 http points chapter 14 20 website \u00e2\u20ac\u201c test 000"
       ]
      },
      {
       "html": [
        "PROGRESS: topic 14: life work good article women love job school man orders parents grade plastic 2 friend<br/>"
       ],
       "metadata": {},
       "output_type": "display_data",
       "text": [
        "PROGRESS: topic 14: life work good article women love job school man orders parents grade plastic 2 friend"
       ]
      },
      {
       "html": [
        "PROGRESS: topic 15: work student week reading team war 8 topic period assignment teachers discussion france essay ideas<br/>"
       ],
       "metadata": {},
       "output_type": "display_data",
       "text": [
        "PROGRESS: topic 15: work student week reading team war 8 topic period assignment teachers discussion france essay ideas"
       ]
      },
      {
       "html": [
        "PROGRESS: topic 16: 0 gb color www background top display 1 box 15 position height td 1px google<br/>"
       ],
       "metadata": {},
       "output_type": "display_data",
       "text": [
        "PROGRESS: topic 16: 0 gb color www background top display 1 box 15 position height td 1px google"
       ]
      },
      {
       "html": [
        "PROGRESS: topic 17: \u00e2\u20ac\u00a2 students english people na information good aynur jan 21 replies language south 8 type<br/>"
       ],
       "metadata": {},
       "output_type": "display_data",
       "text": [
        "PROGRESS: topic 17: \u00e2\u20ac\u00a2 students english people na information good aynur jan 21 replies language south 8 type"
       ]
      },
      {
       "html": [
        "PROGRESS: topic 18: untuk dalam 1 \u00d9\u2026\u00d9\u2020 oleh bisa buku 2 hal google 8 file menjadi merupakan 7<br/>"
       ],
       "metadata": {},
       "output_type": "display_data",
       "text": [
        "PROGRESS: topic 18: untuk dalam 1 \u00d9\u2026\u00d9\u2020 oleh bisa buku 2 hal google 8 file menjadi merupakan 7"
       ]
      },
      {
       "html": [
        "PROGRESS: topic 19: de la el en los es le las con una del lo por je si<br/>"
       ],
       "metadata": {},
       "output_type": "display_data",
       "text": [
        "PROGRESS: topic 19: de la el en los es le las con una del lo por je si"
       ]
      },
      {
       "html": [
        "PROGRESS: topic 20: world year life ang edmodo learn change food 3 room care death ay blue earth<br/>"
       ],
       "metadata": {},
       "output_type": "display_data",
       "text": [
        "PROGRESS: topic 20: world year life ang edmodo learn change food 3 room care death ay blue earth"
       ]
      },
      {
       "html": [
        "PROGRESS: topic 21: 2014 don make show made thought pictures page guys game 6 light 18 friday black<br/>"
       ],
       "metadata": {},
       "output_type": "display_data",
       "text": [
        "PROGRESS: topic 21: 2014 don make show made thought pictures page guys game 6 light 18 friday black"
       ]
      },
      {
       "html": [
        "PROGRESS: topic 22: tomorrow question home today history \u00cf\u201e\u00ce\u00bf public school password \u00ce\u00bd\u00ce\u00b1 good assignments talk code week<br/>"
       ],
       "metadata": {},
       "output_type": "display_data",
       "text": [
        "PROGRESS: topic 22: tomorrow question home today history \u00cf\u201e\u00ce\u00bf public school password \u00ce\u00bd\u00ce\u00b1 good assignments talk code week"
       ]
      },
      {
       "html": [
        "PROGRESS: topic 23: sa learning ng children ms po mga snow science salat spanish made statement tom mr<br/>"
       ],
       "metadata": {},
       "output_type": "display_data",
       "text": [
        "PROGRESS: topic 23: sa learning ng children ms po mga snow science salat spanish made statement tom mr"
       ]
      },
      {
       "html": [
        "PROGRESS: topic 24: find year people score miss im super assignment news pg number speech assessment friends review<br/>"
       ],
       "metadata": {},
       "output_type": "display_data",
       "text": [
        "PROGRESS: topic 24: find year people score miss im super assignment news pg number speech assessment friends review"
       ]
      },
      {
       "html": [
        "PROGRESS: topic 25: il day time edmodo ll ve la house hope told email du technology post live<br/>"
       ],
       "metadata": {},
       "output_type": "display_data",
       "text": [
        "PROGRESS: topic 25: il day time edmodo ll ve la house hope told email du technology post live"
       ]
      },
      {
       "html": [
        "PROGRESS: topic 26: people book day words super word bowl body kids teacher media men system study times<br/>"
       ],
       "metadata": {},
       "output_type": "display_data",
       "text": [
        "PROGRESS: topic 26: people book day words super word bowl body kids teacher media men system study times"
       ]
      },
      {
       "html": [
        "PROGRESS: topic 27: pizza book story students mother family father chinese \u00ce\u00ba\u00ce\u00b1\u00ce\u00b9 1 jing mei didn teacher love<br/>"
       ],
       "metadata": {},
       "output_type": "display_data",
       "text": [
        "PROGRESS: topic 27: pizza book story students mother family father chinese \u00ce\u00ba\u00ce\u00b1\u00ce\u00b9 1 jing mei didn teacher love"
       ]
      },
      {
       "html": [
        "PROGRESS: topic 28: yang dan di dengan dari pada ini media dapat tidak atau adalah anda akan lebih<br/>"
       ],
       "metadata": {},
       "output_type": "display_data",
       "text": [
        "PROGRESS: topic 28: yang dan di dengan dari pada ini media dapat tidak atau adalah anda akan lebih"
       ]
      },
      {
       "html": [
        "PROGRESS: topic 29: whats jar dirt paper time games quote weekend dance alex guys mattie powerpoint unit sentences<br/>"
       ],
       "metadata": {},
       "output_type": "display_data",
       "text": [
        "PROGRESS: topic 29: whats jar dirt paper time games quote weekend dance alex guys mattie powerpoint unit sentences"
       ]
      },
      {
       "html": [
        "PROGRESS:         10        168725     0.249674    1309.13<br/>"
       ],
       "metadata": {},
       "output_type": "display_data",
       "text": [
        "PROGRESS:         10        168725     0.249674    1309.13"
       ]
      },
      {
       "html": [
        "PROGRESS: topic 0: notes study war friday math di 02 unit food american chapter \u00d9\u02c6 birthday prezi \u00d8\u00a8\u00d9\u2021<br/>"
       ],
       "metadata": {},
       "output_type": "display_data",
       "text": [
        "PROGRESS: topic 0: notes study war friday math di 02 unit food american chapter \u00d9\u02c6 birthday prezi \u00d8\u00a8\u00d9\u2021"
       ]
      },
      {
       "html": [
        "PROGRESS: topic 1: monday week students february due important page year complete bring data video thursday wednesday good<br/>"
       ],
       "metadata": {},
       "output_type": "display_data",
       "text": [
        "PROGRESS: topic 1: monday week students february due important page year complete bring data video thursday wednesday good"
       ]
      },
      {
       "html": [
        "PROGRESS: topic 2: chicken \u00d9\u0081\u00d9\u0160 \u00d9\u02c6 study \u00d8\u0152 lol \u00d8\u00a5\u00d9\u201e\u00d9\u2030 \u00d8\u00a3\u00d9\u2020 \u00d8\u00a7\u00d9\u201e\u00d8\u00a5\u00d9\u2026\u00d8\u00a7\u00d8\u00b1\u00d8\u00a7\u00d8\u00aa wondering \u00d9\u0192\u00d9\u20ac\u00d8\u00a7\u00d9\u2020\u00ef\u00b7\u00ba class \u00d9\u0160\u00d8\u00a7 paul \u00d9\u0192\u00d8\u00a7\u00d9\u2020<br/>"
       ],
       "metadata": {},
       "output_type": "display_data",
       "text": [
        "PROGRESS: topic 2: chicken \u00d9\u0081\u00d9\u0160 \u00d9\u02c6 study \u00d8\u0152 lol \u00d8\u00a5\u00d9\u201e\u00d9\u2030 \u00d8\u00a3\u00d9\u2020 \u00d8\u00a7\u00d9\u201e\u00d8\u00a5\u00d9\u2026\u00d8\u00a7\u00d8\u00b1\u00d8\u00a7\u00d8\u00aa wondering \u00d9\u0192\u00d9\u20ac\u00d8\u00a7\u00d9\u2020\u00ef\u00b7\u00ba class \u00d9\u0160\u00d8\u00a7 paul \u00d9\u0192\u00d8\u00a7\u00d9\u2020"
       ]
      },
      {
       "html": [
        "PROGRESS: topic 3: http 3 www questions watch youtube 4 8 february lesson answer 2014 practice show username<br/>"
       ],
       "metadata": {},
       "output_type": "display_data",
       "text": [
        "PROGRESS: topic 3: http 3 www questions watch youtube 4 8 february lesson answer 2014 practice show username"
       ]
      },
      {
       "html": [
        "PROGRESS: topic 4: students back \u00e2\u20ac\u009d day grade read grades homework warm current found part night red room<br/>"
       ],
       "metadata": {},
       "output_type": "display_data",
       "text": [
        "PROGRESS: topic 4: students back \u00e2\u20ac\u009d day grade read grades homework warm current found part night red room"
       ]
      },
      {
       "html": [
        "PROGRESS: topic 5: de para les president est executive obama como \u00c3\u00a0 congress orders des power order state<br/>"
       ],
       "metadata": {},
       "output_type": "display_data",
       "text": [
        "PROGRESS: topic 5: de para les president est executive obama como \u00c3\u00a0 congress orders des power order state"
       ]
      },
      {
       "html": [
        "PROGRESS: topic 6: time great test speech book writing adj government good people hand classroom video attention things<br/>"
       ],
       "metadata": {},
       "output_type": "display_data",
       "text": [
        "PROGRESS: topic 6: time great test speech book writing adj government good people hand classroom video attention things"
       ]
      },
      {
       "html": [
        "PROGRESS: topic 7: 2013 dec project post 6 1 serena song 8 padma huey group music send nov<br/>"
       ],
       "metadata": {},
       "output_type": "display_data",
       "text": [
        "PROGRESS: topic 7: 2013 dec project post 6 1 serena song 8 padma huey group music send nov"
       ]
      },
      {
       "html": [
        "PROGRESS: topic 8: che people water happy da \u00c3\u00a8 ma king hamlet america british shows living picture ve<br/>"
       ],
       "metadata": {},
       "output_type": "display_data",
       "text": [
        "PROGRESS: topic 8: che people water happy da \u00c3\u00a8 ma king hamlet america british shows living picture ve"
       ]
      },
      {
       "html": [
        "PROGRESS: topic 9: make science tuesday lot quiz reading monday due place company tomorrow finish person topic essay<br/>"
       ],
       "metadata": {},
       "output_type": "display_data",
       "text": [
        "PROGRESS: topic 9: make science tuesday lot quiz reading monday due place company tomorrow finish person topic essay"
       ]
      },
      {
       "html": [
        "PROGRESS: topic 10: school 00 high 30 2 left www org border white font schools car small line<br/>"
       ],
       "metadata": {},
       "output_type": "display_data",
       "text": [
        "PROGRESS: topic 10: school 00 high 30 2 left www org border white font schools car small line"
       ]
      },
      {
       "html": [
        "PROGRESS: topic 11: \u00e2\u20ac\u201c group time text money video states war find men temperature called code wall boys<br/>"
       ],
       "metadata": {},
       "output_type": "display_data",
       "text": [
        "PROGRESS: topic 11: \u00e2\u20ac\u201c group time text money video states war find men temperature called code wall boys"
       ]
      },
      {
       "html": [
        "PROGRESS: topic 12: class feb write read mr lab homework grade information week students quiz review period child<br/>"
       ],
       "metadata": {},
       "output_type": "display_data",
       "text": [
        "PROGRESS: topic 12: class feb write read mr lab homework grade information week students quiz review period child"
       ]
      },
      {
       "html": [
        "PROGRESS: topic 13: 2 1 3 5 4 10 7 14 chapter test 9 http points website 11<br/>"
       ],
       "metadata": {},
       "output_type": "display_data",
       "text": [
        "PROGRESS: topic 13: 2 1 3 5 4 10 7 14 chapter test 9 http points website 11"
       ]
      },
      {
       "html": [
        "PROGRESS: topic 14: life good work article love women job parents family man time friend school plastic surgery<br/>"
       ],
       "metadata": {},
       "output_type": "display_data",
       "text": [
        "PROGRESS: topic 14: life good work article love women job parents family man time friend school plastic surgery"
       ]
      },
      {
       "html": [
        "PROGRESS: topic 15: work student week team reading math topic assignment online war essay culture discussion energy vocabulary<br/>"
       ],
       "metadata": {},
       "output_type": "display_data",
       "text": [
        "PROGRESS: topic 15: work student week team reading math topic assignment online war essay culture discussion energy vocabulary"
       ]
      },
      {
       "html": [
        "PROGRESS: topic 16: 0 gb color top background display 1 margin box height position padding block td google<br/>"
       ],
       "metadata": {},
       "output_type": "display_data",
       "text": [
        "PROGRESS: topic 16: 0 gb color top background display 1 margin box height position padding block td google"
       ]
      },
      {
       "html": [
        "PROGRESS: topic 17: \u00e2\u20ac\u00a2 students english na language aynur people jan information 21 reply replies type good south<br/>"
       ],
       "metadata": {},
       "output_type": "display_data",
       "text": [
        "PROGRESS: topic 17: \u00e2\u20ac\u00a2 students english na language aynur people jan information 21 reply replies type good south"
       ]
      },
      {
       "html": [
        "PROGRESS: topic 18: untuk 1 dalam 2 file \u00d9\u2026\u00d9\u2020 oleh bisa buku 6 google 7 hal edmodo menjadi<br/>"
       ],
       "metadata": {},
       "output_type": "display_data",
       "text": [
        "PROGRESS: topic 18: untuk 1 dalam 2 file \u00d9\u2026\u00d9\u2020 oleh bisa buku 6 google 7 hal edmodo menjadi"
       ]
      },
      {
       "html": [
        "PROGRESS: topic 19: de la el en los es le las del se con una lo por je<br/>"
       ],
       "metadata": {},
       "output_type": "display_data",
       "text": [
        "PROGRESS: topic 19: de la el en los es le las del se con una lo por je"
       ]
      },
      {
       "html": [
        "PROGRESS: topic 20: world year life food learn change care history health edmodo children population scene man death<br/>"
       ],
       "metadata": {},
       "output_type": "display_data",
       "text": [
        "PROGRESS: topic 20: world year life food learn change care history health edmodo children population scene man death"
       ]
      },
      {
       "html": [
        "PROGRESS: topic 21: don make made 2014 light thought game page 6 pictures black today home show dog<br/>"
       ],
       "metadata": {},
       "output_type": "display_data",
       "text": [
        "PROGRESS: topic 21: don make made 2014 light thought game page 6 pictures black today home show dog"
       ]
      },
      {
       "html": [
        "PROGRESS: topic 22: tomorrow question public school home \u00cf\u201e\u00ce\u00bf talk \u00ce\u00bd\u00ce\u00b1 quiz mrs today movie week assignments password<br/>"
       ],
       "metadata": {},
       "output_type": "display_data",
       "text": [
        "PROGRESS: topic 22: tomorrow question public school home \u00cf\u201e\u00ce\u00bf talk \u00ce\u00bd\u00ce\u00b1 quiz mrs today movie week assignments password"
       ]
      },
      {
       "html": [
        "PROGRESS: topic 23: sa learning ang ng po ms children mga ay salat spanish snow statement ko tom<br/>"
       ],
       "metadata": {},
       "output_type": "display_data",
       "text": [
        "PROGRESS: topic 23: sa learning ang ng po ms children mga ay salat spanish snow statement ko tom"
       ]
      },
      {
       "html": [
        "PROGRESS: topic 24: year im people find score class miss die assignment news interesting friends assessment story activity<br/>"
       ],
       "metadata": {},
       "output_type": "display_data",
       "text": [
        "PROGRESS: topic 24: year im people find score class miss die assignment news interesting friends assessment story activity"
       ]
      },
      {
       "html": [
        "PROGRESS: topic 25: day il time edmodo ll house ve back told post la du person hope read<br/>"
       ],
       "metadata": {},
       "output_type": "display_data",
       "text": [
        "PROGRESS: topic 25: day il time edmodo ll house ve back told post la du person hope read"
       ]
      },
      {
       "html": [
        "PROGRESS: topic 26: people book super day words feel bowl kids body media teacher study word system young<br/>"
       ],
       "metadata": {},
       "output_type": "display_data",
       "text": [
        "PROGRESS: topic 26: people book super day words feel bowl kids body media teacher study word system young"
       ]
      },
      {
       "html": [
        "PROGRESS: topic 27: pizza book story mother father family chinese \u00ce\u00ba\u00ce\u00b1\u00ce\u00b9 jing mei china girl sisters half \u00cf\u201e\u00ce\u00bf\u00cf\u2026<br/>"
       ],
       "metadata": {},
       "output_type": "display_data",
       "text": [
        "PROGRESS: topic 27: pizza book story mother father family chinese \u00ce\u00ba\u00ce\u00b1\u00ce\u00b9 jing mei china girl sisters half \u00cf\u201e\u00ce\u00bf\u00cf\u2026"
       ]
      },
      {
       "html": [
        "PROGRESS: topic 28: yang dan di dengan ini dari pada dapat tidak atau adalah media anda akan lebih<br/>"
       ],
       "metadata": {},
       "output_type": "display_data",
       "text": [
        "PROGRESS: topic 28: yang dan di dengan ini dari pada dapat tidak atau adalah media anda akan lebih"
       ]
      },
      {
       "html": [
        "PROGRESS: topic 29: whats jar dirt guys paper quote games test alex time broncos unit dance weekend poem<br/>"
       ],
       "metadata": {},
       "output_type": "display_data",
       "text": [
        "PROGRESS: topic 29: whats jar dirt guys paper quote games test alex time broncos unit dance weekend poem"
       ]
      },
      {
       "html": [
        "PROGRESS:         15        126321      0.32662    1239.65<br/>"
       ],
       "metadata": {},
       "output_type": "display_data",
       "text": [
        "PROGRESS:         15        126321      0.32662    1239.65"
       ]
      },
      {
       "html": [
        "PROGRESS: topic 0: study war notes friday math 02 unit chapter food prezi \u00d9\u02c6 \u00d8\u00a8\u00d9\u2021 birthday credit extra<br/>"
       ],
       "metadata": {},
       "output_type": "display_data",
       "text": [
        "PROGRESS: topic 0: study war notes friday math 02 unit chapter food prezi \u00d9\u02c6 \u00d8\u00a8\u00d9\u2021 birthday credit extra"
       ]
      },
      {
       "html": [
        "PROGRESS: topic 1: students week monday february day year due complete page project homework thursday questions bring data<br/>"
       ],
       "metadata": {},
       "output_type": "display_data",
       "text": [
        "PROGRESS: topic 1: students week monday february day year due complete page project homework thursday questions bring data"
       ]
      },
      {
       "html": [
        "PROGRESS: topic 2: chicken \u00d9\u0081\u00d9\u0160 \u00d9\u02c6 \u00d8\u0152 wondering \u00d8\u00a5\u00d9\u201e\u00d9\u2030 \u00d8\u00a3\u00d9\u2020 \u00d8\u00a7\u00d9\u201e\u00d8\u00a5\u00d9\u2026\u00d8\u00a7\u00d8\u00b1\u00d8\u00a7\u00d8\u00aa kewl abort \u00d9\u0192\u00d9\u20ac\u00d8\u00a7\u00d9\u2020\u00ef\u00b7\u00ba \u00d9\u0160\u00d8\u00a7 study module quizlet<br/>"
       ],
       "metadata": {},
       "output_type": "display_data",
       "text": [
        "PROGRESS: topic 2: chicken \u00d9\u0081\u00d9\u0160 \u00d9\u02c6 \u00d8\u0152 wondering \u00d8\u00a5\u00d9\u201e\u00d9\u2030 \u00d8\u00a3\u00d9\u2020 \u00d8\u00a7\u00d9\u201e\u00d8\u00a5\u00d9\u2026\u00d8\u00a7\u00d8\u00b1\u00d8\u00a7\u00d8\u00aa kewl abort \u00d9\u0192\u00d9\u20ac\u00d8\u00a7\u00d9\u2020\u00ef\u00b7\u00ba \u00d9\u0160\u00d8\u00a7 study module quizlet"
       ]
      },
      {
       "html": [
        "PROGRESS: topic 3: http www watch questions 3 youtube video lesson 2014 password paper username answer 2 html<br/>"
       ],
       "metadata": {},
       "output_type": "display_data",
       "text": [
        "PROGRESS: topic 3: http www watch questions 3 youtube video lesson 2014 password paper username answer 2 html"
       ]
      },
      {
       "html": [
        "PROGRESS: topic 4: back \u00e2\u20ac\u009d grade grades homework students room current warm red part day night give place<br/>"
       ],
       "metadata": {},
       "output_type": "display_data",
       "text": [
        "PROGRESS: topic 4: back \u00e2\u20ac\u009d grade grades homework students room current warm red part day night give place"
       ]
      },
      {
       "html": [
        "PROGRESS: topic 5: de para les president est executive obama \u00c3\u00a0 article congress power orders vous des order<br/>"
       ],
       "metadata": {},
       "output_type": "display_data",
       "text": [
        "PROGRESS: topic 5: de para les president est executive obama \u00c3\u00a0 article congress power orders vous des order"
       ]
      },
      {
       "html": [
        "PROGRESS: topic 6: time great speech good test writing adj people make government students feel book hand attention<br/>"
       ],
       "metadata": {},
       "output_type": "display_data",
       "text": [
        "PROGRESS: topic 6: time great speech good test writing adj people make government students feel book hand attention"
       ]
      },
      {
       "html": [
        "PROGRESS: topic 7: 2013 dec post 6 project serena song music 8 aynur group show nov send play<br/>"
       ],
       "metadata": {},
       "output_type": "display_data",
       "text": [
        "PROGRESS: topic 7: 2013 dec post 6 project serena song music 8 aynur group show nov send play"
       ]
      },
      {
       "html": [
        "PROGRESS: topic 8: il people che water happy da \u00c3\u00a8 ma hamlet king dont america british make ha<br/>"
       ],
       "metadata": {},
       "output_type": "display_data",
       "text": [
        "PROGRESS: topic 8: il people che water happy da \u00c3\u00a8 ma hamlet king dont america british make ha"
       ]
      },
      {
       "html": [
        "PROGRESS: topic 9: make science class lot tuesday reading monday quiz hope place number tomorrow learning change essay<br/>"
       ],
       "metadata": {},
       "output_type": "display_data",
       "text": [
        "PROGRESS: topic 9: make science class lot tuesday reading monday quiz hope place number tomorrow learning change essay"
       ]
      },
      {
       "html": [
        "PROGRESS: topic 10: school 00 high 30 org 2 left border width white car ms species line schools<br/>"
       ],
       "metadata": {},
       "output_type": "display_data",
       "text": [
        "PROGRESS: topic 10: school 00 high 30 org 2 left border width white car ms species line schools"
       ]
      },
      {
       "html": [
        "PROGRESS: topic 11: \u00e2\u20ac\u201c group money time war video earth states area 6 years made called boys code<br/>"
       ],
       "metadata": {},
       "output_type": "display_data",
       "text": [
        "PROGRESS: topic 11: \u00e2\u20ac\u201c group money time war video earth states area 6 years made called boys code"
       ]
      },
      {
       "html": [
        "PROGRESS: topic 12: class students feb read write week lab grade mr homework due review quiz writing child<br/>"
       ],
       "metadata": {},
       "output_type": "display_data",
       "text": [
        "PROGRESS: topic 12: class students feb read write week lab grade mr homework due review quiz writing child"
       ]
      },
      {
       "html": [
        "PROGRESS: topic 13: 2 1 3 5 4 7 10 14 chapter 9 8 11 20 website 12<br/>"
       ],
       "metadata": {},
       "output_type": "display_data",
       "text": [
        "PROGRESS: topic 13: 2 1 3 5 4 7 10 14 chapter 9 8 11 20 website 12"
       ]
      },
      {
       "html": [
        "PROGRESS: topic 14: good life love work time women man family parents men school job friend money things<br/>"
       ],
       "metadata": {},
       "output_type": "display_data",
       "text": [
        "PROGRESS: topic 14: good life love work time women man family parents men school job friend money things"
       ]
      },
      {
       "html": [
        "PROGRESS: topic 15: work team reading math student assignment week culture topic teachers word points vocabulary online https<br/>"
       ],
       "metadata": {},
       "output_type": "display_data",
       "text": [
        "PROGRESS: topic 15: work team reading math student assignment week culture topic teachers word points vocabulary online https"
       ]
      },
      {
       "html": [
        "PROGRESS: topic 16: 0 gb color text background top 1 display font box margin block height position td<br/>"
       ],
       "metadata": {},
       "output_type": "display_data",
       "text": [
        "PROGRESS: topic 16: 0 gb color text background top 1 display font box margin block height position td"
       ]
      },
      {
       "html": [
        "PROGRESS: topic 17: \u00e2\u20ac\u00a2 english language information padma huey students jan reply 21 replies type people henry 17<br/>"
       ],
       "metadata": {},
       "output_type": "display_data",
       "text": [
        "PROGRESS: topic 17: \u00e2\u20ac\u00a2 english language information padma huey students jan reply 21 replies type people henry 17"
       ]
      },
      {
       "html": [
        "PROGRESS: topic 18: untuk 1 edmodo 2 file 6 \u00d9\u2026\u00d9\u2020 oleh buku google merupakan telah blog air 7<br/>"
       ],
       "metadata": {},
       "output_type": "display_data",
       "text": [
        "PROGRESS: topic 18: untuk 1 edmodo 2 file 6 \u00d9\u2026\u00d9\u2020 oleh buku google merupakan telah blog air 7"
       ]
      },
      {
       "html": [
        "PROGRESS: topic 19: de la el en los es le las se del con una lo por je<br/>"
       ],
       "metadata": {},
       "output_type": "display_data",
       "text": [
        "PROGRESS: topic 19: de la el en los es le las se del con una lo por je"
       ]
      },
      {
       "html": [
        "PROGRESS: topic 20: world year food life history change health care children today black death future animals learn<br/>"
       ],
       "metadata": {},
       "output_type": "display_data",
       "text": [
        "PROGRESS: topic 20: world year food life history change health care children today black death future animals learn"
       ]
      },
      {
       "html": [
        "PROGRESS: topic 21: don make light made thought game 2014 page pictures home today add black house dog<br/>"
       ],
       "metadata": {},
       "output_type": "display_data",
       "text": [
        "PROGRESS: topic 21: don make light made thought game 2014 page pictures home today add black house dog"
       ]
      },
      {
       "html": [
        "PROGRESS: topic 22: tomorrow question public quiz \u00cf\u201e\u00ce\u00bf talk \u00ce\u00bd\u00ce\u00b1 movie folder school week sheet turn unit app<br/>"
       ],
       "metadata": {},
       "output_type": "display_data",
       "text": [
        "PROGRESS: topic 22: tomorrow question public quiz \u00cf\u201e\u00ce\u00bf talk \u00ce\u00bd\u00ce\u00b1 movie folder school week sheet turn unit app"
       ]
      },
      {
       "html": [
        "PROGRESS: topic 23: sa na ang ng po para learning mga children ay snow salat 1 statement ms<br/>"
       ],
       "metadata": {},
       "output_type": "display_data",
       "text": [
        "PROGRESS: topic 23: sa na ang ng po para learning mga children ay snow salat 1 statement ms"
       ]
      },
      {
       "html": [
        "PROGRESS: topic 24: test year im find score miss super ik die van activity story class don assessment<br/>"
       ],
       "metadata": {},
       "output_type": "display_data",
       "text": [
        "PROGRESS: topic 24: test year im find score miss super ik die van activity story class don assessment"
       ]
      },
      {
       "html": [
        "PROGRESS: topic 25: day time edmodo ve ll read house morning book back person post told field sister<br/>"
       ],
       "metadata": {},
       "output_type": "display_data",
       "text": [
        "PROGRESS: topic 25: day time edmodo ve ll read house morning book back person post told field sister"
       ]
      },
      {
       "html": [
        "PROGRESS: topic 26: people book feel super words bowl body media life kids find teacher system word things<br/>"
       ],
       "metadata": {},
       "output_type": "display_data",
       "text": [
        "PROGRESS: topic 26: people book feel super words bowl body media life kids find teacher system word things"
       ]
      },
      {
       "html": [
        "PROGRESS: topic 27: pizza book mother story family chinese father \u00ce\u00ba\u00ce\u00b1\u00ce\u00b9 jing mei china sisters find girl half<br/>"
       ],
       "metadata": {},
       "output_type": "display_data",
       "text": [
        "PROGRESS: topic 27: pizza book mother story family chinese father \u00ce\u00ba\u00ce\u00b1\u00ce\u00b9 jing mei china sisters find girl half"
       ]
      },
      {
       "html": [
        "PROGRESS: topic 28: yang dan di dengan ini dari dalam pada dapat tidak media atau adalah anda akan<br/>"
       ],
       "metadata": {},
       "output_type": "display_data",
       "text": [
        "PROGRESS: topic 28: yang dan di dengan ini dari dalam pada dapat tidak media atau adalah anda akan"
       ]
      },
      {
       "html": [
        "PROGRESS: topic 29: jar whats dirt test broncos mrs dance weekend poem guys games paper shakespeare win quote<br/>"
       ],
       "metadata": {},
       "output_type": "display_data",
       "text": [
        "PROGRESS: topic 29: jar whats dirt test broncos mrs dance weekend poem guys games paper shakespeare win quote"
       ]
      },
      {
       "html": [
        "PROGRESS:         20        177064      0.24638    1181.79<br/>"
       ],
       "metadata": {},
       "output_type": "display_data",
       "text": [
        "PROGRESS:         20        177064      0.24638    1181.79"
       ]
      },
      {
       "html": [
        "PROGRESS: topic 0: study notes war unit 02 chapter math prezi \u00d9\u02c6 due extra test \u00d8\u00a8\u00d9\u2021 credit utm<br/>"
       ],
       "metadata": {},
       "output_type": "display_data",
       "text": [
        "PROGRESS: topic 0: study notes war unit 02 chapter math prezi \u00d9\u02c6 due extra test \u00d8\u00a8\u00d9\u2021 credit utm"
       ]
      },
      {
       "html": [
        "PROGRESS: topic 1: week students monday february day due project year work friday complete homework important time information<br/>"
       ],
       "metadata": {},
       "output_type": "display_data",
       "text": [
        "PROGRESS: topic 1: week students monday february day due project year work friday complete homework important time information"
       ]
      },
      {
       "html": [
        "PROGRESS: topic 2: chicken \u00d9\u0081\u00d9\u0160 \u00d9\u02c6 \u00d8\u00b9\u00d9\u201e\u00d9\u2030 \u00d8\u0152 wondering \u00d8\u00a5\u00d9\u201e\u00d9\u2030 hernandez \u00d8\u00a3\u00d9\u2020 bn \u00d8\u00a7\u00d9\u201e\u00d8\u00a5\u00d9\u2026\u00d8\u00a7\u00d8\u00b1\u00d8\u00a7\u00d8\u00aa wb 039 \u00d9\u0160\u00d8\u00a7 \u00d9\u0192\u00d8\u00a7\u00d9\u2020<br/>"
       ],
       "metadata": {},
       "output_type": "display_data",
       "text": [
        "PROGRESS: topic 2: chicken \u00d9\u0081\u00d9\u0160 \u00d9\u02c6 \u00d8\u00b9\u00d9\u201e\u00d9\u2030 \u00d8\u0152 wondering \u00d8\u00a5\u00d9\u201e\u00d9\u2030 hernandez \u00d8\u00a3\u00d9\u2020 bn \u00d8\u00a7\u00d9\u201e\u00d8\u00a5\u00d9\u2026\u00d8\u00a7\u00d8\u00b1\u00d8\u00a7\u00d8\u00aa wb 039 \u00d9\u0160\u00d8\u00a7 \u00d9\u0192\u00d8\u00a7\u00d9\u2020"
       ]
      },
      {
       "html": [
        "PROGRESS: topic 3: http www watch video questions youtube 3 2 lesson 2014 password username click html answer<br/>"
       ],
       "metadata": {},
       "output_type": "display_data",
       "text": [
        "PROGRESS: topic 3: http www watch video questions youtube 3 2 lesson 2014 password username click html answer"
       ]
      },
      {
       "html": [
        "PROGRESS: topic 4: back \u00e2\u20ac\u009d grade grades homework warm current red room night found low heart give place<br/>"
       ],
       "metadata": {},
       "output_type": "display_data",
       "text": [
        "PROGRESS: topic 4: back \u00e2\u20ac\u009d grade grades homework warm current red room night found low heart give place"
       ]
      },
      {
       "html": [
        "PROGRESS: topic 5: de le les je president est executive obama \u00c3\u00a0 pour congress orders article 2014 vous<br/>"
       ],
       "metadata": {},
       "output_type": "display_data",
       "text": [
        "PROGRESS: topic 5: de le les je president est executive obama \u00c3\u00a0 pour congress orders article 2014 vous"
       ]
      },
      {
       "html": [
        "PROGRESS: topic 6: speech great time people good adj make test company feel hand government idea year practice<br/>"
       ],
       "metadata": {},
       "output_type": "display_data",
       "text": [
        "PROGRESS: topic 6: speech great time people good adj make test company feel hand government idea year practice"
       ]
      },
      {
       "html": [
        "PROGRESS: topic 7: 2013 dec post serena music song project group show padma 6 send nov play sir<br/>"
       ],
       "metadata": {},
       "output_type": "display_data",
       "text": [
        "PROGRESS: topic 7: 2013 dec post serena music song project group show padma 6 send nov play sir"
       ]
      },
      {
       "html": [
        "PROGRESS: topic 8: il che people water happy le da \u00c3\u00a8 ma king hamlet ho ha sono di<br/>"
       ],
       "metadata": {},
       "output_type": "display_data",
       "text": [
        "PROGRESS: topic 8: il che people water happy le da \u00c3\u00a8 ma king hamlet ho ha sono di"
       ]
      },
      {
       "html": [
        "PROGRESS: topic 9: make science reading monday lot part class tuesday quiz hope place learning tomorrow questions page<br/>"
       ],
       "metadata": {},
       "output_type": "display_data",
       "text": [
        "PROGRESS: topic 9: make science reading monday lot part class tuesday quiz hope place learning tomorrow questions page"
       ]
      },
      {
       "html": [
        "PROGRESS: topic 10: school 00 30 high org left border 2 width ms code technology car schools program<br/>"
       ],
       "metadata": {},
       "output_type": "display_data",
       "text": [
        "PROGRESS: topic 10: school 00 30 high org left border 2 width ms code technology car schools program"
       ]
      },
      {
       "html": [
        "PROGRESS: topic 11: \u00e2\u20ac\u201c group war time made money states words area form video picture found find world<br/>"
       ],
       "metadata": {},
       "output_type": "display_data",
       "text": [
        "PROGRESS: topic 11: \u00e2\u20ac\u201c group war time made money states words area form video picture found find world"
       ]
      },
      {
       "html": [
        "PROGRESS: topic 12: class students feb writing read write grade lab quiz week homework period classroom due tuesday<br/>"
       ],
       "metadata": {},
       "output_type": "display_data",
       "text": [
        "PROGRESS: topic 12: class students feb writing read write grade lab quiz week homework period classroom due tuesday"
       ]
      },
      {
       "html": [
        "PROGRESS: topic 13: 1 2 3 5 4 7 10 8 6 14 chapter 9 11 points 15<br/>"
       ],
       "metadata": {},
       "output_type": "display_data",
       "text": [
        "PROGRESS: topic 13: 1 2 3 5 4 7 10 8 6 14 chapter 9 11 points 15"
       ]
      },
      {
       "html": [
        "PROGRESS: topic 14: life good family time work love man women money men things parents years article friend<br/>"
       ],
       "metadata": {},
       "output_type": "display_data",
       "text": [
        "PROGRESS: topic 14: life good family time work love man women money men things parents years article friend"
       ]
      },
      {
       "html": [
        "PROGRESS: topic 15: work team math student week reading word topic edmodo learning teachers group assignment ideas vocabulary<br/>"
       ],
       "metadata": {},
       "output_type": "display_data",
       "text": [
        "PROGRESS: topic 15: work team math student week reading word topic edmodo learning teachers group assignment ideas vocabulary"
       ]
      },
      {
       "html": [
        "PROGRESS: topic 16: 0 gb color text top background display font box margin block position height padding td<br/>"
       ],
       "metadata": {},
       "output_type": "display_data",
       "text": [
        "PROGRESS: topic 16: 0 gb color text top background display font box margin block position height padding td"
       ]
      },
      {
       "html": [
        "PROGRESS: topic 17: \u00e2\u20ac\u00a2 english aynur language huey reply jan 21 replies students type made people information john<br/>"
       ],
       "metadata": {},
       "output_type": "display_data",
       "text": [
        "PROGRESS: topic 17: \u00e2\u20ac\u00a2 english aynur language huey reply jan 21 replies students type made people information john"
       ]
      },
      {
       "html": [
        "PROGRESS: topic 18: untuk edmodo 1 2 file google \u00d9\u2026\u00d9\u2020 buku digital 6 4 merupakan telah ia computer<br/>"
       ],
       "metadata": {},
       "output_type": "display_data",
       "text": [
        "PROGRESS: topic 18: untuk edmodo 1 2 file google \u00d9\u2026\u00d9\u2020 buku digital 6 4 merupakan telah ia computer"
       ]
      },
      {
       "html": [
        "PROGRESS: topic 19: de la el en los es para las se del con una lo por di<br/>"
       ],
       "metadata": {},
       "output_type": "display_data",
       "text": [
        "PROGRESS: topic 19: de la el en los es para las se del con una lo por di"
       ]
      },
      {
       "html": [
        "PROGRESS: topic 20: world food year don history change care health black today life water future population country<br/>"
       ],
       "metadata": {},
       "output_type": "display_data",
       "text": [
        "PROGRESS: topic 20: world food year don history change care health black today life water future population country"
       ]
      },
      {
       "html": [
        "PROGRESS: topic 21: don make light game made pictures home good green thought didn house page dog end<br/>"
       ],
       "metadata": {},
       "output_type": "display_data",
       "text": [
        "PROGRESS: topic 21: don make light game made pictures home good green thought didn house page dog end"
       ]
      },
      {
       "html": [
        "PROGRESS: topic 22: tomorrow question movie quiz \u00cf\u201e\u00ce\u00bf public talk answer \u00ce\u00bd\u00ce\u00b1 folder today week turn sheet ll<br/>"
       ],
       "metadata": {},
       "output_type": "display_data",
       "text": [
        "PROGRESS: topic 22: tomorrow question movie quiz \u00cf\u201e\u00ce\u00bf public talk answer \u00ce\u00bd\u00ce\u00b1 folder today week turn sheet ll"
       ]
      },
      {
       "html": [
        "PROGRESS: topic 23: sa na ang ng po snow mga miss ay salat 2 1 seahawks ko spanish<br/>"
       ],
       "metadata": {},
       "output_type": "display_data",
       "text": [
        "PROGRESS: topic 23: sa na ang ng po snow mga miss ay salat 2 1 seahawks ko spanish"
       ]
      },
      {
       "html": [
        "PROGRESS: topic 24: test im year score ik het die en activity class super te van assignment find<br/>"
       ],
       "metadata": {},
       "output_type": "display_data",
       "text": [
        "PROGRESS: topic 24: test im year score ik het die en activity class super te van assignment find"
       ]
      },
      {
       "html": [
        "PROGRESS: topic 25: day time read book back ve ll house morning edmodo post told home social wanted<br/>"
       ],
       "metadata": {},
       "output_type": "display_data",
       "text": [
        "PROGRESS: topic 25: day time read book back ve ll house morning edmodo post told home social wanted"
       ]
      },
      {
       "html": [
        "PROGRESS: topic 26: people book super feel bowl media person body find children things young kids love life<br/>"
       ],
       "metadata": {},
       "output_type": "display_data",
       "text": [
        "PROGRESS: topic 26: people book super feel bowl media person body find children things young kids love life"
       ]
      },
      {
       "html": [
        "PROGRESS: topic 27: pizza book story mother father chinese family \u00ce\u00ba\u00ce\u00b1\u00ce\u00b9 jing mei china sisters \u00cf\u201e\u00ce\u00bf\u00cf\u2026 reading half<br/>"
       ],
       "metadata": {},
       "output_type": "display_data",
       "text": [
        "PROGRESS: topic 27: pizza book story mother father chinese family \u00ce\u00ba\u00ce\u00b1\u00ce\u00b9 jing mei china sisters \u00cf\u201e\u00ce\u00bf\u00cf\u2026 reading half"
       ]
      },
      {
       "html": [
        "PROGRESS: topic 28: yang dan di dengan ini dalam dari pada dapat tidak atau adalah media anda akan<br/>"
       ],
       "metadata": {},
       "output_type": "display_data",
       "text": [
        "PROGRESS: topic 28: yang dan di dengan ini dalam dari pada dapat tidak atau adalah media anda akan"
       ]
      },
      {
       "html": [
        "PROGRESS: topic 29: whats jar dirt test broncos mrs weekend guys paper dance poem win sokikom shakespeare letter<br/>"
       ],
       "metadata": {},
       "output_type": "display_data",
       "text": [
        "PROGRESS: topic 29: whats jar dirt test broncos mrs weekend guys paper dance poem win sokikom shakespeare letter"
       ]
      },
      {
       "html": [
        "PROGRESS:         25        153072     0.275771    1149.02<br/>"
       ],
       "metadata": {},
       "output_type": "display_data",
       "text": [
        "PROGRESS:         25        153072     0.275771    1149.02"
       ]
      },
      {
       "html": [
        "PROGRESS: topic 0: study test notes war unit chapter 02 assignment prezi due \u00d9\u02c6 math \u00d8\u00a8\u00d9\u2021 credit utm<br/>"
       ],
       "metadata": {},
       "output_type": "display_data",
       "text": [
        "PROGRESS: topic 0: study test notes war unit chapter 02 assignment prezi due \u00d9\u02c6 math \u00d8\u00a8\u00d9\u2021 credit utm"
       ]
      },
      {
       "html": [
        "PROGRESS: topic 1: week students monday february day work homework due friday project information year complete time questions<br/>"
       ],
       "metadata": {},
       "output_type": "display_data",
       "text": [
        "PROGRESS: topic 1: week students monday february day work homework due friday project information year complete time questions"
       ]
      },
      {
       "html": [
        "PROGRESS: topic 2: chicken \u00d9\u0081\u00d9\u0160 \u00d9\u02c6 \u00d8\u0152 \u00d8\u00b9\u00d9\u201e\u00d9\u2030 \u00d8\u00a5\u00d9\u201e\u00d9\u2030 \u00d8\u00a3\u00d9\u2020 wb \u00d8\u00a7\u00d9\u201e\u00d8\u00a5\u00d9\u2026\u00d8\u00a7\u00d8\u00b1\u00d8\u00a7\u00d8\u00aa vm \u00d9\u0160\u00d8\u00a7 hernandez holidays \u00d9\u0192\u00d8\u00a7\u00d9\u2020 \u00d8\u00a7\u00d9\u201e\u00d8\u00b9\u00d9\u0160\u00d8\u00af<br/>"
       ],
       "metadata": {},
       "output_type": "display_data",
       "text": [
        "PROGRESS: topic 2: chicken \u00d9\u0081\u00d9\u0160 \u00d9\u02c6 \u00d8\u0152 \u00d8\u00b9\u00d9\u201e\u00d9\u2030 \u00d8\u00a5\u00d9\u201e\u00d9\u2030 \u00d8\u00a3\u00d9\u2020 wb \u00d8\u00a7\u00d9\u201e\u00d8\u00a5\u00d9\u2026\u00d8\u00a7\u00d8\u00b1\u00d8\u00a7\u00d8\u00aa vm \u00d9\u0160\u00d8\u00a7 hernandez holidays \u00d9\u0192\u00d8\u00a7\u00d9\u2020 \u00d8\u00a7\u00d9\u201e\u00d8\u00b9\u00d9\u0160\u00d8\u00af"
       ]
      },
      {
       "html": [
        "PROGRESS: topic 3: http www video watch youtube questions org password lesson 3 click link username html answers<br/>"
       ],
       "metadata": {},
       "output_type": "display_data",
       "text": [
        "PROGRESS: topic 3: http www video watch youtube questions org password lesson 3 click link username html answers"
       ]
      },
      {
       "html": [
        "PROGRESS: topic 4: \u00e2\u20ac\u009d back grade grades room place current warm homework red found put night low heart<br/>"
       ],
       "metadata": {},
       "output_type": "display_data",
       "text": [
        "PROGRESS: topic 4: \u00e2\u20ac\u009d back grade grades room place current warm homework red found put night low heart"
       ]
      },
      {
       "html": [
        "PROGRESS: topic 5: de le les je president est executive obama \u00c3\u00a0 2014 pour congress orders vous des<br/>"
       ],
       "metadata": {},
       "output_type": "display_data",
       "text": [
        "PROGRESS: topic 5: de le les je president est executive obama \u00c3\u00a0 2014 pour congress orders vous des"
       ]
      },
      {
       "html": [
        "PROGRESS: topic 6: good speech great time adj make people give company idea year hand writing attention character<br/>"
       ],
       "metadata": {},
       "output_type": "display_data",
       "text": [
        "PROGRESS: topic 6: good speech great time adj make people give company idea year hand writing attention character"
       ]
      },
      {
       "html": [
        "PROGRESS: topic 7: 2013 dec book post serena project music group aynur reply padma show song 20 send<br/>"
       ],
       "metadata": {},
       "output_type": "display_data",
       "text": [
        "PROGRESS: topic 7: 2013 dec book post serena project music group aynur reply padma show song 20 send"
       ]
      },
      {
       "html": [
        "PROGRESS: topic 8: di la il che le da happy \u00c3\u00a8 si ma ha hamlet ho birthday sono<br/>"
       ],
       "metadata": {},
       "output_type": "display_data",
       "text": [
        "PROGRESS: topic 8: di la il che le da happy \u00c3\u00a8 si ma ha hamlet ho birthday sono"
       ]
      },
      {
       "html": [
        "PROGRESS: topic 9: make science part page reading monday lot word article interesting quiz topic story class number<br/>"
       ],
       "metadata": {},
       "output_type": "display_data",
       "text": [
        "PROGRESS: topic 9: make science part page reading monday lot word article interesting quiz topic story class number"
       ]
      },
      {
       "html": [
        "PROGRESS: topic 10: school 00 30 high left border width technology program car college padding schools species ms<br/>"
       ],
       "metadata": {},
       "output_type": "display_data",
       "text": [
        "PROGRESS: topic 10: school 00 30 high left border width technology program car college padding schools species ms"
       ]
      },
      {
       "html": [
        "PROGRESS: topic 11: \u00e2\u20ac\u201c war made group states picture form time world called years story lesson boys code<br/>"
       ],
       "metadata": {},
       "output_type": "display_data",
       "text": [
        "PROGRESS: topic 11: \u00e2\u20ac\u201c war made group states picture form time world called years story lesson boys code"
       ]
      },
      {
       "html": [
        "PROGRESS: topic 12: class students feb writing read grade write lab tuesday quiz due period edmodo classroom week<br/>"
       ],
       "metadata": {},
       "output_type": "display_data",
       "text": [
        "PROGRESS: topic 12: class students feb writing read grade write lab tuesday quiz due period edmodo classroom week"
       ]
      },
      {
       "html": [
        "PROGRESS: topic 13: 2 1 3 5 4 7 6 10 8 14 9 chapter 11 15 points<br/>"
       ],
       "metadata": {},
       "output_type": "display_data",
       "text": [
        "PROGRESS: topic 13: 2 1 3 5 4 7 6 10 8 14 9 chapter 11 15 points"
       ]
      },
      {
       "html": [
        "PROGRESS: topic 14: life family money love good time man men women parents work years culture friend article<br/>"
       ],
       "metadata": {},
       "output_type": "display_data",
       "text": [
        "PROGRESS: topic 14: life family money love good time man men women parents work years culture friend article"
       ]
      },
      {
       "html": [
        "PROGRESS: topic 15: work team math reading student learning teachers week group topic level word business discussion assignment<br/>"
       ],
       "metadata": {},
       "output_type": "display_data",
       "text": [
        "PROGRESS: topic 15: work team math reading student learning teachers week group topic level word business discussion assignment"
       ]
      },
      {
       "html": [
        "PROGRESS: topic 16: 0 gb color text top background font display box margin height position block number td<br/>"
       ],
       "metadata": {},
       "output_type": "display_data",
       "text": [
        "PROGRESS: topic 16: 0 gb color text top background font display box margin height position block number td"
       ]
      },
      {
       "html": [
        "PROGRESS: topic 17: \u00e2\u20ac\u00a2 english students language people huey jan replies government 21 education avatar john rights henry<br/>"
       ],
       "metadata": {},
       "output_type": "display_data",
       "text": [
        "PROGRESS: topic 17: \u00e2\u20ac\u00a2 english students language people huey jan replies government 21 education avatar john rights henry"
       ]
      },
      {
       "html": [
        "PROGRESS: topic 18: untuk 1 edmodo 2 file google \u00d9\u2026\u00d9\u2020 buku computer digital merupakan 4 email air ia<br/>"
       ],
       "metadata": {},
       "output_type": "display_data",
       "text": [
        "PROGRESS: topic 18: untuk 1 edmodo 2 file google \u00d9\u2026\u00d9\u2020 buku computer digital merupakan 4 email air ia"
       ]
      },
      {
       "html": [
        "PROGRESS: topic 19: de la el en los es para las se del con una lo por su<br/>"
       ],
       "metadata": {},
       "output_type": "display_data",
       "text": [
        "PROGRESS: topic 19: de la el en los es para las se del con una lo por su"
       ]
      },
      {
       "html": [
        "PROGRESS: topic 20: food world year water today change care health history don learn country culture life african<br/>"
       ],
       "metadata": {},
       "output_type": "display_data",
       "text": [
        "PROGRESS: topic 20: food world year water today change care health history don learn country culture life african"
       ]
      },
      {
       "html": [
        "PROGRESS: topic 21: don make light game made pictures play home text black house today add didn dog<br/>"
       ],
       "metadata": {},
       "output_type": "display_data",
       "text": [
        "PROGRESS: topic 21: don make light game made pictures play home text black house today add didn dog"
       ]
      },
      {
       "html": [
        "PROGRESS: topic 22: question tomorrow important answer quiz public movie \u00ce\u00ba\u00ce\u00b1\u00ce\u00b9 \u00cf\u201e\u00ce\u00bf games turn \u00ce\u00bd\u00ce\u00b1 folder talk \u00cf\u201e\u00ce\u00b7\u00ce\u00bd<br/>"
       ],
       "metadata": {},
       "output_type": "display_data",
       "text": [
        "PROGRESS: topic 22: question tomorrow important answer quiz public movie \u00ce\u00ba\u00ce\u00b1\u00ce\u00b9 \u00cf\u201e\u00ce\u00bf games turn \u00ce\u00bd\u00ce\u00b1 folder talk \u00cf\u201e\u00ce\u00b7\u00ce\u00bd"
       ]
      },
      {
       "html": [
        "PROGRESS: topic 23: sa na ang 2 ng po snow miss 1 mga ay salat mrs seahawks ko<br/>"
       ],
       "metadata": {},
       "output_type": "display_data",
       "text": [
        "PROGRESS: topic 23: sa na ang 2 ng po snow miss 1 mga ay salat mrs seahawks ko"
       ]
      },
      {
       "html": [
        "PROGRESS: topic 24: de test en im score ik het activity die super te van year finish tomorrow<br/>"
       ],
       "metadata": {},
       "output_type": "display_data",
       "text": [
        "PROGRESS: topic 24: de test en im score ik het activity die super te van year finish tomorrow"
       ]
      },
      {
       "html": [
        "PROGRESS: topic 25: day book time back read ll ve house didn home morning brother told wanted hope<br/>"
       ],
       "metadata": {},
       "output_type": "display_data",
       "text": [
        "PROGRESS: topic 25: day book time back read ll ve house didn home morning brother told wanted hope"
       ]
      },
      {
       "html": [
        "PROGRESS: topic 26: people book super feel life things body bowl children media person find child shows death<br/>"
       ],
       "metadata": {},
       "output_type": "display_data",
       "text": [
        "PROGRESS: topic 26: people book super feel life things body bowl children media person find child shows death"
       ]
      },
      {
       "html": [
        "PROGRESS: topic 27: pizza book mother story chinese father jing family mei china sisters \u00cf\u201e\u00ce\u00bf\u00cf\u2026 reading girls love<br/>"
       ],
       "metadata": {},
       "output_type": "display_data",
       "text": [
        "PROGRESS: topic 27: pizza book mother story chinese father jing family mei china sisters \u00cf\u201e\u00ce\u00bf\u00cf\u2026 reading girls love"
       ]
      },
      {
       "html": [
        "PROGRESS: topic 28: yang dan dengan di ini dalam dari pada dapat tidak atau adalah media anda akan<br/>"
       ],
       "metadata": {},
       "output_type": "display_data",
       "text": [
        "PROGRESS: topic 28: yang dan dengan di ini dalam dari pada dapat tidak atau adalah media anda akan"
       ]
      },
      {
       "html": [
        "PROGRESS: topic 29: whats jar dirt broncos paper dance mrs test essay song guys poem sokikom email letter<br/>"
       ],
       "metadata": {},
       "output_type": "display_data",
       "text": [
        "PROGRESS: topic 29: whats jar dirt broncos paper dance mrs test essay song guys poem sokikom email letter"
       ]
      }
     ],
     "prompt_number": 48
    },
    {
     "cell_type": "code",
     "collapsed": false,
     "input": [
      "m.get_topics()"
     ],
     "language": "python",
     "metadata": {},
     "outputs": [
      {
       "html": [
        "<div style=\"max-height:1000px;max-width:1500px;overflow:auto;\"><table frame=\"box\" rules=\"cols\">\n",
        "    <tr>\n",
        "        <th style=\"padding-left: 1em; padding-right: 1em; text-align: center\">topic</th>\n",
        "        <th style=\"padding-left: 1em; padding-right: 1em; text-align: center\">word</th>\n",
        "        <th style=\"padding-left: 1em; padding-right: 1em; text-align: center\">score</th>\n",
        "    </tr>\n",
        "    <tr>\n",
        "        <td style=\"padding-left: 1em; padding-right: 1em; text-align: center; vertical-align: top\">0</td>\n",
        "        <td style=\"padding-left: 1em; padding-right: 1em; text-align: center; vertical-align: top\">test</td>\n",
        "        <td style=\"padding-left: 1em; padding-right: 1em; text-align: center; vertical-align: top\">0.0394283736456</td>\n",
        "    </tr>\n",
        "    <tr>\n",
        "        <td style=\"padding-left: 1em; padding-right: 1em; text-align: center; vertical-align: top\">0</td>\n",
        "        <td style=\"padding-left: 1em; padding-right: 1em; text-align: center; vertical-align: top\">study</td>\n",
        "        <td style=\"padding-left: 1em; padding-right: 1em; text-align: center; vertical-align: top\">0.0333272713407</td>\n",
        "    </tr>\n",
        "    <tr>\n",
        "        <td style=\"padding-left: 1em; padding-right: 1em; text-align: center; vertical-align: top\">0</td>\n",
        "        <td style=\"padding-left: 1em; padding-right: 1em; text-align: center; vertical-align: top\">notes</td>\n",
        "        <td style=\"padding-left: 1em; padding-right: 1em; text-align: center; vertical-align: top\">0.0289274379477</td>\n",
        "    </tr>\n",
        "    <tr>\n",
        "        <td style=\"padding-left: 1em; padding-right: 1em; text-align: center; vertical-align: top\">0</td>\n",
        "        <td style=\"padding-left: 1em; padding-right: 1em; text-align: center; vertical-align: top\">chapter</td>\n",
        "        <td style=\"padding-left: 1em; padding-right: 1em; text-align: center; vertical-align: top\">0.0269328468095</td>\n",
        "    </tr>\n",
        "    <tr>\n",
        "        <td style=\"padding-left: 1em; padding-right: 1em; text-align: center; vertical-align: top\">0</td>\n",
        "        <td style=\"padding-left: 1em; padding-right: 1em; text-align: center; vertical-align: top\">unit</td>\n",
        "        <td style=\"padding-left: 1em; padding-right: 1em; text-align: center; vertical-align: top\">0.0166665688926</td>\n",
        "    </tr>\n",
        "    <tr>\n",
        "        <td style=\"padding-left: 1em; padding-right: 1em; text-align: center; vertical-align: top\">1</td>\n",
        "        <td style=\"padding-left: 1em; padding-right: 1em; text-align: center; vertical-align: top\">week</td>\n",
        "        <td style=\"padding-left: 1em; padding-right: 1em; text-align: center; vertical-align: top\">0.0492628613414</td>\n",
        "    </tr>\n",
        "    <tr>\n",
        "        <td style=\"padding-left: 1em; padding-right: 1em; text-align: center; vertical-align: top\">1</td>\n",
        "        <td style=\"padding-left: 1em; padding-right: 1em; text-align: center; vertical-align: top\">monday</td>\n",
        "        <td style=\"padding-left: 1em; padding-right: 1em; text-align: center; vertical-align: top\">0.0420458152001</td>\n",
        "    </tr>\n",
        "    <tr>\n",
        "        <td style=\"padding-left: 1em; padding-right: 1em; text-align: center; vertical-align: top\">1</td>\n",
        "        <td style=\"padding-left: 1em; padding-right: 1em; text-align: center; vertical-align: top\">students</td>\n",
        "        <td style=\"padding-left: 1em; padding-right: 1em; text-align: center; vertical-align: top\">0.0389590063084</td>\n",
        "    </tr>\n",
        "    <tr>\n",
        "        <td style=\"padding-left: 1em; padding-right: 1em; text-align: center; vertical-align: top\">1</td>\n",
        "        <td style=\"padding-left: 1em; padding-right: 1em; text-align: center; vertical-align: top\">february</td>\n",
        "        <td style=\"padding-left: 1em; padding-right: 1em; text-align: center; vertical-align: top\">0.0314811030777</td>\n",
        "    </tr>\n",
        "    <tr>\n",
        "        <td style=\"padding-left: 1em; padding-right: 1em; text-align: center; vertical-align: top\">1</td>\n",
        "        <td style=\"padding-left: 1em; padding-right: 1em; text-align: center; vertical-align: top\">day</td>\n",
        "        <td style=\"padding-left: 1em; padding-right: 1em; text-align: center; vertical-align: top\">0.0274812943729</td>\n",
        "    </tr>\n",
        "    <tr>\n",
        "        <td style=\"padding-left: 1em; padding-right: 1em; text-align: center; vertical-align: top\">...</td>\n",
        "        <td style=\"padding-left: 1em; padding-right: 1em; text-align: center; vertical-align: top\">...</td>\n",
        "        <td style=\"padding-left: 1em; padding-right: 1em; text-align: center; vertical-align: top\">...</td>\n",
        "    </tr>\n",
        "</table>\n",
        "[150 rows x 3 columns]<br/>Note: Only the head of the SFrame is printed.<br/>You can use print_rows(num_rows=m, num_columns=n) to print more rows and columns.\n",
        "</div>"
       ],
       "metadata": {},
       "output_type": "pyout",
       "prompt_number": 50,
       "text": [
        "Columns:\n",
        "\ttopic\tint\n",
        "\tword\tstr\n",
        "\tscore\tfloat\n",
        "\n",
        "Rows: 150\n",
        "\n",
        "Data:\n",
        "+-------+----------+-----------------+\n",
        "| topic |   word   |      score      |\n",
        "+-------+----------+-----------------+\n",
        "|   0   |   test   | 0.0394283736456 |\n",
        "|   0   |  study   | 0.0333272713407 |\n",
        "|   0   |  notes   | 0.0289274379477 |\n",
        "|   0   | chapter  | 0.0269328468095 |\n",
        "|   0   |   unit   | 0.0166665688926 |\n",
        "|   1   |   week   | 0.0492628613414 |\n",
        "|   1   |  monday  | 0.0420458152001 |\n",
        "|   1   | students | 0.0389590063084 |\n",
        "|   1   | february | 0.0314811030777 |\n",
        "|   1   |   day    | 0.0274812943729 |\n",
        "|  ...  |   ...    |       ...       |\n",
        "+-------+----------+-----------------+\n",
        "[150 rows x 3 columns]\n",
        "Note: Only the head of the SFrame is printed.\n",
        "You can use print_rows(num_rows=m, num_columns=n) to print more rows and columns."
       ]
      }
     ],
     "prompt_number": 50
    },
    {
     "cell_type": "code",
     "collapsed": false,
     "input": [
      "m.get_topics().show()"
     ],
     "language": "python",
     "metadata": {},
     "outputs": [],
     "prompt_number": 52
    },
    {
     "cell_type": "code",
     "collapsed": false,
     "input": [],
     "language": "python",
     "metadata": {},
     "outputs": []
    }
   ],
   "metadata": {}
  }
 ]
}