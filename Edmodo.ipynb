{
 "metadata": {
  "name": "",
  "signature": "sha256:19055dcfa87521a2374c3c155b971c157649e9afbb62a82bc110d3bc2aea2dbd"
 },
 "nbformat": 3,
 "nbformat_minor": 0,
 "worksheets": [
  {
   "cells": [
    {
     "cell_type": "code",
     "collapsed": false,
     "input": [
      "import graphlab as gl"
     ],
     "language": "python",
     "metadata": {},
     "outputs": [
      {
       "output_type": "stream",
       "stream": "stderr",
       "text": [
        "[WARNING] Numpy version 1.6.2 is not supported. Minimum required version: 1.8.0. Numpy support will be disabled.\n"
       ]
      }
     ],
     "prompt_number": 1
    },
    {
     "cell_type": "code",
     "collapsed": false,
     "input": [
      "import MySQLdb"
     ],
     "language": "python",
     "metadata": {},
     "outputs": [],
     "prompt_number": 2
    },
    {
     "cell_type": "code",
     "collapsed": false,
     "input": [
      "import csv\n",
      "from types import *"
     ],
     "language": "python",
     "metadata": {},
     "outputs": [],
     "prompt_number": 3
    },
    {
     "cell_type": "code",
     "collapsed": false,
     "input": [
      "HOST = \"production-master-adhoc-read.edmodo.com\"\n",
      "USER = \"moanwime20130409\"\n",
      "NAME = \"zendmodo\"\n",
      "PASSWD = \"7tjYDVzuxpLetC1BvOtg4avUdCLNzl\""
     ],
     "language": "python",
     "metadata": {},
     "outputs": [],
     "prompt_number": 4
    },
    {
     "cell_type": "code",
     "collapsed": false,
     "input": [
      "INPUT_FILENAME=\"/Users/vijay/Edmodo/graphlab/edmodo_small.csv\"\n",
      "OUTPUT_FILENAME=\"/Users/vijay/Edmodo/graphlab/edmodo_messages_single_col.csv\"\n",
      "QUERY=\"\"\"SELECT md.message_id, md.content, md.last_updated\n",
      "FROM message_data as md\n",
      "INNER JOIN messages as m ON m.message_id = md.message_id\n",
      "WHERE md.last_updated > \"2014-02-01\" AND md.last_updated < \"2014-02-10\" AND m.creator_id > 100\"\"\""
     ],
     "language": "python",
     "metadata": {},
     "outputs": [],
     "prompt_number": 6
    },
    {
     "cell_type": "code",
     "collapsed": false,
     "input": [
      "db = MySQLdb.connect(host=HOST, user=USER, passwd=PASSWD, db=NAME)\n",
      "cur = db.cursor()\n",
      "cur.execute(QUERY)\n",
      "all_rows = cur.fetchall()\n",
      "db.close()"
     ],
     "language": "python",
     "metadata": {},
     "outputs": [
      {
       "ename": "KeyboardInterrupt",
       "evalue": "",
       "output_type": "pyerr",
       "traceback": [
        "\u001b[0;31m---------------------------------------------------------------------------\u001b[0m\n\u001b[0;31mKeyboardInterrupt\u001b[0m                         Traceback (most recent call last)",
        "\u001b[0;32m<ipython-input-8-30771a6d0a33>\u001b[0m in \u001b[0;36m<module>\u001b[0;34m()\u001b[0m\n\u001b[1;32m      1\u001b[0m \u001b[0mdb\u001b[0m \u001b[0;34m=\u001b[0m \u001b[0mMySQLdb\u001b[0m\u001b[0;34m.\u001b[0m\u001b[0mconnect\u001b[0m\u001b[0;34m(\u001b[0m\u001b[0mhost\u001b[0m\u001b[0;34m=\u001b[0m\u001b[0mHOST\u001b[0m\u001b[0;34m,\u001b[0m \u001b[0muser\u001b[0m\u001b[0;34m=\u001b[0m\u001b[0mUSER\u001b[0m\u001b[0;34m,\u001b[0m \u001b[0mpasswd\u001b[0m\u001b[0;34m=\u001b[0m\u001b[0mPASSWD\u001b[0m\u001b[0;34m,\u001b[0m \u001b[0mdb\u001b[0m\u001b[0;34m=\u001b[0m\u001b[0mNAME\u001b[0m\u001b[0;34m)\u001b[0m\u001b[0;34m\u001b[0m\u001b[0m\n\u001b[1;32m      2\u001b[0m \u001b[0mcur\u001b[0m \u001b[0;34m=\u001b[0m \u001b[0mdb\u001b[0m\u001b[0;34m.\u001b[0m\u001b[0mcursor\u001b[0m\u001b[0;34m(\u001b[0m\u001b[0;34m)\u001b[0m\u001b[0;34m\u001b[0m\u001b[0m\n\u001b[0;32m----> 3\u001b[0;31m \u001b[0mcur\u001b[0m\u001b[0;34m.\u001b[0m\u001b[0mexecute\u001b[0m\u001b[0;34m(\u001b[0m\u001b[0mQUERY\u001b[0m\u001b[0;34m)\u001b[0m\u001b[0;34m\u001b[0m\u001b[0m\n\u001b[0m\u001b[1;32m      4\u001b[0m \u001b[0mall_rows\u001b[0m \u001b[0;34m=\u001b[0m \u001b[0mcur\u001b[0m\u001b[0;34m.\u001b[0m\u001b[0mfetchall\u001b[0m\u001b[0;34m(\u001b[0m\u001b[0;34m)\u001b[0m\u001b[0;34m\u001b[0m\u001b[0m\n\u001b[1;32m      5\u001b[0m \u001b[0mdb\u001b[0m\u001b[0;34m.\u001b[0m\u001b[0mclose\u001b[0m\u001b[0;34m(\u001b[0m\u001b[0;34m)\u001b[0m\u001b[0;34m\u001b[0m\u001b[0m\n",
        "\u001b[0;32m/Library/Python/2.7/site-packages/MySQLdb/cursors.pyc\u001b[0m in \u001b[0;36mexecute\u001b[0;34m(self, query, args)\u001b[0m\n\u001b[1;32m    184\u001b[0m         \u001b[0;32mtry\u001b[0m\u001b[0;34m:\u001b[0m\u001b[0;34m\u001b[0m\u001b[0m\n\u001b[1;32m    185\u001b[0m             \u001b[0mr\u001b[0m \u001b[0;34m=\u001b[0m \u001b[0mNone\u001b[0m\u001b[0;34m\u001b[0m\u001b[0m\n\u001b[0;32m--> 186\u001b[0;31m             \u001b[0mr\u001b[0m \u001b[0;34m=\u001b[0m \u001b[0mself\u001b[0m\u001b[0;34m.\u001b[0m\u001b[0m_query\u001b[0m\u001b[0;34m(\u001b[0m\u001b[0mquery\u001b[0m\u001b[0;34m)\u001b[0m\u001b[0;34m\u001b[0m\u001b[0m\n\u001b[0m\u001b[1;32m    187\u001b[0m         \u001b[0;32mexcept\u001b[0m \u001b[0mTypeError\u001b[0m\u001b[0;34m,\u001b[0m \u001b[0mm\u001b[0m\u001b[0;34m:\u001b[0m\u001b[0;34m\u001b[0m\u001b[0m\n\u001b[1;32m    188\u001b[0m             if m.args[0] in (\"not enough arguments for format string\",\n",
        "\u001b[0;32m/Library/Python/2.7/site-packages/MySQLdb/cursors.pyc\u001b[0m in \u001b[0;36m_query\u001b[0;34m(self, q)\u001b[0m\n\u001b[1;32m    343\u001b[0m     \u001b[0;32mdef\u001b[0m \u001b[0m_query\u001b[0m\u001b[0;34m(\u001b[0m\u001b[0mself\u001b[0m\u001b[0;34m,\u001b[0m \u001b[0mq\u001b[0m\u001b[0;34m)\u001b[0m\u001b[0;34m:\u001b[0m\u001b[0;34m\u001b[0m\u001b[0m\n\u001b[1;32m    344\u001b[0m         \u001b[0mrowcount\u001b[0m \u001b[0;34m=\u001b[0m \u001b[0mself\u001b[0m\u001b[0;34m.\u001b[0m\u001b[0m_do_query\u001b[0m\u001b[0;34m(\u001b[0m\u001b[0mq\u001b[0m\u001b[0;34m)\u001b[0m\u001b[0;34m\u001b[0m\u001b[0m\n\u001b[0;32m--> 345\u001b[0;31m         \u001b[0mself\u001b[0m\u001b[0;34m.\u001b[0m\u001b[0m_post_get_result\u001b[0m\u001b[0;34m(\u001b[0m\u001b[0;34m)\u001b[0m\u001b[0;34m\u001b[0m\u001b[0m\n\u001b[0m\u001b[1;32m    346\u001b[0m         \u001b[0;32mreturn\u001b[0m \u001b[0mrowcount\u001b[0m\u001b[0;34m\u001b[0m\u001b[0m\n\u001b[1;32m    347\u001b[0m \u001b[0;34m\u001b[0m\u001b[0m\n",
        "\u001b[0;32m/Library/Python/2.7/site-packages/MySQLdb/cursors.pyc\u001b[0m in \u001b[0;36m_post_get_result\u001b[0;34m(self)\u001b[0m\n\u001b[1;32m    347\u001b[0m \u001b[0;34m\u001b[0m\u001b[0m\n\u001b[1;32m    348\u001b[0m     \u001b[0;32mdef\u001b[0m \u001b[0m_post_get_result\u001b[0m\u001b[0;34m(\u001b[0m\u001b[0mself\u001b[0m\u001b[0;34m)\u001b[0m\u001b[0;34m:\u001b[0m\u001b[0;34m\u001b[0m\u001b[0m\n\u001b[0;32m--> 349\u001b[0;31m         \u001b[0mself\u001b[0m\u001b[0;34m.\u001b[0m\u001b[0m_rows\u001b[0m \u001b[0;34m=\u001b[0m \u001b[0mself\u001b[0m\u001b[0;34m.\u001b[0m\u001b[0m_fetch_row\u001b[0m\u001b[0;34m(\u001b[0m\u001b[0;36m0\u001b[0m\u001b[0;34m)\u001b[0m\u001b[0;34m\u001b[0m\u001b[0m\n\u001b[0m\u001b[1;32m    350\u001b[0m         \u001b[0mself\u001b[0m\u001b[0;34m.\u001b[0m\u001b[0m_result\u001b[0m \u001b[0;34m=\u001b[0m \u001b[0mNone\u001b[0m\u001b[0;34m\u001b[0m\u001b[0m\n\u001b[1;32m    351\u001b[0m \u001b[0;34m\u001b[0m\u001b[0m\n",
        "\u001b[0;32m/Library/Python/2.7/site-packages/MySQLdb/cursors.pyc\u001b[0m in \u001b[0;36m_fetch_row\u001b[0;34m(self, size)\u001b[0m\n\u001b[1;32m    315\u001b[0m         \u001b[0;32mif\u001b[0m \u001b[0;32mnot\u001b[0m \u001b[0mself\u001b[0m\u001b[0;34m.\u001b[0m\u001b[0m_result\u001b[0m\u001b[0;34m:\u001b[0m\u001b[0;34m\u001b[0m\u001b[0m\n\u001b[1;32m    316\u001b[0m             \u001b[0;32mreturn\u001b[0m \u001b[0;34m(\u001b[0m\u001b[0;34m)\u001b[0m\u001b[0;34m\u001b[0m\u001b[0m\n\u001b[0;32m--> 317\u001b[0;31m         \u001b[0;32mreturn\u001b[0m \u001b[0mself\u001b[0m\u001b[0;34m.\u001b[0m\u001b[0m_result\u001b[0m\u001b[0;34m.\u001b[0m\u001b[0mfetch_row\u001b[0m\u001b[0;34m(\u001b[0m\u001b[0msize\u001b[0m\u001b[0;34m,\u001b[0m \u001b[0mself\u001b[0m\u001b[0;34m.\u001b[0m\u001b[0m_fetch_type\u001b[0m\u001b[0;34m)\u001b[0m\u001b[0;34m\u001b[0m\u001b[0m\n\u001b[0m\u001b[1;32m    318\u001b[0m \u001b[0;34m\u001b[0m\u001b[0m\n\u001b[1;32m    319\u001b[0m     \u001b[0;32mdef\u001b[0m \u001b[0m__iter__\u001b[0m\u001b[0;34m(\u001b[0m\u001b[0mself\u001b[0m\u001b[0;34m)\u001b[0m\u001b[0;34m:\u001b[0m\u001b[0;34m\u001b[0m\u001b[0m\n",
        "\u001b[0;32m/Library/Python/2.7/site-packages/MySQLdb/times.pyc\u001b[0m in \u001b[0;36mmysql_timestamp_converter\u001b[0;34m(s)\u001b[0m\n\u001b[1;32m    100\u001b[0m     \u001b[0;34m\"\"\"Convert a MySQL TIMESTAMP to a Timestamp object.\"\"\"\u001b[0m\u001b[0;34m\u001b[0m\u001b[0m\n\u001b[1;32m    101\u001b[0m     \u001b[0;31m# MySQL>4.1 returns TIMESTAMP in the same format as DATETIME\u001b[0m\u001b[0;34m\u001b[0m\u001b[0;34m\u001b[0m\u001b[0m\n\u001b[0;32m--> 102\u001b[0;31m     \u001b[0;32mif\u001b[0m \u001b[0ms\u001b[0m\u001b[0;34m[\u001b[0m\u001b[0;36m4\u001b[0m\u001b[0;34m]\u001b[0m \u001b[0;34m==\u001b[0m \u001b[0;34m'-'\u001b[0m\u001b[0;34m:\u001b[0m \u001b[0;32mreturn\u001b[0m \u001b[0mDateTime_or_None\u001b[0m\u001b[0;34m(\u001b[0m\u001b[0ms\u001b[0m\u001b[0;34m)\u001b[0m\u001b[0;34m\u001b[0m\u001b[0m\n\u001b[0m\u001b[1;32m    103\u001b[0m     \u001b[0ms\u001b[0m \u001b[0;34m=\u001b[0m \u001b[0ms\u001b[0m \u001b[0;34m+\u001b[0m \u001b[0;34m\"0\"\u001b[0m\u001b[0;34m*\u001b[0m\u001b[0;34m(\u001b[0m\u001b[0;36m14\u001b[0m\u001b[0;34m-\u001b[0m\u001b[0mlen\u001b[0m\u001b[0;34m(\u001b[0m\u001b[0ms\u001b[0m\u001b[0;34m)\u001b[0m\u001b[0;34m)\u001b[0m \u001b[0;31m# padding\u001b[0m\u001b[0;34m\u001b[0m\u001b[0m\n\u001b[1;32m    104\u001b[0m     parts = map(int, filter(None, (s[:4],s[4:6],s[6:8],\n",
        "\u001b[0;32m/Library/Python/2.7/site-packages/MySQLdb/times.pyc\u001b[0m in \u001b[0;36mDateTime_or_None\u001b[0;34m(s)\u001b[0m\n\u001b[1;32m     52\u001b[0m     \u001b[0;32mtry\u001b[0m\u001b[0;34m:\u001b[0m\u001b[0;34m\u001b[0m\u001b[0m\n\u001b[1;32m     53\u001b[0m         \u001b[0md\u001b[0m\u001b[0;34m,\u001b[0m \u001b[0mt\u001b[0m \u001b[0;34m=\u001b[0m \u001b[0ms\u001b[0m\u001b[0;34m.\u001b[0m\u001b[0msplit\u001b[0m\u001b[0;34m(\u001b[0m\u001b[0msep\u001b[0m\u001b[0;34m,\u001b[0m \u001b[0;36m1\u001b[0m\u001b[0;34m)\u001b[0m\u001b[0;34m\u001b[0m\u001b[0m\n\u001b[0;32m---> 54\u001b[0;31m         \u001b[0;32mreturn\u001b[0m \u001b[0mdatetime\u001b[0m\u001b[0;34m(\u001b[0m\u001b[0;34m*\u001b[0m\u001b[0;34m[\u001b[0m \u001b[0mint\u001b[0m\u001b[0;34m(\u001b[0m\u001b[0mx\u001b[0m\u001b[0;34m)\u001b[0m \u001b[0;32mfor\u001b[0m \u001b[0mx\u001b[0m \u001b[0;32min\u001b[0m \u001b[0md\u001b[0m\u001b[0;34m.\u001b[0m\u001b[0msplit\u001b[0m\u001b[0;34m(\u001b[0m\u001b[0;34m'-'\u001b[0m\u001b[0;34m)\u001b[0m\u001b[0;34m+\u001b[0m\u001b[0mt\u001b[0m\u001b[0;34m.\u001b[0m\u001b[0msplit\u001b[0m\u001b[0;34m(\u001b[0m\u001b[0;34m':'\u001b[0m\u001b[0;34m)\u001b[0m \u001b[0;34m]\u001b[0m\u001b[0;34m)\u001b[0m\u001b[0;34m\u001b[0m\u001b[0m\n\u001b[0m\u001b[1;32m     55\u001b[0m     \u001b[0;32mexcept\u001b[0m \u001b[0;34m(\u001b[0m\u001b[0mSystemExit\u001b[0m\u001b[0;34m,\u001b[0m \u001b[0mKeyboardInterrupt\u001b[0m\u001b[0;34m)\u001b[0m\u001b[0;34m:\u001b[0m\u001b[0;34m\u001b[0m\u001b[0m\n\u001b[1;32m     56\u001b[0m         \u001b[0;32mraise\u001b[0m\u001b[0;34m\u001b[0m\u001b[0m\n",
        "\u001b[0;31mKeyboardInterrupt\u001b[0m: "
       ]
      }
     ],
     "prompt_number": 8
    },
    {
     "cell_type": "code",
     "collapsed": false,
     "input": [
      "len(all_rows)"
     ],
     "language": "python",
     "metadata": {},
     "outputs": []
    },
    {
     "cell_type": "code",
     "collapsed": false,
     "input": [
      "csv_writer = csv.writer(open(INPUT_FILENAME,'w'))"
     ],
     "language": "python",
     "metadata": {},
     "outputs": [
      {
       "ename": "IOError",
       "evalue": "[Errno 2] No such file or directory: '/Users/vijay/Desktop/gl_conf_data/edmodo_small.csv'",
       "output_type": "pyerr",
       "traceback": [
        "\u001b[0;31m---------------------------------------------------------------------------\u001b[0m\n\u001b[0;31mIOError\u001b[0m                                   Traceback (most recent call last)",
        "\u001b[0;32m<ipython-input-5-5924947ed0c6>\u001b[0m in \u001b[0;36m<module>\u001b[0;34m()\u001b[0m\n\u001b[0;32m----> 1\u001b[0;31m \u001b[0mcsv_writer\u001b[0m \u001b[0;34m=\u001b[0m \u001b[0mcsv\u001b[0m\u001b[0;34m.\u001b[0m\u001b[0mwriter\u001b[0m\u001b[0;34m(\u001b[0m\u001b[0mopen\u001b[0m\u001b[0;34m(\u001b[0m\u001b[0mINPUT_FILENAME\u001b[0m\u001b[0;34m,\u001b[0m\u001b[0;34m'w'\u001b[0m\u001b[0;34m)\u001b[0m\u001b[0;34m)\u001b[0m\u001b[0;34m\u001b[0m\u001b[0m\n\u001b[0m",
        "\u001b[0;31mIOError\u001b[0m: [Errno 2] No such file or directory: '/Users/vijay/Desktop/gl_conf_data/edmodo_small.csv'"
       ]
      }
     ],
     "prompt_number": 5
    },
    {
     "cell_type": "code",
     "collapsed": false,
     "input": [
      "for idx, row in enumerate(all_rows):\n",
      "    new_row = row[1]\n",
      "    if type(new_row) is not NoneType:\n",
      "        new_row = new_row.replace('\\n',' ')\n",
      "        new_row = new_row.replace('\\r',' ')\n",
      "        new_row = new_row.replace('\\f',' ')\n",
      "        new_row = new_row.replace('\\\\',' ')\n",
      "        new_row = new_row.replace('/',' ')\n",
      "        csv_writer.writerow(tuple(new_row))"
     ],
     "language": "python",
     "metadata": {},
     "outputs": [],
     "prompt_number": 95
    },
    {
     "cell_type": "code",
     "collapsed": false,
     "input": [
      "documents = gl.SFrame.read_csv(FILENAME, header=False)"
     ],
     "language": "python",
     "metadata": {},
     "outputs": [
      {
       "output_type": "stream",
       "stream": "stderr",
       "text": [
        "[INFO] Start server at: ipc:///tmp/graphlab_server-20877 - Server binary: /Library/Python/2.7/site-packages/graphlab/unity_server - Server log: /tmp/graphlab_server_1408590538.log\n"
       ]
      },
      {
       "output_type": "stream",
       "stream": "stderr",
       "text": [
        "[INFO] GraphLab Server Version: 0.9.0\n"
       ]
      },
      {
       "output_type": "stream",
       "stream": "stdout",
       "text": [
        "Could not detect types. Using str for each column.\n"
       ]
      },
      {
       "ename": "RuntimeError",
       "evalue": "Runtime Exception: 0. No files corresponding to the specified path (/Users/vijay/Desktop/gl_conf_data/edmodo_small.csv).",
       "output_type": "pyerr",
       "traceback": [
        "\u001b[0;31m---------------------------------------------------------------------------\u001b[0m\n\u001b[0;31mRuntimeError\u001b[0m                              Traceback (most recent call last)",
        "\u001b[0;32m<ipython-input-6-9d105e5b1ec0>\u001b[0m in \u001b[0;36m<module>\u001b[0;34m()\u001b[0m\n\u001b[0;32m----> 1\u001b[0;31m \u001b[0mdocuments\u001b[0m \u001b[0;34m=\u001b[0m \u001b[0mgl\u001b[0m\u001b[0;34m.\u001b[0m\u001b[0mSFrame\u001b[0m\u001b[0;34m.\u001b[0m\u001b[0mread_csv\u001b[0m\u001b[0;34m(\u001b[0m\u001b[0mFILENAME\u001b[0m\u001b[0;34m,\u001b[0m \u001b[0mheader\u001b[0m\u001b[0;34m=\u001b[0m\u001b[0mFalse\u001b[0m\u001b[0;34m)\u001b[0m\u001b[0;34m\u001b[0m\u001b[0m\n\u001b[0m",
        "\u001b[0;32m/Library/Python/2.7/site-packages/graphlab/data_structures/sframe.pyc\u001b[0m in \u001b[0;36mread_csv\u001b[0;34m(cls, url, delimiter, header, error_bad_lines, comment_char, escape_char, double_quote, quote_char, skip_initial_space, column_type_hints, na_values, nrows, verbose)\u001b[0m\n\u001b[1;32m   1085\u001b[0m                                   \u001b[0mnrows\u001b[0m\u001b[0;34m=\u001b[0m\u001b[0mnrows\u001b[0m\u001b[0;34m,\u001b[0m\u001b[0;34m\u001b[0m\u001b[0m\n\u001b[1;32m   1086\u001b[0m                                   \u001b[0mverbose\u001b[0m\u001b[0;34m=\u001b[0m\u001b[0mverbose\u001b[0m\u001b[0;34m,\u001b[0m\u001b[0;34m\u001b[0m\u001b[0m\n\u001b[0;32m-> 1087\u001b[0;31m                                   store_errors=False)[0]\n\u001b[0m\u001b[1;32m   1088\u001b[0m \u001b[0;34m\u001b[0m\u001b[0m\n\u001b[1;32m   1089\u001b[0m     \u001b[0;32mdef\u001b[0m \u001b[0m__repr__\u001b[0m\u001b[0;34m(\u001b[0m\u001b[0mself\u001b[0m\u001b[0;34m)\u001b[0m\u001b[0;34m:\u001b[0m\u001b[0;34m\u001b[0m\u001b[0m\n",
        "\u001b[0;32m/Library/Python/2.7/site-packages/graphlab/data_structures/sframe.pyc\u001b[0m in \u001b[0;36m_read_csv_impl\u001b[0;34m(cls, url, delimiter, header, error_bad_lines, comment_char, escape_char, double_quote, quote_char, skip_initial_space, column_type_hints, na_values, nrows, verbose, store_errors)\u001b[0m\n\u001b[1;32m    879\u001b[0m         \u001b[0;32mtry\u001b[0m\u001b[0;34m:\u001b[0m\u001b[0;34m\u001b[0m\u001b[0m\n\u001b[1;32m    880\u001b[0m             \u001b[0;32mwith\u001b[0m \u001b[0mcython_context\u001b[0m\u001b[0;34m(\u001b[0m\u001b[0;34m)\u001b[0m\u001b[0;34m:\u001b[0m\u001b[0;34m\u001b[0m\u001b[0m\n\u001b[0;32m--> 881\u001b[0;31m                 \u001b[0merrors\u001b[0m \u001b[0;34m=\u001b[0m \u001b[0mproxy\u001b[0m\u001b[0;34m.\u001b[0m\u001b[0mload_from_csvs\u001b[0m\u001b[0;34m(\u001b[0m\u001b[0minternal_url\u001b[0m\u001b[0;34m,\u001b[0m \u001b[0mparsing_config\u001b[0m\u001b[0;34m,\u001b[0m \u001b[0mtype_hints\u001b[0m\u001b[0;34m)\u001b[0m\u001b[0;34m\u001b[0m\u001b[0m\n\u001b[0m\u001b[1;32m    882\u001b[0m         \u001b[0;32mexcept\u001b[0m\u001b[0;34m:\u001b[0m\u001b[0;34m\u001b[0m\u001b[0m\n\u001b[1;32m    883\u001b[0m             \u001b[0;32mif\u001b[0m \u001b[0mcolumn_type_inference_was_used\u001b[0m\u001b[0;34m:\u001b[0m\u001b[0;34m\u001b[0m\u001b[0m\n",
        "\u001b[0;32m/Library/Python/2.7/site-packages/graphlab/cython/context.pyc\u001b[0m in \u001b[0;36m__exit__\u001b[0;34m(self, exc_type, exc_value, traceback)\u001b[0m\n\u001b[1;32m     21\u001b[0m     \u001b[0;32mdef\u001b[0m \u001b[0m__exit__\u001b[0m\u001b[0;34m(\u001b[0m\u001b[0mself\u001b[0m\u001b[0;34m,\u001b[0m \u001b[0mexc_type\u001b[0m\u001b[0;34m,\u001b[0m \u001b[0mexc_value\u001b[0m\u001b[0;34m,\u001b[0m \u001b[0mtraceback\u001b[0m\u001b[0;34m)\u001b[0m\u001b[0;34m:\u001b[0m\u001b[0;34m\u001b[0m\u001b[0m\n\u001b[1;32m     22\u001b[0m         \u001b[0;32mif\u001b[0m \u001b[0;32mnot\u001b[0m \u001b[0mself\u001b[0m\u001b[0;34m.\u001b[0m\u001b[0mshow_cython_trace\u001b[0m \u001b[0;32mand\u001b[0m \u001b[0mexc_type\u001b[0m\u001b[0;34m:\u001b[0m\u001b[0;34m\u001b[0m\u001b[0m\n\u001b[0;32m---> 23\u001b[0;31m             \u001b[0;32mraise\u001b[0m \u001b[0mexc_type\u001b[0m\u001b[0;34m(\u001b[0m\u001b[0mexc_value\u001b[0m\u001b[0;34m)\u001b[0m\u001b[0;34m\u001b[0m\u001b[0m\n\u001b[0m",
        "\u001b[0;31mRuntimeError\u001b[0m: Runtime Exception: 0. No files corresponding to the specified path (/Users/vijay/Desktop/gl_conf_data/edmodo_small.csv)."
       ]
      }
     ],
     "prompt_number": 6
    },
    {
     "cell_type": "code",
     "collapsed": false,
     "input": [
      "documents.num_rows"
     ],
     "language": "python",
     "metadata": {},
     "outputs": [
      {
       "metadata": {},
       "output_type": "pyout",
       "prompt_number": 101,
       "text": [
        "<bound method SFrame.num_rows of Columns:\n",
        "\tX1\tstr\n",
        "\tX2\tstr\n",
        "\tX3\tstr\n",
        "\n",
        "Rows: 171032\n",
        "\n",
        "Data:\n",
        "+-----------+--------------------------------+---------------------+\n",
        "|     X1    |               X2               |          X3         |\n",
        "+-----------+--------------------------------+---------------------+\n",
        "| 203589135 |                                | 2014-02-01 00:00:01 |\n",
        "| 203589137 | Bienvenido al Modulo de En ... | 2014-02-01 00:00:02 |\n",
        "| 203589139 | Ensayo del Poder de las pa ... | 2014-02-01 00:00:02 |\n",
        "| 203589141 |           Thank you.           | 2014-02-01 00:00:02 |\n",
        "| 203589143 |          bienvenidos           | 2014-02-01 00:00:02 |\n",
        "| 203589145 |          felicidades           | 2014-02-01 00:00:02 |\n",
        "| 203589147 |           Edmodo # 4           | 2014-02-01 00:00:03 |\n",
        "| 203589149 | ASIENDO EL PORTAL AL NEDER ... | 2014-02-01 00:00:03 |\n",
        "| 203589151 | Weekly Current Event Posti ... | 2014-02-01 00:00:03 |\n",
        "| 203589153 |                                | 2014-02-01 00:00:03 |\n",
        "|    ...    |              ...               |         ...         |\n",
        "+-----------+--------------------------------+---------------------+\n",
        "[171032 rows x 3 columns]\n",
        "Note: Only the head of the SFrame is printed.\n",
        "You can use print_rows(num_rows=m, num_columns=n) to print more rows and columns.>"
       ]
      }
     ],
     "prompt_number": 101
    },
    {
     "cell_type": "code",
     "collapsed": false,
     "input": [
      "bow = documents['X2'].count_words()"
     ],
     "language": "python",
     "metadata": {},
     "outputs": [],
     "prompt_number": 104
    },
    {
     "cell_type": "code",
     "collapsed": false,
     "input": [
      "trimmed = bow.dict_trim_by_values(2)"
     ],
     "language": "python",
     "metadata": {},
     "outputs": [],
     "prompt_number": 105
    },
    {
     "cell_type": "code",
     "collapsed": false,
     "input": [
      "stopped = trimmed.dict_trim_by_keys(gl.text.stopwords())"
     ],
     "language": "python",
     "metadata": {},
     "outputs": [],
     "prompt_number": 113
    },
    {
     "cell_type": "code",
     "collapsed": false,
     "input": [
      "stopped"
     ],
     "language": "python",
     "metadata": {},
     "outputs": [
      {
       "metadata": {},
       "output_type": "pyout",
       "prompt_number": 114,
       "text": [
        "dtype: dict\n",
        "Rows: 171032\n",
        "[{}, {}, {}, {}, {}, {}, {}, {'al': 2}, {'2': 2}, {}, {}, {}, {'1': 2, '3': 2, '2': 2, 'hal': 3, '7': 2}, {}, {}, {}, {'questions': 2}, {}, {}, {}, {}, {}, {}, {'account': 2}, {'mexican': 3, 'study': 3, 'war': 3, 'american': 2, 'compromise': 2, 'notes': 4}, {'mexican': 3, 'study': 3, 'war': 3, 'american': 2, 'compromise': 2, 'notes': 4}, {'mexican': 3, 'study': 3, 'war': 3, 'american': 2, 'compromise': 2, 'notes': 4}, {'mexican': 3, 'study': 3, 'war': 3, 'american': 2, 'compromise': 2, 'notes': 4}, {'mexican': 3, 'study': 3, 'war': 3, 'american': 2, 'compromise': 2, 'notes': 4}, {}, {'ch': 2, '3': 2, '2': 4, 'lev': 2}, {}, {}, {'make': 3, 'class': 2, 'complete': 2}, {}, {}, {}, {}, {}, {}, {}, {}, {}, {}, {}, {}, {}, {}, {}, {}, {}, {}, {}, {}, {}, {}, {}, {}, {}, {}, {}, {'assessment': 2, 'benefits': 2, 'learning': 6, 'student': 3, 'missing': 2}, {'footage': 2, 'wait': 2}, {}, {}, {}, {}, {'haha': 2}, {'5': 2}, {}, {}, {}, {}, {}, {}, {}, {}, {}, {}, {}, {}, {}, {}, {}, {}, {}, {}, {}, {}, {}, {}, {}, {}, {}, {}, {'1': 3, 'egg': 2, 'lab': 2}, {}, {}, {}, {}, ... ]"
       ]
      }
     ],
     "prompt_number": 114
    },
    {
     "cell_type": "code",
     "collapsed": false,
     "input": [
      "ix = stopped.apply(lambda x: len(x.keys()) >= 1)"
     ],
     "language": "python",
     "metadata": {},
     "outputs": [],
     "prompt_number": 120
    },
    {
     "cell_type": "code",
     "collapsed": false,
     "input": [
      "docs = stopped[ix]"
     ],
     "language": "python",
     "metadata": {},
     "outputs": [],
     "prompt_number": 123
    },
    {
     "cell_type": "code",
     "collapsed": false,
     "input": [
      "m = gl.topic_model.create(docs, num_topics=30, num_iterations=30)"
     ],
     "language": "python",
     "metadata": {},
     "outputs": [
      {
       "html": [
        "PROGRESS: Running collapsed Gibbs sampling<br/>"
       ],
       "metadata": {},
       "output_type": "display_data",
       "text": [
        "PROGRESS: Running collapsed Gibbs sampling"
       ]
      },
      {
       "html": [
        "PROGRESS:  Iteration Tokens/second Seconds/iter Perplexity<br/>"
       ],
       "metadata": {},
       "output_type": "display_data",
       "text": [
        "PROGRESS:  Iteration Tokens/second Seconds/iter Perplexity"
       ]
      },
      {
       "html": [
        "PROGRESS:          5        208942     0.207755    1411.86<br/>"
       ],
       "metadata": {},
       "output_type": "display_data",
       "text": [
        "PROGRESS:          5        208942     0.207755    1411.86"
       ]
      },
      {
       "html": [
        "PROGRESS: topic 0: di 3 dalam pada dapat che adalah anda informasi 6 juga orang tahun salat seperti<br/>"
       ],
       "metadata": {},
       "output_type": "display_data",
       "text": [
        "PROGRESS: topic 0: di 3 dalam pada dapat che adalah anda informasi 6 juga orang tahun salat seperti"
       ]
      },
      {
       "html": [
        "PROGRESS: topic 1: english time world mother learning email didn house song family face thing hard don\u00e2\u20ac\u2122t mom<br/>"
       ],
       "metadata": {},
       "output_type": "display_data",
       "text": [
        "PROGRESS: topic 1: english time world mother learning email didn house song family face thing hard don\u00e2\u20ac\u2122t mom"
       ]
      },
      {
       "html": [
        "PROGRESS: topic 2: 0 sa 3 su top display font box snow position ay padding https en 1px<br/>"
       ],
       "metadata": {},
       "output_type": "display_data",
       "text": [
        "PROGRESS: topic 2: 0 sa 3 su top display font box snow position ay padding https en 1px"
       ]
      },
      {
       "html": [
        "PROGRESS: topic 3: work class time year writing na ang ng high study \u00e2\u20ac\u009d student classroom order notes<br/>"
       ],
       "metadata": {},
       "output_type": "display_data",
       "text": [
        "PROGRESS: topic 3: work class time year writing na ang ng high study \u00e2\u20ac\u009d student classroom order notes"
       ]
      },
      {
       "html": [
        "PROGRESS: topic 4: chicken students important 1 games money talk 6 test due teach temperature 7 child parents<br/>"
       ],
       "metadata": {},
       "output_type": "display_data",
       "text": [
        "PROGRESS: topic 4: chicken students important 1 games money talk 6 test due teach temperature 7 child parents"
       ]
      },
      {
       "html": [
        "PROGRESS: topic 5: school book video read game back day friends 7 mrs 6 po ll children red<br/>"
       ],
       "metadata": {},
       "output_type": "display_data",
       "text": [
        "PROGRESS: topic 5: school book video read game back day friends 7 mrs 6 po ll children red"
       ]
      },
      {
       "html": [
        "PROGRESS: topic 6: yang dan untuk dengan ini dari media tidak atau akan lebih komputer ada website ke<br/>"
       ],
       "metadata": {},
       "output_type": "display_data",
       "text": [
        "PROGRESS: topic 6: yang dan untuk dengan ini dari media tidak atau akan lebih komputer ada website ke"
       ]
      },
      {
       "html": [
        "PROGRESS: topic 7: \u00e2\u20ac\u00a2 de super war 3 1 president women \u00c3\u00a0 pour man vous bowl la men<br/>"
       ],
       "metadata": {},
       "output_type": "display_data",
       "text": [
        "PROGRESS: topic 7: \u00e2\u20ac\u00a2 de super war 3 1 president women \u00c3\u00a0 pour man vous bowl la men"
       ]
      },
      {
       "html": [
        "PROGRESS: topic 8: 2 book week test quiz questions reading chapter lesson part 8 class hw practice complete<br/>"
       ],
       "metadata": {},
       "output_type": "display_data",
       "text": [
        "PROGRESS: topic 8: 2 book week test quiz questions reading chapter lesson part 8 class hw practice complete"
       ]
      },
      {
       "html": [
        "PROGRESS: topic 9: le 1 les est en google \u00d9\u02c6 je 4 une des pg turn ce ha<br/>"
       ],
       "metadata": {},
       "output_type": "display_data",
       "text": [
        "PROGRESS: topic 9: le 1 les est en google \u00d9\u02c6 je 4 une des pg turn ce ha"
       ]
      },
      {
       "html": [
        "PROGRESS: topic 10: pizza homework write mother answers im japan assignment spelling letter form warm 6 play presentation<br/>"
       ],
       "metadata": {},
       "output_type": "display_data",
       "text": [
        "PROGRESS: topic 10: pizza homework write mother answers im japan assignment spelling letter form warm 6 play presentation"
       ]
      },
      {
       "html": [
        "PROGRESS: topic 11: students 3 student teachers te die width van create language core find notes site account<br/>"
       ],
       "metadata": {},
       "output_type": "display_data",
       "text": [
        "PROGRESS: topic 11: students 3 student teachers te die width van create language core find notes site account"
       ]
      },
      {
       "html": [
        "PROGRESS: topic 12: time year family life good parents light start find food period morning father \u00d8\u00a8\u00d9\u2021 long<br/>"
       ],
       "metadata": {},
       "output_type": "display_data",
       "text": [
        "PROGRESS: topic 12: time year family life good parents light start find food period morning father \u00d8\u00a8\u00d9\u2021 long"
       ]
      },
      {
       "html": [
        "PROGRESS: topic 13: de la el para del con se lo por en es al como je ik<br/>"
       ],
       "metadata": {},
       "output_type": "display_data",
       "text": [
        "PROGRESS: topic 13: de la el para del con se lo por en es al como je ik"
       ]
      },
      {
       "html": [
        "PROGRESS: topic 14: 3 speech good great life make text made reading chapter thought energy margin understand job<br/>"
       ],
       "metadata": {},
       "output_type": "display_data",
       "text": [
        "PROGRESS: topic 14: 3 speech good great life make text made reading chapter thought energy margin understand job"
       ]
      },
      {
       "html": [
        "PROGRESS: topic 15: make back paper students technology remember print good im plastic bad surgery fun important point<br/>"
       ],
       "metadata": {},
       "output_type": "display_data",
       "text": [
        "PROGRESS: topic 15: make back paper students technology remember print good im plastic bad surgery fun important point"
       ]
      },
      {
       "html": [
        "PROGRESS: topic 16: 2 1 5 4 10 14 9 school 15 answer visual february learning pages \u00e2\u20ac\u201c<br/>"
       ],
       "metadata": {},
       "output_type": "display_data",
       "text": [
        "PROGRESS: topic 16: 2 1 5 4 10 14 9 school 15 answer visual february learning pages \u00e2\u20ac\u201c"
       ]
      },
      {
       "html": [
        "PROGRESS: topic 17: gb 2 color book write password page guys post block test height file prezi president<br/>"
       ],
       "metadata": {},
       "output_type": "display_data",
       "text": [
        "PROGRESS: topic 17: gb 2 color book write password page guys post block test height file prezi president"
       ]
      },
      {
       "html": [
        "PROGRESS: topic 18: \u00e2\u20ac\u00a2 2013 00 dec 30 serena show 20 aynur questions padma reply huey 21 type<br/>"
       ],
       "metadata": {},
       "output_type": "display_data",
       "text": [
        "PROGRESS: topic 18: \u00e2\u20ac\u00a2 2013 00 dec 30 serena show 20 aynur questions padma reply huey 21 type"
       ]
      },
      {
       "html": [
        "PROGRESS: topic 19: http www monday week due watch edmodo tuesday feb math youtube tomorrow february miss 2<br/>"
       ],
       "metadata": {},
       "output_type": "display_data",
       "text": [
        "PROGRESS: topic 19: http www monday week due watch edmodo tuesday feb math youtube tomorrow february miss 2"
       ]
      },
      {
       "html": [
        "PROGRESS: topic 20: day make school adj post things study \u00cf\u201e\u00ce\u00bf home assignment \u00ce\u00ba\u00ce\u00b1\u00ce\u00b9 \u00ce\u00bd\u00ce\u00b1 step dad read<br/>"
       ],
       "metadata": {},
       "output_type": "display_data",
       "text": [
        "PROGRESS: topic 20: day make school adj post things study \u00cf\u201e\u00ce\u00bf home assignment \u00ce\u00ba\u00ce\u00b1\u00ce\u00b9 \u00ce\u00bd\u00ce\u00b1 step dad read"
       ]
      },
      {
       "html": [
        "PROGRESS: topic 21: don people grade 2014 1 article grades current jan executive teacher obama low money topic<br/>"
       ],
       "metadata": {},
       "output_type": "display_data",
       "text": [
        "PROGRESS: topic 21: don people grade 2014 1 article grades current jan executive teacher obama low money topic"
       ]
      },
      {
       "html": [
        "PROGRESS: topic 22: class culture background border system child hope number 02 chapter things put working language person<br/>"
       ],
       "metadata": {},
       "output_type": "display_data",
       "text": [
        "PROGRESS: topic 22: class culture background border system child hope number 02 chapter things put working language person"
       ]
      },
      {
       "html": [
        "PROGRESS: topic 23: \u00e2\u20ac\u201c left love world group 000 found assignment plan animals heart seahawks earth water jag<br/>"
       ],
       "metadata": {},
       "output_type": "display_data",
       "text": [
        "PROGRESS: topic 23: \u00e2\u20ac\u201c left love world group 000 found assignment plan animals heart seahawks earth water jag"
       ]
      },
      {
       "html": [
        "PROGRESS: topic 24: science 7 happy class story black feel project music score movie bring congress level february<br/>"
       ],
       "metadata": {},
       "output_type": "display_data",
       "text": [
        "PROGRESS: topic 24: science 7 happy class story black feel project music score movie bring congress level february"
       ]
      },
      {
       "html": [
        "PROGRESS: topic 25: day project information lab 1 article post days 3 states system area friday american feel<br/>"
       ],
       "metadata": {},
       "output_type": "display_data",
       "text": [
        "PROGRESS: topic 25: day project information lab 1 article post days 3 states system area friday american feel"
       ]
      },
      {
       "html": [
        "PROGRESS: topic 26: whats jar dirt question hamlet give place white death home draft bye room pictures post<br/>"
       ],
       "metadata": {},
       "output_type": "display_data",
       "text": [
        "PROGRESS: topic 26: whats jar dirt question hamlet give place white death home draft bye room pictures post"
       ]
      },
      {
       "html": [
        "PROGRESS: topic 27: en la los las el una es il si mi \u00d9\u0081\u00d9\u0160 se \u00c3\u00a8 sus muy<br/>"
       ],
       "metadata": {},
       "output_type": "display_data",
       "text": [
        "PROGRESS: topic 27: en la los las el una es il si mi \u00d9\u0081\u00d9\u0160 se \u00c3\u00a8 sus muy"
       ]
      },
      {
       "html": [
        "PROGRESS: topic 28: story government page words \u00e2\u20ac\u009d work years called character children business wanted meeting home group<br/>"
       ],
       "metadata": {},
       "output_type": "display_data",
       "text": [
        "PROGRESS: topic 28: story government page words \u00e2\u20ac\u009d work years called character children business wanted meeting home group"
       ]
      },
      {
       "html": [
        "PROGRESS: topic 29: people mr chinese social city word hand jing love mei water good father made teacher<br/>"
       ],
       "metadata": {},
       "output_type": "display_data",
       "text": [
        "PROGRESS: topic 29: people mr chinese social city word hand jing love mei water good father made teacher"
       ]
      },
      {
       "html": [
        "PROGRESS:         10        194928     0.219469     1297.3<br/>"
       ],
       "metadata": {},
       "output_type": "display_data",
       "text": [
        "PROGRESS:         10        194928     0.219469     1297.3"
       ]
      },
      {
       "html": [
        "PROGRESS: topic 0: di 3 dalam pada che dapat adalah anda informasi juga orang tahun salat seperti 6<br/>"
       ],
       "metadata": {},
       "output_type": "display_data",
       "text": [
        "PROGRESS: topic 0: di 3 dalam pada che dapat adalah anda informasi juga orang tahun salat seperti 6"
       ]
      },
      {
       "html": [
        "PROGRESS: topic 1: time english mother world learning family email mom thing didn house hard don\u00e2\u20ac\u2122t important face<br/>"
       ],
       "metadata": {},
       "output_type": "display_data",
       "text": [
        "PROGRESS: topic 1: time english mother world learning family email mom thing didn house hard don\u00e2\u20ac\u2122t important face"
       ]
      },
      {
       "html": [
        "PROGRESS: topic 2: 0 sa 3 top display font border margin box position google ay folder drive space<br/>"
       ],
       "metadata": {},
       "output_type": "display_data",
       "text": [
        "PROGRESS: topic 2: 0 sa 3 top display font border margin box position google ay folder drive space"
       ]
      },
      {
       "html": [
        "PROGRESS: topic 3: work class time writing year na ang ng high classroom study order mga ideas notes<br/>"
       ],
       "metadata": {},
       "output_type": "display_data",
       "text": [
        "PROGRESS: topic 3: work class time writing year na ang ng high classroom study order mga ideas notes"
       ]
      },
      {
       "html": [
        "PROGRESS: topic 4: chicken games students temperature talk notes money due anna questions important ch cup hunger potato<br/>"
       ],
       "metadata": {},
       "output_type": "display_data",
       "text": [
        "PROGRESS: topic 4: chicken games students temperature talk notes money due anna questions important ch cup hunger potato"
       ]
      },
      {
       "html": [
        "PROGRESS: topic 5: school book video day back read don game mrs friends play find 7 red ll<br/>"
       ],
       "metadata": {},
       "output_type": "display_data",
       "text": [
        "PROGRESS: topic 5: school book video day back read don game mrs friends play find 7 red ll"
       ]
      },
      {
       "html": [
        "PROGRESS: topic 6: yang dan untuk dengan ini dari tidak media atau akan lebih komputer ada ke internet<br/>"
       ],
       "metadata": {},
       "output_type": "display_data",
       "text": [
        "PROGRESS: topic 6: yang dan untuk dengan ini dari tidak media atau akan lebih komputer ada ke internet"
       ]
      },
      {
       "html": [
        "PROGRESS: topic 7: \u00e2\u20ac\u00a2 war de super president 3 women bowl pour \u00c3\u00a0 vous government 1 la order<br/>"
       ],
       "metadata": {},
       "output_type": "display_data",
       "text": [
        "PROGRESS: topic 7: \u00e2\u20ac\u00a2 war de super president 3 women bowl pour \u00c3\u00a0 vous government 1 la order"
       ]
      },
      {
       "html": [
        "PROGRESS: topic 8: book week test chapter questions quiz reading 2 lesson 6 points team part practice hw<br/>"
       ],
       "metadata": {},
       "output_type": "display_data",
       "text": [
        "PROGRESS: topic 8: book week test chapter questions quiz reading 2 lesson 6 points team part practice hw"
       ]
      },
      {
       "html": [
        "PROGRESS: topic 9: le les je est 1 \u00d9\u02c6 il des song en une dans ce ma sur<br/>"
       ],
       "metadata": {},
       "output_type": "display_data",
       "text": [
        "PROGRESS: topic 9: le les je est 1 \u00d9\u02c6 il des song en une dans ce ma sur"
       ]
      },
      {
       "html": [
        "PROGRESS: topic 10: pizza homework assignment 02 snow im spelling japan answers paragraph win machine depression code letter<br/>"
       ],
       "metadata": {},
       "output_type": "display_data",
       "text": [
        "PROGRESS: topic 10: pizza homework assignment 02 snow im spelling japan answers paragraph win machine depression code letter"
       ]
      },
      {
       "html": [
        "PROGRESS: topic 11: students 3 student teachers te die language teacher learn program van 2 essay core schools<br/>"
       ],
       "metadata": {},
       "output_type": "display_data",
       "text": [
        "PROGRESS: topic 11: students 3 student teachers te die language teacher learn program van 2 essay core schools"
       ]
      },
      {
       "html": [
        "PROGRESS: topic 12: time life year parents good family food god give light find told \u00d8\u00a8\u00d9\u2021 job don<br/>"
       ],
       "metadata": {},
       "output_type": "display_data",
       "text": [
        "PROGRESS: topic 12: time life year parents good family food god give light find told \u00d8\u00a8\u00d9\u2021 job don"
       ]
      },
      {
       "html": [
        "PROGRESS: topic 13: de la el en para con es lo por del se como ik het clase<br/>"
       ],
       "metadata": {},
       "output_type": "display_data",
       "text": [
        "PROGRESS: topic 13: de la el en para con es lo por del se como ik het clase"
       ]
      },
      {
       "html": [
        "PROGRESS: topic 14: speech 3 good text life great make made energy thought interesting idea write lot reading<br/>"
       ],
       "metadata": {},
       "output_type": "display_data",
       "text": [
        "PROGRESS: topic 14: speech 3 good text life great make made energy thought interesting idea write lot reading"
       ]
      },
      {
       "html": [
        "PROGRESS: topic 15: make back technology paper remember good plastic print surgery im bring fun important opinion culture<br/>"
       ],
       "metadata": {},
       "output_type": "display_data",
       "text": [
        "PROGRESS: topic 15: make back technology paper remember good plastic print surgery im bring fun important opinion culture"
       ]
      },
      {
       "html": [
        "PROGRESS: topic 16: 2 1 5 4 10 14 9 15 answer padma visual \u00e2\u20ac\u201c exam complete pages<br/>"
       ],
       "metadata": {},
       "output_type": "display_data",
       "text": [
        "PROGRESS: topic 16: 2 1 5 4 10 14 9 15 answer padma visual \u00e2\u20ac\u201c exam complete pages"
       ]
      },
      {
       "html": [
        "PROGRESS: topic 17: gb color test 2 page password ms click width file block height prezi miss guys<br/>"
       ],
       "metadata": {},
       "output_type": "display_data",
       "text": [
        "PROGRESS: topic 17: gb color test 2 page password ms click width file block height prezi miss guys"
       ]
      },
      {
       "html": [
        "PROGRESS: topic 18: \u00e2\u20ac\u00a2 2013 00 dec 8 30 serena 6 aynur reply huey 11 20 21 replies<br/>"
       ],
       "metadata": {},
       "output_type": "display_data",
       "text": [
        "PROGRESS: topic 18: \u00e2\u20ac\u00a2 2013 00 dec 8 30 serena 6 aynur reply huey 11 20 21 replies"
       ]
      },
      {
       "html": [
        "PROGRESS: topic 19: http www monday due week watch feb february tuesday math youtube edmodo tomorrow org html<br/>"
       ],
       "metadata": {},
       "output_type": "display_data",
       "text": [
        "PROGRESS: topic 19: http www monday due week watch feb february tuesday math youtube edmodo tomorrow org html"
       ]
      },
      {
       "html": [
        "PROGRESS: topic 20: day school make adj assignment \u00ce\u00ba\u00ce\u00b1\u00ce\u00b9 home \u00cf\u201e\u00ce\u00bf things \u00ce\u00bd\u00ce\u00b1 dad step brother read post<br/>"
       ],
       "metadata": {},
       "output_type": "display_data",
       "text": [
        "PROGRESS: topic 20: day school make adj assignment \u00ce\u00ba\u00ce\u00b1\u00ce\u00b9 home \u00cf\u201e\u00ce\u00bf things \u00ce\u00bd\u00ce\u00b1 dad step brother read post"
       ]
      },
      {
       "html": [
        "PROGRESS: topic 21: grade people 2014 article 1 don executive grades obama jan current warm orders congress year<br/>"
       ],
       "metadata": {},
       "output_type": "display_data",
       "text": [
        "PROGRESS: topic 21: grade people 2014 article 1 don executive grades obama jan current warm orders congress year"
       ]
      },
      {
       "html": [
        "PROGRESS: topic 22: class child background system hope number things culture 7 person language reading put island late<br/>"
       ],
       "metadata": {},
       "output_type": "display_data",
       "text": [
        "PROGRESS: topic 22: class child background system hope number things culture 7 person language reading put island late"
       ]
      },
      {
       "html": [
        "PROGRESS: topic 23: \u00e2\u20ac\u201c left love world water animals small species food group seahawks heart found jag plan<br/>"
       ],
       "metadata": {},
       "output_type": "display_data",
       "text": [
        "PROGRESS: topic 23: \u00e2\u20ac\u201c left love world water animals small species food group seahawks heart found jag plan"
       ]
      },
      {
       "html": [
        "PROGRESS: topic 24: science 7 project homework music happy read class movie feel today page score money mr<br/>"
       ],
       "metadata": {},
       "output_type": "display_data",
       "text": [
        "PROGRESS: topic 24: science 7 project homework music happy read class movie feel today page score money mr"
       ]
      },
      {
       "html": [
        "PROGRESS: topic 25: day information 3 project lab post article area days states health study great system data<br/>"
       ],
       "metadata": {},
       "output_type": "display_data",
       "text": [
        "PROGRESS: topic 25: day information 3 project lab post article area days states health study great system data"
       ]
      },
      {
       "html": [
        "PROGRESS: topic 26: whats jar dirt question hamlet death place bye draft picture sokikom pictures code lost white<br/>"
       ],
       "metadata": {},
       "output_type": "display_data",
       "text": [
        "PROGRESS: topic 26: whats jar dirt question hamlet death place bye draft picture sokikom pictures code lost white"
       ]
      },
      {
       "html": [
        "PROGRESS: topic 27: la los las el en una es il su se mi si \u00d9\u0081\u00d9\u0160 del le<br/>"
       ],
       "metadata": {},
       "output_type": "display_data",
       "text": [
        "PROGRESS: topic 27: la los las el en una es il su se mi si \u00d9\u0081\u00d9\u0160 del le"
       ]
      },
      {
       "html": [
        "PROGRESS: topic 28: story words group children character page work home word called years people business part meeting<br/>"
       ],
       "metadata": {},
       "output_type": "display_data",
       "text": [
        "PROGRESS: topic 28: story words group children character page work home word called years people business part meeting"
       ]
      },
      {
       "html": [
        "PROGRESS: topic 29: people chinese \u00e2\u20ac\u009d father country social story mr love girl water made city find jing<br/>"
       ],
       "metadata": {},
       "output_type": "display_data",
       "text": [
        "PROGRESS: topic 29: people chinese \u00e2\u20ac\u009d father country social story mr love girl water made city find jing"
       ]
      },
      {
       "html": [
        "PROGRESS:         15        156667     0.264893    1227.56<br/>"
       ],
       "metadata": {},
       "output_type": "display_data",
       "text": [
        "PROGRESS:         15        156667     0.264893    1227.56"
       ]
      },
      {
       "html": [
        "PROGRESS: topic 0: di dalam pada che dapat 3 anda informasi juga orang tahun salat seperti siswa merupakan<br/>"
       ],
       "metadata": {},
       "output_type": "display_data",
       "text": [
        "PROGRESS: topic 0: di dalam pada che dapat 3 anda informasi juga orang tahun salat seperti siswa merupakan"
       ]
      },
      {
       "html": [
        "PROGRESS: topic 1: time world mother english people family thing feel don\u00e2\u20ac\u2122t pictures mom hard ll email didn<br/>"
       ],
       "metadata": {},
       "output_type": "display_data",
       "text": [
        "PROGRESS: topic 1: time world mother english people family thing feel don\u00e2\u20ac\u2122t pictures mom hard ll email didn"
       ]
      },
      {
       "html": [
        "PROGRESS: topic 2: 0 sa 3 top text google border font display margin box folder position ay padding<br/>"
       ],
       "metadata": {},
       "output_type": "display_data",
       "text": [
        "PROGRESS: topic 2: 0 sa 3 top text google border font display margin box folder position ay padding"
       ]
      },
      {
       "html": [
        "PROGRESS: topic 3: work class time na year writing ang ng high student mga english start homework assessment<br/>"
       ],
       "metadata": {},
       "output_type": "display_data",
       "text": [
        "PROGRESS: topic 3: work class time na year writing ang ng high student mga english start homework assessment"
       ]
      },
      {
       "html": [
        "PROGRESS: topic 4: chicken games temperature talk weekend cup cool milk dont katniss questions hunger sum cake anna<br/>"
       ],
       "metadata": {},
       "output_type": "display_data",
       "text": [
        "PROGRESS: topic 4: chicken games temperature talk weekend cup cool milk dont katniss questions hunger sum cake anna"
       ]
      },
      {
       "html": [
        "PROGRESS: topic 5: school book don video read back game day play mrs friends room red night kids<br/>"
       ],
       "metadata": {},
       "output_type": "display_data",
       "text": [
        "PROGRESS: topic 5: school book don video read back game day play mrs friends room red night kids"
       ]
      },
      {
       "html": [
        "PROGRESS: topic 6: yang dan untuk dengan ini dari media tidak atau adalah akan lebih komputer ada ke<br/>"
       ],
       "metadata": {},
       "output_type": "display_data",
       "text": [
        "PROGRESS: topic 6: yang dan untuk dengan ini dari media tidak atau adalah akan lebih komputer ada ke"
       ]
      },
      {
       "html": [
        "PROGRESS: topic 7: \u00e2\u20ac\u00a2 war super president de women government bowl order 3 pour king power population change<br/>"
       ],
       "metadata": {},
       "output_type": "display_data",
       "text": [
        "PROGRESS: topic 7: \u00e2\u20ac\u00a2 war super president de women government bowl order 3 pour king power population change"
       ]
      },
      {
       "html": [
        "PROGRESS: topic 8: book week test chapter questions reading quiz 6 lesson points practice 7 website complete 2<br/>"
       ],
       "metadata": {},
       "output_type": "display_data",
       "text": [
        "PROGRESS: topic 8: book week test chapter questions reading quiz 6 lesson points practice 7 website complete 2"
       ]
      },
      {
       "html": [
        "PROGRESS: topic 9: le les je est \u00c3\u00a0 \u00d9\u02c6 des vous il song une du pas dans ce<br/>"
       ],
       "metadata": {},
       "output_type": "display_data",
       "text": [
        "PROGRESS: topic 9: le les je est \u00c3\u00a0 \u00d9\u02c6 des vous il song une du pas dans ce"
       ]
      },
      {
       "html": [
        "PROGRESS: topic 10: pizza im snow 02 assignment quiz code homework machine winter japan spelling letter worksheet study<br/>"
       ],
       "metadata": {},
       "output_type": "display_data",
       "text": [
        "PROGRESS: topic 10: pizza im snow 02 assignment quiz code homework machine winter japan spelling letter worksheet study"
       ]
      },
      {
       "html": [
        "PROGRESS: topic 11: students 3 student teacher learning teachers essay writing learn die te classroom van het assignments<br/>"
       ],
       "metadata": {},
       "output_type": "display_data",
       "text": [
        "PROGRESS: topic 11: students 3 student teacher learning teachers essay writing learn die te classroom van het assignments"
       ]
      },
      {
       "html": [
        "PROGRESS: topic 12: time life year parents light family good find god give don car food long job<br/>"
       ],
       "metadata": {},
       "output_type": "display_data",
       "text": [
        "PROGRESS: topic 12: time life year parents light family good find god give don car food long job"
       ]
      },
      {
       "html": [
        "PROGRESS: topic 13: de la el en los para es por lo del se con como ik yo<br/>"
       ],
       "metadata": {},
       "output_type": "display_data",
       "text": [
        "PROGRESS: topic 13: de la el en los para es por lo del se con como ik yo"
       ]
      },
      {
       "html": [
        "PROGRESS: topic 14: good speech make great lot made video interesting thought energy write 3 life line feel<br/>"
       ],
       "metadata": {},
       "output_type": "display_data",
       "text": [
        "PROGRESS: topic 14: good speech make great lot made video interesting thought energy write 3 life line feel"
       ]
      },
      {
       "html": [
        "PROGRESS: topic 15: make day back technology good paper plastic surgery print bring point culture ad bad blue<br/>"
       ],
       "metadata": {},
       "output_type": "display_data",
       "text": [
        "PROGRESS: topic 15: make day back technology good paper plastic surgery print bring point culture ad bad blue"
       ]
      },
      {
       "html": [
        "PROGRESS: topic 16: 1 2 5 4 10 9 14 8 15 \u00e2\u20ac\u201c answer 000 pages visual 16<br/>"
       ],
       "metadata": {},
       "output_type": "display_data",
       "text": [
        "PROGRESS: topic 16: 1 2 5 4 10 9 14 8 15 \u00e2\u20ac\u201c answer 000 pages visual 16"
       ]
      },
      {
       "html": [
        "PROGRESS: topic 17: gb color page edmodo click test password post miss width group left important block 2<br/>"
       ],
       "metadata": {},
       "output_type": "display_data",
       "text": [
        "PROGRESS: topic 17: gb color page edmodo click test password post miss width group left important block 2"
       ]
      },
      {
       "html": [
        "PROGRESS: topic 18: \u00e2\u20ac\u00a2 2013 dec 00 30 serena 6 8 20 7 aynur reply padma huey 21<br/>"
       ],
       "metadata": {},
       "output_type": "display_data",
       "text": [
        "PROGRESS: topic 18: \u00e2\u20ac\u00a2 2013 dec 00 30 serena 6 8 20 7 aynur reply padma huey 21"
       ]
      },
      {
       "html": [
        "PROGRESS: topic 19: http www monday due week watch feb february tuesday math youtube tomorrow org friday edmodo<br/>"
       ],
       "metadata": {},
       "output_type": "display_data",
       "text": [
        "PROGRESS: topic 19: http www monday due week watch feb february tuesday math youtube tomorrow org friday edmodo"
       ]
      },
      {
       "html": [
        "PROGRESS: topic 20: day make school adj \u00ce\u00ba\u00ce\u00b1\u00ce\u00b9 \u00cf\u201e\u00ce\u00bf home \u00ce\u00bd\u00ce\u00b1 study step monday paragraph things assignment read<br/>"
       ],
       "metadata": {},
       "output_type": "display_data",
       "text": [
        "PROGRESS: topic 20: day make school adj \u00ce\u00ba\u00ce\u00b1\u00ce\u00b9 \u00cf\u201e\u00ce\u00bf home \u00ce\u00bd\u00ce\u00b1 study step monday paragraph things assignment read"
       ]
      },
      {
       "html": [
        "PROGRESS: topic 21: 3 grade 2014 article homework 1 executive 2 grades obama year jan current warm orders<br/>"
       ],
       "metadata": {},
       "output_type": "display_data",
       "text": [
        "PROGRESS: topic 21: 3 grade 2014 article homework 1 executive 2 grades obama year jan current warm orders"
       ]
      },
      {
       "html": [
        "PROGRESS: topic 22: class child hope background system number people culture 7 things put friend ja island hover<br/>"
       ],
       "metadata": {},
       "output_type": "display_data",
       "text": [
        "PROGRESS: topic 22: class child hope background system number people culture 7 things put friend ja island hover"
       ]
      },
      {
       "html": [
        "PROGRESS: topic 23: \u00e2\u20ac\u201c water food love animals left species earth found small jag group animal act world<br/>"
       ],
       "metadata": {},
       "output_type": "display_data",
       "text": [
        "PROGRESS: topic 23: \u00e2\u20ac\u201c water food love animals left species earth found small jag group animal act world"
       ]
      },
      {
       "html": [
        "PROGRESS: topic 24: science project class read music page tomorrow movie happy art notes score bring today birthday<br/>"
       ],
       "metadata": {},
       "output_type": "display_data",
       "text": [
        "PROGRESS: topic 24: science project class read music page tomorrow movie happy art notes score bring today birthday"
       ]
      },
      {
       "html": [
        "PROGRESS: topic 25: information 3 lab post project day data article party study days area states great man<br/>"
       ],
       "metadata": {},
       "output_type": "display_data",
       "text": [
        "PROGRESS: topic 25: information 3 lab post project day data article party study days area states great man"
       ]
      },
      {
       "html": [
        "PROGRESS: topic 26: whats jar dirt question hamlet bye sea black death draft picture man broncos sokikom multiple<br/>"
       ],
       "metadata": {},
       "output_type": "display_data",
       "text": [
        "PROGRESS: topic 26: whats jar dirt question hamlet bye sea black death draft picture man broncos sokikom multiple"
       ]
      },
      {
       "html": [
        "PROGRESS: topic 27: la las una il su si mi el es se le \u00d9\u0081\u00d9\u0160 en del con<br/>"
       ],
       "metadata": {},
       "output_type": "display_data",
       "text": [
        "PROGRESS: topic 27: la las una il su si mi el es se le \u00d9\u0081\u00d9\u0160 en del con"
       ]
      },
      {
       "html": [
        "PROGRESS: topic 28: people story words work group word children years part house called person character society media<br/>"
       ],
       "metadata": {},
       "output_type": "display_data",
       "text": [
        "PROGRESS: topic 28: people story words work group word children years part house called person character society media"
       ]
      },
      {
       "html": [
        "PROGRESS: topic 29: people father \u00e2\u20ac\u009d mr story life chinese family money country social city love china girl<br/>"
       ],
       "metadata": {},
       "output_type": "display_data",
       "text": [
        "PROGRESS: topic 29: people father \u00e2\u20ac\u009d mr story life chinese family money country social city love china girl"
       ]
      },
      {
       "html": [
        "PROGRESS:         20        172188     0.257674    1185.07<br/>"
       ],
       "metadata": {},
       "output_type": "display_data",
       "text": [
        "PROGRESS:         20        172188     0.257674    1185.07"
       ]
      },
      {
       "html": [
        "PROGRESS: topic 0: di 3 pada dapat che dalam anda informasi orang tahun salat seperti pak siswa merupakan<br/>"
       ],
       "metadata": {},
       "output_type": "display_data",
       "text": [
        "PROGRESS: topic 0: di 3 pada dapat che dalam anda informasi orang tahun salat seperti pak siswa merupakan"
       ]
      },
      {
       "html": [
        "PROGRESS: topic 1: time people english world mother family thing mom school home feel don\u00e2\u20ac\u2122t money house ll<br/>"
       ],
       "metadata": {},
       "output_type": "display_data",
       "text": [
        "PROGRESS: topic 1: time people english world mother family thing mom school home feel don\u00e2\u20ac\u2122t money house ll"
       ]
      },
      {
       "html": [
        "PROGRESS: topic 2: 0 top text 3 google display border font margin box folder ay padding position td<br/>"
       ],
       "metadata": {},
       "output_type": "display_data",
       "text": [
        "PROGRESS: topic 2: 0 top text 3 google display border font margin box folder ay padding position td"
       ]
      },
      {
       "html": [
        "PROGRESS: topic 3: work class sa na ang writing ng po time mga english student computer working start<br/>"
       ],
       "metadata": {},
       "output_type": "display_data",
       "text": [
        "PROGRESS: topic 3: work class sa na ang writing ng po time mga english student computer working start"
       ]
      },
      {
       "html": [
        "PROGRESS: topic 4: chicken games temperature milk talk weekend cup cool sum katniss turn hunger potato heves direktori<br/>"
       ],
       "metadata": {},
       "output_type": "display_data",
       "text": [
        "PROGRESS: topic 4: chicken games temperature milk talk weekend cup cool sum katniss turn hunger potato heves direktori"
       ]
      },
      {
       "html": [
        "PROGRESS: topic 5: school book don video game read day mrs back friends play room night put ll<br/>"
       ],
       "metadata": {},
       "output_type": "display_data",
       "text": [
        "PROGRESS: topic 5: school book don video game read day mrs back friends play room night put ll"
       ]
      },
      {
       "html": [
        "PROGRESS: topic 6: yang dan untuk dengan ini dari media tidak atau adalah akan lebih komputer ada ke<br/>"
       ],
       "metadata": {},
       "output_type": "display_data",
       "text": [
        "PROGRESS: topic 6: yang dan untuk dengan ini dari media tidak atau adalah akan lebih komputer ada ke"
       ]
      },
      {
       "html": [
        "PROGRESS: topic 7: \u00e2\u20ac\u00a2 war super president government bowl order women state change 1 law power history population<br/>"
       ],
       "metadata": {},
       "output_type": "display_data",
       "text": [
        "PROGRESS: topic 7: \u00e2\u20ac\u00a2 war super president government bowl order women state change 1 law power history population"
       ]
      },
      {
       "html": [
        "PROGRESS: topic 8: book week test questions chapter quiz reading points complete website practice review 7 2 lesson<br/>"
       ],
       "metadata": {},
       "output_type": "display_data",
       "text": [
        "PROGRESS: topic 8: book week test questions chapter quiz reading points complete website practice review 7 2 lesson"
       ]
      },
      {
       "html": [
        "PROGRESS: topic 9: le les je est \u00c3\u00a0 \u00d9\u02c6 pour vous des il pas song du une en<br/>"
       ],
       "metadata": {},
       "output_type": "display_data",
       "text": [
        "PROGRESS: topic 9: le les je est \u00c3\u00a0 \u00d9\u02c6 pour vous des il pas song du une en"
       ]
      },
      {
       "html": [
        "PROGRESS: topic 10: pizza assignment 02 im snow quiz pg letter winter machine worksheet win app cousin miss<br/>"
       ],
       "metadata": {},
       "output_type": "display_data",
       "text": [
        "PROGRESS: topic 10: pizza assignment 02 im snow quiz pg letter winter machine worksheet win app cousin miss"
       ]
      },
      {
       "html": [
        "PROGRESS: topic 11: students student learning teacher teachers writing school high language het die classroom 3 reading essay<br/>"
       ],
       "metadata": {},
       "output_type": "display_data",
       "text": [
        "PROGRESS: topic 11: students student learning teacher teachers writing school high language het die classroom 3 reading essay"
       ]
      },
      {
       "html": [
        "PROGRESS: topic 12: time life light food find year love god don parents car good company work set<br/>"
       ],
       "metadata": {},
       "output_type": "display_data",
       "text": [
        "PROGRESS: topic 12: time life light food find year love god don parents car good company work set"
       ]
      },
      {
       "html": [
        "PROGRESS: topic 13: de la el en los es para se del por lo con como una ik<br/>"
       ],
       "metadata": {},
       "output_type": "display_data",
       "text": [
        "PROGRESS: topic 13: de la el en los es para se del por lo con como una ik"
       ]
      },
      {
       "html": [
        "PROGRESS: topic 14: good make speech great thought lot job video made interesting time kids 3 write energy<br/>"
       ],
       "metadata": {},
       "output_type": "display_data",
       "text": [
        "PROGRESS: topic 14: good make speech great thought lot job video made interesting time kids 3 write energy"
       ]
      },
      {
       "html": [
        "PROGRESS: topic 15: day make back technology plastic surgery blue print black cat end beauty turned called years<br/>"
       ],
       "metadata": {},
       "output_type": "display_data",
       "text": [
        "PROGRESS: topic 15: day make back technology plastic surgery blue print black cat end beauty turned called years"
       ]
      },
      {
       "html": [
        "PROGRESS: topic 16: 2 1 5 4 10 9 14 8 6 15 \u00e2\u20ac\u201c 7 000 answer 11<br/>"
       ],
       "metadata": {},
       "output_type": "display_data",
       "text": [
        "PROGRESS: topic 16: 2 1 5 4 10 9 14 8 6 15 \u00e2\u20ac\u201c 7 000 answer 11"
       ]
      },
      {
       "html": [
        "PROGRESS: topic 17: edmodo gb color page group post click left width miss email test ms 3 block<br/>"
       ],
       "metadata": {},
       "output_type": "display_data",
       "text": [
        "PROGRESS: topic 17: edmodo gb color page group post click left width miss email test ms 3 block"
       ]
      },
      {
       "html": [
        "PROGRESS: topic 18: \u00e2\u20ac\u00a2 2013 00 dec serena 6 30 8 aynur 20 reply padma huey show 21<br/>"
       ],
       "metadata": {},
       "output_type": "display_data",
       "text": [
        "PROGRESS: topic 18: \u00e2\u20ac\u00a2 2013 00 dec serena 6 30 8 aynur 20 reply padma huey show 21"
       ]
      },
      {
       "html": [
        "PROGRESS: topic 19: http www monday due watch week february youtube feb math tuesday friday org username password<br/>"
       ],
       "metadata": {},
       "output_type": "display_data",
       "text": [
        "PROGRESS: topic 19: http www monday due watch week february youtube feb math tuesday friday org username password"
       ]
      },
      {
       "html": [
        "PROGRESS: topic 20: day make school adj \u00ce\u00ba\u00ce\u00b1\u00ce\u00b9 \u00cf\u201e\u00ce\u00bf water \u00ce\u00bd\u00ce\u00b1 feb things dad paragraph monday study write<br/>"
       ],
       "metadata": {},
       "output_type": "display_data",
       "text": [
        "PROGRESS: topic 20: day make school adj \u00ce\u00ba\u00ce\u00b1\u00ce\u00b9 \u00cf\u201e\u00ce\u00bf water \u00ce\u00bd\u00ce\u00b1 feb things dad paragraph monday study write"
       ]
      },
      {
       "html": [
        "PROGRESS: topic 21: 3 grade 2 2014 homework 1 article executive grades current jan obama warm orders students<br/>"
       ],
       "metadata": {},
       "output_type": "display_data",
       "text": [
        "PROGRESS: topic 21: 3 grade 2 2014 homework 1 article executive grades current jan obama warm orders students"
       ]
      },
      {
       "html": [
        "PROGRESS: topic 22: class background culture child system hope number things guys island late ja person put quote<br/>"
       ],
       "metadata": {},
       "output_type": "display_data",
       "text": [
        "PROGRESS: topic 22: class background culture child system hope number things guys island late ja person put quote"
       ]
      },
      {
       "html": [
        "PROGRESS: topic 23: \u00e2\u20ac\u201c world water food animals found species years love small act earth field jag animal<br/>"
       ],
       "metadata": {},
       "output_type": "display_data",
       "text": [
        "PROGRESS: topic 23: \u00e2\u20ac\u201c world water food animals found species years love small act earth field jag animal"
       ]
      },
      {
       "html": [
        "PROGRESS: topic 24: class year project read science tomorrow music notes page happy movie art paper bring post<br/>"
       ],
       "metadata": {},
       "output_type": "display_data",
       "text": [
        "PROGRESS: topic 24: class year project read science tomorrow music notes page happy movie art paper bring post"
       ]
      },
      {
       "html": [
        "PROGRESS: topic 25: information lab project study 3 post article states data area party problems great system american<br/>"
       ],
       "metadata": {},
       "output_type": "display_data",
       "text": [
        "PROGRESS: topic 25: information lab project study 3 post article states data area party problems great system american"
       ]
      },
      {
       "html": [
        "PROGRESS: topic 26: whats jar dirt question hamlet essay broncos picture bye black sea sokikom death man saturday<br/>"
       ],
       "metadata": {},
       "output_type": "display_data",
       "text": [
        "PROGRESS: topic 26: whats jar dirt question hamlet essay broncos picture bye black sea sokikom death man saturday"
       ]
      },
      {
       "html": [
        "PROGRESS: topic 27: la las una il su mi si \u00d9\u0081\u00d9\u0160 le con se del \u00c3\u00a8 \u00d9\u2026\u00d9\u2020 al<br/>"
       ],
       "metadata": {},
       "output_type": "display_data",
       "text": [
        "PROGRESS: topic 27: la las una il su mi si \u00d9\u0081\u00d9\u0160 le con se del \u00c3\u00a8 \u00d9\u2026\u00d9\u2020 al"
       ]
      },
      {
       "html": [
        "PROGRESS: topic 28: people words group story word children work part character media house groups society give young<br/>"
       ],
       "metadata": {},
       "output_type": "display_data",
       "text": [
        "PROGRESS: topic 28: people words group story word children work part character media house groups society give young"
       ]
      },
      {
       "html": [
        "PROGRESS: topic 29: people \u00e2\u20ac\u009d life story father chinese money country family social love china mr men city<br/>"
       ],
       "metadata": {},
       "output_type": "display_data",
       "text": [
        "PROGRESS: topic 29: people \u00e2\u20ac\u009d life story father chinese money country family social love china mr men city"
       ]
      },
      {
       "html": [
        "PROGRESS:         25        178526     0.240008    1147.28<br/>"
       ],
       "metadata": {},
       "output_type": "display_data",
       "text": [
        "PROGRESS:         25        178526     0.240008    1147.28"
       ]
      },
      {
       "html": [
        "PROGRESS: topic 0: di pada dapat anda che informasi orang tahun salat 3 seperti internet pak \u00e2\u20ac\u00a2 merupakan<br/>"
       ],
       "metadata": {},
       "output_type": "display_data",
       "text": [
        "PROGRESS: topic 0: di pada dapat anda che informasi orang tahun salat 3 seperti internet pak \u00e2\u20ac\u00a2 merupakan"
       ]
      },
      {
       "html": [
        "PROGRESS: topic 1: time people family english home world thing parents feel mom friend today important mother don\u00e2\u20ac\u2122t<br/>"
       ],
       "metadata": {},
       "output_type": "display_data",
       "text": [
        "PROGRESS: topic 1: time people family english home world thing parents feel mom friend today important mother don\u00e2\u20ac\u2122t"
       ]
      },
      {
       "html": [
        "PROGRESS: topic 2: 0 text top google border font display box position folder padding td document ko 1px<br/>"
       ],
       "metadata": {},
       "output_type": "display_data",
       "text": [
        "PROGRESS: topic 2: 0 text top google border font display box position folder padding td document ko 1px"
       ]
      },
      {
       "html": [
        "PROGRESS: topic 3: work class sa na time ang ng po writing math english mga write student activity<br/>"
       ],
       "metadata": {},
       "output_type": "display_data",
       "text": [
        "PROGRESS: topic 3: work class sa na time ang ng po writing math english mga write student activity"
       ]
      },
      {
       "html": [
        "PROGRESS: topic 4: chicken games temperature turn milk cup talk cool sum katniss folder hunger cookies district heves<br/>"
       ],
       "metadata": {},
       "output_type": "display_data",
       "text": [
        "PROGRESS: topic 4: chicken games temperature turn milk cup talk cool sum katniss folder hunger cookies district heves"
       ]
      },
      {
       "html": [
        "PROGRESS: topic 5: book don school day video back read game mrs play friends room ll correct eat<br/>"
       ],
       "metadata": {},
       "output_type": "display_data",
       "text": [
        "PROGRESS: topic 5: book don school day video back read game mrs play friends room ll correct eat"
       ]
      },
      {
       "html": [
        "PROGRESS: topic 6: yang dan untuk dengan ini dalam dari tidak media atau adalah akan lebih komputer ada<br/>"
       ],
       "metadata": {},
       "output_type": "display_data",
       "text": [
        "PROGRESS: topic 6: yang dan untuk dengan ini dalam dari tidak media atau adalah akan lebih komputer ada"
       ]
      },
      {
       "html": [
        "PROGRESS: topic 7: \u00e2\u20ac\u00a2 war super president government order bowl state women change american law men america power<br/>"
       ],
       "metadata": {},
       "output_type": "display_data",
       "text": [
        "PROGRESS: topic 7: \u00e2\u20ac\u00a2 war super president government order bowl state women change american law men america power"
       ]
      },
      {
       "html": [
        "PROGRESS: topic 8: book test week questions chapter quiz reading complete lesson points website review unit class hw<br/>"
       ],
       "metadata": {},
       "output_type": "display_data",
       "text": [
        "PROGRESS: topic 8: book test week questions chapter quiz reading complete lesson points website review unit class hw"
       ]
      },
      {
       "html": [
        "PROGRESS: topic 9: le les je est \u00c3\u00a0 pour \u00d9\u02c6 des vous il en pas du une \u00d8\u00a8\u00d9\u2021<br/>"
       ],
       "metadata": {},
       "output_type": "display_data",
       "text": [
        "PROGRESS: topic 9: le les je est \u00c3\u00a0 pour \u00d9\u02c6 des vous il en pas du une \u00d8\u00a8\u00d9\u2021"
       ]
      },
      {
       "html": [
        "PROGRESS: topic 10: pizza 02 im snow quiz assignment app pg machine winter temperature code assignments wondering win<br/>"
       ],
       "metadata": {},
       "output_type": "display_data",
       "text": [
        "PROGRESS: topic 10: pizza 02 im snow quiz assignment app pg machine winter temperature code assignments wondering win"
       ]
      },
      {
       "html": [
        "PROGRESS: topic 11: students school student learning teacher writing teachers high classroom ik reading language het die learn<br/>"
       ],
       "metadata": {},
       "output_type": "display_data",
       "text": [
        "PROGRESS: topic 11: students school student learning teacher writing teachers high classroom ik reading language het die learn"
       ]
      },
      {
       "html": [
        "PROGRESS: topic 12: time life light year food god love find car parents job work company ball don<br/>"
       ],
       "metadata": {},
       "output_type": "display_data",
       "text": [
        "PROGRESS: topic 12: time life light year food god love find car parents job work company ball don"
       ]
      },
      {
       "html": [
        "PROGRESS: topic 13: de la el en los es para se del por lo con una como al<br/>"
       ],
       "metadata": {},
       "output_type": "display_data",
       "text": [
        "PROGRESS: topic 13: de la el en los es para se del por lo con una como al"
       ]
      },
      {
       "html": [
        "PROGRESS: topic 14: good make speech great time thought lot made topic kids interesting talk video energy started<br/>"
       ],
       "metadata": {},
       "output_type": "display_data",
       "text": [
        "PROGRESS: topic 14: good make speech great time thought lot made topic kids interesting talk video energy started"
       ]
      },
      {
       "html": [
        "PROGRESS: topic 15: make day black plastic surgery print blue back care made fun technology beauty colour good<br/>"
       ],
       "metadata": {},
       "output_type": "display_data",
       "text": [
        "PROGRESS: topic 15: make day black plastic surgery print blue back care made fun technology beauty colour good"
       ]
      },
      {
       "html": [
        "PROGRESS: topic 16: 2 1 3 5 4 7 10 6 9 8 14 15 \u00e2\u20ac\u201c answer 000<br/>"
       ],
       "metadata": {},
       "output_type": "display_data",
       "text": [
        "PROGRESS: topic 16: 2 1 3 5 4 7 10 6 9 8 14 15 \u00e2\u20ac\u201c answer 000"
       ]
      },
      {
       "html": [
        "PROGRESS: topic 17: edmodo gb color group post assignment email page click left width margin ms block file<br/>"
       ],
       "metadata": {},
       "output_type": "display_data",
       "text": [
        "PROGRESS: topic 17: edmodo gb color group post assignment email page click left width margin ms block file"
       ]
      },
      {
       "html": [
        "PROGRESS: topic 18: \u00e2\u20ac\u00a2 2013 00 dec serena 30 aynur 8 padma reply huey 20 jan replies show<br/>"
       ],
       "metadata": {},
       "output_type": "display_data",
       "text": [
        "PROGRESS: topic 18: \u00e2\u20ac\u00a2 2013 00 dec serena 30 aynur 8 padma reply huey 20 jan replies show"
       ]
      },
      {
       "html": [
        "PROGRESS: topic 19: http www monday due watch february feb week youtube tuesday 2014 friday org math password<br/>"
       ],
       "metadata": {},
       "output_type": "display_data",
       "text": [
        "PROGRESS: topic 19: http www monday due watch february feb week youtube tuesday 2014 friday org math password"
       ]
      },
      {
       "html": [
        "PROGRESS: topic 20: day make adj put \u00ce\u00ba\u00ce\u00b1\u00ce\u00b9 \u00cf\u201e\u00ce\u00bf \u00ce\u00bd\u00ce\u00b1 place monday bring weekend person morning paragraph dad<br/>"
       ],
       "metadata": {},
       "output_type": "display_data",
       "text": [
        "PROGRESS: topic 20: day make adj put \u00ce\u00ba\u00ce\u00b1\u00ce\u00b9 \u00cf\u201e\u00ce\u00bf \u00ce\u00bd\u00ce\u00b1 place monday bring weekend person morning paragraph dad"
       ]
      },
      {
       "html": [
        "PROGRESS: topic 21: grade 2 homework article 1 3 2014 executive week students grades obama current warm power<br/>"
       ],
       "metadata": {},
       "output_type": "display_data",
       "text": [
        "PROGRESS: topic 21: grade 2 homework article 1 3 2014 executive week students grades obama current warm power"
       ]
      },
      {
       "html": [
        "PROGRESS: topic 22: class hope culture background system number child guys tom quote island night man dont drake<br/>"
       ],
       "metadata": {},
       "output_type": "display_data",
       "text": [
        "PROGRESS: topic 22: class hope culture background system number child guys tom quote island night man dont drake"
       ]
      },
      {
       "html": [
        "PROGRESS: topic 23: \u00e2\u20ac\u201c water world food animals species earth found field years natural love japan jag act<br/>"
       ],
       "metadata": {},
       "output_type": "display_data",
       "text": [
        "PROGRESS: topic 23: \u00e2\u20ac\u201c water world food animals species earth found field years natural love japan jag act"
       ]
      },
      {
       "html": [
        "PROGRESS: topic 24: year class project read page science tomorrow notes paper music art happy movie questions note<br/>"
       ],
       "metadata": {},
       "output_type": "display_data",
       "text": [
        "PROGRESS: topic 24: year class project read page science tomorrow notes paper music art happy movie questions note"
       ]
      },
      {
       "html": [
        "PROGRESS: topic 25: information study lab project team post states article data computer party problems system day area<br/>"
       ],
       "metadata": {},
       "output_type": "display_data",
       "text": [
        "PROGRESS: topic 25: information study lab project team post states article data computer party problems system day area"
       ]
      },
      {
       "html": [
        "PROGRESS: topic 26: whats jar dirt question broncos hamlet essay seahawks bye picture im draft sokikom sea step<br/>"
       ],
       "metadata": {},
       "output_type": "display_data",
       "text": [
        "PROGRESS: topic 26: whats jar dirt question broncos hamlet essay seahawks bye picture im draft sokikom sea step"
       ]
      },
      {
       "html": [
        "PROGRESS: topic 27: la las il di su si una con le \u00d9\u0081\u00d9\u0160 \u00c3\u00a8 da del mi \u00d9\u2026\u00d9\u2020<br/>"
       ],
       "metadata": {},
       "output_type": "display_data",
       "text": [
        "PROGRESS: topic 27: la las il di su si una con le \u00d9\u0081\u00d9\u0160 \u00c3\u00a8 da del mi \u00d9\u2026\u00d9\u2020"
       ]
      },
      {
       "html": [
        "PROGRESS: topic 28: people words story work word children part group character media give \u00e2\u20ac\u009d society groups young<br/>"
       ],
       "metadata": {},
       "output_type": "display_data",
       "text": [
        "PROGRESS: topic 28: people words story work word children part group character media give \u00e2\u20ac\u009d society groups young"
       ]
      },
      {
       "html": [
        "PROGRESS: topic 29: people life \u00e2\u20ac\u009d story father mother money chinese social family china men good back jing<br/>"
       ],
       "metadata": {},
       "output_type": "display_data",
       "text": [
        "PROGRESS: topic 29: people life \u00e2\u20ac\u009d story father mother money chinese social family china men good back jing"
       ]
      }
     ],
     "prompt_number": 126
    },
    {
     "cell_type": "code",
     "collapsed": false,
     "input": [],
     "language": "python",
     "metadata": {},
     "outputs": []
    }
   ],
   "metadata": {}
  }
 ]
}